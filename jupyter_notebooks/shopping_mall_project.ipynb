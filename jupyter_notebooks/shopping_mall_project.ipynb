{
 "cells": [
  {
   "cell_type": "code",
   "execution_count": 3,
   "metadata": {},
   "outputs": [],
   "source": [
    "import pandas as pd\n",
    "import numpy as np\n",
    "import seaborn as sns\n",
    "import matplotlib.pyplot as plt\n",
    "sns.set_style('whitegrid')\n",
    "from sklearn.pipeline import Pipeline\n",
    "import plotly.express as px"
   ]
  },
  {
   "cell_type": "code",
   "execution_count": 4,
   "metadata": {},
   "outputs": [
    {
     "data": {
      "text/html": [
       "<div>\n",
       "<style scoped>\n",
       "    .dataframe tbody tr th:only-of-type {\n",
       "        vertical-align: middle;\n",
       "    }\n",
       "\n",
       "    .dataframe tbody tr th {\n",
       "        vertical-align: top;\n",
       "    }\n",
       "\n",
       "    .dataframe thead th {\n",
       "        text-align: right;\n",
       "    }\n",
       "</style>\n",
       "<table border=\"1\" class=\"dataframe\">\n",
       "  <thead>\n",
       "    <tr style=\"text-align: right;\">\n",
       "      <th></th>\n",
       "      <th>invoice_no</th>\n",
       "      <th>customer_id</th>\n",
       "      <th>gender</th>\n",
       "      <th>age</th>\n",
       "      <th>category</th>\n",
       "      <th>quantity</th>\n",
       "      <th>Price</th>\n",
       "      <th>payment_method</th>\n",
       "      <th>invoice_date</th>\n",
       "      <th>shopping_mall</th>\n",
       "    </tr>\n",
       "  </thead>\n",
       "  <tbody>\n",
       "    <tr>\n",
       "      <th>0</th>\n",
       "      <td>I337046</td>\n",
       "      <td>C189076</td>\n",
       "      <td>Female</td>\n",
       "      <td>53</td>\n",
       "      <td>Books</td>\n",
       "      <td>4</td>\n",
       "      <td>60.60</td>\n",
       "      <td>Cash</td>\n",
       "      <td>24/10/2021</td>\n",
       "      <td>Kanyon</td>\n",
       "    </tr>\n",
       "    <tr>\n",
       "      <th>1</th>\n",
       "      <td>I139207</td>\n",
       "      <td>C191708</td>\n",
       "      <td>Female</td>\n",
       "      <td>29</td>\n",
       "      <td>Books</td>\n",
       "      <td>1</td>\n",
       "      <td>15.15</td>\n",
       "      <td>Credit Card</td>\n",
       "      <td>28/10/2022</td>\n",
       "      <td>Emaar Square Mall</td>\n",
       "    </tr>\n",
       "    <tr>\n",
       "      <th>2</th>\n",
       "      <td>I294687</td>\n",
       "      <td>C300786</td>\n",
       "      <td>Male</td>\n",
       "      <td>65</td>\n",
       "      <td>Books</td>\n",
       "      <td>2</td>\n",
       "      <td>30.30</td>\n",
       "      <td>Debit Card</td>\n",
       "      <td>16/01/2021</td>\n",
       "      <td>Metrocity</td>\n",
       "    </tr>\n",
       "    <tr>\n",
       "      <th>3</th>\n",
       "      <td>I174250</td>\n",
       "      <td>C204553</td>\n",
       "      <td>Female</td>\n",
       "      <td>42</td>\n",
       "      <td>Books</td>\n",
       "      <td>5</td>\n",
       "      <td>75.75</td>\n",
       "      <td>Cash</td>\n",
       "      <td>16/12/2022</td>\n",
       "      <td>Metrocity</td>\n",
       "    </tr>\n",
       "    <tr>\n",
       "      <th>4</th>\n",
       "      <td>I117291</td>\n",
       "      <td>C134449</td>\n",
       "      <td>Male</td>\n",
       "      <td>46</td>\n",
       "      <td>Books</td>\n",
       "      <td>5</td>\n",
       "      <td>75.75</td>\n",
       "      <td>Credit Card</td>\n",
       "      <td>9/12/22</td>\n",
       "      <td>Zorlu Center</td>\n",
       "    </tr>\n",
       "  </tbody>\n",
       "</table>\n",
       "</div>"
      ],
      "text/plain": [
       "  invoice_no customer_id  gender   age  category  quantity  Price  \\\n",
       "0    I337046     C189076  Female     53    Books         4  60.60   \n",
       "1    I139207     C191708  Female     29    Books         1  15.15   \n",
       "2    I294687     C300786    Male     65    Books         2  30.30   \n",
       "3    I174250     C204553  Female     42    Books         5  75.75   \n",
       "4    I117291     C134449    Male     46    Books         5  75.75   \n",
       "\n",
       "  payment_method invoice_date      shopping_mall  \n",
       "0           Cash   24/10/2021             Kanyon  \n",
       "1    Credit Card   28/10/2022  Emaar Square Mall  \n",
       "2     Debit Card   16/01/2021          Metrocity  \n",
       "3           Cash   16/12/2022          Metrocity  \n",
       "4    Credit Card      9/12/22       Zorlu Center  "
      ]
     },
     "execution_count": 4,
     "metadata": {},
     "output_type": "execute_result"
    }
   ],
   "source": [
    "df = pd.read_csv('/Users/raihannasir/Documents/DA_AI/project_shopping_mall/Dataset/Raw/customer_shopping_data.csv')\n",
    "df.head()"
   ]
  },
  {
   "cell_type": "code",
   "execution_count": 5,
   "metadata": {},
   "outputs": [
    {
     "name": "stdout",
     "output_type": "stream",
     "text": [
      "<class 'pandas.core.frame.DataFrame'>\n",
      "RangeIndex: 99457 entries, 0 to 99456\n",
      "Data columns (total 10 columns):\n",
      " #   Column          Non-Null Count  Dtype  \n",
      "---  ------          --------------  -----  \n",
      " 0   invoice_no      99457 non-null  object \n",
      " 1   customer_id     99457 non-null  object \n",
      " 2   gender          99457 non-null  object \n",
      " 3    age            99457 non-null  int64  \n",
      " 4   category        99448 non-null  object \n",
      " 5   quantity        99457 non-null  int64  \n",
      " 6   Price           99442 non-null  float64\n",
      " 7   payment_method  99448 non-null  object \n",
      " 8   invoice_date    99448 non-null  object \n",
      " 9   shopping_mall   99439 non-null  object \n",
      "dtypes: float64(1), int64(2), object(7)\n",
      "memory usage: 7.6+ MB\n"
     ]
    }
   ],
   "source": [
    "# Check data types, existance of Null value and issues with column name\n",
    "\n",
    "df.info()"
   ]
  },
  {
   "cell_type": "code",
   "execution_count": 6,
   "metadata": {},
   "outputs": [
    {
     "data": {
      "text/html": [
       "<div>\n",
       "<style scoped>\n",
       "    .dataframe tbody tr th:only-of-type {\n",
       "        vertical-align: middle;\n",
       "    }\n",
       "\n",
       "    .dataframe tbody tr th {\n",
       "        vertical-align: top;\n",
       "    }\n",
       "\n",
       "    .dataframe thead th {\n",
       "        text-align: right;\n",
       "    }\n",
       "</style>\n",
       "<table border=\"1\" class=\"dataframe\">\n",
       "  <thead>\n",
       "    <tr style=\"text-align: right;\">\n",
       "      <th></th>\n",
       "      <th>invoice_no</th>\n",
       "      <th>customer_id</th>\n",
       "      <th>gender</th>\n",
       "      <th>age</th>\n",
       "      <th>category</th>\n",
       "      <th>quantity</th>\n",
       "      <th>Price</th>\n",
       "      <th>payment_method</th>\n",
       "      <th>invoice_date</th>\n",
       "      <th>shopping_mall</th>\n",
       "    </tr>\n",
       "  </thead>\n",
       "  <tbody>\n",
       "    <tr>\n",
       "      <th>count</th>\n",
       "      <td>99457</td>\n",
       "      <td>99457</td>\n",
       "      <td>99457</td>\n",
       "      <td>99457.000000</td>\n",
       "      <td>99448</td>\n",
       "      <td>99457.000000</td>\n",
       "      <td>99442.000000</td>\n",
       "      <td>99448</td>\n",
       "      <td>99448</td>\n",
       "      <td>99439</td>\n",
       "    </tr>\n",
       "    <tr>\n",
       "      <th>unique</th>\n",
       "      <td>99457</td>\n",
       "      <td>99457</td>\n",
       "      <td>2</td>\n",
       "      <td>NaN</td>\n",
       "      <td>14</td>\n",
       "      <td>NaN</td>\n",
       "      <td>NaN</td>\n",
       "      <td>3</td>\n",
       "      <td>797</td>\n",
       "      <td>10</td>\n",
       "    </tr>\n",
       "    <tr>\n",
       "      <th>top</th>\n",
       "      <td>I337046</td>\n",
       "      <td>C189076</td>\n",
       "      <td>Female</td>\n",
       "      <td>NaN</td>\n",
       "      <td>Clothing</td>\n",
       "      <td>NaN</td>\n",
       "      <td>NaN</td>\n",
       "      <td>Cash</td>\n",
       "      <td>24/11/2021</td>\n",
       "      <td>Mall of Istanbul</td>\n",
       "    </tr>\n",
       "    <tr>\n",
       "      <th>freq</th>\n",
       "      <td>1</td>\n",
       "      <td>1</td>\n",
       "      <td>59482</td>\n",
       "      <td>NaN</td>\n",
       "      <td>34418</td>\n",
       "      <td>NaN</td>\n",
       "      <td>NaN</td>\n",
       "      <td>44445</td>\n",
       "      <td>159</td>\n",
       "      <td>19939</td>\n",
       "    </tr>\n",
       "    <tr>\n",
       "      <th>mean</th>\n",
       "      <td>NaN</td>\n",
       "      <td>NaN</td>\n",
       "      <td>NaN</td>\n",
       "      <td>43.427089</td>\n",
       "      <td>NaN</td>\n",
       "      <td>3.003429</td>\n",
       "      <td>689.276160</td>\n",
       "      <td>NaN</td>\n",
       "      <td>NaN</td>\n",
       "      <td>NaN</td>\n",
       "    </tr>\n",
       "    <tr>\n",
       "      <th>std</th>\n",
       "      <td>NaN</td>\n",
       "      <td>NaN</td>\n",
       "      <td>NaN</td>\n",
       "      <td>14.990054</td>\n",
       "      <td>NaN</td>\n",
       "      <td>1.413025</td>\n",
       "      <td>941.218853</td>\n",
       "      <td>NaN</td>\n",
       "      <td>NaN</td>\n",
       "      <td>NaN</td>\n",
       "    </tr>\n",
       "    <tr>\n",
       "      <th>min</th>\n",
       "      <td>NaN</td>\n",
       "      <td>NaN</td>\n",
       "      <td>NaN</td>\n",
       "      <td>18.000000</td>\n",
       "      <td>NaN</td>\n",
       "      <td>1.000000</td>\n",
       "      <td>5.230000</td>\n",
       "      <td>NaN</td>\n",
       "      <td>NaN</td>\n",
       "      <td>NaN</td>\n",
       "    </tr>\n",
       "    <tr>\n",
       "      <th>25%</th>\n",
       "      <td>NaN</td>\n",
       "      <td>NaN</td>\n",
       "      <td>NaN</td>\n",
       "      <td>30.000000</td>\n",
       "      <td>NaN</td>\n",
       "      <td>2.000000</td>\n",
       "      <td>45.450000</td>\n",
       "      <td>NaN</td>\n",
       "      <td>NaN</td>\n",
       "      <td>NaN</td>\n",
       "    </tr>\n",
       "    <tr>\n",
       "      <th>50%</th>\n",
       "      <td>NaN</td>\n",
       "      <td>NaN</td>\n",
       "      <td>NaN</td>\n",
       "      <td>43.000000</td>\n",
       "      <td>NaN</td>\n",
       "      <td>3.000000</td>\n",
       "      <td>203.300000</td>\n",
       "      <td>NaN</td>\n",
       "      <td>NaN</td>\n",
       "      <td>NaN</td>\n",
       "    </tr>\n",
       "    <tr>\n",
       "      <th>75%</th>\n",
       "      <td>NaN</td>\n",
       "      <td>NaN</td>\n",
       "      <td>NaN</td>\n",
       "      <td>56.000000</td>\n",
       "      <td>NaN</td>\n",
       "      <td>4.000000</td>\n",
       "      <td>1200.320000</td>\n",
       "      <td>NaN</td>\n",
       "      <td>NaN</td>\n",
       "      <td>NaN</td>\n",
       "    </tr>\n",
       "    <tr>\n",
       "      <th>max</th>\n",
       "      <td>NaN</td>\n",
       "      <td>NaN</td>\n",
       "      <td>NaN</td>\n",
       "      <td>69.000000</td>\n",
       "      <td>NaN</td>\n",
       "      <td>5.000000</td>\n",
       "      <td>5250.000000</td>\n",
       "      <td>NaN</td>\n",
       "      <td>NaN</td>\n",
       "      <td>NaN</td>\n",
       "    </tr>\n",
       "  </tbody>\n",
       "</table>\n",
       "</div>"
      ],
      "text/plain": [
       "       invoice_no customer_id  gender          age   category      quantity  \\\n",
       "count       99457       99457   99457  99457.000000     99448  99457.000000   \n",
       "unique      99457       99457       2           NaN        14           NaN   \n",
       "top       I337046     C189076  Female           NaN  Clothing           NaN   \n",
       "freq            1           1   59482           NaN     34418           NaN   \n",
       "mean          NaN         NaN     NaN     43.427089       NaN      3.003429   \n",
       "std           NaN         NaN     NaN     14.990054       NaN      1.413025   \n",
       "min           NaN         NaN     NaN     18.000000       NaN      1.000000   \n",
       "25%           NaN         NaN     NaN     30.000000       NaN      2.000000   \n",
       "50%           NaN         NaN     NaN     43.000000       NaN      3.000000   \n",
       "75%           NaN         NaN     NaN     56.000000       NaN      4.000000   \n",
       "max           NaN         NaN     NaN     69.000000       NaN      5.000000   \n",
       "\n",
       "               Price payment_method invoice_date     shopping_mall  \n",
       "count   99442.000000          99448        99448             99439  \n",
       "unique           NaN              3          797                10  \n",
       "top              NaN           Cash   24/11/2021  Mall of Istanbul  \n",
       "freq             NaN          44445          159             19939  \n",
       "mean      689.276160            NaN          NaN               NaN  \n",
       "std       941.218853            NaN          NaN               NaN  \n",
       "min         5.230000            NaN          NaN               NaN  \n",
       "25%        45.450000            NaN          NaN               NaN  \n",
       "50%       203.300000            NaN          NaN               NaN  \n",
       "75%      1200.320000            NaN          NaN               NaN  \n",
       "max      5250.000000            NaN          NaN               NaN  "
      ]
     },
     "execution_count": 6,
     "metadata": {},
     "output_type": "execute_result"
    }
   ],
   "source": [
    "# Check details on the dataset\n",
    "\n",
    "df.describe(include='all')"
   ]
  },
  {
   "cell_type": "markdown",
   "metadata": {},
   "source": [
    "### Change name and indentation of column names, then converting column names into lower case"
   ]
  },
  {
   "cell_type": "code",
   "execution_count": 7,
   "metadata": {},
   "outputs": [
    {
     "data": {
      "text/html": [
       "<div>\n",
       "<style scoped>\n",
       "    .dataframe tbody tr th:only-of-type {\n",
       "        vertical-align: middle;\n",
       "    }\n",
       "\n",
       "    .dataframe tbody tr th {\n",
       "        vertical-align: top;\n",
       "    }\n",
       "\n",
       "    .dataframe thead th {\n",
       "        text-align: right;\n",
       "    }\n",
       "</style>\n",
       "<table border=\"1\" class=\"dataframe\">\n",
       "  <thead>\n",
       "    <tr style=\"text-align: right;\">\n",
       "      <th></th>\n",
       "      <th>invoice_no</th>\n",
       "      <th>customer_id</th>\n",
       "      <th>gender</th>\n",
       "      <th>age</th>\n",
       "      <th>category</th>\n",
       "      <th>quantity</th>\n",
       "      <th>Price</th>\n",
       "      <th>payment_method</th>\n",
       "      <th>datetime</th>\n",
       "      <th>shopping_mall</th>\n",
       "    </tr>\n",
       "  </thead>\n",
       "  <tbody>\n",
       "    <tr>\n",
       "      <th>0</th>\n",
       "      <td>I337046</td>\n",
       "      <td>C189076</td>\n",
       "      <td>Female</td>\n",
       "      <td>53</td>\n",
       "      <td>Books</td>\n",
       "      <td>4</td>\n",
       "      <td>60.60</td>\n",
       "      <td>Cash</td>\n",
       "      <td>24/10/2021</td>\n",
       "      <td>Kanyon</td>\n",
       "    </tr>\n",
       "    <tr>\n",
       "      <th>1</th>\n",
       "      <td>I139207</td>\n",
       "      <td>C191708</td>\n",
       "      <td>Female</td>\n",
       "      <td>29</td>\n",
       "      <td>Books</td>\n",
       "      <td>1</td>\n",
       "      <td>15.15</td>\n",
       "      <td>Credit Card</td>\n",
       "      <td>28/10/2022</td>\n",
       "      <td>Emaar Square Mall</td>\n",
       "    </tr>\n",
       "    <tr>\n",
       "      <th>2</th>\n",
       "      <td>I294687</td>\n",
       "      <td>C300786</td>\n",
       "      <td>Male</td>\n",
       "      <td>65</td>\n",
       "      <td>Books</td>\n",
       "      <td>2</td>\n",
       "      <td>30.30</td>\n",
       "      <td>Debit Card</td>\n",
       "      <td>16/01/2021</td>\n",
       "      <td>Metrocity</td>\n",
       "    </tr>\n",
       "    <tr>\n",
       "      <th>3</th>\n",
       "      <td>I174250</td>\n",
       "      <td>C204553</td>\n",
       "      <td>Female</td>\n",
       "      <td>42</td>\n",
       "      <td>Books</td>\n",
       "      <td>5</td>\n",
       "      <td>75.75</td>\n",
       "      <td>Cash</td>\n",
       "      <td>16/12/2022</td>\n",
       "      <td>Metrocity</td>\n",
       "    </tr>\n",
       "    <tr>\n",
       "      <th>4</th>\n",
       "      <td>I117291</td>\n",
       "      <td>C134449</td>\n",
       "      <td>Male</td>\n",
       "      <td>46</td>\n",
       "      <td>Books</td>\n",
       "      <td>5</td>\n",
       "      <td>75.75</td>\n",
       "      <td>Credit Card</td>\n",
       "      <td>9/12/22</td>\n",
       "      <td>Zorlu Center</td>\n",
       "    </tr>\n",
       "    <tr>\n",
       "      <th>...</th>\n",
       "      <td>...</td>\n",
       "      <td>...</td>\n",
       "      <td>...</td>\n",
       "      <td>...</td>\n",
       "      <td>...</td>\n",
       "      <td>...</td>\n",
       "      <td>...</td>\n",
       "      <td>...</td>\n",
       "      <td>...</td>\n",
       "      <td>...</td>\n",
       "    </tr>\n",
       "    <tr>\n",
       "      <th>99452</th>\n",
       "      <td>I180008</td>\n",
       "      <td>C158576</td>\n",
       "      <td>Female</td>\n",
       "      <td>19</td>\n",
       "      <td>NaN</td>\n",
       "      <td>3</td>\n",
       "      <td>121.98</td>\n",
       "      <td>Cash</td>\n",
       "      <td>28/11/2021</td>\n",
       "      <td>Metropol AVM</td>\n",
       "    </tr>\n",
       "    <tr>\n",
       "      <th>99453</th>\n",
       "      <td>I117736</td>\n",
       "      <td>C336781</td>\n",
       "      <td>Female</td>\n",
       "      <td>25</td>\n",
       "      <td>NaN</td>\n",
       "      <td>1</td>\n",
       "      <td>300.08</td>\n",
       "      <td>Credit Card</td>\n",
       "      <td>17/01/2022</td>\n",
       "      <td>Mall of Istanbul</td>\n",
       "    </tr>\n",
       "    <tr>\n",
       "      <th>99454</th>\n",
       "      <td>I327594</td>\n",
       "      <td>C189864</td>\n",
       "      <td>Male</td>\n",
       "      <td>25</td>\n",
       "      <td>NaN</td>\n",
       "      <td>1</td>\n",
       "      <td>11.73</td>\n",
       "      <td>Cash</td>\n",
       "      <td>6/10/22</td>\n",
       "      <td>Kanyon</td>\n",
       "    </tr>\n",
       "    <tr>\n",
       "      <th>99455</th>\n",
       "      <td>I229534</td>\n",
       "      <td>C274652</td>\n",
       "      <td>Female</td>\n",
       "      <td>28</td>\n",
       "      <td>NaN</td>\n",
       "      <td>2</td>\n",
       "      <td>81.32</td>\n",
       "      <td>NaN</td>\n",
       "      <td>7/5/21</td>\n",
       "      <td>Emaar Square Mall</td>\n",
       "    </tr>\n",
       "    <tr>\n",
       "      <th>99456</th>\n",
       "      <td>I133413</td>\n",
       "      <td>C306916</td>\n",
       "      <td>Female</td>\n",
       "      <td>18</td>\n",
       "      <td>NaN</td>\n",
       "      <td>1</td>\n",
       "      <td>11.73</td>\n",
       "      <td>Cash</td>\n",
       "      <td>1/7/21</td>\n",
       "      <td>Forum Istanbul</td>\n",
       "    </tr>\n",
       "  </tbody>\n",
       "</table>\n",
       "<p>99457 rows × 10 columns</p>\n",
       "</div>"
      ],
      "text/plain": [
       "      invoice_no customer_id  gender  age category  quantity   Price  \\\n",
       "0        I337046     C189076  Female   53    Books         4   60.60   \n",
       "1        I139207     C191708  Female   29    Books         1   15.15   \n",
       "2        I294687     C300786    Male   65    Books         2   30.30   \n",
       "3        I174250     C204553  Female   42    Books         5   75.75   \n",
       "4        I117291     C134449    Male   46    Books         5   75.75   \n",
       "...          ...         ...     ...  ...      ...       ...     ...   \n",
       "99452    I180008     C158576  Female   19      NaN         3  121.98   \n",
       "99453    I117736     C336781  Female   25      NaN         1  300.08   \n",
       "99454    I327594     C189864    Male   25      NaN         1   11.73   \n",
       "99455    I229534     C274652  Female   28      NaN         2   81.32   \n",
       "99456    I133413     C306916  Female   18      NaN         1   11.73   \n",
       "\n",
       "      payment_method    datetime      shopping_mall  \n",
       "0               Cash  24/10/2021             Kanyon  \n",
       "1        Credit Card  28/10/2022  Emaar Square Mall  \n",
       "2         Debit Card  16/01/2021          Metrocity  \n",
       "3               Cash  16/12/2022          Metrocity  \n",
       "4        Credit Card     9/12/22       Zorlu Center  \n",
       "...              ...         ...                ...  \n",
       "99452           Cash  28/11/2021       Metropol AVM  \n",
       "99453    Credit Card  17/01/2022   Mall of Istanbul  \n",
       "99454           Cash     6/10/22             Kanyon  \n",
       "99455            NaN      7/5/21  Emaar Square Mall  \n",
       "99456           Cash      1/7/21     Forum Istanbul  \n",
       "\n",
       "[99457 rows x 10 columns]"
      ]
     },
     "execution_count": 7,
     "metadata": {},
     "output_type": "execute_result"
    }
   ],
   "source": [
    "df.rename(columns={\n",
    "    ' age ':'age',\n",
    "    'invoice_date': 'datetime'\n",
    "}, inplace = True)\n",
    "df"
   ]
  },
  {
   "cell_type": "code",
   "execution_count": 8,
   "metadata": {},
   "outputs": [
    {
     "data": {
      "text/html": [
       "<div>\n",
       "<style scoped>\n",
       "    .dataframe tbody tr th:only-of-type {\n",
       "        vertical-align: middle;\n",
       "    }\n",
       "\n",
       "    .dataframe tbody tr th {\n",
       "        vertical-align: top;\n",
       "    }\n",
       "\n",
       "    .dataframe thead th {\n",
       "        text-align: right;\n",
       "    }\n",
       "</style>\n",
       "<table border=\"1\" class=\"dataframe\">\n",
       "  <thead>\n",
       "    <tr style=\"text-align: right;\">\n",
       "      <th></th>\n",
       "      <th>invoice_no</th>\n",
       "      <th>customer_id</th>\n",
       "      <th>gender</th>\n",
       "      <th>age</th>\n",
       "      <th>category</th>\n",
       "      <th>quantity</th>\n",
       "      <th>price</th>\n",
       "      <th>payment_method</th>\n",
       "      <th>datetime</th>\n",
       "      <th>shopping_mall</th>\n",
       "    </tr>\n",
       "  </thead>\n",
       "  <tbody>\n",
       "    <tr>\n",
       "      <th>0</th>\n",
       "      <td>I337046</td>\n",
       "      <td>C189076</td>\n",
       "      <td>Female</td>\n",
       "      <td>53</td>\n",
       "      <td>Books</td>\n",
       "      <td>4</td>\n",
       "      <td>60.60</td>\n",
       "      <td>Cash</td>\n",
       "      <td>24/10/2021</td>\n",
       "      <td>Kanyon</td>\n",
       "    </tr>\n",
       "    <tr>\n",
       "      <th>1</th>\n",
       "      <td>I139207</td>\n",
       "      <td>C191708</td>\n",
       "      <td>Female</td>\n",
       "      <td>29</td>\n",
       "      <td>Books</td>\n",
       "      <td>1</td>\n",
       "      <td>15.15</td>\n",
       "      <td>Credit Card</td>\n",
       "      <td>28/10/2022</td>\n",
       "      <td>Emaar Square Mall</td>\n",
       "    </tr>\n",
       "    <tr>\n",
       "      <th>2</th>\n",
       "      <td>I294687</td>\n",
       "      <td>C300786</td>\n",
       "      <td>Male</td>\n",
       "      <td>65</td>\n",
       "      <td>Books</td>\n",
       "      <td>2</td>\n",
       "      <td>30.30</td>\n",
       "      <td>Debit Card</td>\n",
       "      <td>16/01/2021</td>\n",
       "      <td>Metrocity</td>\n",
       "    </tr>\n",
       "    <tr>\n",
       "      <th>3</th>\n",
       "      <td>I174250</td>\n",
       "      <td>C204553</td>\n",
       "      <td>Female</td>\n",
       "      <td>42</td>\n",
       "      <td>Books</td>\n",
       "      <td>5</td>\n",
       "      <td>75.75</td>\n",
       "      <td>Cash</td>\n",
       "      <td>16/12/2022</td>\n",
       "      <td>Metrocity</td>\n",
       "    </tr>\n",
       "    <tr>\n",
       "      <th>4</th>\n",
       "      <td>I117291</td>\n",
       "      <td>C134449</td>\n",
       "      <td>Male</td>\n",
       "      <td>46</td>\n",
       "      <td>Books</td>\n",
       "      <td>5</td>\n",
       "      <td>75.75</td>\n",
       "      <td>Credit Card</td>\n",
       "      <td>9/12/22</td>\n",
       "      <td>Zorlu Center</td>\n",
       "    </tr>\n",
       "  </tbody>\n",
       "</table>\n",
       "</div>"
      ],
      "text/plain": [
       "  invoice_no customer_id  gender  age category  quantity  price  \\\n",
       "0    I337046     C189076  Female   53    Books         4  60.60   \n",
       "1    I139207     C191708  Female   29    Books         1  15.15   \n",
       "2    I294687     C300786    Male   65    Books         2  30.30   \n",
       "3    I174250     C204553  Female   42    Books         5  75.75   \n",
       "4    I117291     C134449    Male   46    Books         5  75.75   \n",
       "\n",
       "  payment_method    datetime      shopping_mall  \n",
       "0           Cash  24/10/2021             Kanyon  \n",
       "1    Credit Card  28/10/2022  Emaar Square Mall  \n",
       "2     Debit Card  16/01/2021          Metrocity  \n",
       "3           Cash  16/12/2022          Metrocity  \n",
       "4    Credit Card     9/12/22       Zorlu Center  "
      ]
     },
     "execution_count": 8,
     "metadata": {},
     "output_type": "execute_result"
    }
   ],
   "source": [
    "df = df.rename(columns=str.lower)\n",
    "df.head()"
   ]
  },
  {
   "cell_type": "markdown",
   "metadata": {},
   "source": [
    "### Convert datetime column from object to Datetime format and fill null with forward fill"
   ]
  },
  {
   "cell_type": "code",
   "execution_count": 9,
   "metadata": {},
   "outputs": [
    {
     "data": {
      "text/html": [
       "<div>\n",
       "<style scoped>\n",
       "    .dataframe tbody tr th:only-of-type {\n",
       "        vertical-align: middle;\n",
       "    }\n",
       "\n",
       "    .dataframe tbody tr th {\n",
       "        vertical-align: top;\n",
       "    }\n",
       "\n",
       "    .dataframe thead th {\n",
       "        text-align: right;\n",
       "    }\n",
       "</style>\n",
       "<table border=\"1\" class=\"dataframe\">\n",
       "  <thead>\n",
       "    <tr style=\"text-align: right;\">\n",
       "      <th></th>\n",
       "      <th>invoice_no</th>\n",
       "      <th>customer_id</th>\n",
       "      <th>gender</th>\n",
       "      <th>age</th>\n",
       "      <th>category</th>\n",
       "      <th>quantity</th>\n",
       "      <th>price</th>\n",
       "      <th>payment_method</th>\n",
       "      <th>datetime</th>\n",
       "      <th>shopping_mall</th>\n",
       "    </tr>\n",
       "  </thead>\n",
       "  <tbody>\n",
       "    <tr>\n",
       "      <th>0</th>\n",
       "      <td>I337046</td>\n",
       "      <td>C189076</td>\n",
       "      <td>Female</td>\n",
       "      <td>53</td>\n",
       "      <td>Books</td>\n",
       "      <td>4</td>\n",
       "      <td>60.60</td>\n",
       "      <td>Cash</td>\n",
       "      <td>2021-10-24</td>\n",
       "      <td>Kanyon</td>\n",
       "    </tr>\n",
       "    <tr>\n",
       "      <th>1</th>\n",
       "      <td>I139207</td>\n",
       "      <td>C191708</td>\n",
       "      <td>Female</td>\n",
       "      <td>29</td>\n",
       "      <td>Books</td>\n",
       "      <td>1</td>\n",
       "      <td>15.15</td>\n",
       "      <td>Credit Card</td>\n",
       "      <td>2022-10-28</td>\n",
       "      <td>Emaar Square Mall</td>\n",
       "    </tr>\n",
       "    <tr>\n",
       "      <th>2</th>\n",
       "      <td>I294687</td>\n",
       "      <td>C300786</td>\n",
       "      <td>Male</td>\n",
       "      <td>65</td>\n",
       "      <td>Books</td>\n",
       "      <td>2</td>\n",
       "      <td>30.30</td>\n",
       "      <td>Debit Card</td>\n",
       "      <td>2021-01-16</td>\n",
       "      <td>Metrocity</td>\n",
       "    </tr>\n",
       "    <tr>\n",
       "      <th>3</th>\n",
       "      <td>I174250</td>\n",
       "      <td>C204553</td>\n",
       "      <td>Female</td>\n",
       "      <td>42</td>\n",
       "      <td>Books</td>\n",
       "      <td>5</td>\n",
       "      <td>75.75</td>\n",
       "      <td>Cash</td>\n",
       "      <td>2022-12-16</td>\n",
       "      <td>Metrocity</td>\n",
       "    </tr>\n",
       "    <tr>\n",
       "      <th>4</th>\n",
       "      <td>I117291</td>\n",
       "      <td>C134449</td>\n",
       "      <td>Male</td>\n",
       "      <td>46</td>\n",
       "      <td>Books</td>\n",
       "      <td>5</td>\n",
       "      <td>75.75</td>\n",
       "      <td>Credit Card</td>\n",
       "      <td>2022-09-12</td>\n",
       "      <td>Zorlu Center</td>\n",
       "    </tr>\n",
       "  </tbody>\n",
       "</table>\n",
       "</div>"
      ],
      "text/plain": [
       "  invoice_no customer_id  gender  age category  quantity  price  \\\n",
       "0    I337046     C189076  Female   53    Books         4  60.60   \n",
       "1    I139207     C191708  Female   29    Books         1  15.15   \n",
       "2    I294687     C300786    Male   65    Books         2  30.30   \n",
       "3    I174250     C204553  Female   42    Books         5  75.75   \n",
       "4    I117291     C134449    Male   46    Books         5  75.75   \n",
       "\n",
       "  payment_method   datetime      shopping_mall  \n",
       "0           Cash 2021-10-24             Kanyon  \n",
       "1    Credit Card 2022-10-28  Emaar Square Mall  \n",
       "2     Debit Card 2021-01-16          Metrocity  \n",
       "3           Cash 2022-12-16          Metrocity  \n",
       "4    Credit Card 2022-09-12       Zorlu Center  "
      ]
     },
     "execution_count": 9,
     "metadata": {},
     "output_type": "execute_result"
    }
   ],
   "source": [
    "df['datetime'] = pd.to_datetime(df['datetime'], errors='raise', format='mixed')\n",
    "df.head()"
   ]
  },
  {
   "cell_type": "code",
   "execution_count": 10,
   "metadata": {},
   "outputs": [
    {
     "name": "stderr",
     "output_type": "stream",
     "text": [
      "/var/folders/2h/2zcs8h612kxcwf4_nb9dj5dm0000gn/T/ipykernel_13133/1095842324.py:1: FutureWarning: Series.fillna with 'method' is deprecated and will raise in a future version. Use obj.ffill() or obj.bfill() instead.\n",
      "  df['datetime'] = df['datetime'].fillna(method='ffill')\n"
     ]
    }
   ],
   "source": [
    "df['datetime'] = df['datetime'].fillna(method='ffill')"
   ]
  },
  {
   "cell_type": "markdown",
   "metadata": {},
   "source": [
    "### Fix mistakes in category column"
   ]
  },
  {
   "cell_type": "code",
   "execution_count": 11,
   "metadata": {},
   "outputs": [
    {
     "data": {
      "text/plain": [
       "array(['Books', 'Book', 'bok', 'Clothing', 'Clothin', 'Cosmetics',\n",
       "       'Food & Beverage', 'Shoes', 'Shoe', 'Souvenir', 'Technology',\n",
       "       'Technologi', 'Toys', 'Toy', nan], dtype=object)"
      ]
     },
     "execution_count": 11,
     "metadata": {},
     "output_type": "execute_result"
    }
   ],
   "source": [
    "df['category'].unique()"
   ]
  },
  {
   "cell_type": "code",
   "execution_count": 12,
   "metadata": {},
   "outputs": [
    {
     "data": {
      "text/plain": [
       "array(['Books', 'Clothing', 'Cosmetics', 'Food & Beverage', 'Shoes',\n",
       "       'Souvenir', 'Technology', 'Toys', nan], dtype=object)"
      ]
     },
     "execution_count": 12,
     "metadata": {},
     "output_type": "execute_result"
    }
   ],
   "source": [
    "df['category'] = df['category'].replace({\n",
    "    'bok':'Books',\n",
    "    'Book':'Books',\n",
    "    'Toy': 'Toys',\n",
    "    'Clothin': 'Clothing',\n",
    "    'Shoe':'Shoes',\n",
    "    'Technologi': 'Technology'    \n",
    "})\n",
    "df['category'].unique()"
   ]
  },
  {
   "cell_type": "markdown",
   "metadata": {},
   "source": [
    "### Fill null value of price column with median value"
   ]
  },
  {
   "cell_type": "code",
   "execution_count": 13,
   "metadata": {},
   "outputs": [],
   "source": [
    "median_value = df['price'].median()\n",
    "df['price'] = df['price'].fillna(median_value)"
   ]
  },
  {
   "cell_type": "code",
   "execution_count": 14,
   "metadata": {},
   "outputs": [
    {
     "data": {
      "text/html": [
       "<div>\n",
       "<style scoped>\n",
       "    .dataframe tbody tr th:only-of-type {\n",
       "        vertical-align: middle;\n",
       "    }\n",
       "\n",
       "    .dataframe tbody tr th {\n",
       "        vertical-align: top;\n",
       "    }\n",
       "\n",
       "    .dataframe thead th {\n",
       "        text-align: right;\n",
       "    }\n",
       "</style>\n",
       "<table border=\"1\" class=\"dataframe\">\n",
       "  <thead>\n",
       "    <tr style=\"text-align: right;\">\n",
       "      <th></th>\n",
       "      <th>invoice_no</th>\n",
       "      <th>customer_id</th>\n",
       "      <th>gender</th>\n",
       "      <th>age</th>\n",
       "      <th>category</th>\n",
       "      <th>quantity</th>\n",
       "      <th>price</th>\n",
       "      <th>payment_method</th>\n",
       "      <th>datetime</th>\n",
       "      <th>shopping_mall</th>\n",
       "    </tr>\n",
       "  </thead>\n",
       "  <tbody>\n",
       "    <tr>\n",
       "      <th>0</th>\n",
       "      <td>I337046</td>\n",
       "      <td>C189076</td>\n",
       "      <td>Female</td>\n",
       "      <td>53</td>\n",
       "      <td>Books</td>\n",
       "      <td>4</td>\n",
       "      <td>60.60</td>\n",
       "      <td>Cash</td>\n",
       "      <td>2021-10-24</td>\n",
       "      <td>Kanyon</td>\n",
       "    </tr>\n",
       "    <tr>\n",
       "      <th>1</th>\n",
       "      <td>I139207</td>\n",
       "      <td>C191708</td>\n",
       "      <td>Female</td>\n",
       "      <td>29</td>\n",
       "      <td>Books</td>\n",
       "      <td>1</td>\n",
       "      <td>15.15</td>\n",
       "      <td>Credit Card</td>\n",
       "      <td>2022-10-28</td>\n",
       "      <td>Emaar Square Mall</td>\n",
       "    </tr>\n",
       "    <tr>\n",
       "      <th>2</th>\n",
       "      <td>I294687</td>\n",
       "      <td>C300786</td>\n",
       "      <td>Male</td>\n",
       "      <td>65</td>\n",
       "      <td>Books</td>\n",
       "      <td>2</td>\n",
       "      <td>30.30</td>\n",
       "      <td>Debit Card</td>\n",
       "      <td>2021-01-16</td>\n",
       "      <td>Metrocity</td>\n",
       "    </tr>\n",
       "    <tr>\n",
       "      <th>3</th>\n",
       "      <td>I174250</td>\n",
       "      <td>C204553</td>\n",
       "      <td>Female</td>\n",
       "      <td>42</td>\n",
       "      <td>Books</td>\n",
       "      <td>5</td>\n",
       "      <td>75.75</td>\n",
       "      <td>Cash</td>\n",
       "      <td>2022-12-16</td>\n",
       "      <td>Metrocity</td>\n",
       "    </tr>\n",
       "    <tr>\n",
       "      <th>4</th>\n",
       "      <td>I117291</td>\n",
       "      <td>C134449</td>\n",
       "      <td>Male</td>\n",
       "      <td>46</td>\n",
       "      <td>Books</td>\n",
       "      <td>5</td>\n",
       "      <td>75.75</td>\n",
       "      <td>Credit Card</td>\n",
       "      <td>2022-09-12</td>\n",
       "      <td>Zorlu Center</td>\n",
       "    </tr>\n",
       "  </tbody>\n",
       "</table>\n",
       "</div>"
      ],
      "text/plain": [
       "  invoice_no customer_id  gender  age category  quantity  price  \\\n",
       "0    I337046     C189076  Female   53    Books         4  60.60   \n",
       "1    I139207     C191708  Female   29    Books         1  15.15   \n",
       "2    I294687     C300786    Male   65    Books         2  30.30   \n",
       "3    I174250     C204553  Female   42    Books         5  75.75   \n",
       "4    I117291     C134449    Male   46    Books         5  75.75   \n",
       "\n",
       "  payment_method   datetime      shopping_mall  \n",
       "0           Cash 2021-10-24             Kanyon  \n",
       "1    Credit Card 2022-10-28  Emaar Square Mall  \n",
       "2     Debit Card 2021-01-16          Metrocity  \n",
       "3           Cash 2022-12-16          Metrocity  \n",
       "4    Credit Card 2022-09-12       Zorlu Center  "
      ]
     },
     "execution_count": 14,
     "metadata": {},
     "output_type": "execute_result"
    }
   ],
   "source": [
    "df = df.dropna()\n",
    "df.head()"
   ]
  },
  {
   "cell_type": "markdown",
   "metadata": {},
   "source": [
    "### Drop invoice_no, customer_id columns as they seem to have no effect on dataset."
   ]
  },
  {
   "cell_type": "code",
   "execution_count": 15,
   "metadata": {},
   "outputs": [
    {
     "data": {
      "text/html": [
       "<div>\n",
       "<style scoped>\n",
       "    .dataframe tbody tr th:only-of-type {\n",
       "        vertical-align: middle;\n",
       "    }\n",
       "\n",
       "    .dataframe tbody tr th {\n",
       "        vertical-align: top;\n",
       "    }\n",
       "\n",
       "    .dataframe thead th {\n",
       "        text-align: right;\n",
       "    }\n",
       "</style>\n",
       "<table border=\"1\" class=\"dataframe\">\n",
       "  <thead>\n",
       "    <tr style=\"text-align: right;\">\n",
       "      <th></th>\n",
       "      <th>gender</th>\n",
       "      <th>age</th>\n",
       "      <th>category</th>\n",
       "      <th>quantity</th>\n",
       "      <th>price</th>\n",
       "      <th>payment_method</th>\n",
       "      <th>datetime</th>\n",
       "      <th>shopping_mall</th>\n",
       "    </tr>\n",
       "  </thead>\n",
       "  <tbody>\n",
       "    <tr>\n",
       "      <th>0</th>\n",
       "      <td>Female</td>\n",
       "      <td>53</td>\n",
       "      <td>Books</td>\n",
       "      <td>4</td>\n",
       "      <td>60.60</td>\n",
       "      <td>Cash</td>\n",
       "      <td>2021-10-24</td>\n",
       "      <td>Kanyon</td>\n",
       "    </tr>\n",
       "    <tr>\n",
       "      <th>1</th>\n",
       "      <td>Female</td>\n",
       "      <td>29</td>\n",
       "      <td>Books</td>\n",
       "      <td>1</td>\n",
       "      <td>15.15</td>\n",
       "      <td>Credit Card</td>\n",
       "      <td>2022-10-28</td>\n",
       "      <td>Emaar Square Mall</td>\n",
       "    </tr>\n",
       "    <tr>\n",
       "      <th>2</th>\n",
       "      <td>Male</td>\n",
       "      <td>65</td>\n",
       "      <td>Books</td>\n",
       "      <td>2</td>\n",
       "      <td>30.30</td>\n",
       "      <td>Debit Card</td>\n",
       "      <td>2021-01-16</td>\n",
       "      <td>Metrocity</td>\n",
       "    </tr>\n",
       "    <tr>\n",
       "      <th>3</th>\n",
       "      <td>Female</td>\n",
       "      <td>42</td>\n",
       "      <td>Books</td>\n",
       "      <td>5</td>\n",
       "      <td>75.75</td>\n",
       "      <td>Cash</td>\n",
       "      <td>2022-12-16</td>\n",
       "      <td>Metrocity</td>\n",
       "    </tr>\n",
       "    <tr>\n",
       "      <th>4</th>\n",
       "      <td>Male</td>\n",
       "      <td>46</td>\n",
       "      <td>Books</td>\n",
       "      <td>5</td>\n",
       "      <td>75.75</td>\n",
       "      <td>Credit Card</td>\n",
       "      <td>2022-09-12</td>\n",
       "      <td>Zorlu Center</td>\n",
       "    </tr>\n",
       "    <tr>\n",
       "      <th>...</th>\n",
       "      <td>...</td>\n",
       "      <td>...</td>\n",
       "      <td>...</td>\n",
       "      <td>...</td>\n",
       "      <td>...</td>\n",
       "      <td>...</td>\n",
       "      <td>...</td>\n",
       "      <td>...</td>\n",
       "    </tr>\n",
       "    <tr>\n",
       "      <th>99443</th>\n",
       "      <td>Male</td>\n",
       "      <td>28</td>\n",
       "      <td>Toys</td>\n",
       "      <td>1</td>\n",
       "      <td>35.84</td>\n",
       "      <td>Credit Card</td>\n",
       "      <td>2022-02-11</td>\n",
       "      <td>Metrocity</td>\n",
       "    </tr>\n",
       "    <tr>\n",
       "      <th>99444</th>\n",
       "      <td>Female</td>\n",
       "      <td>47</td>\n",
       "      <td>Toys</td>\n",
       "      <td>5</td>\n",
       "      <td>179.20</td>\n",
       "      <td>Credit Card</td>\n",
       "      <td>2021-08-02</td>\n",
       "      <td>Kanyon</td>\n",
       "    </tr>\n",
       "    <tr>\n",
       "      <th>99445</th>\n",
       "      <td>Male</td>\n",
       "      <td>24</td>\n",
       "      <td>Toys</td>\n",
       "      <td>1</td>\n",
       "      <td>35.84</td>\n",
       "      <td>Cash</td>\n",
       "      <td>2021-11-26</td>\n",
       "      <td>Mall of Istanbul</td>\n",
       "    </tr>\n",
       "    <tr>\n",
       "      <th>99446</th>\n",
       "      <td>Female</td>\n",
       "      <td>37</td>\n",
       "      <td>Toys</td>\n",
       "      <td>3</td>\n",
       "      <td>107.52</td>\n",
       "      <td>Cash</td>\n",
       "      <td>2021-02-21</td>\n",
       "      <td>Metropol AVM</td>\n",
       "    </tr>\n",
       "    <tr>\n",
       "      <th>99447</th>\n",
       "      <td>Male</td>\n",
       "      <td>50</td>\n",
       "      <td>Toys</td>\n",
       "      <td>5</td>\n",
       "      <td>179.20</td>\n",
       "      <td>Cash</td>\n",
       "      <td>2021-09-10</td>\n",
       "      <td>Metropol AVM</td>\n",
       "    </tr>\n",
       "  </tbody>\n",
       "</table>\n",
       "<p>99422 rows × 8 columns</p>\n",
       "</div>"
      ],
      "text/plain": [
       "       gender  age category  quantity   price payment_method   datetime  \\\n",
       "0      Female   53    Books         4   60.60           Cash 2021-10-24   \n",
       "1      Female   29    Books         1   15.15    Credit Card 2022-10-28   \n",
       "2        Male   65    Books         2   30.30     Debit Card 2021-01-16   \n",
       "3      Female   42    Books         5   75.75           Cash 2022-12-16   \n",
       "4        Male   46    Books         5   75.75    Credit Card 2022-09-12   \n",
       "...       ...  ...      ...       ...     ...            ...        ...   \n",
       "99443    Male   28     Toys         1   35.84    Credit Card 2022-02-11   \n",
       "99444  Female   47     Toys         5  179.20    Credit Card 2021-08-02   \n",
       "99445    Male   24     Toys         1   35.84           Cash 2021-11-26   \n",
       "99446  Female   37     Toys         3  107.52           Cash 2021-02-21   \n",
       "99447    Male   50     Toys         5  179.20           Cash 2021-09-10   \n",
       "\n",
       "           shopping_mall  \n",
       "0                 Kanyon  \n",
       "1      Emaar Square Mall  \n",
       "2              Metrocity  \n",
       "3              Metrocity  \n",
       "4           Zorlu Center  \n",
       "...                  ...  \n",
       "99443          Metrocity  \n",
       "99444             Kanyon  \n",
       "99445   Mall of Istanbul  \n",
       "99446       Metropol AVM  \n",
       "99447       Metropol AVM  \n",
       "\n",
       "[99422 rows x 8 columns]"
      ]
     },
     "execution_count": 15,
     "metadata": {},
     "output_type": "execute_result"
    }
   ],
   "source": [
    "df = df.drop(labels=['invoice_no','customer_id'], axis=1)\n",
    "df"
   ]
  },
  {
   "cell_type": "code",
   "execution_count": 16,
   "metadata": {},
   "outputs": [
    {
     "data": {
      "text/html": [
       "<div>\n",
       "<style scoped>\n",
       "    .dataframe tbody tr th:only-of-type {\n",
       "        vertical-align: middle;\n",
       "    }\n",
       "\n",
       "    .dataframe tbody tr th {\n",
       "        vertical-align: top;\n",
       "    }\n",
       "\n",
       "    .dataframe thead th {\n",
       "        text-align: right;\n",
       "    }\n",
       "</style>\n",
       "<table border=\"1\" class=\"dataframe\">\n",
       "  <thead>\n",
       "    <tr style=\"text-align: right;\">\n",
       "      <th></th>\n",
       "      <th>gender</th>\n",
       "      <th>age</th>\n",
       "      <th>category</th>\n",
       "      <th>quantity</th>\n",
       "      <th>price</th>\n",
       "      <th>payment_method</th>\n",
       "      <th>datetime</th>\n",
       "      <th>shopping_mall</th>\n",
       "    </tr>\n",
       "  </thead>\n",
       "  <tbody>\n",
       "    <tr>\n",
       "      <th>count</th>\n",
       "      <td>99422</td>\n",
       "      <td>99422.000000</td>\n",
       "      <td>99422</td>\n",
       "      <td>99422.000000</td>\n",
       "      <td>99422.000000</td>\n",
       "      <td>99422</td>\n",
       "      <td>99422</td>\n",
       "      <td>99422</td>\n",
       "    </tr>\n",
       "    <tr>\n",
       "      <th>unique</th>\n",
       "      <td>2</td>\n",
       "      <td>NaN</td>\n",
       "      <td>8</td>\n",
       "      <td>NaN</td>\n",
       "      <td>NaN</td>\n",
       "      <td>3</td>\n",
       "      <td>NaN</td>\n",
       "      <td>10</td>\n",
       "    </tr>\n",
       "    <tr>\n",
       "      <th>top</th>\n",
       "      <td>Female</td>\n",
       "      <td>NaN</td>\n",
       "      <td>Clothing</td>\n",
       "      <td>NaN</td>\n",
       "      <td>NaN</td>\n",
       "      <td>Cash</td>\n",
       "      <td>NaN</td>\n",
       "      <td>Mall of Istanbul</td>\n",
       "    </tr>\n",
       "    <tr>\n",
       "      <th>freq</th>\n",
       "      <td>59459</td>\n",
       "      <td>NaN</td>\n",
       "      <td>34476</td>\n",
       "      <td>NaN</td>\n",
       "      <td>NaN</td>\n",
       "      <td>44433</td>\n",
       "      <td>NaN</td>\n",
       "      <td>19936</td>\n",
       "    </tr>\n",
       "    <tr>\n",
       "      <th>mean</th>\n",
       "      <td>NaN</td>\n",
       "      <td>43.427360</td>\n",
       "      <td>NaN</td>\n",
       "      <td>3.003480</td>\n",
       "      <td>689.229708</td>\n",
       "      <td>NaN</td>\n",
       "      <td>2022-02-08 23:17:36.369817600</td>\n",
       "      <td>NaN</td>\n",
       "    </tr>\n",
       "    <tr>\n",
       "      <th>min</th>\n",
       "      <td>NaN</td>\n",
       "      <td>18.000000</td>\n",
       "      <td>NaN</td>\n",
       "      <td>1.000000</td>\n",
       "      <td>5.230000</td>\n",
       "      <td>NaN</td>\n",
       "      <td>2021-01-01 00:00:00</td>\n",
       "      <td>NaN</td>\n",
       "    </tr>\n",
       "    <tr>\n",
       "      <th>25%</th>\n",
       "      <td>NaN</td>\n",
       "      <td>30.000000</td>\n",
       "      <td>NaN</td>\n",
       "      <td>2.000000</td>\n",
       "      <td>45.450000</td>\n",
       "      <td>NaN</td>\n",
       "      <td>2021-07-19 00:00:00</td>\n",
       "      <td>NaN</td>\n",
       "    </tr>\n",
       "    <tr>\n",
       "      <th>50%</th>\n",
       "      <td>NaN</td>\n",
       "      <td>43.000000</td>\n",
       "      <td>NaN</td>\n",
       "      <td>3.000000</td>\n",
       "      <td>203.300000</td>\n",
       "      <td>NaN</td>\n",
       "      <td>2022-02-05 00:00:00</td>\n",
       "      <td>NaN</td>\n",
       "    </tr>\n",
       "    <tr>\n",
       "      <th>75%</th>\n",
       "      <td>NaN</td>\n",
       "      <td>56.000000</td>\n",
       "      <td>NaN</td>\n",
       "      <td>4.000000</td>\n",
       "      <td>1200.320000</td>\n",
       "      <td>NaN</td>\n",
       "      <td>2022-08-22 00:00:00</td>\n",
       "      <td>NaN</td>\n",
       "    </tr>\n",
       "    <tr>\n",
       "      <th>max</th>\n",
       "      <td>NaN</td>\n",
       "      <td>69.000000</td>\n",
       "      <td>NaN</td>\n",
       "      <td>5.000000</td>\n",
       "      <td>5250.000000</td>\n",
       "      <td>NaN</td>\n",
       "      <td>2023-12-02 00:00:00</td>\n",
       "      <td>NaN</td>\n",
       "    </tr>\n",
       "    <tr>\n",
       "      <th>std</th>\n",
       "      <td>NaN</td>\n",
       "      <td>14.989487</td>\n",
       "      <td>NaN</td>\n",
       "      <td>1.412985</td>\n",
       "      <td>941.135456</td>\n",
       "      <td>NaN</td>\n",
       "      <td>NaN</td>\n",
       "      <td>NaN</td>\n",
       "    </tr>\n",
       "  </tbody>\n",
       "</table>\n",
       "</div>"
      ],
      "text/plain": [
       "        gender           age  category      quantity         price  \\\n",
       "count    99422  99422.000000     99422  99422.000000  99422.000000   \n",
       "unique       2           NaN         8           NaN           NaN   \n",
       "top     Female           NaN  Clothing           NaN           NaN   \n",
       "freq     59459           NaN     34476           NaN           NaN   \n",
       "mean       NaN     43.427360       NaN      3.003480    689.229708   \n",
       "min        NaN     18.000000       NaN      1.000000      5.230000   \n",
       "25%        NaN     30.000000       NaN      2.000000     45.450000   \n",
       "50%        NaN     43.000000       NaN      3.000000    203.300000   \n",
       "75%        NaN     56.000000       NaN      4.000000   1200.320000   \n",
       "max        NaN     69.000000       NaN      5.000000   5250.000000   \n",
       "std        NaN     14.989487       NaN      1.412985    941.135456   \n",
       "\n",
       "       payment_method                       datetime     shopping_mall  \n",
       "count           99422                          99422             99422  \n",
       "unique              3                            NaN                10  \n",
       "top              Cash                            NaN  Mall of Istanbul  \n",
       "freq            44433                            NaN             19936  \n",
       "mean              NaN  2022-02-08 23:17:36.369817600               NaN  \n",
       "min               NaN            2021-01-01 00:00:00               NaN  \n",
       "25%               NaN            2021-07-19 00:00:00               NaN  \n",
       "50%               NaN            2022-02-05 00:00:00               NaN  \n",
       "75%               NaN            2022-08-22 00:00:00               NaN  \n",
       "max               NaN            2023-12-02 00:00:00               NaN  \n",
       "std               NaN                            NaN               NaN  "
      ]
     },
     "execution_count": 16,
     "metadata": {},
     "output_type": "execute_result"
    }
   ],
   "source": [
    "df.describe(include='all')"
   ]
  },
  {
   "cell_type": "code",
   "execution_count": 17,
   "metadata": {},
   "outputs": [
    {
     "name": "stdout",
     "output_type": "stream",
     "text": [
      "<class 'pandas.core.frame.DataFrame'>\n",
      "Index: 99422 entries, 0 to 99447\n",
      "Data columns (total 8 columns):\n",
      " #   Column          Non-Null Count  Dtype         \n",
      "---  ------          --------------  -----         \n",
      " 0   gender          99422 non-null  object        \n",
      " 1   age             99422 non-null  int64         \n",
      " 2   category        99422 non-null  object        \n",
      " 3   quantity        99422 non-null  int64         \n",
      " 4   price           99422 non-null  float64       \n",
      " 5   payment_method  99422 non-null  object        \n",
      " 6   datetime        99422 non-null  datetime64[ns]\n",
      " 7   shopping_mall   99422 non-null  object        \n",
      "dtypes: datetime64[ns](1), float64(1), int64(2), object(4)\n",
      "memory usage: 6.8+ MB\n"
     ]
    }
   ],
   "source": [
    "df.info()"
   ]
  },
  {
   "cell_type": "code",
   "execution_count": 18,
   "metadata": {},
   "outputs": [
    {
     "data": {
      "text/plain": [
       "(10000, 8)"
      ]
     },
     "execution_count": 18,
     "metadata": {},
     "output_type": "execute_result"
    }
   ],
   "source": [
    "dfc = df.sample(n=10000, random_state=9)\n",
    "dfc.to_csv('/Users/raihannasir/Documents/DA_AI/project_shopping_mall/Dataset/Cleaned/shopping_data.csv', index=False)\n",
    "dfc.shape"
   ]
  },
  {
   "cell_type": "code",
   "execution_count": 19,
   "metadata": {},
   "outputs": [
    {
     "data": {
      "text/html": [
       "<div>\n",
       "<style scoped>\n",
       "    .dataframe tbody tr th:only-of-type {\n",
       "        vertical-align: middle;\n",
       "    }\n",
       "\n",
       "    .dataframe tbody tr th {\n",
       "        vertical-align: top;\n",
       "    }\n",
       "\n",
       "    .dataframe thead th {\n",
       "        text-align: right;\n",
       "    }\n",
       "</style>\n",
       "<table border=\"1\" class=\"dataframe\">\n",
       "  <thead>\n",
       "    <tr style=\"text-align: right;\">\n",
       "      <th></th>\n",
       "      <th>gender</th>\n",
       "      <th>age</th>\n",
       "      <th>category</th>\n",
       "      <th>quantity</th>\n",
       "      <th>price</th>\n",
       "      <th>payment_method</th>\n",
       "      <th>datetime</th>\n",
       "      <th>shopping_mall</th>\n",
       "    </tr>\n",
       "  </thead>\n",
       "  <tbody>\n",
       "    <tr>\n",
       "      <th>0</th>\n",
       "      <td>Male</td>\n",
       "      <td>42</td>\n",
       "      <td>Clothing</td>\n",
       "      <td>4</td>\n",
       "      <td>1200.32</td>\n",
       "      <td>Credit Card</td>\n",
       "      <td>2022-01-25</td>\n",
       "      <td>Istinye Park</td>\n",
       "    </tr>\n",
       "    <tr>\n",
       "      <th>1</th>\n",
       "      <td>Female</td>\n",
       "      <td>56</td>\n",
       "      <td>Clothing</td>\n",
       "      <td>5</td>\n",
       "      <td>1500.40</td>\n",
       "      <td>Cash</td>\n",
       "      <td>2023-02-18</td>\n",
       "      <td>Zorlu Center</td>\n",
       "    </tr>\n",
       "    <tr>\n",
       "      <th>2</th>\n",
       "      <td>Female</td>\n",
       "      <td>20</td>\n",
       "      <td>Clothing</td>\n",
       "      <td>2</td>\n",
       "      <td>600.16</td>\n",
       "      <td>Credit Card</td>\n",
       "      <td>2022-11-30</td>\n",
       "      <td>Viaport Outlet</td>\n",
       "    </tr>\n",
       "    <tr>\n",
       "      <th>3</th>\n",
       "      <td>Male</td>\n",
       "      <td>46</td>\n",
       "      <td>Food &amp; Beverage</td>\n",
       "      <td>4</td>\n",
       "      <td>20.92</td>\n",
       "      <td>Debit Card</td>\n",
       "      <td>2021-11-23</td>\n",
       "      <td>Istinye Park</td>\n",
       "    </tr>\n",
       "    <tr>\n",
       "      <th>4</th>\n",
       "      <td>Female</td>\n",
       "      <td>32</td>\n",
       "      <td>Food &amp; Beverage</td>\n",
       "      <td>2</td>\n",
       "      <td>10.46</td>\n",
       "      <td>Credit Card</td>\n",
       "      <td>2021-02-19</td>\n",
       "      <td>Metrocity</td>\n",
       "    </tr>\n",
       "  </tbody>\n",
       "</table>\n",
       "</div>"
      ],
      "text/plain": [
       "   gender  age         category  quantity    price payment_method    datetime  \\\n",
       "0    Male   42         Clothing         4  1200.32    Credit Card  2022-01-25   \n",
       "1  Female   56         Clothing         5  1500.40           Cash  2023-02-18   \n",
       "2  Female   20         Clothing         2   600.16    Credit Card  2022-11-30   \n",
       "3    Male   46  Food & Beverage         4    20.92     Debit Card  2021-11-23   \n",
       "4  Female   32  Food & Beverage         2    10.46    Credit Card  2021-02-19   \n",
       "\n",
       "    shopping_mall  \n",
       "0    Istinye Park  \n",
       "1    Zorlu Center  \n",
       "2  Viaport Outlet  \n",
       "3    Istinye Park  \n",
       "4       Metrocity  "
      ]
     },
     "execution_count": 19,
     "metadata": {},
     "output_type": "execute_result"
    }
   ],
   "source": [
    "dfc = pd.read_csv('/Users/raihannasir/Documents/DA_AI/project_shopping_mall/Dataset/Cleaned/shopping_data.csv')\n",
    "dfc.head()"
   ]
  },
  {
   "cell_type": "code",
   "execution_count": 20,
   "metadata": {},
   "outputs": [
    {
     "name": "stdout",
     "output_type": "stream",
     "text": [
      "<class 'pandas.core.frame.DataFrame'>\n",
      "RangeIndex: 10000 entries, 0 to 9999\n",
      "Data columns (total 8 columns):\n",
      " #   Column          Non-Null Count  Dtype  \n",
      "---  ------          --------------  -----  \n",
      " 0   gender          10000 non-null  object \n",
      " 1   age             10000 non-null  int64  \n",
      " 2   category        10000 non-null  object \n",
      " 3   quantity        10000 non-null  int64  \n",
      " 4   price           10000 non-null  float64\n",
      " 5   payment_method  10000 non-null  object \n",
      " 6   datetime        10000 non-null  object \n",
      " 7   shopping_mall   10000 non-null  object \n",
      "dtypes: float64(1), int64(2), object(5)\n",
      "memory usage: 625.1+ KB\n"
     ]
    }
   ],
   "source": [
    "dfc.info()"
   ]
  },
  {
   "cell_type": "markdown",
   "metadata": {},
   "source": [
    "### Convert to Datetime format"
   ]
  },
  {
   "cell_type": "code",
   "execution_count": 21,
   "metadata": {},
   "outputs": [],
   "source": [
    "dfc['datetime'] = pd.to_datetime(dfc['datetime'])"
   ]
  },
  {
   "cell_type": "markdown",
   "metadata": {},
   "source": [
    "### Year & Month columns are added to dataset"
   ]
  },
  {
   "cell_type": "code",
   "execution_count": 22,
   "metadata": {},
   "outputs": [],
   "source": [
    "dfc['year'] = dfc['datetime'].dt.year"
   ]
  },
  {
   "cell_type": "code",
   "execution_count": 23,
   "metadata": {},
   "outputs": [],
   "source": [
    "dfc['month'] = dfc['datetime'].dt.month_name()"
   ]
  },
  {
   "cell_type": "code",
   "execution_count": 122,
   "metadata": {},
   "outputs": [
    {
     "data": {
      "text/html": [
       "<div>\n",
       "<style scoped>\n",
       "    .dataframe tbody tr th:only-of-type {\n",
       "        vertical-align: middle;\n",
       "    }\n",
       "\n",
       "    .dataframe tbody tr th {\n",
       "        vertical-align: top;\n",
       "    }\n",
       "\n",
       "    .dataframe thead th {\n",
       "        text-align: right;\n",
       "    }\n",
       "</style>\n",
       "<table border=\"1\" class=\"dataframe\">\n",
       "  <thead>\n",
       "    <tr style=\"text-align: right;\">\n",
       "      <th></th>\n",
       "      <th>gender</th>\n",
       "      <th>age</th>\n",
       "      <th>category</th>\n",
       "      <th>quantity</th>\n",
       "      <th>price</th>\n",
       "      <th>payment_method</th>\n",
       "      <th>datetime</th>\n",
       "      <th>shopping_mall</th>\n",
       "      <th>year</th>\n",
       "      <th>month</th>\n",
       "    </tr>\n",
       "  </thead>\n",
       "  <tbody>\n",
       "    <tr>\n",
       "      <th>0</th>\n",
       "      <td>Male</td>\n",
       "      <td>42</td>\n",
       "      <td>Clothing</td>\n",
       "      <td>4</td>\n",
       "      <td>1200.32</td>\n",
       "      <td>Credit Card</td>\n",
       "      <td>2022-01-25</td>\n",
       "      <td>Istinye Park</td>\n",
       "      <td>2022</td>\n",
       "      <td>January</td>\n",
       "    </tr>\n",
       "    <tr>\n",
       "      <th>1</th>\n",
       "      <td>Female</td>\n",
       "      <td>56</td>\n",
       "      <td>Clothing</td>\n",
       "      <td>5</td>\n",
       "      <td>1500.40</td>\n",
       "      <td>Cash</td>\n",
       "      <td>2023-02-18</td>\n",
       "      <td>Zorlu Center</td>\n",
       "      <td>2023</td>\n",
       "      <td>February</td>\n",
       "    </tr>\n",
       "    <tr>\n",
       "      <th>2</th>\n",
       "      <td>Female</td>\n",
       "      <td>20</td>\n",
       "      <td>Clothing</td>\n",
       "      <td>2</td>\n",
       "      <td>600.16</td>\n",
       "      <td>Credit Card</td>\n",
       "      <td>2022-11-30</td>\n",
       "      <td>Viaport Outlet</td>\n",
       "      <td>2022</td>\n",
       "      <td>November</td>\n",
       "    </tr>\n",
       "    <tr>\n",
       "      <th>3</th>\n",
       "      <td>Male</td>\n",
       "      <td>46</td>\n",
       "      <td>Food &amp; Beverage</td>\n",
       "      <td>4</td>\n",
       "      <td>20.92</td>\n",
       "      <td>Debit Card</td>\n",
       "      <td>2021-11-23</td>\n",
       "      <td>Istinye Park</td>\n",
       "      <td>2021</td>\n",
       "      <td>November</td>\n",
       "    </tr>\n",
       "    <tr>\n",
       "      <th>4</th>\n",
       "      <td>Female</td>\n",
       "      <td>32</td>\n",
       "      <td>Food &amp; Beverage</td>\n",
       "      <td>2</td>\n",
       "      <td>10.46</td>\n",
       "      <td>Credit Card</td>\n",
       "      <td>2021-02-19</td>\n",
       "      <td>Metrocity</td>\n",
       "      <td>2021</td>\n",
       "      <td>February</td>\n",
       "    </tr>\n",
       "  </tbody>\n",
       "</table>\n",
       "</div>"
      ],
      "text/plain": [
       "   gender  age         category  quantity    price payment_method   datetime  \\\n",
       "0    Male   42         Clothing         4  1200.32    Credit Card 2022-01-25   \n",
       "1  Female   56         Clothing         5  1500.40           Cash 2023-02-18   \n",
       "2  Female   20         Clothing         2   600.16    Credit Card 2022-11-30   \n",
       "3    Male   46  Food & Beverage         4    20.92     Debit Card 2021-11-23   \n",
       "4  Female   32  Food & Beverage         2    10.46    Credit Card 2021-02-19   \n",
       "\n",
       "    shopping_mall  year     month  \n",
       "0    Istinye Park  2022   January  \n",
       "1    Zorlu Center  2023  February  \n",
       "2  Viaport Outlet  2022  November  \n",
       "3    Istinye Park  2021  November  \n",
       "4       Metrocity  2021  February  "
      ]
     },
     "execution_count": 122,
     "metadata": {},
     "output_type": "execute_result"
    }
   ],
   "source": [
    "dfc.to_csv('/Users/raihannasir/Documents/DA_AI/project_shopping_mall/Dataset/Cleaned/shopping_data.csv', index=False)\n",
    "dfc.head()"
   ]
  },
  {
   "cell_type": "markdown",
   "metadata": {},
   "source": [
    "### Number of each category and type of payments being used mostly in each mall"
   ]
  },
  {
   "cell_type": "code",
   "execution_count": 25,
   "metadata": {},
   "outputs": [
    {
     "data": {
      "image/png": "[encoded data removed]",
      "text/plain": [
       "<Figure size 1700x600 with 2 Axes>"
      ]
     },
     "metadata": {},
     "output_type": "display_data"
    }
   ],
   "source": [
    "fig, axes = plt.subplots(nrows=2, ncols=1, figsize=(17,6))\n",
    "sns.countplot(data=dfc, x=\"shopping_mall\", hue='quantity', ax=axes[0]),\n",
    "sns.countplot(data=dfc, x=\"shopping_mall\", hue='payment_method', ax=axes[1])\n",
    "\n",
    "plt.show()"
   ]
  },
  {
   "cell_type": "markdown",
   "metadata": {},
   "source": [
    "### Total quantity of sales per category across all shopping mall over 3 years"
   ]
  },
  {
   "cell_type": "code",
   "execution_count": 26,
   "metadata": {},
   "outputs": [
    {
     "data": {
      "text/html": [
       "<div>\n",
       "<style scoped>\n",
       "    .dataframe tbody tr th:only-of-type {\n",
       "        vertical-align: middle;\n",
       "    }\n",
       "\n",
       "    .dataframe tbody tr th {\n",
       "        vertical-align: top;\n",
       "    }\n",
       "\n",
       "    .dataframe thead th {\n",
       "        text-align: right;\n",
       "    }\n",
       "</style>\n",
       "<table border=\"1\" class=\"dataframe\">\n",
       "  <thead>\n",
       "    <tr style=\"text-align: right;\">\n",
       "      <th></th>\n",
       "      <th>category</th>\n",
       "      <th>quantity</th>\n",
       "    </tr>\n",
       "  </thead>\n",
       "  <tbody>\n",
       "    <tr>\n",
       "      <th>0</th>\n",
       "      <td>Books</td>\n",
       "      <td>1506</td>\n",
       "    </tr>\n",
       "    <tr>\n",
       "      <th>1</th>\n",
       "      <td>Clothing</td>\n",
       "      <td>10320</td>\n",
       "    </tr>\n",
       "    <tr>\n",
       "      <th>2</th>\n",
       "      <td>Cosmetics</td>\n",
       "      <td>4444</td>\n",
       "    </tr>\n",
       "    <tr>\n",
       "      <th>3</th>\n",
       "      <td>Food &amp; Beverage</td>\n",
       "      <td>4422</td>\n",
       "    </tr>\n",
       "    <tr>\n",
       "      <th>4</th>\n",
       "      <td>Shoes</td>\n",
       "      <td>3118</td>\n",
       "    </tr>\n",
       "    <tr>\n",
       "      <th>5</th>\n",
       "      <td>Souvenir</td>\n",
       "      <td>1589</td>\n",
       "    </tr>\n",
       "    <tr>\n",
       "      <th>6</th>\n",
       "      <td>Technology</td>\n",
       "      <td>1445</td>\n",
       "    </tr>\n",
       "    <tr>\n",
       "      <th>7</th>\n",
       "      <td>Toys</td>\n",
       "      <td>3050</td>\n",
       "    </tr>\n",
       "  </tbody>\n",
       "</table>\n",
       "</div>"
      ],
      "text/plain": [
       "          category  quantity\n",
       "0            Books      1506\n",
       "1         Clothing     10320\n",
       "2        Cosmetics      4444\n",
       "3  Food & Beverage      4422\n",
       "4            Shoes      3118\n",
       "5         Souvenir      1589\n",
       "6       Technology      1445\n",
       "7             Toys      3050"
      ]
     },
     "execution_count": 26,
     "metadata": {},
     "output_type": "execute_result"
    }
   ],
   "source": [
    "total_sales_per_cat = pd.DataFrame(dfc.groupby(['category'])['quantity'].sum().reset_index())\n",
    "total_sales_per_cat"
   ]
  },
  {
   "cell_type": "code",
   "execution_count": 27,
   "metadata": {},
   "outputs": [
    {
     "data": {
      "image/png": "[encoded data removed]",
      "text/plain": [
       "<Figure size 1000x500 with 1 Axes>"
      ]
     },
     "metadata": {},
     "output_type": "display_data"
    }
   ],
   "source": [
    "plt.figure(figsize=(10,5))\n",
    "plt.bar(x=total_sales_per_cat['category'], height=total_sales_per_cat['quantity'])\n",
    "plt.show()"
   ]
  },
  {
   "cell_type": "markdown",
   "metadata": {},
   "source": [
    "### Total expenditure per category across all shopping mall over 3 years"
   ]
  },
  {
   "cell_type": "code",
   "execution_count": 28,
   "metadata": {},
   "outputs": [
    {
     "data": {
      "text/html": [
       "<div>\n",
       "<style scoped>\n",
       "    .dataframe tbody tr th:only-of-type {\n",
       "        vertical-align: middle;\n",
       "    }\n",
       "\n",
       "    .dataframe tbody tr th {\n",
       "        vertical-align: top;\n",
       "    }\n",
       "\n",
       "    .dataframe thead th {\n",
       "        text-align: right;\n",
       "    }\n",
       "</style>\n",
       "<table border=\"1\" class=\"dataframe\">\n",
       "  <thead>\n",
       "    <tr style=\"text-align: right;\">\n",
       "      <th></th>\n",
       "      <th>category</th>\n",
       "      <th>price</th>\n",
       "    </tr>\n",
       "  </thead>\n",
       "  <tbody>\n",
       "    <tr>\n",
       "      <th>0</th>\n",
       "      <td>Books</td>\n",
       "      <td>22815.90</td>\n",
       "    </tr>\n",
       "    <tr>\n",
       "      <th>1</th>\n",
       "      <td>Clothing</td>\n",
       "      <td>3096825.60</td>\n",
       "    </tr>\n",
       "    <tr>\n",
       "      <th>2</th>\n",
       "      <td>Cosmetics</td>\n",
       "      <td>180693.04</td>\n",
       "    </tr>\n",
       "    <tr>\n",
       "      <th>3</th>\n",
       "      <td>Food &amp; Beverage</td>\n",
       "      <td>23319.90</td>\n",
       "    </tr>\n",
       "    <tr>\n",
       "      <th>4</th>\n",
       "      <td>Shoes</td>\n",
       "      <td>1871330.06</td>\n",
       "    </tr>\n",
       "    <tr>\n",
       "      <th>5</th>\n",
       "      <td>Souvenir</td>\n",
       "      <td>18638.97</td>\n",
       "    </tr>\n",
       "    <tr>\n",
       "      <th>6</th>\n",
       "      <td>Technology</td>\n",
       "      <td>1517250.00</td>\n",
       "    </tr>\n",
       "    <tr>\n",
       "      <th>7</th>\n",
       "      <td>Toys</td>\n",
       "      <td>109312.00</td>\n",
       "    </tr>\n",
       "  </tbody>\n",
       "</table>\n",
       "</div>"
      ],
      "text/plain": [
       "          category       price\n",
       "0            Books    22815.90\n",
       "1         Clothing  3096825.60\n",
       "2        Cosmetics   180693.04\n",
       "3  Food & Beverage    23319.90\n",
       "4            Shoes  1871330.06\n",
       "5         Souvenir    18638.97\n",
       "6       Technology  1517250.00\n",
       "7             Toys   109312.00"
      ]
     },
     "execution_count": 28,
     "metadata": {},
     "output_type": "execute_result"
    }
   ],
   "source": [
    "total_spend_on_cat = pd.DataFrame(dfc.groupby(['category'])['price'].sum().reset_index())\n",
    "total_spend_on_cat"
   ]
  },
  {
   "cell_type": "code",
   "execution_count": 29,
   "metadata": {},
   "outputs": [
    {
     "data": {
      "image/png": "[encoded data removed]",
      "text/plain": [
       "<Figure size 1000x500 with 1 Axes>"
      ]
     },
     "metadata": {},
     "output_type": "display_data"
    }
   ],
   "source": [
    "plt.figure(figsize=(10,5))\n",
    "plt.barh(y=total_spend_on_cat['category'], width=total_spend_on_cat['price'], color='green')\n",
    "plt.show()"
   ]
  },
  {
   "cell_type": "markdown",
   "metadata": {},
   "source": [
    "### Merged total expenditure dataframe with total quantity dataframe"
   ]
  },
  {
   "cell_type": "code",
   "execution_count": 30,
   "metadata": {},
   "outputs": [
    {
     "data": {
      "text/html": [
       "<div>\n",
       "<style scoped>\n",
       "    .dataframe tbody tr th:only-of-type {\n",
       "        vertical-align: middle;\n",
       "    }\n",
       "\n",
       "    .dataframe tbody tr th {\n",
       "        vertical-align: top;\n",
       "    }\n",
       "\n",
       "    .dataframe thead th {\n",
       "        text-align: right;\n",
       "    }\n",
       "</style>\n",
       "<table border=\"1\" class=\"dataframe\">\n",
       "  <thead>\n",
       "    <tr style=\"text-align: right;\">\n",
       "      <th></th>\n",
       "      <th>category</th>\n",
       "      <th>quantity</th>\n",
       "      <th>price</th>\n",
       "    </tr>\n",
       "  </thead>\n",
       "  <tbody>\n",
       "    <tr>\n",
       "      <th>0</th>\n",
       "      <td>Books</td>\n",
       "      <td>1506</td>\n",
       "      <td>22815.90</td>\n",
       "    </tr>\n",
       "    <tr>\n",
       "      <th>1</th>\n",
       "      <td>Clothing</td>\n",
       "      <td>10320</td>\n",
       "      <td>3096825.60</td>\n",
       "    </tr>\n",
       "    <tr>\n",
       "      <th>2</th>\n",
       "      <td>Cosmetics</td>\n",
       "      <td>4444</td>\n",
       "      <td>180693.04</td>\n",
       "    </tr>\n",
       "    <tr>\n",
       "      <th>3</th>\n",
       "      <td>Food &amp; Beverage</td>\n",
       "      <td>4422</td>\n",
       "      <td>23319.90</td>\n",
       "    </tr>\n",
       "    <tr>\n",
       "      <th>4</th>\n",
       "      <td>Shoes</td>\n",
       "      <td>3118</td>\n",
       "      <td>1871330.06</td>\n",
       "    </tr>\n",
       "    <tr>\n",
       "      <th>5</th>\n",
       "      <td>Souvenir</td>\n",
       "      <td>1589</td>\n",
       "      <td>18638.97</td>\n",
       "    </tr>\n",
       "    <tr>\n",
       "      <th>6</th>\n",
       "      <td>Technology</td>\n",
       "      <td>1445</td>\n",
       "      <td>1517250.00</td>\n",
       "    </tr>\n",
       "    <tr>\n",
       "      <th>7</th>\n",
       "      <td>Toys</td>\n",
       "      <td>3050</td>\n",
       "      <td>109312.00</td>\n",
       "    </tr>\n",
       "  </tbody>\n",
       "</table>\n",
       "</div>"
      ],
      "text/plain": [
       "          category  quantity       price\n",
       "0            Books      1506    22815.90\n",
       "1         Clothing     10320  3096825.60\n",
       "2        Cosmetics      4444   180693.04\n",
       "3  Food & Beverage      4422    23319.90\n",
       "4            Shoes      3118  1871330.06\n",
       "5         Souvenir      1589    18638.97\n",
       "6       Technology      1445  1517250.00\n",
       "7             Toys      3050   109312.00"
      ]
     },
     "execution_count": 30,
     "metadata": {},
     "output_type": "execute_result"
    }
   ],
   "source": [
    "total_spend_per_qcat = pd.merge(total_sales_per_cat, total_spend_on_cat, on='category')\n",
    "total_spend_per_qcat"
   ]
  },
  {
   "cell_type": "code",
   "execution_count": null,
   "metadata": {},
   "outputs": [
    {
     "data": {
      "application/vnd.plotly.v1+json": {
       "config": {
        "plotlyServerURL": "https://plot.ly"
       },
       "data": [
        {
         "customdata": [
          [
           22815.9
          ]
         ],
         "hovertemplate": "category=%{x}<br>quantity=%{marker.size}<br>price=%{customdata[0]}<extra></extra>",
         "legendgroup": "Books",
         "marker": {
          "color": "#636efa",
          "size": [
           1506
          ],
          "sizemode": "area",
          "sizeref": 3.4115702479338843,
          "symbol": "circle"
         },
         "mode": "markers",
         "name": "Books",
         "orientation": "v",
         "showlegend": true,
         "type": "scatter",
         "x": [
          "Books"
         ],
         "xaxis": "x",
         "y": [
          1506
         ],
         "yaxis": "y"
        },
        {
         "customdata": [
          [
           3096825.6
          ]
         ],
         "hovertemplate": "category=%{x}<br>quantity=%{marker.size}<br>price=%{customdata[0]}<extra></extra>",
         "legendgroup": "Clothing",
         "marker": {
          "color": "#EF553B",
          "size": [
           10320
          ],
          "sizemode": "area",
          "sizeref": 3.4115702479338843,
          "symbol": "circle"
         },
         "mode": "markers",
         "name": "Clothing",
         "orientation": "v",
         "showlegend": true,
         "type": "scatter",
         "x": [
          "Clothing"
         ],
         "xaxis": "x",
         "y": [
          10320
         ],
         "yaxis": "y"
        },
        {
         "customdata": [
          [
           180693.04
          ]
         ],
         "hovertemplate": "category=%{x}<br>quantity=%{marker.size}<br>price=%{customdata[0]}<extra></extra>",
         "legendgroup": "Cosmetics",
         "marker": {
          "color": "#00cc96",
          "size": [
           4444
          ],
          "sizemode": "area",
          "sizeref": 3.4115702479338843,
          "symbol": "circle"
         },
         "mode": "markers",
         "name": "Cosmetics",
         "orientation": "v",
         "showlegend": true,
         "type": "scatter",
         "x": [
          "Cosmetics"
         ],
         "xaxis": "x",
         "y": [
          4444
         ],
         "yaxis": "y"
        },
        {
         "customdata": [
          [
           23319.9
          ]
         ],
         "hovertemplate": "category=%{x}<br>quantity=%{marker.size}<br>price=%{customdata[0]}<extra></extra>",
         "legendgroup": "Food & Beverage",
         "marker": {
          "color": "#ab63fa",
          "size": [
           4422
          ],
          "sizemode": "area",
          "sizeref": 3.4115702479338843,
          "symbol": "circle"
         },
         "mode": "markers",
         "name": "Food & Beverage",
         "orientation": "v",
         "showlegend": true,
         "type": "scatter",
         "x": [
          "Food & Beverage"
         ],
         "xaxis": "x",
         "y": [
          4422
         ],
         "yaxis": "y"
        },
        {
         "customdata": [
          [
           1871330.0599999998
          ]
         ],
         "hovertemplate": "category=%{x}<br>quantity=%{marker.size}<br>price=%{customdata[0]}<extra></extra>",
         "legendgroup": "Shoes",
         "marker": {
          "color": "#FFA15A",
          "size": [
           3118
          ],
          "sizemode": "area",
          "sizeref": 3.4115702479338843,
          "symbol": "circle"
         },
         "mode": "markers",
         "name": "Shoes",
         "orientation": "v",
         "showlegend": true,
         "type": "scatter",
         "x": [
          "Shoes"
         ],
         "xaxis": "x",
         "y": [
          3118
         ],
         "yaxis": "y"
        },
        {
         "customdata": [
          [
           18638.97
          ]
         ],
         "hovertemplate": "category=%{x}<br>quantity=%{marker.size}<br>price=%{customdata[0]}<extra></extra>",
         "legendgroup": "Souvenir",
         "marker": {
          "color": "#19d3f3",
          "size": [
           1589
          ],
          "sizemode": "area",
          "sizeref": 3.4115702479338843,
          "symbol": "circle"
         },
         "mode": "markers",
         "name": "Souvenir",
         "orientation": "v",
         "showlegend": true,
         "type": "scatter",
         "x": [
          "Souvenir"
         ],
         "xaxis": "x",
         "y": [
          1589
         ],
         "yaxis": "y"
        },
        {
         "customdata": [
          [
           1517250
          ]
         ],
         "hovertemplate": "category=%{x}<br>quantity=%{marker.size}<br>price=%{customdata[0]}<extra></extra>",
         "legendgroup": "Technology",
         "marker": {
          "color": "#FF6692",
          "size": [
           1445
          ],
          "sizemode": "area",
          "sizeref": 3.4115702479338843,
          "symbol": "circle"
         },
         "mode": "markers",
         "name": "Technology",
         "orientation": "v",
         "showlegend": true,
         "type": "scatter",
         "x": [
          "Technology"
         ],
         "xaxis": "x",
         "y": [
          1445
         ],
         "yaxis": "y"
        },
        {
         "customdata": [
          [
           109312
          ]
         ],
         "hovertemplate": "category=%{x}<br>quantity=%{marker.size}<br>price=%{customdata[0]}<extra></extra>",
         "legendgroup": "Toys",
         "marker": {
          "color": "#B6E880",
          "size": [
           3050
          ],
          "sizemode": "area",
          "sizeref": 3.4115702479338843,
          "symbol": "circle"
         },
         "mode": "markers",
         "name": "Toys",
         "orientation": "v",
         "showlegend": true,
         "type": "scatter",
         "x": [
          "Toys"
         ],
         "xaxis": "x",
         "y": [
          3050
         ],
         "yaxis": "y"
        }
       ],
       "layout": {
        "legend": {
         "itemsizing": "constant",
         "title": {
          "text": "category"
         },
         "tracegroupgap": 0
        },
        "margin": {
         "t": 60
        },
        "template": {
         "data": {
          "bar": [
           {
            "error_x": {
             "color": "#2a3f5f"
            },
            "error_y": {
             "color": "#2a3f5f"
            },
            "marker": {
             "line": {
              "color": "#E5ECF6",
              "width": 0.5
             },
             "pattern": {
              "fillmode": "overlay",
              "size": 10,
              "solidity": 0.2
             }
            },
            "type": "bar"
           }
          ],
          "barpolar": [
           {
            "marker": {
             "line": {
              "color": "#E5ECF6",
              "width": 0.5
             },
             "pattern": {
              "fillmode": "overlay",
              "size": 10,
              "solidity": 0.2
             }
            },
            "type": "barpolar"
           }
          ],
          "carpet": [
           {
            "aaxis": {
             "endlinecolor": "#2a3f5f",
             "gridcolor": "white",
             "linecolor": "white",
             "minorgridcolor": "white",
             "startlinecolor": "#2a3f5f"
            },
            "baxis": {
             "endlinecolor": "#2a3f5f",
             "gridcolor": "white",
             "linecolor": "white",
             "minorgridcolor": "white",
             "startlinecolor": "#2a3f5f"
            },
            "type": "carpet"
           }
          ],
          "choropleth": [
           {
            "colorbar": {
             "outlinewidth": 0,
             "ticks": ""
            },
            "type": "choropleth"
           }
          ],
          "contour": [
           {
            "colorbar": {
             "outlinewidth": 0,
             "ticks": ""
            },
            "colorscale": [
             [
              0,
              "#0d0887"
             ],
             [
              0.1111111111111111,
              "#46039f"
             ],
             [
              0.2222222222222222,
              "#7201a8"
             ],
             [
              0.3333333333333333,
              "#9c179e"
             ],
             [
              0.4444444444444444,
              "#bd3786"
             ],
             [
              0.5555555555555556,
              "#d8576b"
             ],
             [
              0.6666666666666666,
              "#ed7953"
             ],
             [
              0.7777777777777778,
              "#fb9f3a"
             ],
             [
              0.8888888888888888,
              "#fdca26"
             ],
             [
              1,
              "#f0f921"
             ]
            ],
            "type": "contour"
           }
          ],
          "contourcarpet": [
           {
            "colorbar": {
             "outlinewidth": 0,
             "ticks": ""
            },
            "type": "contourcarpet"
           }
          ],
          "heatmap": [
           {
            "colorbar": {
             "outlinewidth": 0,
             "ticks": ""
            },
            "colorscale": [
             [
              0,
              "#0d0887"
             ],
             [
              0.1111111111111111,
              "#46039f"
             ],
             [
              0.2222222222222222,
              "#7201a8"
             ],
             [
              0.3333333333333333,
              "#9c179e"
             ],
             [
              0.4444444444444444,
              "#bd3786"
             ],
             [
              0.5555555555555556,
              "#d8576b"
             ],
             [
              0.6666666666666666,
              "#ed7953"
             ],
             [
              0.7777777777777778,
              "#fb9f3a"
             ],
             [
              0.8888888888888888,
              "#fdca26"
             ],
             [
              1,
              "#f0f921"
             ]
            ],
            "type": "heatmap"
           }
          ],
          "heatmapgl": [
           {
            "colorbar": {
             "outlinewidth": 0,
             "ticks": ""
            },
            "colorscale": [
             [
              0,
              "#0d0887"
             ],
             [
              0.1111111111111111,
              "#46039f"
             ],
             [
              0.2222222222222222,
              "#7201a8"
             ],
             [
              0.3333333333333333,
              "#9c179e"
             ],
             [
              0.4444444444444444,
              "#bd3786"
             ],
             [
              0.5555555555555556,
              "#d8576b"
             ],
             [
              0.6666666666666666,
              "#ed7953"
             ],
             [
              0.7777777777777778,
              "#fb9f3a"
             ],
             [
              0.8888888888888888,
              "#fdca26"
             ],
             [
              1,
              "#f0f921"
             ]
            ],
            "type": "heatmapgl"
           }
          ],
          "histogram": [
           {
            "marker": {
             "pattern": {
              "fillmode": "overlay",
              "size": 10,
              "solidity": 0.2
             }
            },
            "type": "histogram"
           }
          ],
          "histogram2d": [
           {
            "colorbar": {
             "outlinewidth": 0,
             "ticks": ""
            },
            "colorscale": [
             [
              0,
              "#0d0887"
             ],
             [
              0.1111111111111111,
              "#46039f"
             ],
             [
              0.2222222222222222,
              "#7201a8"
             ],
             [
              0.3333333333333333,
              "#9c179e"
             ],
             [
              0.4444444444444444,
              "#bd3786"
             ],
             [
              0.5555555555555556,
              "#d8576b"
             ],
             [
              0.6666666666666666,
              "#ed7953"
             ],
             [
              0.7777777777777778,
              "#fb9f3a"
             ],
             [
              0.8888888888888888,
              "#fdca26"
             ],
             [
              1,
              "#f0f921"
             ]
            ],
            "type": "histogram2d"
           }
          ],
          "histogram2dcontour": [
           {
            "colorbar": {
             "outlinewidth": 0,
             "ticks": ""
            },
            "colorscale": [
             [
              0,
              "#0d0887"
             ],
             [
              0.1111111111111111,
              "#46039f"
             ],
             [
              0.2222222222222222,
              "#7201a8"
             ],
             [
              0.3333333333333333,
              "#9c179e"
             ],
             [
              0.4444444444444444,
              "#bd3786"
             ],
             [
              0.5555555555555556,
              "#d8576b"
             ],
             [
              0.6666666666666666,
              "#ed7953"
             ],
             [
              0.7777777777777778,
              "#fb9f3a"
             ],
             [
              0.8888888888888888,
              "#fdca26"
             ],
             [
              1,
              "#f0f921"
             ]
            ],
            "type": "histogram2dcontour"
           }
          ],
          "mesh3d": [
           {
            "colorbar": {
             "outlinewidth": 0,
             "ticks": ""
            },
            "type": "mesh3d"
           }
          ],
          "parcoords": [
           {
            "line": {
             "colorbar": {
              "outlinewidth": 0,
              "ticks": ""
             }
            },
            "type": "parcoords"
           }
          ],
          "pie": [
           {
            "automargin": true,
            "type": "pie"
           }
          ],
          "scatter": [
           {
            "fillpattern": {
             "fillmode": "overlay",
             "size": 10,
             "solidity": 0.2
            },
            "type": "scatter"
           }
          ],
          "scatter3d": [
           {
            "line": {
             "colorbar": {
              "outlinewidth": 0,
              "ticks": ""
             }
            },
            "marker": {
             "colorbar": {
              "outlinewidth": 0,
              "ticks": ""
             }
            },
            "type": "scatter3d"
           }
          ],
          "scattercarpet": [
           {
            "marker": {
             "colorbar": {
              "outlinewidth": 0,
              "ticks": ""
             }
            },
            "type": "scattercarpet"
           }
          ],
          "scattergeo": [
           {
            "marker": {
             "colorbar": {
              "outlinewidth": 0,
              "ticks": ""
             }
            },
            "type": "scattergeo"
           }
          ],
          "scattergl": [
           {
            "marker": {
             "colorbar": {
              "outlinewidth": 0,
              "ticks": ""
             }
            },
            "type": "scattergl"
           }
          ],
          "scattermapbox": [
           {
            "marker": {
             "colorbar": {
              "outlinewidth": 0,
              "ticks": ""
             }
            },
            "type": "scattermapbox"
           }
          ],
          "scatterpolar": [
           {
            "marker": {
             "colorbar": {
              "outlinewidth": 0,
              "ticks": ""
             }
            },
            "type": "scatterpolar"
           }
          ],
          "scatterpolargl": [
           {
            "marker": {
             "colorbar": {
              "outlinewidth": 0,
              "ticks": ""
             }
            },
            "type": "scatterpolargl"
           }
          ],
          "scatterternary": [
           {
            "marker": {
             "colorbar": {
              "outlinewidth": 0,
              "ticks": ""
             }
            },
            "type": "scatterternary"
           }
          ],
          "surface": [
           {
            "colorbar": {
             "outlinewidth": 0,
             "ticks": ""
            },
            "colorscale": [
             [
              0,
              "#0d0887"
             ],
             [
              0.1111111111111111,
              "#46039f"
             ],
             [
              0.2222222222222222,
              "#7201a8"
             ],
             [
              0.3333333333333333,
              "#9c179e"
             ],
             [
              0.4444444444444444,
              "#bd3786"
             ],
             [
              0.5555555555555556,
              "#d8576b"
             ],
             [
              0.6666666666666666,
              "#ed7953"
             ],
             [
              0.7777777777777778,
              "#fb9f3a"
             ],
             [
              0.8888888888888888,
              "#fdca26"
             ],
             [
              1,
              "#f0f921"
             ]
            ],
            "type": "surface"
           }
          ],
          "table": [
           {
            "cells": {
             "fill": {
              "color": "#EBF0F8"
             },
             "line": {
              "color": "white"
             }
            },
            "header": {
             "fill": {
              "color": "#C8D4E3"
             },
             "line": {
              "color": "white"
             }
            },
            "type": "table"
           }
          ]
         },
         "layout": {
          "annotationdefaults": {
           "arrowcolor": "#2a3f5f",
           "arrowhead": 0,
           "arrowwidth": 1
          },
          "autotypenumbers": "strict",
          "coloraxis": {
           "colorbar": {
            "outlinewidth": 0,
            "ticks": ""
           }
          },
          "colorscale": {
           "diverging": [
            [
             0,
             "#8e0152"
            ],
            [
             0.1,
             "#c51b7d"
            ],
            [
             0.2,
             "#de77ae"
            ],
            [
             0.3,
             "#f1b6da"
            ],
            [
             0.4,
             "#fde0ef"
            ],
            [
             0.5,
             "#f7f7f7"
            ],
            [
             0.6,
             "#e6f5d0"
            ],
            [
             0.7,
             "#b8e186"
            ],
            [
             0.8,
             "#7fbc41"
            ],
            [
             0.9,
             "#4d9221"
            ],
            [
             1,
             "#276419"
            ]
           ],
           "sequential": [
            [
             0,
             "#0d0887"
            ],
            [
             0.1111111111111111,
             "#46039f"
            ],
            [
             0.2222222222222222,
             "#7201a8"
            ],
            [
             0.3333333333333333,
             "#9c179e"
            ],
            [
             0.4444444444444444,
             "#bd3786"
            ],
            [
             0.5555555555555556,
             "#d8576b"
            ],
            [
             0.6666666666666666,
             "#ed7953"
            ],
            [
             0.7777777777777778,
             "#fb9f3a"
            ],
            [
             0.8888888888888888,
             "#fdca26"
            ],
            [
             1,
             "#f0f921"
            ]
           ],
           "sequentialminus": [
            [
             0,
             "#0d0887"
            ],
            [
             0.1111111111111111,
             "#46039f"
            ],
            [
             0.2222222222222222,
             "#7201a8"
            ],
            [
             0.3333333333333333,
             "#9c179e"
            ],
            [
             0.4444444444444444,
             "#bd3786"
            ],
            [
             0.5555555555555556,
             "#d8576b"
            ],
            [
             0.6666666666666666,
             "#ed7953"
            ],
            [
             0.7777777777777778,
             "#fb9f3a"
            ],
            [
             0.8888888888888888,
             "#fdca26"
            ],
            [
             1,
             "#f0f921"
            ]
           ]
          },
          "colorway": [
           "#636efa",
           "#EF553B",
           "#00cc96",
           "#ab63fa",
           "#FFA15A",
           "#19d3f3",
           "#FF6692",
           "#B6E880",
           "#FF97FF",
           "#FECB52"
          ],
          "font": {
           "color": "#2a3f5f"
          },
          "geo": {
           "bgcolor": "white",
           "lakecolor": "white",
           "landcolor": "#E5ECF6",
           "showlakes": true,
           "showland": true,
           "subunitcolor": "white"
          },
          "hoverlabel": {
           "align": "left"
          },
          "hovermode": "closest",
          "mapbox": {
           "style": "light"
          },
          "paper_bgcolor": "white",
          "plot_bgcolor": "#E5ECF6",
          "polar": {
           "angularaxis": {
            "gridcolor": "white",
            "linecolor": "white",
            "ticks": ""
           },
           "bgcolor": "#E5ECF6",
           "radialaxis": {
            "gridcolor": "white",
            "linecolor": "white",
            "ticks": ""
           }
          },
          "scene": {
           "xaxis": {
            "backgroundcolor": "#E5ECF6",
            "gridcolor": "white",
            "gridwidth": 2,
            "linecolor": "white",
            "showbackground": true,
            "ticks": "",
            "zerolinecolor": "white"
           },
           "yaxis": {
            "backgroundcolor": "#E5ECF6",
            "gridcolor": "white",
            "gridwidth": 2,
            "linecolor": "white",
            "showbackground": true,
            "ticks": "",
            "zerolinecolor": "white"
           },
           "zaxis": {
            "backgroundcolor": "#E5ECF6",
            "gridcolor": "white",
            "gridwidth": 2,
            "linecolor": "white",
            "showbackground": true,
            "ticks": "",
            "zerolinecolor": "white"
           }
          },
          "shapedefaults": {
           "line": {
            "color": "#2a3f5f"
           }
          },
          "ternary": {
           "aaxis": {
            "gridcolor": "white",
            "linecolor": "white",
            "ticks": ""
           },
           "baxis": {
            "gridcolor": "white",
            "linecolor": "white",
            "ticks": ""
           },
           "bgcolor": "#E5ECF6",
           "caxis": {
            "gridcolor": "white",
            "linecolor": "white",
            "ticks": ""
           }
          },
          "title": {
           "x": 0.05
          },
          "xaxis": {
           "automargin": true,
           "gridcolor": "white",
           "linecolor": "white",
           "ticks": "",
           "title": {
            "standoff": 15
           },
           "zerolinecolor": "white",
           "zerolinewidth": 2
          },
          "yaxis": {
           "automargin": true,
           "gridcolor": "white",
           "linecolor": "white",
           "ticks": "",
           "title": {
            "standoff": 15
           },
           "zerolinecolor": "white",
           "zerolinewidth": 2
          }
         }
        },
        "xaxis": {
         "anchor": "y",
         "categoryarray": [
          "Books",
          "Clothing",
          "Cosmetics",
          "Food & Beverage",
          "Shoes",
          "Souvenir",
          "Technology",
          "Toys"
         ],
         "categoryorder": "array",
         "domain": [
          0,
          1
         ],
         "title": {
          "text": "category"
         }
        },
        "yaxis": {
         "anchor": "x",
         "domain": [
          0,
          1
         ],
         "title": {
          "text": "quantity"
         }
        }
       }
      }
     },
     "metadata": {},
     "output_type": "display_data"
    }
   ],
   "source": [
    "# Based on Qunatity\n",
    "\n",
    "fig = px.scatter(total_spend_per_qcat, x=\"category\", y=\"quantity\",\n",
    "                 size=\"quantity\",size_max=55,\n",
    "                 color=\"category\", hover_data='price'        \n",
    "            )\n",
    "fig.show()"
   ]
  },
  {
   "cell_type": "code",
   "execution_count": 124,
   "metadata": {},
   "outputs": [
    {
     "data": {
      "application/vnd.plotly.v1+json": {
       "config": {
        "plotlyServerURL": "https://plot.ly"
       },
       "data": [
        {
         "customdata": [
          [
           22815.9
          ]
         ],
         "hovertemplate": "category=%{x}<br>quantity=%{y}<br>price=%{customdata[0]}<extra></extra>",
         "legendgroup": "Books",
         "marker": {
          "color": "#636efa",
          "size": [
           22815.9
          ],
          "sizemode": "area",
          "sizeref": 1023.744,
          "symbol": "circle"
         },
         "mode": "markers",
         "name": "Books",
         "orientation": "v",
         "showlegend": true,
         "type": "scatter",
         "x": [
          "Books"
         ],
         "xaxis": "x",
         "y": [
          1506
         ],
         "yaxis": "y"
        },
        {
         "customdata": [
          [
           3096825.6
          ]
         ],
         "hovertemplate": "category=%{x}<br>quantity=%{y}<br>price=%{customdata[0]}<extra></extra>",
         "legendgroup": "Clothing",
         "marker": {
          "color": "#EF553B",
          "size": [
           3096825.6
          ],
          "sizemode": "area",
          "sizeref": 1023.744,
          "symbol": "circle"
         },
         "mode": "markers",
         "name": "Clothing",
         "orientation": "v",
         "showlegend": true,
         "type": "scatter",
         "x": [
          "Clothing"
         ],
         "xaxis": "x",
         "y": [
          10320
         ],
         "yaxis": "y"
        },
        {
         "customdata": [
          [
           180693.04
          ]
         ],
         "hovertemplate": "category=%{x}<br>quantity=%{y}<br>price=%{customdata[0]}<extra></extra>",
         "legendgroup": "Cosmetics",
         "marker": {
          "color": "#00cc96",
          "size": [
           180693.04
          ],
          "sizemode": "area",
          "sizeref": 1023.744,
          "symbol": "circle"
         },
         "mode": "markers",
         "name": "Cosmetics",
         "orientation": "v",
         "showlegend": true,
         "type": "scatter",
         "x": [
          "Cosmetics"
         ],
         "xaxis": "x",
         "y": [
          4444
         ],
         "yaxis": "y"
        },
        {
         "customdata": [
          [
           23319.9
          ]
         ],
         "hovertemplate": "category=%{x}<br>quantity=%{y}<br>price=%{customdata[0]}<extra></extra>",
         "legendgroup": "Food & Beverage",
         "marker": {
          "color": "#ab63fa",
          "size": [
           23319.9
          ],
          "sizemode": "area",
          "sizeref": 1023.744,
          "symbol": "circle"
         },
         "mode": "markers",
         "name": "Food & Beverage",
         "orientation": "v",
         "showlegend": true,
         "type": "scatter",
         "x": [
          "Food & Beverage"
         ],
         "xaxis": "x",
         "y": [
          4422
         ],
         "yaxis": "y"
        },
        {
         "customdata": [
          [
           1871330.0599999998
          ]
         ],
         "hovertemplate": "category=%{x}<br>quantity=%{y}<br>price=%{customdata[0]}<extra></extra>",
         "legendgroup": "Shoes",
         "marker": {
          "color": "#FFA15A",
          "size": [
           1871330.0599999998
          ],
          "sizemode": "area",
          "sizeref": 1023.744,
          "symbol": "circle"
         },
         "mode": "markers",
         "name": "Shoes",
         "orientation": "v",
         "showlegend": true,
         "type": "scatter",
         "x": [
          "Shoes"
         ],
         "xaxis": "x",
         "y": [
          3118
         ],
         "yaxis": "y"
        },
        {
         "customdata": [
          [
           18638.97
          ]
         ],
         "hovertemplate": "category=%{x}<br>quantity=%{y}<br>price=%{customdata[0]}<extra></extra>",
         "legendgroup": "Souvenir",
         "marker": {
          "color": "#19d3f3",
          "size": [
           18638.97
          ],
          "sizemode": "area",
          "sizeref": 1023.744,
          "symbol": "circle"
         },
         "mode": "markers",
         "name": "Souvenir",
         "orientation": "v",
         "showlegend": true,
         "type": "scatter",
         "x": [
          "Souvenir"
         ],
         "xaxis": "x",
         "y": [
          1589
         ],
         "yaxis": "y"
        },
        {
         "customdata": [
          [
           1517250
          ]
         ],
         "hovertemplate": "category=%{x}<br>quantity=%{y}<br>price=%{customdata[0]}<extra></extra>",
         "legendgroup": "Technology",
         "marker": {
          "color": "#FF6692",
          "size": [
           1517250
          ],
          "sizemode": "area",
          "sizeref": 1023.744,
          "symbol": "circle"
         },
         "mode": "markers",
         "name": "Technology",
         "orientation": "v",
         "showlegend": true,
         "type": "scatter",
         "x": [
          "Technology"
         ],
         "xaxis": "x",
         "y": [
          1445
         ],
         "yaxis": "y"
        },
        {
         "customdata": [
          [
           109312
          ]
         ],
         "hovertemplate": "category=%{x}<br>quantity=%{y}<br>price=%{customdata[0]}<extra></extra>",
         "legendgroup": "Toys",
         "marker": {
          "color": "#B6E880",
          "size": [
           109312
          ],
          "sizemode": "area",
          "sizeref": 1023.744,
          "symbol": "circle"
         },
         "mode": "markers",
         "name": "Toys",
         "orientation": "v",
         "showlegend": true,
         "type": "scatter",
         "x": [
          "Toys"
         ],
         "xaxis": "x",
         "y": [
          3050
         ],
         "yaxis": "y"
        }
       ],
       "layout": {
        "legend": {
         "itemsizing": "constant",
         "title": {
          "text": "category"
         },
         "tracegroupgap": 0
        },
        "margin": {
         "t": 60
        },
        "template": {
         "data": {
          "bar": [
           {
            "error_x": {
             "color": "#2a3f5f"
            },
            "error_y": {
             "color": "#2a3f5f"
            },
            "marker": {
             "line": {
              "color": "#E5ECF6",
              "width": 0.5
             },
             "pattern": {
              "fillmode": "overlay",
              "size": 10,
              "solidity": 0.2
             }
            },
            "type": "bar"
           }
          ],
          "barpolar": [
           {
            "marker": {
             "line": {
              "color": "#E5ECF6",
              "width": 0.5
             },
             "pattern": {
              "fillmode": "overlay",
              "size": 10,
              "solidity": 0.2
             }
            },
            "type": "barpolar"
           }
          ],
          "carpet": [
           {
            "aaxis": {
             "endlinecolor": "#2a3f5f",
             "gridcolor": "white",
             "linecolor": "white",
             "minorgridcolor": "white",
             "startlinecolor": "#2a3f5f"
            },
            "baxis": {
             "endlinecolor": "#2a3f5f",
             "gridcolor": "white",
             "linecolor": "white",
             "minorgridcolor": "white",
             "startlinecolor": "#2a3f5f"
            },
            "type": "carpet"
           }
          ],
          "choropleth": [
           {
            "colorbar": {
             "outlinewidth": 0,
             "ticks": ""
            },
            "type": "choropleth"
           }
          ],
          "contour": [
           {
            "colorbar": {
             "outlinewidth": 0,
             "ticks": ""
            },
            "colorscale": [
             [
              0,
              "#0d0887"
             ],
             [
              0.1111111111111111,
              "#46039f"
             ],
             [
              0.2222222222222222,
              "#7201a8"
             ],
             [
              0.3333333333333333,
              "#9c179e"
             ],
             [
              0.4444444444444444,
              "#bd3786"
             ],
             [
              0.5555555555555556,
              "#d8576b"
             ],
             [
              0.6666666666666666,
              "#ed7953"
             ],
             [
              0.7777777777777778,
              "#fb9f3a"
             ],
             [
              0.8888888888888888,
              "#fdca26"
             ],
             [
              1,
              "#f0f921"
             ]
            ],
            "type": "contour"
           }
          ],
          "contourcarpet": [
           {
            "colorbar": {
             "outlinewidth": 0,
             "ticks": ""
            },
            "type": "contourcarpet"
           }
          ],
          "heatmap": [
           {
            "colorbar": {
             "outlinewidth": 0,
             "ticks": ""
            },
            "colorscale": [
             [
              0,
              "#0d0887"
             ],
             [
              0.1111111111111111,
              "#46039f"
             ],
             [
              0.2222222222222222,
              "#7201a8"
             ],
             [
              0.3333333333333333,
              "#9c179e"
             ],
             [
              0.4444444444444444,
              "#bd3786"
             ],
             [
              0.5555555555555556,
              "#d8576b"
             ],
             [
              0.6666666666666666,
              "#ed7953"
             ],
             [
              0.7777777777777778,
              "#fb9f3a"
             ],
             [
              0.8888888888888888,
              "#fdca26"
             ],
             [
              1,
              "#f0f921"
             ]
            ],
            "type": "heatmap"
           }
          ],
          "heatmapgl": [
           {
            "colorbar": {
             "outlinewidth": 0,
             "ticks": ""
            },
            "colorscale": [
             [
              0,
              "#0d0887"
             ],
             [
              0.1111111111111111,
              "#46039f"
             ],
             [
              0.2222222222222222,
              "#7201a8"
             ],
             [
              0.3333333333333333,
              "#9c179e"
             ],
             [
              0.4444444444444444,
              "#bd3786"
             ],
             [
              0.5555555555555556,
              "#d8576b"
             ],
             [
              0.6666666666666666,
              "#ed7953"
             ],
             [
              0.7777777777777778,
              "#fb9f3a"
             ],
             [
              0.8888888888888888,
              "#fdca26"
             ],
             [
              1,
              "#f0f921"
             ]
            ],
            "type": "heatmapgl"
           }
          ],
          "histogram": [
           {
            "marker": {
             "pattern": {
              "fillmode": "overlay",
              "size": 10,
              "solidity": 0.2
             }
            },
            "type": "histogram"
           }
          ],
          "histogram2d": [
           {
            "colorbar": {
             "outlinewidth": 0,
             "ticks": ""
            },
            "colorscale": [
             [
              0,
              "#0d0887"
             ],
             [
              0.1111111111111111,
              "#46039f"
             ],
             [
              0.2222222222222222,
              "#7201a8"
             ],
             [
              0.3333333333333333,
              "#9c179e"
             ],
             [
              0.4444444444444444,
              "#bd3786"
             ],
             [
              0.5555555555555556,
              "#d8576b"
             ],
             [
              0.6666666666666666,
              "#ed7953"
             ],
             [
              0.7777777777777778,
              "#fb9f3a"
             ],
             [
              0.8888888888888888,
              "#fdca26"
             ],
             [
              1,
              "#f0f921"
             ]
            ],
            "type": "histogram2d"
           }
          ],
          "histogram2dcontour": [
           {
            "colorbar": {
             "outlinewidth": 0,
             "ticks": ""
            },
            "colorscale": [
             [
              0,
              "#0d0887"
             ],
             [
              0.1111111111111111,
              "#46039f"
             ],
             [
              0.2222222222222222,
              "#7201a8"
             ],
             [
              0.3333333333333333,
              "#9c179e"
             ],
             [
              0.4444444444444444,
              "#bd3786"
             ],
             [
              0.5555555555555556,
              "#d8576b"
             ],
             [
              0.6666666666666666,
              "#ed7953"
             ],
             [
              0.7777777777777778,
              "#fb9f3a"
             ],
             [
              0.8888888888888888,
              "#fdca26"
             ],
             [
              1,
              "#f0f921"
             ]
            ],
            "type": "histogram2dcontour"
           }
          ],
          "mesh3d": [
           {
            "colorbar": {
             "outlinewidth": 0,
             "ticks": ""
            },
            "type": "mesh3d"
           }
          ],
          "parcoords": [
           {
            "line": {
             "colorbar": {
              "outlinewidth": 0,
              "ticks": ""
             }
            },
            "type": "parcoords"
           }
          ],
          "pie": [
           {
            "automargin": true,
            "type": "pie"
           }
          ],
          "scatter": [
           {
            "fillpattern": {
             "fillmode": "overlay",
             "size": 10,
             "solidity": 0.2
            },
            "type": "scatter"
           }
          ],
          "scatter3d": [
           {
            "line": {
             "colorbar": {
              "outlinewidth": 0,
              "ticks": ""
             }
            },
            "marker": {
             "colorbar": {
              "outlinewidth": 0,
              "ticks": ""
             }
            },
            "type": "scatter3d"
           }
          ],
          "scattercarpet": [
           {
            "marker": {
             "colorbar": {
              "outlinewidth": 0,
              "ticks": ""
             }
            },
            "type": "scattercarpet"
           }
          ],
          "scattergeo": [
           {
            "marker": {
             "colorbar": {
              "outlinewidth": 0,
              "ticks": ""
             }
            },
            "type": "scattergeo"
           }
          ],
          "scattergl": [
           {
            "marker": {
             "colorbar": {
              "outlinewidth": 0,
              "ticks": ""
             }
            },
            "type": "scattergl"
           }
          ],
          "scattermapbox": [
           {
            "marker": {
             "colorbar": {
              "outlinewidth": 0,
              "ticks": ""
             }
            },
            "type": "scattermapbox"
           }
          ],
          "scatterpolar": [
           {
            "marker": {
             "colorbar": {
              "outlinewidth": 0,
              "ticks": ""
             }
            },
            "type": "scatterpolar"
           }
          ],
          "scatterpolargl": [
           {
            "marker": {
             "colorbar": {
              "outlinewidth": 0,
              "ticks": ""
             }
            },
            "type": "scatterpolargl"
           }
          ],
          "scatterternary": [
           {
            "marker": {
             "colorbar": {
              "outlinewidth": 0,
              "ticks": ""
             }
            },
            "type": "scatterternary"
           }
          ],
          "surface": [
           {
            "colorbar": {
             "outlinewidth": 0,
             "ticks": ""
            },
            "colorscale": [
             [
              0,
              "#0d0887"
             ],
             [
              0.1111111111111111,
              "#46039f"
             ],
             [
              0.2222222222222222,
              "#7201a8"
             ],
             [
              0.3333333333333333,
              "#9c179e"
             ],
             [
              0.4444444444444444,
              "#bd3786"
             ],
             [
              0.5555555555555556,
              "#d8576b"
             ],
             [
              0.6666666666666666,
              "#ed7953"
             ],
             [
              0.7777777777777778,
              "#fb9f3a"
             ],
             [
              0.8888888888888888,
              "#fdca26"
             ],
             [
              1,
              "#f0f921"
             ]
            ],
            "type": "surface"
           }
          ],
          "table": [
           {
            "cells": {
             "fill": {
              "color": "#EBF0F8"
             },
             "line": {
              "color": "white"
             }
            },
            "header": {
             "fill": {
              "color": "#C8D4E3"
             },
             "line": {
              "color": "white"
             }
            },
            "type": "table"
           }
          ]
         },
         "layout": {
          "annotationdefaults": {
           "arrowcolor": "#2a3f5f",
           "arrowhead": 0,
           "arrowwidth": 1
          },
          "autotypenumbers": "strict",
          "coloraxis": {
           "colorbar": {
            "outlinewidth": 0,
            "ticks": ""
           }
          },
          "colorscale": {
           "diverging": [
            [
             0,
             "#8e0152"
            ],
            [
             0.1,
             "#c51b7d"
            ],
            [
             0.2,
             "#de77ae"
            ],
            [
             0.3,
             "#f1b6da"
            ],
            [
             0.4,
             "#fde0ef"
            ],
            [
             0.5,
             "#f7f7f7"
            ],
            [
             0.6,
             "#e6f5d0"
            ],
            [
             0.7,
             "#b8e186"
            ],
            [
             0.8,
             "#7fbc41"
            ],
            [
             0.9,
             "#4d9221"
            ],
            [
             1,
             "#276419"
            ]
           ],
           "sequential": [
            [
             0,
             "#0d0887"
            ],
            [
             0.1111111111111111,
             "#46039f"
            ],
            [
             0.2222222222222222,
             "#7201a8"
            ],
            [
             0.3333333333333333,
             "#9c179e"
            ],
            [
             0.4444444444444444,
             "#bd3786"
            ],
            [
             0.5555555555555556,
             "#d8576b"
            ],
            [
             0.6666666666666666,
             "#ed7953"
            ],
            [
             0.7777777777777778,
             "#fb9f3a"
            ],
            [
             0.8888888888888888,
             "#fdca26"
            ],
            [
             1,
             "#f0f921"
            ]
           ],
           "sequentialminus": [
            [
             0,
             "#0d0887"
            ],
            [
             0.1111111111111111,
             "#46039f"
            ],
            [
             0.2222222222222222,
             "#7201a8"
            ],
            [
             0.3333333333333333,
             "#9c179e"
            ],
            [
             0.4444444444444444,
             "#bd3786"
            ],
            [
             0.5555555555555556,
             "#d8576b"
            ],
            [
             0.6666666666666666,
             "#ed7953"
            ],
            [
             0.7777777777777778,
             "#fb9f3a"
            ],
            [
             0.8888888888888888,
             "#fdca26"
            ],
            [
             1,
             "#f0f921"
            ]
           ]
          },
          "colorway": [
           "#636efa",
           "#EF553B",
           "#00cc96",
           "#ab63fa",
           "#FFA15A",
           "#19d3f3",
           "#FF6692",
           "#B6E880",
           "#FF97FF",
           "#FECB52"
          ],
          "font": {
           "color": "#2a3f5f"
          },
          "geo": {
           "bgcolor": "white",
           "lakecolor": "white",
           "landcolor": "#E5ECF6",
           "showlakes": true,
           "showland": true,
           "subunitcolor": "white"
          },
          "hoverlabel": {
           "align": "left"
          },
          "hovermode": "closest",
          "mapbox": {
           "style": "light"
          },
          "paper_bgcolor": "white",
          "plot_bgcolor": "#E5ECF6",
          "polar": {
           "angularaxis": {
            "gridcolor": "white",
            "linecolor": "white",
            "ticks": ""
           },
           "bgcolor": "#E5ECF6",
           "radialaxis": {
            "gridcolor": "white",
            "linecolor": "white",
            "ticks": ""
           }
          },
          "scene": {
           "xaxis": {
            "backgroundcolor": "#E5ECF6",
            "gridcolor": "white",
            "gridwidth": 2,
            "linecolor": "white",
            "showbackground": true,
            "ticks": "",
            "zerolinecolor": "white"
           },
           "yaxis": {
            "backgroundcolor": "#E5ECF6",
            "gridcolor": "white",
            "gridwidth": 2,
            "linecolor": "white",
            "showbackground": true,
            "ticks": "",
            "zerolinecolor": "white"
           },
           "zaxis": {
            "backgroundcolor": "#E5ECF6",
            "gridcolor": "white",
            "gridwidth": 2,
            "linecolor": "white",
            "showbackground": true,
            "ticks": "",
            "zerolinecolor": "white"
           }
          },
          "shapedefaults": {
           "line": {
            "color": "#2a3f5f"
           }
          },
          "ternary": {
           "aaxis": {
            "gridcolor": "white",
            "linecolor": "white",
            "ticks": ""
           },
           "baxis": {
            "gridcolor": "white",
            "linecolor": "white",
            "ticks": ""
           },
           "bgcolor": "#E5ECF6",
           "caxis": {
            "gridcolor": "white",
            "linecolor": "white",
            "ticks": ""
           }
          },
          "title": {
           "x": 0.05
          },
          "xaxis": {
           "automargin": true,
           "gridcolor": "white",
           "linecolor": "white",
           "ticks": "",
           "title": {
            "standoff": 15
           },
           "zerolinecolor": "white",
           "zerolinewidth": 2
          },
          "yaxis": {
           "automargin": true,
           "gridcolor": "white",
           "linecolor": "white",
           "ticks": "",
           "title": {
            "standoff": 15
           },
           "zerolinecolor": "white",
           "zerolinewidth": 2
          }
         }
        },
        "xaxis": {
         "anchor": "y",
         "categoryarray": [
          "Books",
          "Clothing",
          "Cosmetics",
          "Food & Beverage",
          "Shoes",
          "Souvenir",
          "Technology",
          "Toys"
         ],
         "categoryorder": "array",
         "domain": [
          0,
          1
         ],
         "title": {
          "text": "category"
         }
        },
        "yaxis": {
         "anchor": "x",
         "domain": [
          0,
          1
         ],
         "title": {
          "text": "quantity"
         }
        }
       }
      }
     },
     "metadata": {},
     "output_type": "display_data"
    }
   ],
   "source": [
    "# Based on Price\n",
    "\n",
    "fig = px.scatter(total_spend_per_qcat, x=\"category\", y=\"quantity\",\n",
    "                 size=\"price\",size_max=55,\n",
    "                 color=\"category\", hover_data='price'        \n",
    "            )\n",
    "fig.show()"
   ]
  },
  {
   "cell_type": "markdown",
   "metadata": {},
   "source": [
    "### Total sales per mall per year"
   ]
  },
  {
   "cell_type": "code",
   "execution_count": 33,
   "metadata": {},
   "outputs": [
    {
     "data": {
      "text/html": [
       "<div>\n",
       "<style scoped>\n",
       "    .dataframe tbody tr th:only-of-type {\n",
       "        vertical-align: middle;\n",
       "    }\n",
       "\n",
       "    .dataframe tbody tr th {\n",
       "        vertical-align: top;\n",
       "    }\n",
       "\n",
       "    .dataframe thead th {\n",
       "        text-align: right;\n",
       "    }\n",
       "</style>\n",
       "<table border=\"1\" class=\"dataframe\">\n",
       "  <thead>\n",
       "    <tr style=\"text-align: right;\">\n",
       "      <th></th>\n",
       "      <th>year</th>\n",
       "      <th>shopping_mall</th>\n",
       "      <th>quantity</th>\n",
       "    </tr>\n",
       "  </thead>\n",
       "  <tbody>\n",
       "    <tr>\n",
       "      <th>0</th>\n",
       "      <td>2021</td>\n",
       "      <td>Cevahir AVM</td>\n",
       "      <td>695</td>\n",
       "    </tr>\n",
       "    <tr>\n",
       "      <th>1</th>\n",
       "      <td>2021</td>\n",
       "      <td>Emaar Square Mall</td>\n",
       "      <td>694</td>\n",
       "    </tr>\n",
       "    <tr>\n",
       "      <th>2</th>\n",
       "      <td>2021</td>\n",
       "      <td>Forum Istanbul</td>\n",
       "      <td>713</td>\n",
       "    </tr>\n",
       "    <tr>\n",
       "      <th>3</th>\n",
       "      <td>2021</td>\n",
       "      <td>Istinye Park</td>\n",
       "      <td>1377</td>\n",
       "    </tr>\n",
       "    <tr>\n",
       "      <th>4</th>\n",
       "      <td>2021</td>\n",
       "      <td>Kanyon</td>\n",
       "      <td>2842</td>\n",
       "    </tr>\n",
       "  </tbody>\n",
       "</table>\n",
       "</div>"
      ],
      "text/plain": [
       "   year      shopping_mall  quantity\n",
       "0  2021        Cevahir AVM       695\n",
       "1  2021  Emaar Square Mall       694\n",
       "2  2021     Forum Istanbul       713\n",
       "3  2021       Istinye Park      1377\n",
       "4  2021             Kanyon      2842"
      ]
     },
     "execution_count": 33,
     "metadata": {},
     "output_type": "execute_result"
    }
   ],
   "source": [
    "qsale_per_mall_year = pd.DataFrame(dfc.groupby(['year','shopping_mall'])['quantity'].sum().reset_index())\n",
    "qsale_per_mall_year.head()"
   ]
  },
  {
   "cell_type": "markdown",
   "metadata": {},
   "source": [
    "### Total sales per shopping mall for 2021"
   ]
  },
  {
   "cell_type": "code",
   "execution_count": 34,
   "metadata": {},
   "outputs": [
    {
     "data": {
      "text/html": [
       "<div>\n",
       "<style scoped>\n",
       "    .dataframe tbody tr th:only-of-type {\n",
       "        vertical-align: middle;\n",
       "    }\n",
       "\n",
       "    .dataframe tbody tr th {\n",
       "        vertical-align: top;\n",
       "    }\n",
       "\n",
       "    .dataframe thead th {\n",
       "        text-align: right;\n",
       "    }\n",
       "</style>\n",
       "<table border=\"1\" class=\"dataframe\">\n",
       "  <thead>\n",
       "    <tr style=\"text-align: right;\">\n",
       "      <th></th>\n",
       "      <th>year</th>\n",
       "      <th>shopping_mall</th>\n",
       "      <th>quantity</th>\n",
       "    </tr>\n",
       "  </thead>\n",
       "  <tbody>\n",
       "    <tr>\n",
       "      <th>0</th>\n",
       "      <td>2021</td>\n",
       "      <td>Cevahir AVM</td>\n",
       "      <td>695</td>\n",
       "    </tr>\n",
       "    <tr>\n",
       "      <th>1</th>\n",
       "      <td>2021</td>\n",
       "      <td>Emaar Square Mall</td>\n",
       "      <td>694</td>\n",
       "    </tr>\n",
       "    <tr>\n",
       "      <th>2</th>\n",
       "      <td>2021</td>\n",
       "      <td>Forum Istanbul</td>\n",
       "      <td>713</td>\n",
       "    </tr>\n",
       "    <tr>\n",
       "      <th>3</th>\n",
       "      <td>2021</td>\n",
       "      <td>Istinye Park</td>\n",
       "      <td>1377</td>\n",
       "    </tr>\n",
       "    <tr>\n",
       "      <th>4</th>\n",
       "      <td>2021</td>\n",
       "      <td>Kanyon</td>\n",
       "      <td>2842</td>\n",
       "    </tr>\n",
       "    <tr>\n",
       "      <th>5</th>\n",
       "      <td>2021</td>\n",
       "      <td>Mall of Istanbul</td>\n",
       "      <td>2746</td>\n",
       "    </tr>\n",
       "    <tr>\n",
       "      <th>6</th>\n",
       "      <td>2021</td>\n",
       "      <td>Metrocity</td>\n",
       "      <td>2083</td>\n",
       "    </tr>\n",
       "    <tr>\n",
       "      <th>7</th>\n",
       "      <td>2021</td>\n",
       "      <td>Metropol AVM</td>\n",
       "      <td>1367</td>\n",
       "    </tr>\n",
       "    <tr>\n",
       "      <th>8</th>\n",
       "      <td>2021</td>\n",
       "      <td>Viaport Outlet</td>\n",
       "      <td>655</td>\n",
       "    </tr>\n",
       "    <tr>\n",
       "      <th>9</th>\n",
       "      <td>2021</td>\n",
       "      <td>Zorlu Center</td>\n",
       "      <td>692</td>\n",
       "    </tr>\n",
       "  </tbody>\n",
       "</table>\n",
       "</div>"
      ],
      "text/plain": [
       "   year      shopping_mall  quantity\n",
       "0  2021        Cevahir AVM       695\n",
       "1  2021  Emaar Square Mall       694\n",
       "2  2021     Forum Istanbul       713\n",
       "3  2021       Istinye Park      1377\n",
       "4  2021             Kanyon      2842\n",
       "5  2021   Mall of Istanbul      2746\n",
       "6  2021          Metrocity      2083\n",
       "7  2021       Metropol AVM      1367\n",
       "8  2021     Viaport Outlet       655\n",
       "9  2021       Zorlu Center       692"
      ]
     },
     "execution_count": 34,
     "metadata": {},
     "output_type": "execute_result"
    }
   ],
   "source": [
    "sale_2021 = qsale_per_mall_year.query('year == 2021')\n",
    "sale_2021"
   ]
  },
  {
   "cell_type": "markdown",
   "metadata": {},
   "source": [
    "### Total sales per shopping mall for 2022"
   ]
  },
  {
   "cell_type": "code",
   "execution_count": 35,
   "metadata": {},
   "outputs": [
    {
     "data": {
      "text/html": [
       "<div>\n",
       "<style scoped>\n",
       "    .dataframe tbody tr th:only-of-type {\n",
       "        vertical-align: middle;\n",
       "    }\n",
       "\n",
       "    .dataframe tbody tr th {\n",
       "        vertical-align: top;\n",
       "    }\n",
       "\n",
       "    .dataframe thead th {\n",
       "        text-align: right;\n",
       "    }\n",
       "</style>\n",
       "<table border=\"1\" class=\"dataframe\">\n",
       "  <thead>\n",
       "    <tr style=\"text-align: right;\">\n",
       "      <th></th>\n",
       "      <th>year</th>\n",
       "      <th>shopping_mall</th>\n",
       "      <th>quantity</th>\n",
       "    </tr>\n",
       "  </thead>\n",
       "  <tbody>\n",
       "    <tr>\n",
       "      <th>10</th>\n",
       "      <td>2022</td>\n",
       "      <td>Cevahir AVM</td>\n",
       "      <td>690</td>\n",
       "    </tr>\n",
       "    <tr>\n",
       "      <th>11</th>\n",
       "      <td>2022</td>\n",
       "      <td>Emaar Square Mall</td>\n",
       "      <td>622</td>\n",
       "    </tr>\n",
       "    <tr>\n",
       "      <th>12</th>\n",
       "      <td>2022</td>\n",
       "      <td>Forum Istanbul</td>\n",
       "      <td>792</td>\n",
       "    </tr>\n",
       "    <tr>\n",
       "      <th>13</th>\n",
       "      <td>2022</td>\n",
       "      <td>Istinye Park</td>\n",
       "      <td>1416</td>\n",
       "    </tr>\n",
       "    <tr>\n",
       "      <th>14</th>\n",
       "      <td>2022</td>\n",
       "      <td>Kanyon</td>\n",
       "      <td>2653</td>\n",
       "    </tr>\n",
       "    <tr>\n",
       "      <th>15</th>\n",
       "      <td>2022</td>\n",
       "      <td>Mall of Istanbul</td>\n",
       "      <td>2582</td>\n",
       "    </tr>\n",
       "    <tr>\n",
       "      <th>16</th>\n",
       "      <td>2022</td>\n",
       "      <td>Metrocity</td>\n",
       "      <td>1993</td>\n",
       "    </tr>\n",
       "    <tr>\n",
       "      <th>17</th>\n",
       "      <td>2022</td>\n",
       "      <td>Metropol AVM</td>\n",
       "      <td>1350</td>\n",
       "    </tr>\n",
       "    <tr>\n",
       "      <th>18</th>\n",
       "      <td>2022</td>\n",
       "      <td>Viaport Outlet</td>\n",
       "      <td>700</td>\n",
       "    </tr>\n",
       "    <tr>\n",
       "      <th>19</th>\n",
       "      <td>2022</td>\n",
       "      <td>Zorlu Center</td>\n",
       "      <td>691</td>\n",
       "    </tr>\n",
       "  </tbody>\n",
       "</table>\n",
       "</div>"
      ],
      "text/plain": [
       "    year      shopping_mall  quantity\n",
       "10  2022        Cevahir AVM       690\n",
       "11  2022  Emaar Square Mall       622\n",
       "12  2022     Forum Istanbul       792\n",
       "13  2022       Istinye Park      1416\n",
       "14  2022             Kanyon      2653\n",
       "15  2022   Mall of Istanbul      2582\n",
       "16  2022          Metrocity      1993\n",
       "17  2022       Metropol AVM      1350\n",
       "18  2022     Viaport Outlet       700\n",
       "19  2022       Zorlu Center       691"
      ]
     },
     "execution_count": 35,
     "metadata": {},
     "output_type": "execute_result"
    }
   ],
   "source": [
    "sale_2022 = qsale_per_mall_year.query('year == 2022')\n",
    "sale_2022"
   ]
  },
  {
   "cell_type": "markdown",
   "metadata": {},
   "source": [
    "### Total sales per shopping mall for 2023"
   ]
  },
  {
   "cell_type": "code",
   "execution_count": 36,
   "metadata": {},
   "outputs": [
    {
     "data": {
      "text/html": [
       "<div>\n",
       "<style scoped>\n",
       "    .dataframe tbody tr th:only-of-type {\n",
       "        vertical-align: middle;\n",
       "    }\n",
       "\n",
       "    .dataframe tbody tr th {\n",
       "        vertical-align: top;\n",
       "    }\n",
       "\n",
       "    .dataframe thead th {\n",
       "        text-align: right;\n",
       "    }\n",
       "</style>\n",
       "<table border=\"1\" class=\"dataframe\">\n",
       "  <thead>\n",
       "    <tr style=\"text-align: right;\">\n",
       "      <th></th>\n",
       "      <th>year</th>\n",
       "      <th>shopping_mall</th>\n",
       "      <th>quantity</th>\n",
       "    </tr>\n",
       "  </thead>\n",
       "  <tbody>\n",
       "    <tr>\n",
       "      <th>20</th>\n",
       "      <td>2023</td>\n",
       "      <td>Cevahir AVM</td>\n",
       "      <td>119</td>\n",
       "    </tr>\n",
       "    <tr>\n",
       "      <th>21</th>\n",
       "      <td>2023</td>\n",
       "      <td>Emaar Square Mall</td>\n",
       "      <td>102</td>\n",
       "    </tr>\n",
       "    <tr>\n",
       "      <th>22</th>\n",
       "      <td>2023</td>\n",
       "      <td>Forum Istanbul</td>\n",
       "      <td>159</td>\n",
       "    </tr>\n",
       "    <tr>\n",
       "      <th>23</th>\n",
       "      <td>2023</td>\n",
       "      <td>Istinye Park</td>\n",
       "      <td>253</td>\n",
       "    </tr>\n",
       "    <tr>\n",
       "      <th>24</th>\n",
       "      <td>2023</td>\n",
       "      <td>Kanyon</td>\n",
       "      <td>523</td>\n",
       "    </tr>\n",
       "    <tr>\n",
       "      <th>25</th>\n",
       "      <td>2023</td>\n",
       "      <td>Mall of Istanbul</td>\n",
       "      <td>524</td>\n",
       "    </tr>\n",
       "    <tr>\n",
       "      <th>26</th>\n",
       "      <td>2023</td>\n",
       "      <td>Metrocity</td>\n",
       "      <td>378</td>\n",
       "    </tr>\n",
       "    <tr>\n",
       "      <th>27</th>\n",
       "      <td>2023</td>\n",
       "      <td>Metropol AVM</td>\n",
       "      <td>246</td>\n",
       "    </tr>\n",
       "    <tr>\n",
       "      <th>28</th>\n",
       "      <td>2023</td>\n",
       "      <td>Viaport Outlet</td>\n",
       "      <td>109</td>\n",
       "    </tr>\n",
       "    <tr>\n",
       "      <th>29</th>\n",
       "      <td>2023</td>\n",
       "      <td>Zorlu Center</td>\n",
       "      <td>128</td>\n",
       "    </tr>\n",
       "  </tbody>\n",
       "</table>\n",
       "</div>"
      ],
      "text/plain": [
       "    year      shopping_mall  quantity\n",
       "20  2023        Cevahir AVM       119\n",
       "21  2023  Emaar Square Mall       102\n",
       "22  2023     Forum Istanbul       159\n",
       "23  2023       Istinye Park       253\n",
       "24  2023             Kanyon       523\n",
       "25  2023   Mall of Istanbul       524\n",
       "26  2023          Metrocity       378\n",
       "27  2023       Metropol AVM       246\n",
       "28  2023     Viaport Outlet       109\n",
       "29  2023       Zorlu Center       128"
      ]
     },
     "execution_count": 36,
     "metadata": {},
     "output_type": "execute_result"
    }
   ],
   "source": [
    "sale_2023 = qsale_per_mall_year.query('year == 2023')\n",
    "sale_2023"
   ]
  },
  {
   "cell_type": "code",
   "execution_count": 37,
   "metadata": {},
   "outputs": [
    {
     "data": {
      "text/html": [
       "<div>\n",
       "<style scoped>\n",
       "    .dataframe tbody tr th:only-of-type {\n",
       "        vertical-align: middle;\n",
       "    }\n",
       "\n",
       "    .dataframe tbody tr th {\n",
       "        vertical-align: top;\n",
       "    }\n",
       "\n",
       "    .dataframe thead th {\n",
       "        text-align: right;\n",
       "    }\n",
       "</style>\n",
       "<table border=\"1\" class=\"dataframe\">\n",
       "  <thead>\n",
       "    <tr style=\"text-align: right;\">\n",
       "      <th></th>\n",
       "      <th>year_x</th>\n",
       "      <th>shopping_mall</th>\n",
       "      <th>quantity_x</th>\n",
       "      <th>year_y</th>\n",
       "      <th>quantity_y</th>\n",
       "    </tr>\n",
       "  </thead>\n",
       "  <tbody>\n",
       "    <tr>\n",
       "      <th>0</th>\n",
       "      <td>2021</td>\n",
       "      <td>Cevahir AVM</td>\n",
       "      <td>695</td>\n",
       "      <td>2022</td>\n",
       "      <td>690</td>\n",
       "    </tr>\n",
       "    <tr>\n",
       "      <th>1</th>\n",
       "      <td>2021</td>\n",
       "      <td>Emaar Square Mall</td>\n",
       "      <td>694</td>\n",
       "      <td>2022</td>\n",
       "      <td>622</td>\n",
       "    </tr>\n",
       "    <tr>\n",
       "      <th>2</th>\n",
       "      <td>2021</td>\n",
       "      <td>Forum Istanbul</td>\n",
       "      <td>713</td>\n",
       "      <td>2022</td>\n",
       "      <td>792</td>\n",
       "    </tr>\n",
       "    <tr>\n",
       "      <th>3</th>\n",
       "      <td>2021</td>\n",
       "      <td>Istinye Park</td>\n",
       "      <td>1377</td>\n",
       "      <td>2022</td>\n",
       "      <td>1416</td>\n",
       "    </tr>\n",
       "    <tr>\n",
       "      <th>4</th>\n",
       "      <td>2021</td>\n",
       "      <td>Kanyon</td>\n",
       "      <td>2842</td>\n",
       "      <td>2022</td>\n",
       "      <td>2653</td>\n",
       "    </tr>\n",
       "    <tr>\n",
       "      <th>5</th>\n",
       "      <td>2021</td>\n",
       "      <td>Mall of Istanbul</td>\n",
       "      <td>2746</td>\n",
       "      <td>2022</td>\n",
       "      <td>2582</td>\n",
       "    </tr>\n",
       "    <tr>\n",
       "      <th>6</th>\n",
       "      <td>2021</td>\n",
       "      <td>Metrocity</td>\n",
       "      <td>2083</td>\n",
       "      <td>2022</td>\n",
       "      <td>1993</td>\n",
       "    </tr>\n",
       "    <tr>\n",
       "      <th>7</th>\n",
       "      <td>2021</td>\n",
       "      <td>Metropol AVM</td>\n",
       "      <td>1367</td>\n",
       "      <td>2022</td>\n",
       "      <td>1350</td>\n",
       "    </tr>\n",
       "    <tr>\n",
       "      <th>8</th>\n",
       "      <td>2021</td>\n",
       "      <td>Viaport Outlet</td>\n",
       "      <td>655</td>\n",
       "      <td>2022</td>\n",
       "      <td>700</td>\n",
       "    </tr>\n",
       "    <tr>\n",
       "      <th>9</th>\n",
       "      <td>2021</td>\n",
       "      <td>Zorlu Center</td>\n",
       "      <td>692</td>\n",
       "      <td>2022</td>\n",
       "      <td>691</td>\n",
       "    </tr>\n",
       "  </tbody>\n",
       "</table>\n",
       "</div>"
      ],
      "text/plain": [
       "   year_x      shopping_mall  quantity_x  year_y  quantity_y\n",
       "0    2021        Cevahir AVM         695    2022         690\n",
       "1    2021  Emaar Square Mall         694    2022         622\n",
       "2    2021     Forum Istanbul         713    2022         792\n",
       "3    2021       Istinye Park        1377    2022        1416\n",
       "4    2021             Kanyon        2842    2022        2653\n",
       "5    2021   Mall of Istanbul        2746    2022        2582\n",
       "6    2021          Metrocity        2083    2022        1993\n",
       "7    2021       Metropol AVM        1367    2022        1350\n",
       "8    2021     Viaport Outlet         655    2022         700\n",
       "9    2021       Zorlu Center         692    2022         691"
      ]
     },
     "execution_count": 37,
     "metadata": {},
     "output_type": "execute_result"
    }
   ],
   "source": [
    "phase1 = pd.merge(sale_2021,sale_2022, on='shopping_mall')\n",
    "phase1"
   ]
  },
  {
   "cell_type": "code",
   "execution_count": 38,
   "metadata": {},
   "outputs": [],
   "source": [
    "phase1= phase1.rename(columns={\n",
    "        'quantity_x': 'quantity_21',\n",
    "        'quantity_y': 'quantity_22'\n",
    "        }, inplace=False).drop(labels=['year_x','year_y'], axis=1)"
   ]
  },
  {
   "cell_type": "code",
   "execution_count": 39,
   "metadata": {},
   "outputs": [],
   "source": [
    "phase2 = pd.merge(phase1,sale_2023, on='shopping_mall')"
   ]
  },
  {
   "cell_type": "markdown",
   "metadata": {},
   "source": [
    "### Merged total sales per shopping mall for each year"
   ]
  },
  {
   "cell_type": "code",
   "execution_count": 40,
   "metadata": {},
   "outputs": [],
   "source": [
    "sales_diff_per_mall_overyr = phase2.rename(columns={\n",
    "                            'quantity': 'quantity_23'\n",
    "                            }, inplace=False).drop(labels='year', axis=1)"
   ]
  },
  {
   "cell_type": "code",
   "execution_count": 41,
   "metadata": {},
   "outputs": [
    {
     "data": {
      "text/html": [
       "<div>\n",
       "<style scoped>\n",
       "    .dataframe tbody tr th:only-of-type {\n",
       "        vertical-align: middle;\n",
       "    }\n",
       "\n",
       "    .dataframe tbody tr th {\n",
       "        vertical-align: top;\n",
       "    }\n",
       "\n",
       "    .dataframe thead th {\n",
       "        text-align: right;\n",
       "    }\n",
       "</style>\n",
       "<table border=\"1\" class=\"dataframe\">\n",
       "  <thead>\n",
       "    <tr style=\"text-align: right;\">\n",
       "      <th></th>\n",
       "      <th>shopping_mall</th>\n",
       "      <th>quantity_21</th>\n",
       "      <th>quantity_22</th>\n",
       "      <th>quantity_23</th>\n",
       "    </tr>\n",
       "  </thead>\n",
       "  <tbody>\n",
       "    <tr>\n",
       "      <th>0</th>\n",
       "      <td>Cevahir AVM</td>\n",
       "      <td>695</td>\n",
       "      <td>690</td>\n",
       "      <td>119</td>\n",
       "    </tr>\n",
       "    <tr>\n",
       "      <th>1</th>\n",
       "      <td>Emaar Square Mall</td>\n",
       "      <td>694</td>\n",
       "      <td>622</td>\n",
       "      <td>102</td>\n",
       "    </tr>\n",
       "    <tr>\n",
       "      <th>2</th>\n",
       "      <td>Forum Istanbul</td>\n",
       "      <td>713</td>\n",
       "      <td>792</td>\n",
       "      <td>159</td>\n",
       "    </tr>\n",
       "    <tr>\n",
       "      <th>3</th>\n",
       "      <td>Istinye Park</td>\n",
       "      <td>1377</td>\n",
       "      <td>1416</td>\n",
       "      <td>253</td>\n",
       "    </tr>\n",
       "    <tr>\n",
       "      <th>4</th>\n",
       "      <td>Kanyon</td>\n",
       "      <td>2842</td>\n",
       "      <td>2653</td>\n",
       "      <td>523</td>\n",
       "    </tr>\n",
       "    <tr>\n",
       "      <th>5</th>\n",
       "      <td>Mall of Istanbul</td>\n",
       "      <td>2746</td>\n",
       "      <td>2582</td>\n",
       "      <td>524</td>\n",
       "    </tr>\n",
       "    <tr>\n",
       "      <th>6</th>\n",
       "      <td>Metrocity</td>\n",
       "      <td>2083</td>\n",
       "      <td>1993</td>\n",
       "      <td>378</td>\n",
       "    </tr>\n",
       "    <tr>\n",
       "      <th>7</th>\n",
       "      <td>Metropol AVM</td>\n",
       "      <td>1367</td>\n",
       "      <td>1350</td>\n",
       "      <td>246</td>\n",
       "    </tr>\n",
       "    <tr>\n",
       "      <th>8</th>\n",
       "      <td>Viaport Outlet</td>\n",
       "      <td>655</td>\n",
       "      <td>700</td>\n",
       "      <td>109</td>\n",
       "    </tr>\n",
       "    <tr>\n",
       "      <th>9</th>\n",
       "      <td>Zorlu Center</td>\n",
       "      <td>692</td>\n",
       "      <td>691</td>\n",
       "      <td>128</td>\n",
       "    </tr>\n",
       "  </tbody>\n",
       "</table>\n",
       "</div>"
      ],
      "text/plain": [
       "       shopping_mall  quantity_21  quantity_22  quantity_23\n",
       "0        Cevahir AVM          695          690          119\n",
       "1  Emaar Square Mall          694          622          102\n",
       "2     Forum Istanbul          713          792          159\n",
       "3       Istinye Park         1377         1416          253\n",
       "4             Kanyon         2842         2653          523\n",
       "5   Mall of Istanbul         2746         2582          524\n",
       "6          Metrocity         2083         1993          378\n",
       "7       Metropol AVM         1367         1350          246\n",
       "8     Viaport Outlet          655          700          109\n",
       "9       Zorlu Center          692          691          128"
      ]
     },
     "execution_count": 41,
     "metadata": {},
     "output_type": "execute_result"
    }
   ],
   "source": [
    "sales_diff_per_mall_overyr"
   ]
  },
  {
   "cell_type": "code",
   "execution_count": 65,
   "metadata": {},
   "outputs": [
    {
     "data": {
      "image/png": "[encoded data removed]",
      "text/plain": [
       "<Figure size 1600x600 with 3 Axes>"
      ]
     },
     "metadata": {},
     "output_type": "display_data"
    }
   ],
   "source": [
    "fig, axes = plt.subplots(nrows=3, ncols=1, figsize=(16,6))\n",
    "\n",
    "sns.scatterplot(data=sales_diff_per_mall_overyr, x='shopping_mall', y='quantity_21', hue='quantity_21', ax=axes[0], size='quantity_21', palette='Spectral').legend(loc='upper left'),\n",
    "sns.scatterplot(data=sales_diff_per_mall_overyr, x='shopping_mall', y='quantity_22', hue='quantity_22', ax=axes[1], size='quantity_22', palette='hsv').legend(loc='upper left'),\n",
    "sns.scatterplot(data=sales_diff_per_mall_overyr, x='shopping_mall', y='quantity_23', hue='quantity_23', ax=axes[2], size='quantity_23', palette='gist_rainbow').legend(loc='upper left')\n",
    "\n",
    "plt.show()"
   ]
  },
  {
   "cell_type": "markdown",
   "metadata": {},
   "source": [
    "### Total customer per shopping mall"
   ]
  },
  {
   "cell_type": "code",
   "execution_count": 43,
   "metadata": {},
   "outputs": [
    {
     "data": {
      "text/html": [
       "<div>\n",
       "<style scoped>\n",
       "    .dataframe tbody tr th:only-of-type {\n",
       "        vertical-align: middle;\n",
       "    }\n",
       "\n",
       "    .dataframe tbody tr th {\n",
       "        vertical-align: top;\n",
       "    }\n",
       "\n",
       "    .dataframe thead th {\n",
       "        text-align: right;\n",
       "    }\n",
       "</style>\n",
       "<table border=\"1\" class=\"dataframe\">\n",
       "  <thead>\n",
       "    <tr style=\"text-align: right;\">\n",
       "      <th></th>\n",
       "      <th>shopping_mall</th>\n",
       "      <th>gender</th>\n",
       "    </tr>\n",
       "  </thead>\n",
       "  <tbody>\n",
       "    <tr>\n",
       "      <th>0</th>\n",
       "      <td>Cevahir AVM</td>\n",
       "      <td>4989</td>\n",
       "    </tr>\n",
       "    <tr>\n",
       "      <th>1</th>\n",
       "      <td>Emaar Square Mall</td>\n",
       "      <td>4809</td>\n",
       "    </tr>\n",
       "    <tr>\n",
       "      <th>2</th>\n",
       "      <td>Forum Istanbul</td>\n",
       "      <td>4946</td>\n",
       "    </tr>\n",
       "    <tr>\n",
       "      <th>3</th>\n",
       "      <td>Istinye Park</td>\n",
       "      <td>9779</td>\n",
       "    </tr>\n",
       "    <tr>\n",
       "      <th>4</th>\n",
       "      <td>Kanyon</td>\n",
       "      <td>19819</td>\n",
       "    </tr>\n",
       "    <tr>\n",
       "      <th>5</th>\n",
       "      <td>Mall of Istanbul</td>\n",
       "      <td>19936</td>\n",
       "    </tr>\n",
       "    <tr>\n",
       "      <th>6</th>\n",
       "      <td>Metrocity</td>\n",
       "      <td>15006</td>\n",
       "    </tr>\n",
       "    <tr>\n",
       "      <th>7</th>\n",
       "      <td>Metropol AVM</td>\n",
       "      <td>10152</td>\n",
       "    </tr>\n",
       "    <tr>\n",
       "      <th>8</th>\n",
       "      <td>Viaport Outlet</td>\n",
       "      <td>4914</td>\n",
       "    </tr>\n",
       "    <tr>\n",
       "      <th>9</th>\n",
       "      <td>Zorlu Center</td>\n",
       "      <td>5072</td>\n",
       "    </tr>\n",
       "  </tbody>\n",
       "</table>\n",
       "</div>"
      ],
      "text/plain": [
       "       shopping_mall  gender\n",
       "0        Cevahir AVM    4989\n",
       "1  Emaar Square Mall    4809\n",
       "2     Forum Istanbul    4946\n",
       "3       Istinye Park    9779\n",
       "4             Kanyon   19819\n",
       "5   Mall of Istanbul   19936\n",
       "6          Metrocity   15006\n",
       "7       Metropol AVM   10152\n",
       "8     Viaport Outlet    4914\n",
       "9       Zorlu Center    5072"
      ]
     },
     "execution_count": 43,
     "metadata": {},
     "output_type": "execute_result"
    }
   ],
   "source": [
    "total_cust_per_mall = pd.DataFrame(df.groupby(['shopping_mall'])['gender'].count().reset_index())\n",
    "total_cust_per_mall"
   ]
  },
  {
   "cell_type": "code",
   "execution_count": 44,
   "metadata": {},
   "outputs": [
    {
     "data": {
      "text/plain": [
       "Text(0.5, 0, 'shopping_mall')"
      ]
     },
     "execution_count": 44,
     "metadata": {},
     "output_type": "execute_result"
    },
    {
     "data": {
      "image/png": "[encoded data removed]",
      "text/plain": [
       "<Figure size 1900x500 with 2 Axes>"
      ]
     },
     "metadata": {},
     "output_type": "display_data"
    }
   ],
   "source": [
    "plt.figure(figsize=(19,5))\n",
    "x, y = 'shopping_mall','gender'\n",
    "plt.scatter (data=total_cust_per_mall, x=x, y=y, c=y, cmap=\"cool\", s=100)\n",
    "plt.colorbar()\n",
    "plt.ylabel(y)\n",
    "plt.xlabel(x)"
   ]
  },
  {
   "cell_type": "code",
   "execution_count": 45,
   "metadata": {},
   "outputs": [
    {
     "data": {
      "application/vnd.plotly.v1+json": {
       "config": {
        "plotlyServerURL": "https://plot.ly"
       },
       "data": [
        {
         "alignmentgroup": "True",
         "hovertemplate": "shopping_mall=%{x}<br>gender=%{y}<extra></extra>",
         "legendgroup": "",
         "marker": {
          "color": "#636efa",
          "pattern": {
           "shape": ""
          }
         },
         "name": "",
         "offsetgroup": "",
         "orientation": "v",
         "showlegend": false,
         "textposition": "auto",
         "type": "bar",
         "x": [
          "Cevahir AVM",
          "Emaar Square Mall",
          "Forum Istanbul",
          "Istinye Park",
          "Kanyon",
          "Mall of Istanbul",
          "Metrocity",
          "Metropol AVM",
          "Viaport Outlet",
          "Zorlu Center"
         ],
         "xaxis": "x",
         "y": [
          4989,
          4809,
          4946,
          9779,
          19819,
          19936,
          15006,
          10152,
          4914,
          5072
         ],
         "yaxis": "y"
        }
       ],
       "layout": {
        "barmode": "relative",
        "legend": {
         "tracegroupgap": 0
        },
        "margin": {
         "t": 60
        },
        "template": {
         "data": {
          "bar": [
           {
            "error_x": {
             "color": "#2a3f5f"
            },
            "error_y": {
             "color": "#2a3f5f"
            },
            "marker": {
             "line": {
              "color": "#E5ECF6",
              "width": 0.5
             },
             "pattern": {
              "fillmode": "overlay",
              "size": 10,
              "solidity": 0.2
             }
            },
            "type": "bar"
           }
          ],
          "barpolar": [
           {
            "marker": {
             "line": {
              "color": "#E5ECF6",
              "width": 0.5
             },
             "pattern": {
              "fillmode": "overlay",
              "size": 10,
              "solidity": 0.2
             }
            },
            "type": "barpolar"
           }
          ],
          "carpet": [
           {
            "aaxis": {
             "endlinecolor": "#2a3f5f",
             "gridcolor": "white",
             "linecolor": "white",
             "minorgridcolor": "white",
             "startlinecolor": "#2a3f5f"
            },
            "baxis": {
             "endlinecolor": "#2a3f5f",
             "gridcolor": "white",
             "linecolor": "white",
             "minorgridcolor": "white",
             "startlinecolor": "#2a3f5f"
            },
            "type": "carpet"
           }
          ],
          "choropleth": [
           {
            "colorbar": {
             "outlinewidth": 0,
             "ticks": ""
            },
            "type": "choropleth"
           }
          ],
          "contour": [
           {
            "colorbar": {
             "outlinewidth": 0,
             "ticks": ""
            },
            "colorscale": [
             [
              0,
              "#0d0887"
             ],
             [
              0.1111111111111111,
              "#46039f"
             ],
             [
              0.2222222222222222,
              "#7201a8"
             ],
             [
              0.3333333333333333,
              "#9c179e"
             ],
             [
              0.4444444444444444,
              "#bd3786"
             ],
             [
              0.5555555555555556,
              "#d8576b"
             ],
             [
              0.6666666666666666,
              "#ed7953"
             ],
             [
              0.7777777777777778,
              "#fb9f3a"
             ],
             [
              0.8888888888888888,
              "#fdca26"
             ],
             [
              1,
              "#f0f921"
             ]
            ],
            "type": "contour"
           }
          ],
          "contourcarpet": [
           {
            "colorbar": {
             "outlinewidth": 0,
             "ticks": ""
            },
            "type": "contourcarpet"
           }
          ],
          "heatmap": [
           {
            "colorbar": {
             "outlinewidth": 0,
             "ticks": ""
            },
            "colorscale": [
             [
              0,
              "#0d0887"
             ],
             [
              0.1111111111111111,
              "#46039f"
             ],
             [
              0.2222222222222222,
              "#7201a8"
             ],
             [
              0.3333333333333333,
              "#9c179e"
             ],
             [
              0.4444444444444444,
              "#bd3786"
             ],
             [
              0.5555555555555556,
              "#d8576b"
             ],
             [
              0.6666666666666666,
              "#ed7953"
             ],
             [
              0.7777777777777778,
              "#fb9f3a"
             ],
             [
              0.8888888888888888,
              "#fdca26"
             ],
             [
              1,
              "#f0f921"
             ]
            ],
            "type": "heatmap"
           }
          ],
          "heatmapgl": [
           {
            "colorbar": {
             "outlinewidth": 0,
             "ticks": ""
            },
            "colorscale": [
             [
              0,
              "#0d0887"
             ],
             [
              0.1111111111111111,
              "#46039f"
             ],
             [
              0.2222222222222222,
              "#7201a8"
             ],
             [
              0.3333333333333333,
              "#9c179e"
             ],
             [
              0.4444444444444444,
              "#bd3786"
             ],
             [
              0.5555555555555556,
              "#d8576b"
             ],
             [
              0.6666666666666666,
              "#ed7953"
             ],
             [
              0.7777777777777778,
              "#fb9f3a"
             ],
             [
              0.8888888888888888,
              "#fdca26"
             ],
             [
              1,
              "#f0f921"
             ]
            ],
            "type": "heatmapgl"
           }
          ],
          "histogram": [
           {
            "marker": {
             "pattern": {
              "fillmode": "overlay",
              "size": 10,
              "solidity": 0.2
             }
            },
            "type": "histogram"
           }
          ],
          "histogram2d": [
           {
            "colorbar": {
             "outlinewidth": 0,
             "ticks": ""
            },
            "colorscale": [
             [
              0,
              "#0d0887"
             ],
             [
              0.1111111111111111,
              "#46039f"
             ],
             [
              0.2222222222222222,
              "#7201a8"
             ],
             [
              0.3333333333333333,
              "#9c179e"
             ],
             [
              0.4444444444444444,
              "#bd3786"
             ],
             [
              0.5555555555555556,
              "#d8576b"
             ],
             [
              0.6666666666666666,
              "#ed7953"
             ],
             [
              0.7777777777777778,
              "#fb9f3a"
             ],
             [
              0.8888888888888888,
              "#fdca26"
             ],
             [
              1,
              "#f0f921"
             ]
            ],
            "type": "histogram2d"
           }
          ],
          "histogram2dcontour": [
           {
            "colorbar": {
             "outlinewidth": 0,
             "ticks": ""
            },
            "colorscale": [
             [
              0,
              "#0d0887"
             ],
             [
              0.1111111111111111,
              "#46039f"
             ],
             [
              0.2222222222222222,
              "#7201a8"
             ],
             [
              0.3333333333333333,
              "#9c179e"
             ],
             [
              0.4444444444444444,
              "#bd3786"
             ],
             [
              0.5555555555555556,
              "#d8576b"
             ],
             [
              0.6666666666666666,
              "#ed7953"
             ],
             [
              0.7777777777777778,
              "#fb9f3a"
             ],
             [
              0.8888888888888888,
              "#fdca26"
             ],
             [
              1,
              "#f0f921"
             ]
            ],
            "type": "histogram2dcontour"
           }
          ],
          "mesh3d": [
           {
            "colorbar": {
             "outlinewidth": 0,
             "ticks": ""
            },
            "type": "mesh3d"
           }
          ],
          "parcoords": [
           {
            "line": {
             "colorbar": {
              "outlinewidth": 0,
              "ticks": ""
             }
            },
            "type": "parcoords"
           }
          ],
          "pie": [
           {
            "automargin": true,
            "type": "pie"
           }
          ],
          "scatter": [
           {
            "fillpattern": {
             "fillmode": "overlay",
             "size": 10,
             "solidity": 0.2
            },
            "type": "scatter"
           }
          ],
          "scatter3d": [
           {
            "line": {
             "colorbar": {
              "outlinewidth": 0,
              "ticks": ""
             }
            },
            "marker": {
             "colorbar": {
              "outlinewidth": 0,
              "ticks": ""
             }
            },
            "type": "scatter3d"
           }
          ],
          "scattercarpet": [
           {
            "marker": {
             "colorbar": {
              "outlinewidth": 0,
              "ticks": ""
             }
            },
            "type": "scattercarpet"
           }
          ],
          "scattergeo": [
           {
            "marker": {
             "colorbar": {
              "outlinewidth": 0,
              "ticks": ""
             }
            },
            "type": "scattergeo"
           }
          ],
          "scattergl": [
           {
            "marker": {
             "colorbar": {
              "outlinewidth": 0,
              "ticks": ""
             }
            },
            "type": "scattergl"
           }
          ],
          "scattermapbox": [
           {
            "marker": {
             "colorbar": {
              "outlinewidth": 0,
              "ticks": ""
             }
            },
            "type": "scattermapbox"
           }
          ],
          "scatterpolar": [
           {
            "marker": {
             "colorbar": {
              "outlinewidth": 0,
              "ticks": ""
             }
            },
            "type": "scatterpolar"
           }
          ],
          "scatterpolargl": [
           {
            "marker": {
             "colorbar": {
              "outlinewidth": 0,
              "ticks": ""
             }
            },
            "type": "scatterpolargl"
           }
          ],
          "scatterternary": [
           {
            "marker": {
             "colorbar": {
              "outlinewidth": 0,
              "ticks": ""
             }
            },
            "type": "scatterternary"
           }
          ],
          "surface": [
           {
            "colorbar": {
             "outlinewidth": 0,
             "ticks": ""
            },
            "colorscale": [
             [
              0,
              "#0d0887"
             ],
             [
              0.1111111111111111,
              "#46039f"
             ],
             [
              0.2222222222222222,
              "#7201a8"
             ],
             [
              0.3333333333333333,
              "#9c179e"
             ],
             [
              0.4444444444444444,
              "#bd3786"
             ],
             [
              0.5555555555555556,
              "#d8576b"
             ],
             [
              0.6666666666666666,
              "#ed7953"
             ],
             [
              0.7777777777777778,
              "#fb9f3a"
             ],
             [
              0.8888888888888888,
              "#fdca26"
             ],
             [
              1,
              "#f0f921"
             ]
            ],
            "type": "surface"
           }
          ],
          "table": [
           {
            "cells": {
             "fill": {
              "color": "#EBF0F8"
             },
             "line": {
              "color": "white"
             }
            },
            "header": {
             "fill": {
              "color": "#C8D4E3"
             },
             "line": {
              "color": "white"
             }
            },
            "type": "table"
           }
          ]
         },
         "layout": {
          "annotationdefaults": {
           "arrowcolor": "#2a3f5f",
           "arrowhead": 0,
           "arrowwidth": 1
          },
          "autotypenumbers": "strict",
          "coloraxis": {
           "colorbar": {
            "outlinewidth": 0,
            "ticks": ""
           }
          },
          "colorscale": {
           "diverging": [
            [
             0,
             "#8e0152"
            ],
            [
             0.1,
             "#c51b7d"
            ],
            [
             0.2,
             "#de77ae"
            ],
            [
             0.3,
             "#f1b6da"
            ],
            [
             0.4,
             "#fde0ef"
            ],
            [
             0.5,
             "#f7f7f7"
            ],
            [
             0.6,
             "#e6f5d0"
            ],
            [
             0.7,
             "#b8e186"
            ],
            [
             0.8,
             "#7fbc41"
            ],
            [
             0.9,
             "#4d9221"
            ],
            [
             1,
             "#276419"
            ]
           ],
           "sequential": [
            [
             0,
             "#0d0887"
            ],
            [
             0.1111111111111111,
             "#46039f"
            ],
            [
             0.2222222222222222,
             "#7201a8"
            ],
            [
             0.3333333333333333,
             "#9c179e"
            ],
            [
             0.4444444444444444,
             "#bd3786"
            ],
            [
             0.5555555555555556,
             "#d8576b"
            ],
            [
             0.6666666666666666,
             "#ed7953"
            ],
            [
             0.7777777777777778,
             "#fb9f3a"
            ],
            [
             0.8888888888888888,
             "#fdca26"
            ],
            [
             1,
             "#f0f921"
            ]
           ],
           "sequentialminus": [
            [
             0,
             "#0d0887"
            ],
            [
             0.1111111111111111,
             "#46039f"
            ],
            [
             0.2222222222222222,
             "#7201a8"
            ],
            [
             0.3333333333333333,
             "#9c179e"
            ],
            [
             0.4444444444444444,
             "#bd3786"
            ],
            [
             0.5555555555555556,
             "#d8576b"
            ],
            [
             0.6666666666666666,
             "#ed7953"
            ],
            [
             0.7777777777777778,
             "#fb9f3a"
            ],
            [
             0.8888888888888888,
             "#fdca26"
            ],
            [
             1,
             "#f0f921"
            ]
           ]
          },
          "colorway": [
           "#636efa",
           "#EF553B",
           "#00cc96",
           "#ab63fa",
           "#FFA15A",
           "#19d3f3",
           "#FF6692",
           "#B6E880",
           "#FF97FF",
           "#FECB52"
          ],
          "font": {
           "color": "#2a3f5f"
          },
          "geo": {
           "bgcolor": "white",
           "lakecolor": "white",
           "landcolor": "#E5ECF6",
           "showlakes": true,
           "showland": true,
           "subunitcolor": "white"
          },
          "hoverlabel": {
           "align": "left"
          },
          "hovermode": "closest",
          "mapbox": {
           "style": "light"
          },
          "paper_bgcolor": "white",
          "plot_bgcolor": "#E5ECF6",
          "polar": {
           "angularaxis": {
            "gridcolor": "white",
            "linecolor": "white",
            "ticks": ""
           },
           "bgcolor": "#E5ECF6",
           "radialaxis": {
            "gridcolor": "white",
            "linecolor": "white",
            "ticks": ""
           }
          },
          "scene": {
           "xaxis": {
            "backgroundcolor": "#E5ECF6",
            "gridcolor": "white",
            "gridwidth": 2,
            "linecolor": "white",
            "showbackground": true,
            "ticks": "",
            "zerolinecolor": "white"
           },
           "yaxis": {
            "backgroundcolor": "#E5ECF6",
            "gridcolor": "white",
            "gridwidth": 2,
            "linecolor": "white",
            "showbackground": true,
            "ticks": "",
            "zerolinecolor": "white"
           },
           "zaxis": {
            "backgroundcolor": "#E5ECF6",
            "gridcolor": "white",
            "gridwidth": 2,
            "linecolor": "white",
            "showbackground": true,
            "ticks": "",
            "zerolinecolor": "white"
           }
          },
          "shapedefaults": {
           "line": {
            "color": "#2a3f5f"
           }
          },
          "ternary": {
           "aaxis": {
            "gridcolor": "white",
            "linecolor": "white",
            "ticks": ""
           },
           "baxis": {
            "gridcolor": "white",
            "linecolor": "white",
            "ticks": ""
           },
           "bgcolor": "#E5ECF6",
           "caxis": {
            "gridcolor": "white",
            "linecolor": "white",
            "ticks": ""
           }
          },
          "title": {
           "x": 0.05
          },
          "xaxis": {
           "automargin": true,
           "gridcolor": "white",
           "linecolor": "white",
           "ticks": "",
           "title": {
            "standoff": 15
           },
           "zerolinecolor": "white",
           "zerolinewidth": 2
          },
          "yaxis": {
           "automargin": true,
           "gridcolor": "white",
           "linecolor": "white",
           "ticks": "",
           "title": {
            "standoff": 15
           },
           "zerolinecolor": "white",
           "zerolinewidth": 2
          }
         }
        },
        "xaxis": {
         "anchor": "y",
         "domain": [
          0,
          1
         ],
         "title": {
          "text": "shopping_mall"
         }
        },
        "yaxis": {
         "anchor": "x",
         "domain": [
          0,
          1
         ],
         "title": {
          "text": "gender"
         }
        }
       }
      }
     },
     "metadata": {},
     "output_type": "display_data"
    }
   ],
   "source": [
    "fig = px.bar(total_cust_per_mall, x='shopping_mall', y='gender')\n",
    "fig.show()"
   ]
  },
  {
   "cell_type": "markdown",
   "metadata": {},
   "source": [
    "### Average price per quantity of category per month for 3 years combined"
   ]
  },
  {
   "cell_type": "code",
   "execution_count": 117,
   "metadata": {},
   "outputs": [
    {
     "data": {
      "text/html": [
       "<div>\n",
       "<style scoped>\n",
       "    .dataframe tbody tr th:only-of-type {\n",
       "        vertical-align: middle;\n",
       "    }\n",
       "\n",
       "    .dataframe tbody tr th {\n",
       "        vertical-align: top;\n",
       "    }\n",
       "\n",
       "    .dataframe thead th {\n",
       "        text-align: right;\n",
       "    }\n",
       "</style>\n",
       "<table border=\"1\" class=\"dataframe\">\n",
       "  <thead>\n",
       "    <tr style=\"text-align: right;\">\n",
       "      <th></th>\n",
       "      <th>month</th>\n",
       "      <th>category</th>\n",
       "      <th>quantity</th>\n",
       "      <th>price</th>\n",
       "    </tr>\n",
       "  </thead>\n",
       "  <tbody>\n",
       "    <tr>\n",
       "      <th>0</th>\n",
       "      <td>April</td>\n",
       "      <td>Books</td>\n",
       "      <td>3.260870</td>\n",
       "      <td>49.402174</td>\n",
       "    </tr>\n",
       "    <tr>\n",
       "      <th>1</th>\n",
       "      <td>April</td>\n",
       "      <td>Clothing</td>\n",
       "      <td>2.981618</td>\n",
       "      <td>894.723824</td>\n",
       "    </tr>\n",
       "    <tr>\n",
       "      <th>2</th>\n",
       "      <td>April</td>\n",
       "      <td>Cosmetics</td>\n",
       "      <td>2.907692</td>\n",
       "      <td>118.226769</td>\n",
       "    </tr>\n",
       "    <tr>\n",
       "      <th>3</th>\n",
       "      <td>April</td>\n",
       "      <td>Food &amp; Beverage</td>\n",
       "      <td>2.877698</td>\n",
       "      <td>15.050360</td>\n",
       "    </tr>\n",
       "    <tr>\n",
       "      <th>4</th>\n",
       "      <td>April</td>\n",
       "      <td>Shoes</td>\n",
       "      <td>2.878049</td>\n",
       "      <td>1727.318537</td>\n",
       "    </tr>\n",
       "    <tr>\n",
       "      <th>...</th>\n",
       "      <td>...</td>\n",
       "      <td>...</td>\n",
       "      <td>...</td>\n",
       "      <td>...</td>\n",
       "    </tr>\n",
       "    <tr>\n",
       "      <th>91</th>\n",
       "      <td>September</td>\n",
       "      <td>Food &amp; Beverage</td>\n",
       "      <td>2.920000</td>\n",
       "      <td>15.271600</td>\n",
       "    </tr>\n",
       "    <tr>\n",
       "      <th>92</th>\n",
       "      <td>September</td>\n",
       "      <td>Shoes</td>\n",
       "      <td>3.023529</td>\n",
       "      <td>1814.631647</td>\n",
       "    </tr>\n",
       "    <tr>\n",
       "      <th>93</th>\n",
       "      <td>September</td>\n",
       "      <td>Souvenir</td>\n",
       "      <td>2.833333</td>\n",
       "      <td>33.235000</td>\n",
       "    </tr>\n",
       "    <tr>\n",
       "      <th>94</th>\n",
       "      <td>September</td>\n",
       "      <td>Technology</td>\n",
       "      <td>2.820513</td>\n",
       "      <td>2961.538462</td>\n",
       "    </tr>\n",
       "    <tr>\n",
       "      <th>95</th>\n",
       "      <td>September</td>\n",
       "      <td>Toys</td>\n",
       "      <td>3.027778</td>\n",
       "      <td>108.515556</td>\n",
       "    </tr>\n",
       "  </tbody>\n",
       "</table>\n",
       "<p>96 rows × 4 columns</p>\n",
       "</div>"
      ],
      "text/plain": [
       "        month         category  quantity        price\n",
       "0       April            Books  3.260870    49.402174\n",
       "1       April         Clothing  2.981618   894.723824\n",
       "2       April        Cosmetics  2.907692   118.226769\n",
       "3       April  Food & Beverage  2.877698    15.050360\n",
       "4       April            Shoes  2.878049  1727.318537\n",
       "..        ...              ...       ...          ...\n",
       "91  September  Food & Beverage  2.920000    15.271600\n",
       "92  September            Shoes  3.023529  1814.631647\n",
       "93  September         Souvenir  2.833333    33.235000\n",
       "94  September       Technology  2.820513  2961.538462\n",
       "95  September             Toys  3.027778   108.515556\n",
       "\n",
       "[96 rows x 4 columns]"
      ]
     },
     "execution_count": 117,
     "metadata": {},
     "output_type": "execute_result"
    }
   ],
   "source": [
    "avg_prc_qcat_mon = dfc.groupby(['month','category']).agg({'quantity':'mean', 'price':'mean'}).reset_index()\n",
    "avg_prc_qcat_mon"
   ]
  },
  {
   "cell_type": "code",
   "execution_count": 125,
   "metadata": {},
   "outputs": [
    {
     "data": {
      "application/vnd.plotly.v1+json": {
       "config": {
        "plotlyServerURL": "https://plot.ly"
       },
       "data": [
        {
         "hovertemplate": "category=%{x}<br>month=April<br>price=%{y}<br>quantity=%{marker.size}<extra></extra>",
         "legendgroup": "Books",
         "marker": {
          "color": "#636efa",
          "size": [
           3.260869565217391
          ],
          "sizemode": "area",
          "sizeref": 0.008709677419354838,
          "symbol": "circle"
         },
         "mode": "markers",
         "name": "Books",
         "orientation": "v",
         "showlegend": true,
         "type": "scatter",
         "x": [
          "Books"
         ],
         "xaxis": "x",
         "y": [
          49.40217391304348
         ],
         "yaxis": "y"
        },
        {
         "hovertemplate": "category=%{x}<br>month=April<br>price=%{y}<br>quantity=%{marker.size}<extra></extra>",
         "legendgroup": "Clothing",
         "marker": {
          "color": "#EF553B",
          "size": [
           2.9816176470588234
          ],
          "sizemode": "area",
          "sizeref": 0.008709677419354838,
          "symbol": "circle"
         },
         "mode": "markers",
         "name": "Clothing",
         "orientation": "v",
         "showlegend": true,
         "type": "scatter",
         "x": [
          "Clothing"
         ],
         "xaxis": "x",
         "y": [
          894.7238235294118
         ],
         "yaxis": "y"
        },
        {
         "hovertemplate": "category=%{x}<br>month=April<br>price=%{y}<br>quantity=%{marker.size}<extra></extra>",
         "legendgroup": "Cosmetics",
         "marker": {
          "color": "#00cc96",
          "size": [
           2.9076923076923076
          ],
          "sizemode": "area",
          "sizeref": 0.008709677419354838,
          "symbol": "circle"
         },
         "mode": "markers",
         "name": "Cosmetics",
         "orientation": "v",
         "showlegend": true,
         "type": "scatter",
         "x": [
          "Cosmetics"
         ],
         "xaxis": "x",
         "y": [
          118.22676923076922
         ],
         "yaxis": "y"
        },
        {
         "hovertemplate": "category=%{x}<br>month=April<br>price=%{y}<br>quantity=%{marker.size}<extra></extra>",
         "legendgroup": "Food & Beverage",
         "marker": {
          "color": "#ab63fa",
          "size": [
           2.8776978417266186
          ],
          "sizemode": "area",
          "sizeref": 0.008709677419354838,
          "symbol": "circle"
         },
         "mode": "markers",
         "name": "Food & Beverage",
         "orientation": "v",
         "showlegend": true,
         "type": "scatter",
         "x": [
          "Food & Beverage"
         ],
         "xaxis": "x",
         "y": [
          15.050359712230216
         ],
         "yaxis": "y"
        },
        {
         "hovertemplate": "category=%{x}<br>month=April<br>price=%{y}<br>quantity=%{marker.size}<extra></extra>",
         "legendgroup": "Shoes",
         "marker": {
          "color": "#FFA15A",
          "size": [
           2.8780487804878048
          ],
          "sizemode": "area",
          "sizeref": 0.008709677419354838,
          "symbol": "circle"
         },
         "mode": "markers",
         "name": "Shoes",
         "orientation": "v",
         "showlegend": true,
         "type": "scatter",
         "x": [
          "Shoes"
         ],
         "xaxis": "x",
         "y": [
          1727.3185365853658
         ],
         "yaxis": "y"
        },
        {
         "hovertemplate": "category=%{x}<br>month=April<br>price=%{y}<br>quantity=%{marker.size}<extra></extra>",
         "legendgroup": "Souvenir",
         "marker": {
          "color": "#19d3f3",
          "size": [
           2.627450980392157
          ],
          "sizemode": "area",
          "sizeref": 0.008709677419354838,
          "symbol": "circle"
         },
         "mode": "markers",
         "name": "Souvenir",
         "orientation": "v",
         "showlegend": true,
         "type": "scatter",
         "x": [
          "Souvenir"
         ],
         "xaxis": "x",
         "y": [
          30.82
         ],
         "yaxis": "y"
        },
        {
         "hovertemplate": "category=%{x}<br>month=April<br>price=%{y}<br>quantity=%{marker.size}<extra></extra>",
         "legendgroup": "Technology",
         "marker": {
          "color": "#FF6692",
          "size": [
           2.9047619047619047
          ],
          "sizemode": "area",
          "sizeref": 0.008709677419354838,
          "symbol": "circle"
         },
         "mode": "markers",
         "name": "Technology",
         "orientation": "v",
         "showlegend": true,
         "type": "scatter",
         "x": [
          "Technology"
         ],
         "xaxis": "x",
         "y": [
          3050
         ],
         "yaxis": "y"
        },
        {
         "hovertemplate": "category=%{x}<br>month=April<br>price=%{y}<br>quantity=%{marker.size}<extra></extra>",
         "legendgroup": "Toys",
         "marker": {
          "color": "#B6E880",
          "size": [
           2.985294117647059
          ],
          "sizemode": "area",
          "sizeref": 0.008709677419354838,
          "symbol": "circle"
         },
         "mode": "markers",
         "name": "Toys",
         "orientation": "v",
         "showlegend": true,
         "type": "scatter",
         "x": [
          "Toys"
         ],
         "xaxis": "x",
         "y": [
          106.9929411764706
         ],
         "yaxis": "y"
        }
       ],
       "frames": [
        {
         "data": [
          {
           "hovertemplate": "category=%{x}<br>month=April<br>price=%{y}<br>quantity=%{marker.size}<extra></extra>",
           "legendgroup": "Books",
           "marker": {
            "color": "#636efa",
            "size": [
             3.260869565217391
            ],
            "sizemode": "area",
            "sizeref": 0.008709677419354838,
            "symbol": "circle"
           },
           "mode": "markers",
           "name": "Books",
           "orientation": "v",
           "showlegend": true,
           "type": "scatter",
           "x": [
            "Books"
           ],
           "xaxis": "x",
           "y": [
            49.40217391304348
           ],
           "yaxis": "y"
          },
          {
           "hovertemplate": "category=%{x}<br>month=April<br>price=%{y}<br>quantity=%{marker.size}<extra></extra>",
           "legendgroup": "Clothing",
           "marker": {
            "color": "#EF553B",
            "size": [
             2.9816176470588234
            ],
            "sizemode": "area",
            "sizeref": 0.008709677419354838,
            "symbol": "circle"
           },
           "mode": "markers",
           "name": "Clothing",
           "orientation": "v",
           "showlegend": true,
           "type": "scatter",
           "x": [
            "Clothing"
           ],
           "xaxis": "x",
           "y": [
            894.7238235294118
           ],
           "yaxis": "y"
          },
          {
           "hovertemplate": "category=%{x}<br>month=April<br>price=%{y}<br>quantity=%{marker.size}<extra></extra>",
           "legendgroup": "Cosmetics",
           "marker": {
            "color": "#00cc96",
            "size": [
             2.9076923076923076
            ],
            "sizemode": "area",
            "sizeref": 0.008709677419354838,
            "symbol": "circle"
           },
           "mode": "markers",
           "name": "Cosmetics",
           "orientation": "v",
           "showlegend": true,
           "type": "scatter",
           "x": [
            "Cosmetics"
           ],
           "xaxis": "x",
           "y": [
            118.22676923076922
           ],
           "yaxis": "y"
          },
          {
           "hovertemplate": "category=%{x}<br>month=April<br>price=%{y}<br>quantity=%{marker.size}<extra></extra>",
           "legendgroup": "Food & Beverage",
           "marker": {
            "color": "#ab63fa",
            "size": [
             2.8776978417266186
            ],
            "sizemode": "area",
            "sizeref": 0.008709677419354838,
            "symbol": "circle"
           },
           "mode": "markers",
           "name": "Food & Beverage",
           "orientation": "v",
           "showlegend": true,
           "type": "scatter",
           "x": [
            "Food & Beverage"
           ],
           "xaxis": "x",
           "y": [
            15.050359712230216
           ],
           "yaxis": "y"
          },
          {
           "hovertemplate": "category=%{x}<br>month=April<br>price=%{y}<br>quantity=%{marker.size}<extra></extra>",
           "legendgroup": "Shoes",
           "marker": {
            "color": "#FFA15A",
            "size": [
             2.8780487804878048
            ],
            "sizemode": "area",
            "sizeref": 0.008709677419354838,
            "symbol": "circle"
           },
           "mode": "markers",
           "name": "Shoes",
           "orientation": "v",
           "showlegend": true,
           "type": "scatter",
           "x": [
            "Shoes"
           ],
           "xaxis": "x",
           "y": [
            1727.3185365853658
           ],
           "yaxis": "y"
          },
          {
           "hovertemplate": "category=%{x}<br>month=April<br>price=%{y}<br>quantity=%{marker.size}<extra></extra>",
           "legendgroup": "Souvenir",
           "marker": {
            "color": "#19d3f3",
            "size": [
             2.627450980392157
            ],
            "sizemode": "area",
            "sizeref": 0.008709677419354838,
            "symbol": "circle"
           },
           "mode": "markers",
           "name": "Souvenir",
           "orientation": "v",
           "showlegend": true,
           "type": "scatter",
           "x": [
            "Souvenir"
           ],
           "xaxis": "x",
           "y": [
            30.82
           ],
           "yaxis": "y"
          },
          {
           "hovertemplate": "category=%{x}<br>month=April<br>price=%{y}<br>quantity=%{marker.size}<extra></extra>",
           "legendgroup": "Technology",
           "marker": {
            "color": "#FF6692",
            "size": [
             2.9047619047619047
            ],
            "sizemode": "area",
            "sizeref": 0.008709677419354838,
            "symbol": "circle"
           },
           "mode": "markers",
           "name": "Technology",
           "orientation": "v",
           "showlegend": true,
           "type": "scatter",
           "x": [
            "Technology"
           ],
           "xaxis": "x",
           "y": [
            3050
           ],
           "yaxis": "y"
          },
          {
           "hovertemplate": "category=%{x}<br>month=April<br>price=%{y}<br>quantity=%{marker.size}<extra></extra>",
           "legendgroup": "Toys",
           "marker": {
            "color": "#B6E880",
            "size": [
             2.985294117647059
            ],
            "sizemode": "area",
            "sizeref": 0.008709677419354838,
            "symbol": "circle"
           },
           "mode": "markers",
           "name": "Toys",
           "orientation": "v",
           "showlegend": true,
           "type": "scatter",
           "x": [
            "Toys"
           ],
           "xaxis": "x",
           "y": [
            106.9929411764706
           ],
           "yaxis": "y"
          }
         ],
         "name": "April"
        },
        {
         "data": [
          {
           "hovertemplate": "category=%{x}<br>month=August<br>price=%{y}<br>quantity=%{marker.size}<extra></extra>",
           "legendgroup": "Books",
           "marker": {
            "color": "#636efa",
            "size": [
             2.7027027027027026
            ],
            "sizemode": "area",
            "sizeref": 0.008709677419354838,
            "symbol": "circle"
           },
           "mode": "markers",
           "name": "Books",
           "orientation": "v",
           "showlegend": true,
           "type": "scatter",
           "x": [
            "Books"
           ],
           "xaxis": "x",
           "y": [
            40.945945945945944
           ],
           "yaxis": "y"
          },
          {
           "hovertemplate": "category=%{x}<br>month=August<br>price=%{y}<br>quantity=%{marker.size}<extra></extra>",
           "legendgroup": "Clothing",
           "marker": {
            "color": "#EF553B",
            "size": [
             2.996153846153846
            ],
            "sizemode": "area",
            "sizeref": 0.008709677419354838,
            "symbol": "circle"
           },
           "mode": "markers",
           "name": "Clothing",
           "orientation": "v",
           "showlegend": true,
           "type": "scatter",
           "x": [
            "Clothing"
           ],
           "xaxis": "x",
           "y": [
            899.0858461538462
           ],
           "yaxis": "y"
          },
          {
           "hovertemplate": "category=%{x}<br>month=August<br>price=%{y}<br>quantity=%{marker.size}<extra></extra>",
           "legendgroup": "Cosmetics",
           "marker": {
            "color": "#00cc96",
            "size": [
             3
            ],
            "sizemode": "area",
            "sizeref": 0.008709677419354838,
            "symbol": "circle"
           },
           "mode": "markers",
           "name": "Cosmetics",
           "orientation": "v",
           "showlegend": true,
           "type": "scatter",
           "x": [
            "Cosmetics"
           ],
           "xaxis": "x",
           "y": [
            121.98
           ],
           "yaxis": "y"
          },
          {
           "hovertemplate": "category=%{x}<br>month=August<br>price=%{y}<br>quantity=%{marker.size}<extra></extra>",
           "legendgroup": "Food & Beverage",
           "marker": {
            "color": "#ab63fa",
            "size": [
             3.2713178294573644
            ],
            "sizemode": "area",
            "sizeref": 0.008709677419354838,
            "symbol": "circle"
           },
           "mode": "markers",
           "name": "Food & Beverage",
           "orientation": "v",
           "showlegend": true,
           "type": "scatter",
           "x": [
            "Food & Beverage"
           ],
           "xaxis": "x",
           "y": [
            17.108992248062016
           ],
           "yaxis": "y"
          },
          {
           "hovertemplate": "category=%{x}<br>month=August<br>price=%{y}<br>quantity=%{marker.size}<extra></extra>",
           "legendgroup": "Shoes",
           "marker": {
            "color": "#FFA15A",
            "size": [
             3.1030927835051547
            ],
            "sizemode": "area",
            "sizeref": 0.008709677419354838,
            "symbol": "circle"
           },
           "mode": "markers",
           "name": "Shoes",
           "orientation": "v",
           "showlegend": true,
           "type": "scatter",
           "x": [
            "Shoes"
           ],
           "xaxis": "x",
           "y": [
            1862.3831958762885
           ],
           "yaxis": "y"
          },
          {
           "hovertemplate": "category=%{x}<br>month=August<br>price=%{y}<br>quantity=%{marker.size}<extra></extra>",
           "legendgroup": "Souvenir",
           "marker": {
            "color": "#19d3f3",
            "size": [
             3
            ],
            "sizemode": "area",
            "sizeref": 0.008709677419354838,
            "symbol": "circle"
           },
           "mode": "markers",
           "name": "Souvenir",
           "orientation": "v",
           "showlegend": true,
           "type": "scatter",
           "x": [
            "Souvenir"
           ],
           "xaxis": "x",
           "y": [
            35.19
           ],
           "yaxis": "y"
          },
          {
           "hovertemplate": "category=%{x}<br>month=August<br>price=%{y}<br>quantity=%{marker.size}<extra></extra>",
           "legendgroup": "Technology",
           "marker": {
            "color": "#FF6692",
            "size": [
             3.0294117647058822
            ],
            "sizemode": "area",
            "sizeref": 0.008709677419354838,
            "symbol": "circle"
           },
           "mode": "markers",
           "name": "Technology",
           "orientation": "v",
           "showlegend": true,
           "type": "scatter",
           "x": [
            "Technology"
           ],
           "xaxis": "x",
           "y": [
            3180.8823529411766
           ],
           "yaxis": "y"
          },
          {
           "hovertemplate": "category=%{x}<br>month=August<br>price=%{y}<br>quantity=%{marker.size}<extra></extra>",
           "legendgroup": "Toys",
           "marker": {
            "color": "#B6E880",
            "size": [
             2.75531914893617
            ],
            "sizemode": "area",
            "sizeref": 0.008709677419354838,
            "symbol": "circle"
           },
           "mode": "markers",
           "name": "Toys",
           "orientation": "v",
           "showlegend": true,
           "type": "scatter",
           "x": [
            "Toys"
           ],
           "xaxis": "x",
           "y": [
            98.75063829787233
           ],
           "yaxis": "y"
          }
         ],
         "name": "August"
        },
        {
         "data": [
          {
           "hovertemplate": "category=%{x}<br>month=December<br>price=%{y}<br>quantity=%{marker.size}<extra></extra>",
           "legendgroup": "Books",
           "marker": {
            "color": "#636efa",
            "size": [
             3.4838709677419355
            ],
            "sizemode": "area",
            "sizeref": 0.008709677419354838,
            "symbol": "circle"
           },
           "mode": "markers",
           "name": "Books",
           "orientation": "v",
           "showlegend": true,
           "type": "scatter",
           "x": [
            "Books"
           ],
           "xaxis": "x",
           "y": [
            52.78064516129032
           ],
           "yaxis": "y"
          },
          {
           "hovertemplate": "category=%{x}<br>month=December<br>price=%{y}<br>quantity=%{marker.size}<extra></extra>",
           "legendgroup": "Clothing",
           "marker": {
            "color": "#EF553B",
            "size": [
             3.147727272727273
            ],
            "sizemode": "area",
            "sizeref": 0.008709677419354838,
            "symbol": "circle"
           },
           "mode": "markers",
           "name": "Clothing",
           "orientation": "v",
           "showlegend": true,
           "type": "scatter",
           "x": [
            "Clothing"
           ],
           "xaxis": "x",
           "y": [
            944.57
           ],
           "yaxis": "y"
          },
          {
           "hovertemplate": "category=%{x}<br>month=December<br>price=%{y}<br>quantity=%{marker.size}<extra></extra>",
           "legendgroup": "Cosmetics",
           "marker": {
            "color": "#00cc96",
            "size": [
             2.890909090909091
            ],
            "sizemode": "area",
            "sizeref": 0.008709677419354838,
            "symbol": "circle"
           },
           "mode": "markers",
           "name": "Cosmetics",
           "orientation": "v",
           "showlegend": true,
           "type": "scatter",
           "x": [
            "Cosmetics"
           ],
           "xaxis": "x",
           "y": [
            117.54436363636363
           ],
           "yaxis": "y"
          },
          {
           "hovertemplate": "category=%{x}<br>month=December<br>price=%{y}<br>quantity=%{marker.size}<extra></extra>",
           "legendgroup": "Food & Beverage",
           "marker": {
            "color": "#ab63fa",
            "size": [
             2.75968992248062
            ],
            "sizemode": "area",
            "sizeref": 0.008709677419354838,
            "symbol": "circle"
           },
           "mode": "markers",
           "name": "Food & Beverage",
           "orientation": "v",
           "showlegend": true,
           "type": "scatter",
           "x": [
            "Food & Beverage"
           ],
           "xaxis": "x",
           "y": [
            14.433178294573644
           ],
           "yaxis": "y"
          },
          {
           "hovertemplate": "category=%{x}<br>month=December<br>price=%{y}<br>quantity=%{marker.size}<extra></extra>",
           "legendgroup": "Shoes",
           "marker": {
            "color": "#FFA15A",
            "size": [
             2.764705882352941
            ],
            "sizemode": "area",
            "sizeref": 0.008709677419354838,
            "symbol": "circle"
           },
           "mode": "markers",
           "name": "Shoes",
           "orientation": "v",
           "showlegend": true,
           "type": "scatter",
           "x": [
            "Shoes"
           ],
           "xaxis": "x",
           "y": [
            1659.2935294117647
           ],
           "yaxis": "y"
          },
          {
           "hovertemplate": "category=%{x}<br>month=December<br>price=%{y}<br>quantity=%{marker.size}<extra></extra>",
           "legendgroup": "Souvenir",
           "marker": {
            "color": "#19d3f3",
            "size": [
             2.586206896551724
            ],
            "sizemode": "area",
            "sizeref": 0.008709677419354838,
            "symbol": "circle"
           },
           "mode": "markers",
           "name": "Souvenir",
           "orientation": "v",
           "showlegend": true,
           "type": "scatter",
           "x": [
            "Souvenir"
           ],
           "xaxis": "x",
           "y": [
            30.336206896551722
           ],
           "yaxis": "y"
          },
          {
           "hovertemplate": "category=%{x}<br>month=December<br>price=%{y}<br>quantity=%{marker.size}<extra></extra>",
           "legendgroup": "Technology",
           "marker": {
            "color": "#FF6692",
            "size": [
             3.1132075471698113
            ],
            "sizemode": "area",
            "sizeref": 0.008709677419354838,
            "symbol": "circle"
           },
           "mode": "markers",
           "name": "Technology",
           "orientation": "v",
           "showlegend": true,
           "type": "scatter",
           "x": [
            "Technology"
           ],
           "xaxis": "x",
           "y": [
            3268.867924528302
           ],
           "yaxis": "y"
          },
          {
           "hovertemplate": "category=%{x}<br>month=December<br>price=%{y}<br>quantity=%{marker.size}<extra></extra>",
           "legendgroup": "Toys",
           "marker": {
            "color": "#B6E880",
            "size": [
             2.934065934065934
            ],
            "sizemode": "area",
            "sizeref": 0.008709677419354838,
            "symbol": "circle"
           },
           "mode": "markers",
           "name": "Toys",
           "orientation": "v",
           "showlegend": true,
           "type": "scatter",
           "x": [
            "Toys"
           ],
           "xaxis": "x",
           "y": [
            105.15692307692308
           ],
           "yaxis": "y"
          }
         ],
         "name": "December"
        },
        {
         "data": [
          {
           "hovertemplate": "category=%{x}<br>month=February<br>price=%{y}<br>quantity=%{marker.size}<extra></extra>",
           "legendgroup": "Books",
           "marker": {
            "color": "#636efa",
            "size": [
             2.8222222222222224
            ],
            "sizemode": "area",
            "sizeref": 0.008709677419354838,
            "symbol": "circle"
           },
           "mode": "markers",
           "name": "Books",
           "orientation": "v",
           "showlegend": true,
           "type": "scatter",
           "x": [
            "Books"
           ],
           "xaxis": "x",
           "y": [
            42.75666666666667
           ],
           "yaxis": "y"
          },
          {
           "hovertemplate": "category=%{x}<br>month=February<br>price=%{y}<br>quantity=%{marker.size}<extra></extra>",
           "legendgroup": "Clothing",
           "marker": {
            "color": "#EF553B",
            "size": [
             2.9309210526315788
            ],
            "sizemode": "area",
            "sizeref": 0.008709677419354838,
            "symbol": "circle"
           },
           "mode": "markers",
           "name": "Clothing",
           "orientation": "v",
           "showlegend": true,
           "type": "scatter",
           "x": [
            "Clothing"
           ],
           "xaxis": "x",
           "y": [
            879.5107894736841
           ],
           "yaxis": "y"
          },
          {
           "hovertemplate": "category=%{x}<br>month=February<br>price=%{y}<br>quantity=%{marker.size}<extra></extra>",
           "legendgroup": "Cosmetics",
           "marker": {
            "color": "#00cc96",
            "size": [
             2.9140625
            ],
            "sizemode": "area",
            "sizeref": 0.008709677419354838,
            "symbol": "circle"
           },
           "mode": "markers",
           "name": "Cosmetics",
           "orientation": "v",
           "showlegend": true,
           "type": "scatter",
           "x": [
            "Cosmetics"
           ],
           "xaxis": "x",
           "y": [
            118.48578125
           ],
           "yaxis": "y"
          },
          {
           "hovertemplate": "category=%{x}<br>month=February<br>price=%{y}<br>quantity=%{marker.size}<extra></extra>",
           "legendgroup": "Food & Beverage",
           "marker": {
            "color": "#ab63fa",
            "size": [
             3.0588235294117645
            ],
            "sizemode": "area",
            "sizeref": 0.008709677419354838,
            "symbol": "circle"
           },
           "mode": "markers",
           "name": "Food & Beverage",
           "orientation": "v",
           "showlegend": true,
           "type": "scatter",
           "x": [
            "Food & Beverage"
           ],
           "xaxis": "x",
           "y": [
            17.618151260504202
           ],
           "yaxis": "y"
          },
          {
           "hovertemplate": "category=%{x}<br>month=February<br>price=%{y}<br>quantity=%{marker.size}<extra></extra>",
           "legendgroup": "Shoes",
           "marker": {
            "color": "#FFA15A",
            "size": [
             3.0823529411764707
            ],
            "sizemode": "area",
            "sizeref": 0.008709677419354838,
            "symbol": "circle"
           },
           "mode": "markers",
           "name": "Shoes",
           "orientation": "v",
           "showlegend": true,
           "type": "scatter",
           "x": [
            "Shoes"
           ],
           "xaxis": "x",
           "y": [
            1849.9357647058825
           ],
           "yaxis": "y"
          },
          {
           "hovertemplate": "category=%{x}<br>month=February<br>price=%{y}<br>quantity=%{marker.size}<extra></extra>",
           "legendgroup": "Souvenir",
           "marker": {
            "color": "#19d3f3",
            "size": [
             3.1923076923076925
            ],
            "sizemode": "area",
            "sizeref": 0.008709677419354838,
            "symbol": "circle"
           },
           "mode": "markers",
           "name": "Souvenir",
           "orientation": "v",
           "showlegend": true,
           "type": "scatter",
           "x": [
            "Souvenir"
           ],
           "xaxis": "x",
           "y": [
            37.44576923076923
           ],
           "yaxis": "y"
          },
          {
           "hovertemplate": "category=%{x}<br>month=February<br>price=%{y}<br>quantity=%{marker.size}<extra></extra>",
           "legendgroup": "Technology",
           "marker": {
            "color": "#FF6692",
            "size": [
             2.933333333333333
            ],
            "sizemode": "area",
            "sizeref": 0.008709677419354838,
            "symbol": "circle"
           },
           "mode": "markers",
           "name": "Technology",
           "orientation": "v",
           "showlegend": true,
           "type": "scatter",
           "x": [
            "Technology"
           ],
           "xaxis": "x",
           "y": [
            3080
           ],
           "yaxis": "y"
          },
          {
           "hovertemplate": "category=%{x}<br>month=February<br>price=%{y}<br>quantity=%{marker.size}<extra></extra>",
           "legendgroup": "Toys",
           "marker": {
            "color": "#B6E880",
            "size": [
             2.9098360655737703
            ],
            "sizemode": "area",
            "sizeref": 0.008709677419354838,
            "symbol": "circle"
           },
           "mode": "markers",
           "name": "Toys",
           "orientation": "v",
           "showlegend": true,
           "type": "scatter",
           "x": [
            "Toys"
           ],
           "xaxis": "x",
           "y": [
            104.28852459016395
           ],
           "yaxis": "y"
          }
         ],
         "name": "February"
        },
        {
         "data": [
          {
           "hovertemplate": "category=%{x}<br>month=January<br>price=%{y}<br>quantity=%{marker.size}<extra></extra>",
           "legendgroup": "Books",
           "marker": {
            "color": "#636efa",
            "size": [
             3.066666666666667
            ],
            "sizemode": "area",
            "sizeref": 0.008709677419354838,
            "symbol": "circle"
           },
           "mode": "markers",
           "name": "Books",
           "orientation": "v",
           "showlegend": true,
           "type": "scatter",
           "x": [
            "Books"
           ],
           "xaxis": "x",
           "y": [
            46.46
           ],
           "yaxis": "y"
          },
          {
           "hovertemplate": "category=%{x}<br>month=January<br>price=%{y}<br>quantity=%{marker.size}<extra></extra>",
           "legendgroup": "Clothing",
           "marker": {
            "color": "#EF553B",
            "size": [
             2.9109792284866467
            ],
            "sizemode": "area",
            "sizeref": 0.008709677419354838,
            "symbol": "circle"
           },
           "mode": "markers",
           "name": "Clothing",
           "orientation": "v",
           "showlegend": true,
           "type": "scatter",
           "x": [
            "Clothing"
           ],
           "xaxis": "x",
           "y": [
            873.526646884273
           ],
           "yaxis": "y"
          },
          {
           "hovertemplate": "category=%{x}<br>month=January<br>price=%{y}<br>quantity=%{marker.size}<extra></extra>",
           "legendgroup": "Cosmetics",
           "marker": {
            "color": "#00cc96",
            "size": [
             3.0903225806451613
            ],
            "sizemode": "area",
            "sizeref": 0.008709677419354838,
            "symbol": "circle"
           },
           "mode": "markers",
           "name": "Cosmetics",
           "orientation": "v",
           "showlegend": true,
           "type": "scatter",
           "x": [
            "Cosmetics"
           ],
           "xaxis": "x",
           "y": [
            125.65251612903225
           ],
           "yaxis": "y"
          },
          {
           "hovertemplate": "category=%{x}<br>month=January<br>price=%{y}<br>quantity=%{marker.size}<extra></extra>",
           "legendgroup": "Food & Beverage",
           "marker": {
            "color": "#ab63fa",
            "size": [
             3.045112781954887
            ],
            "sizemode": "area",
            "sizeref": 0.008709677419354838,
            "symbol": "circle"
           },
           "mode": "markers",
           "name": "Food & Beverage",
           "orientation": "v",
           "showlegend": true,
           "type": "scatter",
           "x": [
            "Food & Beverage"
           ],
           "xaxis": "x",
           "y": [
            15.925939849624061
           ],
           "yaxis": "y"
          },
          {
           "hovertemplate": "category=%{x}<br>month=January<br>price=%{y}<br>quantity=%{marker.size}<extra></extra>",
           "legendgroup": "Shoes",
           "marker": {
            "color": "#FFA15A",
            "size": [
             3.024
            ],
            "sizemode": "area",
            "sizeref": 0.008709677419354838,
            "symbol": "circle"
           },
           "mode": "markers",
           "name": "Shoes",
           "orientation": "v",
           "showlegend": true,
           "type": "scatter",
           "x": [
            "Shoes"
           ],
           "xaxis": "x",
           "y": [
            1814.9140799999998
           ],
           "yaxis": "y"
          },
          {
           "hovertemplate": "category=%{x}<br>month=January<br>price=%{y}<br>quantity=%{marker.size}<extra></extra>",
           "legendgroup": "Souvenir",
           "marker": {
            "color": "#19d3f3",
            "size": [
             2.8636363636363638
            ],
            "sizemode": "area",
            "sizeref": 0.008709677419354838,
            "symbol": "circle"
           },
           "mode": "markers",
           "name": "Souvenir",
           "orientation": "v",
           "showlegend": true,
           "type": "scatter",
           "x": [
            "Souvenir"
           ],
           "xaxis": "x",
           "y": [
            33.59045454545454
           ],
           "yaxis": "y"
          },
          {
           "hovertemplate": "category=%{x}<br>month=January<br>price=%{y}<br>quantity=%{marker.size}<extra></extra>",
           "legendgroup": "Technology",
           "marker": {
            "color": "#FF6692",
            "size": [
             3.066666666666667
            ],
            "sizemode": "area",
            "sizeref": 0.008709677419354838,
            "symbol": "circle"
           },
           "mode": "markers",
           "name": "Technology",
           "orientation": "v",
           "showlegend": true,
           "type": "scatter",
           "x": [
            "Technology"
           ],
           "xaxis": "x",
           "y": [
            3220
           ],
           "yaxis": "y"
          },
          {
           "hovertemplate": "category=%{x}<br>month=January<br>price=%{y}<br>quantity=%{marker.size}<extra></extra>",
           "legendgroup": "Toys",
           "marker": {
            "color": "#B6E880",
            "size": [
             3
            ],
            "sizemode": "area",
            "sizeref": 0.008709677419354838,
            "symbol": "circle"
           },
           "mode": "markers",
           "name": "Toys",
           "orientation": "v",
           "showlegend": true,
           "type": "scatter",
           "x": [
            "Toys"
           ],
           "xaxis": "x",
           "y": [
            107.52
           ],
           "yaxis": "y"
          }
         ],
         "name": "January"
        },
        {
         "data": [
          {
           "hovertemplate": "category=%{x}<br>month=July<br>price=%{y}<br>quantity=%{marker.size}<extra></extra>",
           "legendgroup": "Books",
           "marker": {
            "color": "#636efa",
            "size": [
             2.5135135135135136
            ],
            "sizemode": "area",
            "sizeref": 0.008709677419354838,
            "symbol": "circle"
           },
           "mode": "markers",
           "name": "Books",
           "orientation": "v",
           "showlegend": true,
           "type": "scatter",
           "x": [
            "Books"
           ],
           "xaxis": "x",
           "y": [
            38.07972972972973
           ],
           "yaxis": "y"
          },
          {
           "hovertemplate": "category=%{x}<br>month=July<br>price=%{y}<br>quantity=%{marker.size}<extra></extra>",
           "legendgroup": "Clothing",
           "marker": {
            "color": "#EF553B",
            "size": [
             3.116504854368932
            ],
            "sizemode": "area",
            "sizeref": 0.008709677419354838,
            "symbol": "circle"
           },
           "mode": "markers",
           "name": "Clothing",
           "orientation": "v",
           "showlegend": true,
           "type": "scatter",
           "x": [
            "Clothing"
           ],
           "xaxis": "x",
           "y": [
            935.200776699029
           ],
           "yaxis": "y"
          },
          {
           "hovertemplate": "category=%{x}<br>month=July<br>price=%{y}<br>quantity=%{marker.size}<extra></extra>",
           "legendgroup": "Cosmetics",
           "marker": {
            "color": "#00cc96",
            "size": [
             3.0840336134453783
            ],
            "sizemode": "area",
            "sizeref": 0.008709677419354838,
            "symbol": "circle"
           },
           "mode": "markers",
           "name": "Cosmetics",
           "orientation": "v",
           "showlegend": true,
           "type": "scatter",
           "x": [
            "Cosmetics"
           ],
           "xaxis": "x",
           "y": [
            125.39680672268906
           ],
           "yaxis": "y"
          },
          {
           "hovertemplate": "category=%{x}<br>month=July<br>price=%{y}<br>quantity=%{marker.size}<extra></extra>",
           "legendgroup": "Food & Beverage",
           "marker": {
            "color": "#ab63fa",
            "size": [
             2.9565217391304346
            ],
            "sizemode": "area",
            "sizeref": 0.008709677419354838,
            "symbol": "circle"
           },
           "mode": "markers",
           "name": "Food & Beverage",
           "orientation": "v",
           "showlegend": true,
           "type": "scatter",
           "x": [
            "Food & Beverage"
           ],
           "xaxis": "x",
           "y": [
            15.462608695652174
           ],
           "yaxis": "y"
          },
          {
           "hovertemplate": "category=%{x}<br>month=July<br>price=%{y}<br>quantity=%{marker.size}<extra></extra>",
           "legendgroup": "Shoes",
           "marker": {
            "color": "#FFA15A",
            "size": [
             3.3846153846153846
            ],
            "sizemode": "area",
            "sizeref": 0.008709677419354838,
            "symbol": "circle"
           },
           "mode": "markers",
           "name": "Shoes",
           "orientation": "v",
           "showlegend": true,
           "type": "scatter",
           "x": [
            "Shoes"
           ],
           "xaxis": "x",
           "y": [
            2031.3446153846153
           ],
           "yaxis": "y"
          },
          {
           "hovertemplate": "category=%{x}<br>month=July<br>price=%{y}<br>quantity=%{marker.size}<extra></extra>",
           "legendgroup": "Souvenir",
           "marker": {
            "color": "#19d3f3",
            "size": [
             3.4545454545454546
            ],
            "sizemode": "area",
            "sizeref": 0.008709677419354838,
            "symbol": "circle"
           },
           "mode": "markers",
           "name": "Souvenir",
           "orientation": "v",
           "showlegend": true,
           "type": "scatter",
           "x": [
            "Souvenir"
           ],
           "xaxis": "x",
           "y": [
            40.52181818181818
           ],
           "yaxis": "y"
          },
          {
           "hovertemplate": "category=%{x}<br>month=July<br>price=%{y}<br>quantity=%{marker.size}<extra></extra>",
           "legendgroup": "Technology",
           "marker": {
            "color": "#FF6692",
            "size": [
             2.918918918918919
            ],
            "sizemode": "area",
            "sizeref": 0.008709677419354838,
            "symbol": "circle"
           },
           "mode": "markers",
           "name": "Technology",
           "orientation": "v",
           "showlegend": true,
           "type": "scatter",
           "x": [
            "Technology"
           ],
           "xaxis": "x",
           "y": [
            3064.864864864865
           ],
           "yaxis": "y"
          },
          {
           "hovertemplate": "category=%{x}<br>month=July<br>price=%{y}<br>quantity=%{marker.size}<extra></extra>",
           "legendgroup": "Toys",
           "marker": {
            "color": "#B6E880",
            "size": [
             2.8068181818181817
            ],
            "sizemode": "area",
            "sizeref": 0.008709677419354838,
            "symbol": "circle"
           },
           "mode": "markers",
           "name": "Toys",
           "orientation": "v",
           "showlegend": true,
           "type": "scatter",
           "x": [
            "Toys"
           ],
           "xaxis": "x",
           "y": [
            100.59636363636363
           ],
           "yaxis": "y"
          }
         ],
         "name": "July"
        },
        {
         "data": [
          {
           "hovertemplate": "category=%{x}<br>month=June<br>price=%{y}<br>quantity=%{marker.size}<extra></extra>",
           "legendgroup": "Books",
           "marker": {
            "color": "#636efa",
            "size": [
             3.1578947368421053
            ],
            "sizemode": "area",
            "sizeref": 0.008709677419354838,
            "symbol": "circle"
           },
           "mode": "markers",
           "name": "Books",
           "orientation": "v",
           "showlegend": true,
           "type": "scatter",
           "x": [
            "Books"
           ],
           "xaxis": "x",
           "y": [
            47.8421052631579
           ],
           "yaxis": "y"
          },
          {
           "hovertemplate": "category=%{x}<br>month=June<br>price=%{y}<br>quantity=%{marker.size}<extra></extra>",
           "legendgroup": "Clothing",
           "marker": {
            "color": "#EF553B",
            "size": [
             3.02135231316726
            ],
            "sizemode": "area",
            "sizeref": 0.008709677419354838,
            "symbol": "circle"
           },
           "mode": "markers",
           "name": "Clothing",
           "orientation": "v",
           "showlegend": true,
           "type": "scatter",
           "x": [
            "Clothing"
           ],
           "xaxis": "x",
           "y": [
            906.6474021352313
           ],
           "yaxis": "y"
          },
          {
           "hovertemplate": "category=%{x}<br>month=June<br>price=%{y}<br>quantity=%{marker.size}<extra></extra>",
           "legendgroup": "Cosmetics",
           "marker": {
            "color": "#00cc96",
            "size": [
             2.7244094488188977
            ],
            "sizemode": "area",
            "sizeref": 0.008709677419354838,
            "symbol": "circle"
           },
           "mode": "markers",
           "name": "Cosmetics",
           "orientation": "v",
           "showlegend": true,
           "type": "scatter",
           "x": [
            "Cosmetics"
           ],
           "xaxis": "x",
           "y": [
            110.77448818897638
           ],
           "yaxis": "y"
          },
          {
           "hovertemplate": "category=%{x}<br>month=June<br>price=%{y}<br>quantity=%{marker.size}<extra></extra>",
           "legendgroup": "Food & Beverage",
           "marker": {
            "color": "#ab63fa",
            "size": [
             3.232142857142857
            ],
            "sizemode": "area",
            "sizeref": 0.008709677419354838,
            "symbol": "circle"
           },
           "mode": "markers",
           "name": "Food & Beverage",
           "orientation": "v",
           "showlegend": true,
           "type": "scatter",
           "x": [
            "Food & Beverage"
           ],
           "xaxis": "x",
           "y": [
            16.904107142857143
           ],
           "yaxis": "y"
          },
          {
           "hovertemplate": "category=%{x}<br>month=June<br>price=%{y}<br>quantity=%{marker.size}<extra></extra>",
           "legendgroup": "Shoes",
           "marker": {
            "color": "#FFA15A",
            "size": [
             3.1333333333333333
            ],
            "sizemode": "area",
            "sizeref": 0.008709677419354838,
            "symbol": "circle"
           },
           "mode": "markers",
           "name": "Shoes",
           "orientation": "v",
           "showlegend": true,
           "type": "scatter",
           "x": [
            "Shoes"
           ],
           "xaxis": "x",
           "y": [
            1880.5326666666665
           ],
           "yaxis": "y"
          },
          {
           "hovertemplate": "category=%{x}<br>month=June<br>price=%{y}<br>quantity=%{marker.size}<extra></extra>",
           "legendgroup": "Souvenir",
           "marker": {
            "color": "#19d3f3",
            "size": [
             3.0444444444444443
            ],
            "sizemode": "area",
            "sizeref": 0.008709677419354838,
            "symbol": "circle"
           },
           "mode": "markers",
           "name": "Souvenir",
           "orientation": "v",
           "showlegend": true,
           "type": "scatter",
           "x": [
            "Souvenir"
           ],
           "xaxis": "x",
           "y": [
            35.711333333333336
           ],
           "yaxis": "y"
          },
          {
           "hovertemplate": "category=%{x}<br>month=June<br>price=%{y}<br>quantity=%{marker.size}<extra></extra>",
           "legendgroup": "Technology",
           "marker": {
            "color": "#FF6692",
            "size": [
             3.1951219512195124
            ],
            "sizemode": "area",
            "sizeref": 0.008709677419354838,
            "symbol": "circle"
           },
           "mode": "markers",
           "name": "Technology",
           "orientation": "v",
           "showlegend": true,
           "type": "scatter",
           "x": [
            "Technology"
           ],
           "xaxis": "x",
           "y": [
            3354.878048780488
           ],
           "yaxis": "y"
          },
          {
           "hovertemplate": "category=%{x}<br>month=June<br>price=%{y}<br>quantity=%{marker.size}<extra></extra>",
           "legendgroup": "Toys",
           "marker": {
            "color": "#B6E880",
            "size": [
             2.9625
            ],
            "sizemode": "area",
            "sizeref": 0.008709677419354838,
            "symbol": "circle"
           },
           "mode": "markers",
           "name": "Toys",
           "orientation": "v",
           "showlegend": true,
           "type": "scatter",
           "x": [
            "Toys"
           ],
           "xaxis": "x",
           "y": [
            106.176
           ],
           "yaxis": "y"
          }
         ],
         "name": "June"
        },
        {
         "data": [
          {
           "hovertemplate": "category=%{x}<br>month=March<br>price=%{y}<br>quantity=%{marker.size}<extra></extra>",
           "legendgroup": "Books",
           "marker": {
            "color": "#636efa",
            "size": [
             2.9148936170212765
            ],
            "sizemode": "area",
            "sizeref": 0.008709677419354838,
            "symbol": "circle"
           },
           "mode": "markers",
           "name": "Books",
           "orientation": "v",
           "showlegend": true,
           "type": "scatter",
           "x": [
            "Books"
           ],
           "xaxis": "x",
           "y": [
            44.160638297872346
           ],
           "yaxis": "y"
          },
          {
           "hovertemplate": "category=%{x}<br>month=March<br>price=%{y}<br>quantity=%{marker.size}<extra></extra>",
           "legendgroup": "Clothing",
           "marker": {
            "color": "#EF553B",
            "size": [
             2.9562289562289563
            ],
            "sizemode": "area",
            "sizeref": 0.008709677419354838,
            "symbol": "circle"
           },
           "mode": "markers",
           "name": "Clothing",
           "orientation": "v",
           "showlegend": true,
           "type": "scatter",
           "x": [
            "Clothing"
           ],
           "xaxis": "x",
           "y": [
            887.1051851851852
           ],
           "yaxis": "y"
          },
          {
           "hovertemplate": "category=%{x}<br>month=March<br>price=%{y}<br>quantity=%{marker.size}<extra></extra>",
           "legendgroup": "Cosmetics",
           "marker": {
            "color": "#00cc96",
            "size": [
             2.8308823529411766
            ],
            "sizemode": "area",
            "sizeref": 0.008709677419354838,
            "symbol": "circle"
           },
           "mode": "markers",
           "name": "Cosmetics",
           "orientation": "v",
           "showlegend": true,
           "type": "scatter",
           "x": [
            "Cosmetics"
           ],
           "xaxis": "x",
           "y": [
            115.10367647058824
           ],
           "yaxis": "y"
          },
          {
           "hovertemplate": "category=%{x}<br>month=March<br>price=%{y}<br>quantity=%{marker.size}<extra></extra>",
           "legendgroup": "Food & Beverage",
           "marker": {
            "color": "#ab63fa",
            "size": [
             3.017543859649123
            ],
            "sizemode": "area",
            "sizeref": 0.008709677419354838,
            "symbol": "circle"
           },
           "mode": "markers",
           "name": "Food & Beverage",
           "orientation": "v",
           "showlegend": true,
           "type": "scatter",
           "x": [
            "Food & Beverage"
           ],
           "xaxis": "x",
           "y": [
            15.781754385964913
           ],
           "yaxis": "y"
          },
          {
           "hovertemplate": "category=%{x}<br>month=March<br>price=%{y}<br>quantity=%{marker.size}<extra></extra>",
           "legendgroup": "Shoes",
           "marker": {
            "color": "#FFA15A",
            "size": [
             2.9504950495049505
            ],
            "sizemode": "area",
            "sizeref": 0.008709677419354838,
            "symbol": "circle"
           },
           "mode": "markers",
           "name": "Shoes",
           "orientation": "v",
           "showlegend": true,
           "type": "scatter",
           "x": [
            "Shoes"
           ],
           "xaxis": "x",
           "y": [
            1770.7986138613862
           ],
           "yaxis": "y"
          },
          {
           "hovertemplate": "category=%{x}<br>month=March<br>price=%{y}<br>quantity=%{marker.size}<extra></extra>",
           "legendgroup": "Souvenir",
           "marker": {
            "color": "#19d3f3",
            "size": [
             3.025
            ],
            "sizemode": "area",
            "sizeref": 0.008709677419354838,
            "symbol": "circle"
           },
           "mode": "markers",
           "name": "Souvenir",
           "orientation": "v",
           "showlegend": true,
           "type": "scatter",
           "x": [
            "Souvenir"
           ],
           "xaxis": "x",
           "y": [
            35.48325
           ],
           "yaxis": "y"
          },
          {
           "hovertemplate": "category=%{x}<br>month=March<br>price=%{y}<br>quantity=%{marker.size}<extra></extra>",
           "legendgroup": "Technology",
           "marker": {
            "color": "#FF6692",
            "size": [
             2.8048780487804876
            ],
            "sizemode": "area",
            "sizeref": 0.008709677419354838,
            "symbol": "circle"
           },
           "mode": "markers",
           "name": "Technology",
           "orientation": "v",
           "showlegend": true,
           "type": "scatter",
           "x": [
            "Technology"
           ],
           "xaxis": "x",
           "y": [
            2945.121951219512
           ],
           "yaxis": "y"
          },
          {
           "hovertemplate": "category=%{x}<br>month=March<br>price=%{y}<br>quantity=%{marker.size}<extra></extra>",
           "legendgroup": "Toys",
           "marker": {
            "color": "#B6E880",
            "size": [
             3.1666666666666665
            ],
            "sizemode": "area",
            "sizeref": 0.008709677419354838,
            "symbol": "circle"
           },
           "mode": "markers",
           "name": "Toys",
           "orientation": "v",
           "showlegend": true,
           "type": "scatter",
           "x": [
            "Toys"
           ],
           "xaxis": "x",
           "y": [
            113.49333333333334
           ],
           "yaxis": "y"
          }
         ],
         "name": "March"
        },
        {
         "data": [
          {
           "hovertemplate": "category=%{x}<br>month=May<br>price=%{y}<br>quantity=%{marker.size}<extra></extra>",
           "legendgroup": "Books",
           "marker": {
            "color": "#636efa",
            "size": [
             3.1515151515151514
            ],
            "sizemode": "area",
            "sizeref": 0.008709677419354838,
            "symbol": "circle"
           },
           "mode": "markers",
           "name": "Books",
           "orientation": "v",
           "showlegend": true,
           "type": "scatter",
           "x": [
            "Books"
           ],
           "xaxis": "x",
           "y": [
            47.74545454545454
           ],
           "yaxis": "y"
          },
          {
           "hovertemplate": "category=%{x}<br>month=May<br>price=%{y}<br>quantity=%{marker.size}<extra></extra>",
           "legendgroup": "Clothing",
           "marker": {
            "color": "#EF553B",
            "size": [
             2.9338235294117645
            ],
            "sizemode": "area",
            "sizeref": 0.008709677419354838,
            "symbol": "circle"
           },
           "mode": "markers",
           "name": "Clothing",
           "orientation": "v",
           "showlegend": true,
           "type": "scatter",
           "x": [
            "Clothing"
           ],
           "xaxis": "x",
           "y": [
            880.3817647058823
           ],
           "yaxis": "y"
          },
          {
           "hovertemplate": "category=%{x}<br>month=May<br>price=%{y}<br>quantity=%{marker.size}<extra></extra>",
           "legendgroup": "Cosmetics",
           "marker": {
            "color": "#00cc96",
            "size": [
             3.0163934426229506
            ],
            "sizemode": "area",
            "sizeref": 0.008709677419354838,
            "symbol": "circle"
           },
           "mode": "markers",
           "name": "Cosmetics",
           "orientation": "v",
           "showlegend": true,
           "type": "scatter",
           "x": [
            "Cosmetics"
           ],
           "xaxis": "x",
           "y": [
            122.64655737704918
           ],
           "yaxis": "y"
          },
          {
           "hovertemplate": "category=%{x}<br>month=May<br>price=%{y}<br>quantity=%{marker.size}<extra></extra>",
           "legendgroup": "Food & Beverage",
           "marker": {
            "color": "#ab63fa",
            "size": [
             3.0296296296296297
            ],
            "sizemode": "area",
            "sizeref": 0.008709677419354838,
            "symbol": "circle"
           },
           "mode": "markers",
           "name": "Food & Beverage",
           "orientation": "v",
           "showlegend": true,
           "type": "scatter",
           "x": [
            "Food & Beverage"
           ],
           "xaxis": "x",
           "y": [
            15.844962962962963
           ],
           "yaxis": "y"
          },
          {
           "hovertemplate": "category=%{x}<br>month=May<br>price=%{y}<br>quantity=%{marker.size}<extra></extra>",
           "legendgroup": "Shoes",
           "marker": {
            "color": "#FFA15A",
            "size": [
             3.101123595505618
            ],
            "sizemode": "area",
            "sizeref": 0.008709677419354838,
            "symbol": "circle"
           },
           "mode": "markers",
           "name": "Shoes",
           "orientation": "v",
           "showlegend": true,
           "type": "scatter",
           "x": [
            "Shoes"
           ],
           "xaxis": "x",
           "y": [
            1861.2013483146065
           ],
           "yaxis": "y"
          },
          {
           "hovertemplate": "category=%{x}<br>month=May<br>price=%{y}<br>quantity=%{marker.size}<extra></extra>",
           "legendgroup": "Souvenir",
           "marker": {
            "color": "#19d3f3",
            "size": [
             2.5161290322580645
            ],
            "sizemode": "area",
            "sizeref": 0.008709677419354838,
            "symbol": "circle"
           },
           "mode": "markers",
           "name": "Souvenir",
           "orientation": "v",
           "showlegend": true,
           "type": "scatter",
           "x": [
            "Souvenir"
           ],
           "xaxis": "x",
           "y": [
            29.514193548387095
           ],
           "yaxis": "y"
          },
          {
           "hovertemplate": "category=%{x}<br>month=May<br>price=%{y}<br>quantity=%{marker.size}<extra></extra>",
           "legendgroup": "Technology",
           "marker": {
            "color": "#FF6692",
            "size": [
             3.076923076923077
            ],
            "sizemode": "area",
            "sizeref": 0.008709677419354838,
            "symbol": "circle"
           },
           "mode": "markers",
           "name": "Technology",
           "orientation": "v",
           "showlegend": true,
           "type": "scatter",
           "x": [
            "Technology"
           ],
           "xaxis": "x",
           "y": [
            3230.769230769231
           ],
           "yaxis": "y"
          },
          {
           "hovertemplate": "category=%{x}<br>month=May<br>price=%{y}<br>quantity=%{marker.size}<extra></extra>",
           "legendgroup": "Toys",
           "marker": {
            "color": "#B6E880",
            "size": [
             2.9135802469135803
            ],
            "sizemode": "area",
            "sizeref": 0.008709677419354838,
            "symbol": "circle"
           },
           "mode": "markers",
           "name": "Toys",
           "orientation": "v",
           "showlegend": true,
           "type": "scatter",
           "x": [
            "Toys"
           ],
           "xaxis": "x",
           "y": [
            104.42271604938271
           ],
           "yaxis": "y"
          }
         ],
         "name": "May"
        },
        {
         "data": [
          {
           "hovertemplate": "category=%{x}<br>month=November<br>price=%{y}<br>quantity=%{marker.size}<extra></extra>",
           "legendgroup": "Books",
           "marker": {
            "color": "#636efa",
            "size": [
             2.7948717948717947
            ],
            "sizemode": "area",
            "sizeref": 0.008709677419354838,
            "symbol": "circle"
           },
           "mode": "markers",
           "name": "Books",
           "orientation": "v",
           "showlegend": true,
           "type": "scatter",
           "x": [
            "Books"
           ],
           "xaxis": "x",
           "y": [
            42.34230769230769
           ],
           "yaxis": "y"
          },
          {
           "hovertemplate": "category=%{x}<br>month=November<br>price=%{y}<br>quantity=%{marker.size}<extra></extra>",
           "legendgroup": "Clothing",
           "marker": {
            "color": "#EF553B",
            "size": [
             3.025
            ],
            "sizemode": "area",
            "sizeref": 0.008709677419354838,
            "symbol": "circle"
           },
           "mode": "markers",
           "name": "Clothing",
           "orientation": "v",
           "showlegend": true,
           "type": "scatter",
           "x": [
            "Clothing"
           ],
           "xaxis": "x",
           "y": [
            907.7420000000001
           ],
           "yaxis": "y"
          },
          {
           "hovertemplate": "category=%{x}<br>month=November<br>price=%{y}<br>quantity=%{marker.size}<extra></extra>",
           "legendgroup": "Cosmetics",
           "marker": {
            "color": "#00cc96",
            "size": [
             2.926829268292683
            ],
            "sizemode": "area",
            "sizeref": 0.008709677419354838,
            "symbol": "circle"
           },
           "mode": "markers",
           "name": "Cosmetics",
           "orientation": "v",
           "showlegend": true,
           "type": "scatter",
           "x": [
            "Cosmetics"
           ],
           "xaxis": "x",
           "y": [
            119.0048780487805
           ],
           "yaxis": "y"
          },
          {
           "hovertemplate": "category=%{x}<br>month=November<br>price=%{y}<br>quantity=%{marker.size}<extra></extra>",
           "legendgroup": "Food & Beverage",
           "marker": {
            "color": "#ab63fa",
            "size": [
             3.017094017094017
            ],
            "sizemode": "area",
            "sizeref": 0.008709677419354838,
            "symbol": "circle"
           },
           "mode": "markers",
           "name": "Food & Beverage",
           "orientation": "v",
           "showlegend": true,
           "type": "scatter",
           "x": [
            "Food & Beverage"
           ],
           "xaxis": "x",
           "y": [
            15.77940170940171
           ],
           "yaxis": "y"
          },
          {
           "hovertemplate": "category=%{x}<br>month=November<br>price=%{y}<br>quantity=%{marker.size}<extra></extra>",
           "legendgroup": "Shoes",
           "marker": {
            "color": "#FFA15A",
            "size": [
             3.2027027027027026
            ],
            "sizemode": "area",
            "sizeref": 0.008709677419354838,
            "symbol": "circle"
           },
           "mode": "markers",
           "name": "Shoes",
           "orientation": "v",
           "showlegend": true,
           "type": "scatter",
           "x": [
            "Shoes"
           ],
           "xaxis": "x",
           "y": [
            1922.1660810810808
           ],
           "yaxis": "y"
          },
          {
           "hovertemplate": "category=%{x}<br>month=November<br>price=%{y}<br>quantity=%{marker.size}<extra></extra>",
           "legendgroup": "Souvenir",
           "marker": {
            "color": "#19d3f3",
            "size": [
             3.2127659574468086
            ],
            "sizemode": "area",
            "sizeref": 0.008709677419354838,
            "symbol": "circle"
           },
           "mode": "markers",
           "name": "Souvenir",
           "orientation": "v",
           "showlegend": true,
           "type": "scatter",
           "x": [
            "Souvenir"
           ],
           "xaxis": "x",
           "y": [
            37.685744680851066
           ],
           "yaxis": "y"
          },
          {
           "hovertemplate": "category=%{x}<br>month=November<br>price=%{y}<br>quantity=%{marker.size}<extra></extra>",
           "legendgroup": "Technology",
           "marker": {
            "color": "#FF6692",
            "size": [
             2.484848484848485
            ],
            "sizemode": "area",
            "sizeref": 0.008709677419354838,
            "symbol": "circle"
           },
           "mode": "markers",
           "name": "Technology",
           "orientation": "v",
           "showlegend": true,
           "type": "scatter",
           "x": [
            "Technology"
           ],
           "xaxis": "x",
           "y": [
            2609.090909090909
           ],
           "yaxis": "y"
          },
          {
           "hovertemplate": "category=%{x}<br>month=November<br>price=%{y}<br>quantity=%{marker.size}<extra></extra>",
           "legendgroup": "Toys",
           "marker": {
            "color": "#B6E880",
            "size": [
             2.896103896103896
            ],
            "sizemode": "area",
            "sizeref": 0.008709677419354838,
            "symbol": "circle"
           },
           "mode": "markers",
           "name": "Toys",
           "orientation": "v",
           "showlegend": true,
           "type": "scatter",
           "x": [
            "Toys"
           ],
           "xaxis": "x",
           "y": [
            103.79636363636365
           ],
           "yaxis": "y"
          }
         ],
         "name": "November"
        },
        {
         "data": [
          {
           "hovertemplate": "category=%{x}<br>month=October<br>price=%{y}<br>quantity=%{marker.size}<extra></extra>",
           "legendgroup": "Books",
           "marker": {
            "color": "#636efa",
            "size": [
             3.119047619047619
            ],
            "sizemode": "area",
            "sizeref": 0.008709677419354838,
            "symbol": "circle"
           },
           "mode": "markers",
           "name": "Books",
           "orientation": "v",
           "showlegend": true,
           "type": "scatter",
           "x": [
            "Books"
           ],
           "xaxis": "x",
           "y": [
            47.25357142857143
           ],
           "yaxis": "y"
          },
          {
           "hovertemplate": "category=%{x}<br>month=October<br>price=%{y}<br>quantity=%{marker.size}<extra></extra>",
           "legendgroup": "Clothing",
           "marker": {
            "color": "#EF553B",
            "size": [
             2.974910394265233
            ],
            "sizemode": "area",
            "sizeref": 0.008709677419354838,
            "symbol": "circle"
           },
           "mode": "markers",
           "name": "Clothing",
           "orientation": "v",
           "showlegend": true,
           "type": "scatter",
           "x": [
            "Clothing"
           ],
           "xaxis": "x",
           "y": [
            892.7111111111111
           ],
           "yaxis": "y"
          },
          {
           "hovertemplate": "category=%{x}<br>month=October<br>price=%{y}<br>quantity=%{marker.size}<extra></extra>",
           "legendgroup": "Cosmetics",
           "marker": {
            "color": "#00cc96",
            "size": [
             2.744360902255639
            ],
            "sizemode": "area",
            "sizeref": 0.008709677419354838,
            "symbol": "circle"
           },
           "mode": "markers",
           "name": "Cosmetics",
           "orientation": "v",
           "showlegend": true,
           "type": "scatter",
           "x": [
            "Cosmetics"
           ],
           "xaxis": "x",
           "y": [
            111.58571428571429
           ],
           "yaxis": "y"
          },
          {
           "hovertemplate": "category=%{x}<br>month=October<br>price=%{y}<br>quantity=%{marker.size}<extra></extra>",
           "legendgroup": "Food & Beverage",
           "marker": {
            "color": "#ab63fa",
            "size": [
             2.9761904761904763
            ],
            "sizemode": "area",
            "sizeref": 0.008709677419354838,
            "symbol": "circle"
           },
           "mode": "markers",
           "name": "Food & Beverage",
           "orientation": "v",
           "showlegend": true,
           "type": "scatter",
           "x": [
            "Food & Beverage"
           ],
           "xaxis": "x",
           "y": [
            15.56547619047619
           ],
           "yaxis": "y"
          },
          {
           "hovertemplate": "category=%{x}<br>month=October<br>price=%{y}<br>quantity=%{marker.size}<extra></extra>",
           "legendgroup": "Shoes",
           "marker": {
            "color": "#FFA15A",
            "size": [
             3.1944444444444446
            ],
            "sizemode": "area",
            "sizeref": 0.008709677419354838,
            "symbol": "circle"
           },
           "mode": "markers",
           "name": "Shoes",
           "orientation": "v",
           "showlegend": true,
           "type": "scatter",
           "x": [
            "Shoes"
           ],
           "xaxis": "x",
           "y": [
            1917.2097222222224
           ],
           "yaxis": "y"
          },
          {
           "hovertemplate": "category=%{x}<br>month=October<br>price=%{y}<br>quantity=%{marker.size}<extra></extra>",
           "legendgroup": "Souvenir",
           "marker": {
            "color": "#19d3f3",
            "size": [
             2.7916666666666665
            ],
            "sizemode": "area",
            "sizeref": 0.008709677419354838,
            "symbol": "circle"
           },
           "mode": "markers",
           "name": "Souvenir",
           "orientation": "v",
           "showlegend": true,
           "type": "scatter",
           "x": [
            "Souvenir"
           ],
           "xaxis": "x",
           "y": [
            32.746249999999996
           ],
           "yaxis": "y"
          },
          {
           "hovertemplate": "category=%{x}<br>month=October<br>price=%{y}<br>quantity=%{marker.size}<extra></extra>",
           "legendgroup": "Technology",
           "marker": {
            "color": "#FF6692",
            "size": [
             3.4242424242424243
            ],
            "sizemode": "area",
            "sizeref": 0.008709677419354838,
            "symbol": "circle"
           },
           "mode": "markers",
           "name": "Technology",
           "orientation": "v",
           "showlegend": true,
           "type": "scatter",
           "x": [
            "Technology"
           ],
           "xaxis": "x",
           "y": [
            3595.4545454545455
           ],
           "yaxis": "y"
          },
          {
           "hovertemplate": "category=%{x}<br>month=October<br>price=%{y}<br>quantity=%{marker.size}<extra></extra>",
           "legendgroup": "Toys",
           "marker": {
            "color": "#B6E880",
            "size": [
             3.2266666666666666
            ],
            "sizemode": "area",
            "sizeref": 0.008709677419354838,
            "symbol": "circle"
           },
           "mode": "markers",
           "name": "Toys",
           "orientation": "v",
           "showlegend": true,
           "type": "scatter",
           "x": [
            "Toys"
           ],
           "xaxis": "x",
           "y": [
            115.64373333333334
           ],
           "yaxis": "y"
          }
         ],
         "name": "October"
        },
        {
         "data": [
          {
           "hovertemplate": "category=%{x}<br>month=September<br>price=%{y}<br>quantity=%{marker.size}<extra></extra>",
           "legendgroup": "Books",
           "marker": {
            "color": "#636efa",
            "size": [
             2.86
            ],
            "sizemode": "area",
            "sizeref": 0.008709677419354838,
            "symbol": "circle"
           },
           "mode": "markers",
           "name": "Books",
           "orientation": "v",
           "showlegend": true,
           "type": "scatter",
           "x": [
            "Books"
           ],
           "xaxis": "x",
           "y": [
            43.32899999999999
           ],
           "yaxis": "y"
          },
          {
           "hovertemplate": "category=%{x}<br>month=September<br>price=%{y}<br>quantity=%{marker.size}<extra></extra>",
           "legendgroup": "Clothing",
           "marker": {
            "color": "#EF553B",
            "size": [
             3.035211267605634
            ],
            "sizemode": "area",
            "sizeref": 0.008709677419354838,
            "symbol": "circle"
           },
           "mode": "markers",
           "name": "Clothing",
           "orientation": "v",
           "showlegend": true,
           "type": "scatter",
           "x": [
            "Clothing"
           ],
           "xaxis": "x",
           "y": [
            910.8061971830986
           ],
           "yaxis": "y"
          },
          {
           "hovertemplate": "category=%{x}<br>month=September<br>price=%{y}<br>quantity=%{marker.size}<extra></extra>",
           "legendgroup": "Cosmetics",
           "marker": {
            "color": "#00cc96",
            "size": [
             3.055045871559633
            ],
            "sizemode": "area",
            "sizeref": 0.008709677419354838,
            "symbol": "circle"
           },
           "mode": "markers",
           "name": "Cosmetics",
           "orientation": "v",
           "showlegend": true,
           "type": "scatter",
           "x": [
            "Cosmetics"
           ],
           "xaxis": "x",
           "y": [
            124.21816513761466
           ],
           "yaxis": "y"
          },
          {
           "hovertemplate": "category=%{x}<br>month=September<br>price=%{y}<br>quantity=%{marker.size}<extra></extra>",
           "legendgroup": "Food & Beverage",
           "marker": {
            "color": "#ab63fa",
            "size": [
             2.92
            ],
            "sizemode": "area",
            "sizeref": 0.008709677419354838,
            "symbol": "circle"
           },
           "mode": "markers",
           "name": "Food & Beverage",
           "orientation": "v",
           "showlegend": true,
           "type": "scatter",
           "x": [
            "Food & Beverage"
           ],
           "xaxis": "x",
           "y": [
            15.271600000000001
           ],
           "yaxis": "y"
          },
          {
           "hovertemplate": "category=%{x}<br>month=September<br>price=%{y}<br>quantity=%{marker.size}<extra></extra>",
           "legendgroup": "Shoes",
           "marker": {
            "color": "#FFA15A",
            "size": [
             3.023529411764706
            ],
            "sizemode": "area",
            "sizeref": 0.008709677419354838,
            "symbol": "circle"
           },
           "mode": "markers",
           "name": "Shoes",
           "orientation": "v",
           "showlegend": true,
           "type": "scatter",
           "x": [
            "Shoes"
           ],
           "xaxis": "x",
           "y": [
            1814.6316470588235
           ],
           "yaxis": "y"
          },
          {
           "hovertemplate": "category=%{x}<br>month=September<br>price=%{y}<br>quantity=%{marker.size}<extra></extra>",
           "legendgroup": "Souvenir",
           "marker": {
            "color": "#19d3f3",
            "size": [
             2.8333333333333335
            ],
            "sizemode": "area",
            "sizeref": 0.008709677419354838,
            "symbol": "circle"
           },
           "mode": "markers",
           "name": "Souvenir",
           "orientation": "v",
           "showlegend": true,
           "type": "scatter",
           "x": [
            "Souvenir"
           ],
           "xaxis": "x",
           "y": [
            33.235
           ],
           "yaxis": "y"
          },
          {
           "hovertemplate": "category=%{x}<br>month=September<br>price=%{y}<br>quantity=%{marker.size}<extra></extra>",
           "legendgroup": "Technology",
           "marker": {
            "color": "#FF6692",
            "size": [
             2.8205128205128207
            ],
            "sizemode": "area",
            "sizeref": 0.008709677419354838,
            "symbol": "circle"
           },
           "mode": "markers",
           "name": "Technology",
           "orientation": "v",
           "showlegend": true,
           "type": "scatter",
           "x": [
            "Technology"
           ],
           "xaxis": "x",
           "y": [
            2961.5384615384614
           ],
           "yaxis": "y"
          },
          {
           "hovertemplate": "category=%{x}<br>month=September<br>price=%{y}<br>quantity=%{marker.size}<extra></extra>",
           "legendgroup": "Toys",
           "marker": {
            "color": "#B6E880",
            "size": [
             3.0277777777777777
            ],
            "sizemode": "area",
            "sizeref": 0.008709677419354838,
            "symbol": "circle"
           },
           "mode": "markers",
           "name": "Toys",
           "orientation": "v",
           "showlegend": true,
           "type": "scatter",
           "x": [
            "Toys"
           ],
           "xaxis": "x",
           "y": [
            108.51555555555555
           ],
           "yaxis": "y"
          }
         ],
         "name": "September"
        }
       ],
       "layout": {
        "legend": {
         "itemsizing": "constant",
         "title": {
          "text": "category"
         },
         "tracegroupgap": 0
        },
        "margin": {
         "t": 60
        },
        "sliders": [
         {
          "active": 0,
          "currentvalue": {
           "prefix": "month="
          },
          "len": 0.9,
          "pad": {
           "b": 10,
           "t": 60
          },
          "steps": [
           {
            "args": [
             [
              "April"
             ],
             {
              "frame": {
               "duration": 0,
               "redraw": false
              },
              "fromcurrent": true,
              "mode": "immediate",
              "transition": {
               "duration": 0,
               "easing": "linear"
              }
             }
            ],
            "label": "April",
            "method": "animate"
           },
           {
            "args": [
             [
              "August"
             ],
             {
              "frame": {
               "duration": 0,
               "redraw": false
              },
              "fromcurrent": true,
              "mode": "immediate",
              "transition": {
               "duration": 0,
               "easing": "linear"
              }
             }
            ],
            "label": "August",
            "method": "animate"
           },
           {
            "args": [
             [
              "December"
             ],
             {
              "frame": {
               "duration": 0,
               "redraw": false
              },
              "fromcurrent": true,
              "mode": "immediate",
              "transition": {
               "duration": 0,
               "easing": "linear"
              }
             }
            ],
            "label": "December",
            "method": "animate"
           },
           {
            "args": [
             [
              "February"
             ],
             {
              "frame": {
               "duration": 0,
               "redraw": false
              },
              "fromcurrent": true,
              "mode": "immediate",
              "transition": {
               "duration": 0,
               "easing": "linear"
              }
             }
            ],
            "label": "February",
            "method": "animate"
           },
           {
            "args": [
             [
              "January"
             ],
             {
              "frame": {
               "duration": 0,
               "redraw": false
              },
              "fromcurrent": true,
              "mode": "immediate",
              "transition": {
               "duration": 0,
               "easing": "linear"
              }
             }
            ],
            "label": "January",
            "method": "animate"
           },
           {
            "args": [
             [
              "July"
             ],
             {
              "frame": {
               "duration": 0,
               "redraw": false
              },
              "fromcurrent": true,
              "mode": "immediate",
              "transition": {
               "duration": 0,
               "easing": "linear"
              }
             }
            ],
            "label": "July",
            "method": "animate"
           },
           {
            "args": [
             [
              "June"
             ],
             {
              "frame": {
               "duration": 0,
               "redraw": false
              },
              "fromcurrent": true,
              "mode": "immediate",
              "transition": {
               "duration": 0,
               "easing": "linear"
              }
             }
            ],
            "label": "June",
            "method": "animate"
           },
           {
            "args": [
             [
              "March"
             ],
             {
              "frame": {
               "duration": 0,
               "redraw": false
              },
              "fromcurrent": true,
              "mode": "immediate",
              "transition": {
               "duration": 0,
               "easing": "linear"
              }
             }
            ],
            "label": "March",
            "method": "animate"
           },
           {
            "args": [
             [
              "May"
             ],
             {
              "frame": {
               "duration": 0,
               "redraw": false
              },
              "fromcurrent": true,
              "mode": "immediate",
              "transition": {
               "duration": 0,
               "easing": "linear"
              }
             }
            ],
            "label": "May",
            "method": "animate"
           },
           {
            "args": [
             [
              "November"
             ],
             {
              "frame": {
               "duration": 0,
               "redraw": false
              },
              "fromcurrent": true,
              "mode": "immediate",
              "transition": {
               "duration": 0,
               "easing": "linear"
              }
             }
            ],
            "label": "November",
            "method": "animate"
           },
           {
            "args": [
             [
              "October"
             ],
             {
              "frame": {
               "duration": 0,
               "redraw": false
              },
              "fromcurrent": true,
              "mode": "immediate",
              "transition": {
               "duration": 0,
               "easing": "linear"
              }
             }
            ],
            "label": "October",
            "method": "animate"
           },
           {
            "args": [
             [
              "September"
             ],
             {
              "frame": {
               "duration": 0,
               "redraw": false
              },
              "fromcurrent": true,
              "mode": "immediate",
              "transition": {
               "duration": 0,
               "easing": "linear"
              }
             }
            ],
            "label": "September",
            "method": "animate"
           }
          ],
          "x": 0.1,
          "xanchor": "left",
          "y": 0,
          "yanchor": "top"
         }
        ],
        "template": {
         "data": {
          "bar": [
           {
            "error_x": {
             "color": "#2a3f5f"
            },
            "error_y": {
             "color": "#2a3f5f"
            },
            "marker": {
             "line": {
              "color": "#E5ECF6",
              "width": 0.5
             },
             "pattern": {
              "fillmode": "overlay",
              "size": 10,
              "solidity": 0.2
             }
            },
            "type": "bar"
           }
          ],
          "barpolar": [
           {
            "marker": {
             "line": {
              "color": "#E5ECF6",
              "width": 0.5
             },
             "pattern": {
              "fillmode": "overlay",
              "size": 10,
              "solidity": 0.2
             }
            },
            "type": "barpolar"
           }
          ],
          "carpet": [
           {
            "aaxis": {
             "endlinecolor": "#2a3f5f",
             "gridcolor": "white",
             "linecolor": "white",
             "minorgridcolor": "white",
             "startlinecolor": "#2a3f5f"
            },
            "baxis": {
             "endlinecolor": "#2a3f5f",
             "gridcolor": "white",
             "linecolor": "white",
             "minorgridcolor": "white",
             "startlinecolor": "#2a3f5f"
            },
            "type": "carpet"
           }
          ],
          "choropleth": [
           {
            "colorbar": {
             "outlinewidth": 0,
             "ticks": ""
            },
            "type": "choropleth"
           }
          ],
          "contour": [
           {
            "colorbar": {
             "outlinewidth": 0,
             "ticks": ""
            },
            "colorscale": [
             [
              0,
              "#0d0887"
             ],
             [
              0.1111111111111111,
              "#46039f"
             ],
             [
              0.2222222222222222,
              "#7201a8"
             ],
             [
              0.3333333333333333,
              "#9c179e"
             ],
             [
              0.4444444444444444,
              "#bd3786"
             ],
             [
              0.5555555555555556,
              "#d8576b"
             ],
             [
              0.6666666666666666,
              "#ed7953"
             ],
             [
              0.7777777777777778,
              "#fb9f3a"
             ],
             [
              0.8888888888888888,
              "#fdca26"
             ],
             [
              1,
              "#f0f921"
             ]
            ],
            "type": "contour"
           }
          ],
          "contourcarpet": [
           {
            "colorbar": {
             "outlinewidth": 0,
             "ticks": ""
            },
            "type": "contourcarpet"
           }
          ],
          "heatmap": [
           {
            "colorbar": {
             "outlinewidth": 0,
             "ticks": ""
            },
            "colorscale": [
             [
              0,
              "#0d0887"
             ],
             [
              0.1111111111111111,
              "#46039f"
             ],
             [
              0.2222222222222222,
              "#7201a8"
             ],
             [
              0.3333333333333333,
              "#9c179e"
             ],
             [
              0.4444444444444444,
              "#bd3786"
             ],
             [
              0.5555555555555556,
              "#d8576b"
             ],
             [
              0.6666666666666666,
              "#ed7953"
             ],
             [
              0.7777777777777778,
              "#fb9f3a"
             ],
             [
              0.8888888888888888,
              "#fdca26"
             ],
             [
              1,
              "#f0f921"
             ]
            ],
            "type": "heatmap"
           }
          ],
          "heatmapgl": [
           {
            "colorbar": {
             "outlinewidth": 0,
             "ticks": ""
            },
            "colorscale": [
             [
              0,
              "#0d0887"
             ],
             [
              0.1111111111111111,
              "#46039f"
             ],
             [
              0.2222222222222222,
              "#7201a8"
             ],
             [
              0.3333333333333333,
              "#9c179e"
             ],
             [
              0.4444444444444444,
              "#bd3786"
             ],
             [
              0.5555555555555556,
              "#d8576b"
             ],
             [
              0.6666666666666666,
              "#ed7953"
             ],
             [
              0.7777777777777778,
              "#fb9f3a"
             ],
             [
              0.8888888888888888,
              "#fdca26"
             ],
             [
              1,
              "#f0f921"
             ]
            ],
            "type": "heatmapgl"
           }
          ],
          "histogram": [
           {
            "marker": {
             "pattern": {
              "fillmode": "overlay",
              "size": 10,
              "solidity": 0.2
             }
            },
            "type": "histogram"
           }
          ],
          "histogram2d": [
           {
            "colorbar": {
             "outlinewidth": 0,
             "ticks": ""
            },
            "colorscale": [
             [
              0,
              "#0d0887"
             ],
             [
              0.1111111111111111,
              "#46039f"
             ],
             [
              0.2222222222222222,
              "#7201a8"
             ],
             [
              0.3333333333333333,
              "#9c179e"
             ],
             [
              0.4444444444444444,
              "#bd3786"
             ],
             [
              0.5555555555555556,
              "#d8576b"
             ],
             [
              0.6666666666666666,
              "#ed7953"
             ],
             [
              0.7777777777777778,
              "#fb9f3a"
             ],
             [
              0.8888888888888888,
              "#fdca26"
             ],
             [
              1,
              "#f0f921"
             ]
            ],
            "type": "histogram2d"
           }
          ],
          "histogram2dcontour": [
           {
            "colorbar": {
             "outlinewidth": 0,
             "ticks": ""
            },
            "colorscale": [
             [
              0,
              "#0d0887"
             ],
             [
              0.1111111111111111,
              "#46039f"
             ],
             [
              0.2222222222222222,
              "#7201a8"
             ],
             [
              0.3333333333333333,
              "#9c179e"
             ],
             [
              0.4444444444444444,
              "#bd3786"
             ],
             [
              0.5555555555555556,
              "#d8576b"
             ],
             [
              0.6666666666666666,
              "#ed7953"
             ],
             [
              0.7777777777777778,
              "#fb9f3a"
             ],
             [
              0.8888888888888888,
              "#fdca26"
             ],
             [
              1,
              "#f0f921"
             ]
            ],
            "type": "histogram2dcontour"
           }
          ],
          "mesh3d": [
           {
            "colorbar": {
             "outlinewidth": 0,
             "ticks": ""
            },
            "type": "mesh3d"
           }
          ],
          "parcoords": [
           {
            "line": {
             "colorbar": {
              "outlinewidth": 0,
              "ticks": ""
             }
            },
            "type": "parcoords"
           }
          ],
          "pie": [
           {
            "automargin": true,
            "type": "pie"
           }
          ],
          "scatter": [
           {
            "fillpattern": {
             "fillmode": "overlay",
             "size": 10,
             "solidity": 0.2
            },
            "type": "scatter"
           }
          ],
          "scatter3d": [
           {
            "line": {
             "colorbar": {
              "outlinewidth": 0,
              "ticks": ""
             }
            },
            "marker": {
             "colorbar": {
              "outlinewidth": 0,
              "ticks": ""
             }
            },
            "type": "scatter3d"
           }
          ],
          "scattercarpet": [
           {
            "marker": {
             "colorbar": {
              "outlinewidth": 0,
              "ticks": ""
             }
            },
            "type": "scattercarpet"
           }
          ],
          "scattergeo": [
           {
            "marker": {
             "colorbar": {
              "outlinewidth": 0,
              "ticks": ""
             }
            },
            "type": "scattergeo"
           }
          ],
          "scattergl": [
           {
            "marker": {
             "colorbar": {
              "outlinewidth": 0,
              "ticks": ""
             }
            },
            "type": "scattergl"
           }
          ],
          "scattermapbox": [
           {
            "marker": {
             "colorbar": {
              "outlinewidth": 0,
              "ticks": ""
             }
            },
            "type": "scattermapbox"
           }
          ],
          "scatterpolar": [
           {
            "marker": {
             "colorbar": {
              "outlinewidth": 0,
              "ticks": ""
             }
            },
            "type": "scatterpolar"
           }
          ],
          "scatterpolargl": [
           {
            "marker": {
             "colorbar": {
              "outlinewidth": 0,
              "ticks": ""
             }
            },
            "type": "scatterpolargl"
           }
          ],
          "scatterternary": [
           {
            "marker": {
             "colorbar": {
              "outlinewidth": 0,
              "ticks": ""
             }
            },
            "type": "scatterternary"
           }
          ],
          "surface": [
           {
            "colorbar": {
             "outlinewidth": 0,
             "ticks": ""
            },
            "colorscale": [
             [
              0,
              "#0d0887"
             ],
             [
              0.1111111111111111,
              "#46039f"
             ],
             [
              0.2222222222222222,
              "#7201a8"
             ],
             [
              0.3333333333333333,
              "#9c179e"
             ],
             [
              0.4444444444444444,
              "#bd3786"
             ],
             [
              0.5555555555555556,
              "#d8576b"
             ],
             [
              0.6666666666666666,
              "#ed7953"
             ],
             [
              0.7777777777777778,
              "#fb9f3a"
             ],
             [
              0.8888888888888888,
              "#fdca26"
             ],
             [
              1,
              "#f0f921"
             ]
            ],
            "type": "surface"
           }
          ],
          "table": [
           {
            "cells": {
             "fill": {
              "color": "#EBF0F8"
             },
             "line": {
              "color": "white"
             }
            },
            "header": {
             "fill": {
              "color": "#C8D4E3"
             },
             "line": {
              "color": "white"
             }
            },
            "type": "table"
           }
          ]
         },
         "layout": {
          "annotationdefaults": {
           "arrowcolor": "#2a3f5f",
           "arrowhead": 0,
           "arrowwidth": 1
          },
          "autotypenumbers": "strict",
          "coloraxis": {
           "colorbar": {
            "outlinewidth": 0,
            "ticks": ""
           }
          },
          "colorscale": {
           "diverging": [
            [
             0,
             "#8e0152"
            ],
            [
             0.1,
             "#c51b7d"
            ],
            [
             0.2,
             "#de77ae"
            ],
            [
             0.3,
             "#f1b6da"
            ],
            [
             0.4,
             "#fde0ef"
            ],
            [
             0.5,
             "#f7f7f7"
            ],
            [
             0.6,
             "#e6f5d0"
            ],
            [
             0.7,
             "#b8e186"
            ],
            [
             0.8,
             "#7fbc41"
            ],
            [
             0.9,
             "#4d9221"
            ],
            [
             1,
             "#276419"
            ]
           ],
           "sequential": [
            [
             0,
             "#0d0887"
            ],
            [
             0.1111111111111111,
             "#46039f"
            ],
            [
             0.2222222222222222,
             "#7201a8"
            ],
            [
             0.3333333333333333,
             "#9c179e"
            ],
            [
             0.4444444444444444,
             "#bd3786"
            ],
            [
             0.5555555555555556,
             "#d8576b"
            ],
            [
             0.6666666666666666,
             "#ed7953"
            ],
            [
             0.7777777777777778,
             "#fb9f3a"
            ],
            [
             0.8888888888888888,
             "#fdca26"
            ],
            [
             1,
             "#f0f921"
            ]
           ],
           "sequentialminus": [
            [
             0,
             "#0d0887"
            ],
            [
             0.1111111111111111,
             "#46039f"
            ],
            [
             0.2222222222222222,
             "#7201a8"
            ],
            [
             0.3333333333333333,
             "#9c179e"
            ],
            [
             0.4444444444444444,
             "#bd3786"
            ],
            [
             0.5555555555555556,
             "#d8576b"
            ],
            [
             0.6666666666666666,
             "#ed7953"
            ],
            [
             0.7777777777777778,
             "#fb9f3a"
            ],
            [
             0.8888888888888888,
             "#fdca26"
            ],
            [
             1,
             "#f0f921"
            ]
           ]
          },
          "colorway": [
           "#636efa",
           "#EF553B",
           "#00cc96",
           "#ab63fa",
           "#FFA15A",
           "#19d3f3",
           "#FF6692",
           "#B6E880",
           "#FF97FF",
           "#FECB52"
          ],
          "font": {
           "color": "#2a3f5f"
          },
          "geo": {
           "bgcolor": "white",
           "lakecolor": "white",
           "landcolor": "#E5ECF6",
           "showlakes": true,
           "showland": true,
           "subunitcolor": "white"
          },
          "hoverlabel": {
           "align": "left"
          },
          "hovermode": "closest",
          "mapbox": {
           "style": "light"
          },
          "paper_bgcolor": "white",
          "plot_bgcolor": "#E5ECF6",
          "polar": {
           "angularaxis": {
            "gridcolor": "white",
            "linecolor": "white",
            "ticks": ""
           },
           "bgcolor": "#E5ECF6",
           "radialaxis": {
            "gridcolor": "white",
            "linecolor": "white",
            "ticks": ""
           }
          },
          "scene": {
           "xaxis": {
            "backgroundcolor": "#E5ECF6",
            "gridcolor": "white",
            "gridwidth": 2,
            "linecolor": "white",
            "showbackground": true,
            "ticks": "",
            "zerolinecolor": "white"
           },
           "yaxis": {
            "backgroundcolor": "#E5ECF6",
            "gridcolor": "white",
            "gridwidth": 2,
            "linecolor": "white",
            "showbackground": true,
            "ticks": "",
            "zerolinecolor": "white"
           },
           "zaxis": {
            "backgroundcolor": "#E5ECF6",
            "gridcolor": "white",
            "gridwidth": 2,
            "linecolor": "white",
            "showbackground": true,
            "ticks": "",
            "zerolinecolor": "white"
           }
          },
          "shapedefaults": {
           "line": {
            "color": "#2a3f5f"
           }
          },
          "ternary": {
           "aaxis": {
            "gridcolor": "white",
            "linecolor": "white",
            "ticks": ""
           },
           "baxis": {
            "gridcolor": "white",
            "linecolor": "white",
            "ticks": ""
           },
           "bgcolor": "#E5ECF6",
           "caxis": {
            "gridcolor": "white",
            "linecolor": "white",
            "ticks": ""
           }
          },
          "title": {
           "x": 0.05
          },
          "xaxis": {
           "automargin": true,
           "gridcolor": "white",
           "linecolor": "white",
           "ticks": "",
           "title": {
            "standoff": 15
           },
           "zerolinecolor": "white",
           "zerolinewidth": 2
          },
          "yaxis": {
           "automargin": true,
           "gridcolor": "white",
           "linecolor": "white",
           "ticks": "",
           "title": {
            "standoff": 15
           },
           "zerolinecolor": "white",
           "zerolinewidth": 2
          }
         }
        },
        "updatemenus": [
         {
          "buttons": [
           {
            "args": [
             null,
             {
              "frame": {
               "duration": 500,
               "redraw": false
              },
              "fromcurrent": true,
              "mode": "immediate",
              "transition": {
               "duration": 500,
               "easing": "linear"
              }
             }
            ],
            "label": "&#9654;",
            "method": "animate"
           },
           {
            "args": [
             [
              null
             ],
             {
              "frame": {
               "duration": 0,
               "redraw": false
              },
              "fromcurrent": true,
              "mode": "immediate",
              "transition": {
               "duration": 0,
               "easing": "linear"
              }
             }
            ],
            "label": "&#9724;",
            "method": "animate"
           }
          ],
          "direction": "left",
          "pad": {
           "r": 10,
           "t": 70
          },
          "showactive": false,
          "type": "buttons",
          "x": 0.1,
          "xanchor": "right",
          "y": 0,
          "yanchor": "top"
         }
        ],
        "xaxis": {
         "anchor": "y",
         "categoryarray": [
          "Books",
          "Clothing",
          "Cosmetics",
          "Food & Beverage",
          "Shoes",
          "Souvenir",
          "Technology",
          "Toys"
         ],
         "categoryorder": "array",
         "domain": [
          0,
          1
         ],
         "title": {
          "text": "category"
         }
        },
        "yaxis": {
         "anchor": "x",
         "domain": [
          0,
          1
         ],
         "title": {
          "text": "price"
         }
        }
       }
      }
     },
     "metadata": {},
     "output_type": "display_data"
    }
   ],
   "source": [
    "fig = px.scatter(avg_prc_qcat_mon, x=\"category\", y=\"price\", \n",
    "                 animation_frame=\"month\", \n",
    "                 size=\"quantity\",\n",
    "                 color=\"category\"\n",
    "            )\n",
    "fig.show()"
   ]
  },
  {
   "cell_type": "markdown",
   "metadata": {},
   "source": [
    "### Total sales per category by age group and gender"
   ]
  },
  {
   "cell_type": "code",
   "execution_count": 87,
   "metadata": {},
   "outputs": [
    {
     "data": {
      "text/html": [
       "<div>\n",
       "<style scoped>\n",
       "    .dataframe tbody tr th:only-of-type {\n",
       "        vertical-align: middle;\n",
       "    }\n",
       "\n",
       "    .dataframe tbody tr th {\n",
       "        vertical-align: top;\n",
       "    }\n",
       "\n",
       "    .dataframe thead th {\n",
       "        text-align: right;\n",
       "    }\n",
       "</style>\n",
       "<table border=\"1\" class=\"dataframe\">\n",
       "  <thead>\n",
       "    <tr style=\"text-align: right;\">\n",
       "      <th></th>\n",
       "      <th>age</th>\n",
       "      <th>gender</th>\n",
       "      <th>category</th>\n",
       "      <th>price</th>\n",
       "    </tr>\n",
       "  </thead>\n",
       "  <tbody>\n",
       "    <tr>\n",
       "      <th>0</th>\n",
       "      <td>18</td>\n",
       "      <td>Female</td>\n",
       "      <td>Books</td>\n",
       "      <td>454.50</td>\n",
       "    </tr>\n",
       "    <tr>\n",
       "      <th>1</th>\n",
       "      <td>18</td>\n",
       "      <td>Female</td>\n",
       "      <td>Clothing</td>\n",
       "      <td>26106.96</td>\n",
       "    </tr>\n",
       "    <tr>\n",
       "      <th>2</th>\n",
       "      <td>18</td>\n",
       "      <td>Female</td>\n",
       "      <td>Cosmetics</td>\n",
       "      <td>1911.02</td>\n",
       "    </tr>\n",
       "    <tr>\n",
       "      <th>3</th>\n",
       "      <td>18</td>\n",
       "      <td>Female</td>\n",
       "      <td>Food &amp; Beverage</td>\n",
       "      <td>203.97</td>\n",
       "    </tr>\n",
       "    <tr>\n",
       "      <th>4</th>\n",
       "      <td>18</td>\n",
       "      <td>Female</td>\n",
       "      <td>Shoes</td>\n",
       "      <td>22206.29</td>\n",
       "    </tr>\n",
       "    <tr>\n",
       "      <th>...</th>\n",
       "      <td>...</td>\n",
       "      <td>...</td>\n",
       "      <td>...</td>\n",
       "      <td>...</td>\n",
       "    </tr>\n",
       "    <tr>\n",
       "      <th>823</th>\n",
       "      <td>69</td>\n",
       "      <td>Male</td>\n",
       "      <td>Food &amp; Beverage</td>\n",
       "      <td>26.15</td>\n",
       "    </tr>\n",
       "    <tr>\n",
       "      <th>824</th>\n",
       "      <td>69</td>\n",
       "      <td>Male</td>\n",
       "      <td>Shoes</td>\n",
       "      <td>9602.72</td>\n",
       "    </tr>\n",
       "    <tr>\n",
       "      <th>825</th>\n",
       "      <td>69</td>\n",
       "      <td>Male</td>\n",
       "      <td>Souvenir</td>\n",
       "      <td>246.33</td>\n",
       "    </tr>\n",
       "    <tr>\n",
       "      <th>826</th>\n",
       "      <td>69</td>\n",
       "      <td>Male</td>\n",
       "      <td>Technology</td>\n",
       "      <td>11550.00</td>\n",
       "    </tr>\n",
       "    <tr>\n",
       "      <th>827</th>\n",
       "      <td>69</td>\n",
       "      <td>Male</td>\n",
       "      <td>Toys</td>\n",
       "      <td>896.00</td>\n",
       "    </tr>\n",
       "  </tbody>\n",
       "</table>\n",
       "<p>828 rows × 4 columns</p>\n",
       "</div>"
      ],
      "text/plain": [
       "     age  gender         category     price\n",
       "0     18  Female            Books    454.50\n",
       "1     18  Female         Clothing  26106.96\n",
       "2     18  Female        Cosmetics   1911.02\n",
       "3     18  Female  Food & Beverage    203.97\n",
       "4     18  Female            Shoes  22206.29\n",
       "..   ...     ...              ...       ...\n",
       "823   69    Male  Food & Beverage     26.15\n",
       "824   69    Male            Shoes   9602.72\n",
       "825   69    Male         Souvenir    246.33\n",
       "826   69    Male       Technology  11550.00\n",
       "827   69    Male             Toys    896.00\n",
       "\n",
       "[828 rows x 4 columns]"
      ]
     },
     "execution_count": 87,
     "metadata": {},
     "output_type": "execute_result"
    }
   ],
   "source": [
    "tspend_by_age_on_cat = pd.DataFrame(dfc.groupby(['age','gender','category'])['price'].sum().reset_index())\n",
    "tspend_by_age_on_cat"
   ]
  },
  {
   "cell_type": "markdown",
   "metadata": {},
   "source": [
    "### Average sales per category by age group and gender"
   ]
  },
  {
   "cell_type": "code",
   "execution_count": 89,
   "metadata": {},
   "outputs": [
    {
     "data": {
      "text/html": [
       "<div>\n",
       "<style scoped>\n",
       "    .dataframe tbody tr th:only-of-type {\n",
       "        vertical-align: middle;\n",
       "    }\n",
       "\n",
       "    .dataframe tbody tr th {\n",
       "        vertical-align: top;\n",
       "    }\n",
       "\n",
       "    .dataframe thead th {\n",
       "        text-align: right;\n",
       "    }\n",
       "</style>\n",
       "<table border=\"1\" class=\"dataframe\">\n",
       "  <thead>\n",
       "    <tr style=\"text-align: right;\">\n",
       "      <th></th>\n",
       "      <th>age</th>\n",
       "      <th>gender</th>\n",
       "      <th>category</th>\n",
       "      <th>price</th>\n",
       "    </tr>\n",
       "  </thead>\n",
       "  <tbody>\n",
       "    <tr>\n",
       "      <th>0</th>\n",
       "      <td>18</td>\n",
       "      <td>Female</td>\n",
       "      <td>Books</td>\n",
       "      <td>41.318182</td>\n",
       "    </tr>\n",
       "    <tr>\n",
       "      <th>1</th>\n",
       "      <td>18</td>\n",
       "      <td>Female</td>\n",
       "      <td>Clothing</td>\n",
       "      <td>842.160000</td>\n",
       "    </tr>\n",
       "    <tr>\n",
       "      <th>2</th>\n",
       "      <td>18</td>\n",
       "      <td>Female</td>\n",
       "      <td>Cosmetics</td>\n",
       "      <td>127.401333</td>\n",
       "    </tr>\n",
       "    <tr>\n",
       "      <th>3</th>\n",
       "      <td>18</td>\n",
       "      <td>Female</td>\n",
       "      <td>Food &amp; Beverage</td>\n",
       "      <td>15.690000</td>\n",
       "    </tr>\n",
       "    <tr>\n",
       "      <th>4</th>\n",
       "      <td>18</td>\n",
       "      <td>Female</td>\n",
       "      <td>Shoes</td>\n",
       "      <td>1708.176154</td>\n",
       "    </tr>\n",
       "    <tr>\n",
       "      <th>...</th>\n",
       "      <td>...</td>\n",
       "      <td>...</td>\n",
       "      <td>...</td>\n",
       "      <td>...</td>\n",
       "    </tr>\n",
       "    <tr>\n",
       "      <th>823</th>\n",
       "      <td>69</td>\n",
       "      <td>Male</td>\n",
       "      <td>Food &amp; Beverage</td>\n",
       "      <td>13.075000</td>\n",
       "    </tr>\n",
       "    <tr>\n",
       "      <th>824</th>\n",
       "      <td>69</td>\n",
       "      <td>Male</td>\n",
       "      <td>Shoes</td>\n",
       "      <td>2400.680000</td>\n",
       "    </tr>\n",
       "    <tr>\n",
       "      <th>825</th>\n",
       "      <td>69</td>\n",
       "      <td>Male</td>\n",
       "      <td>Souvenir</td>\n",
       "      <td>35.190000</td>\n",
       "    </tr>\n",
       "    <tr>\n",
       "      <th>826</th>\n",
       "      <td>69</td>\n",
       "      <td>Male</td>\n",
       "      <td>Technology</td>\n",
       "      <td>2887.500000</td>\n",
       "    </tr>\n",
       "    <tr>\n",
       "      <th>827</th>\n",
       "      <td>69</td>\n",
       "      <td>Male</td>\n",
       "      <td>Toys</td>\n",
       "      <td>89.600000</td>\n",
       "    </tr>\n",
       "  </tbody>\n",
       "</table>\n",
       "<p>828 rows × 4 columns</p>\n",
       "</div>"
      ],
      "text/plain": [
       "     age  gender         category        price\n",
       "0     18  Female            Books    41.318182\n",
       "1     18  Female         Clothing   842.160000\n",
       "2     18  Female        Cosmetics   127.401333\n",
       "3     18  Female  Food & Beverage    15.690000\n",
       "4     18  Female            Shoes  1708.176154\n",
       "..   ...     ...              ...          ...\n",
       "823   69    Male  Food & Beverage    13.075000\n",
       "824   69    Male            Shoes  2400.680000\n",
       "825   69    Male         Souvenir    35.190000\n",
       "826   69    Male       Technology  2887.500000\n",
       "827   69    Male             Toys    89.600000\n",
       "\n",
       "[828 rows x 4 columns]"
      ]
     },
     "execution_count": 89,
     "metadata": {},
     "output_type": "execute_result"
    }
   ],
   "source": [
    "aspend_by_age_on_cat = pd.DataFrame(dfc.groupby(['age','gender','category'])['price'].mean().reset_index())\n",
    "aspend_by_age_on_cat"
   ]
  },
  {
   "cell_type": "code",
   "execution_count": 121,
   "metadata": {},
   "outputs": [
    {
     "data": {
      "application/vnd.plotly.v1+json": {
       "config": {
        "plotlyServerURL": "https://plot.ly"
       },
       "data": [
        {
         "alignmentgroup": "True",
         "boxpoints": "all",
         "hovertemplate": "age=18<br>gender=Female<br>category=%{x}<br>price=%{y}<extra></extra>",
         "legendgroup": "",
         "marker": {
          "color": "#636efa"
         },
         "name": "",
         "notched": false,
         "offsetgroup": "",
         "orientation": "v",
         "showlegend": false,
         "type": "box",
         "x": [
          "Books",
          "Clothing",
          "Cosmetics",
          "Food & Beverage",
          "Shoes",
          "Souvenir",
          "Technology",
          "Toys"
         ],
         "x0": " ",
         "xaxis": "x",
         "y": [
          454.5,
          26106.96,
          1911.02,
          203.97,
          22206.289999999997,
          175.95,
          13650,
          1433.6
         ],
         "y0": " ",
         "yaxis": "y"
        },
        {
         "alignmentgroup": "True",
         "boxpoints": "all",
         "hovertemplate": "age=18<br>gender=Male<br>category=%{x}<br>price=%{y}<extra></extra>",
         "legendgroup": "",
         "marker": {
          "color": "#636efa"
         },
         "name": "",
         "notched": false,
         "offsetgroup": "",
         "orientation": "v",
         "showlegend": false,
         "type": "box",
         "x": [
          "Books",
          "Clothing",
          "Cosmetics",
          "Food & Beverage",
          "Shoes",
          "Souvenir",
          "Technology",
          "Toys"
         ],
         "x0": " ",
         "xaxis": "x2",
         "y": [
          151.5,
          27607.36,
          1260.46,
          120.28999999999999,
          9002.55,
          258.06,
          9450,
          1111.04
         ],
         "y0": " ",
         "yaxis": "y2"
        }
       ],
       "frames": [
        {
         "data": [
          {
           "alignmentgroup": "True",
           "boxpoints": "all",
           "hovertemplate": "age=18<br>gender=Female<br>category=%{x}<br>price=%{y}<extra></extra>",
           "legendgroup": "",
           "marker": {
            "color": "#636efa"
           },
           "name": "",
           "notched": false,
           "offsetgroup": "",
           "orientation": "v",
           "showlegend": false,
           "type": "box",
           "x": [
            "Books",
            "Clothing",
            "Cosmetics",
            "Food & Beverage",
            "Shoes",
            "Souvenir",
            "Technology",
            "Toys"
           ],
           "x0": " ",
           "xaxis": "x",
           "y": [
            454.5,
            26106.96,
            1911.02,
            203.97,
            22206.289999999997,
            175.95,
            13650,
            1433.6
           ],
           "y0": " ",
           "yaxis": "y"
          },
          {
           "alignmentgroup": "True",
           "boxpoints": "all",
           "hovertemplate": "age=18<br>gender=Male<br>category=%{x}<br>price=%{y}<extra></extra>",
           "legendgroup": "",
           "marker": {
            "color": "#636efa"
           },
           "name": "",
           "notched": false,
           "offsetgroup": "",
           "orientation": "v",
           "showlegend": false,
           "type": "box",
           "x": [
            "Books",
            "Clothing",
            "Cosmetics",
            "Food & Beverage",
            "Shoes",
            "Souvenir",
            "Technology",
            "Toys"
           ],
           "x0": " ",
           "xaxis": "x2",
           "y": [
            151.5,
            27607.36,
            1260.46,
            120.28999999999999,
            9002.55,
            258.06,
            9450,
            1111.04
           ],
           "y0": " ",
           "yaxis": "y2"
          }
         ],
         "name": "18"
        },
        {
         "data": [
          {
           "alignmentgroup": "True",
           "boxpoints": "all",
           "hovertemplate": "age=19<br>gender=Female<br>category=%{x}<br>price=%{y}<extra></extra>",
           "legendgroup": "",
           "marker": {
            "color": "#636efa"
           },
           "name": "",
           "notched": false,
           "offsetgroup": "",
           "orientation": "v",
           "showlegend": false,
           "type": "box",
           "x": [
            "Books",
            "Clothing",
            "Cosmetics",
            "Food & Beverage",
            "Shoes",
            "Souvenir",
            "Technology",
            "Toys"
           ],
           "x0": " ",
           "xaxis": "x",
           "y": [
            333.3,
            33909.04,
            1951.68,
            397.48,
            29408.329999999998,
            140.76,
            14700,
            1075.2
           ],
           "y0": " ",
           "yaxis": "y"
          },
          {
           "alignmentgroup": "True",
           "boxpoints": "all",
           "hovertemplate": "age=19<br>gender=Male<br>category=%{x}<br>price=%{y}<extra></extra>",
           "legendgroup": "",
           "marker": {
            "color": "#636efa"
           },
           "name": "",
           "notched": false,
           "offsetgroup": "",
           "orientation": "v",
           "showlegend": false,
           "type": "box",
           "x": [
            "Books",
            "Clothing",
            "Cosmetics",
            "Food & Beverage",
            "Shoes",
            "Souvenir",
            "Technology",
            "Toys"
           ],
           "x0": " ",
           "xaxis": "x2",
           "y": [
            181.8,
            14403.84,
            1138.48,
            193.51000000000002,
            15004.25,
            93.84,
            12600,
            1111.04
           ],
           "y0": " ",
           "yaxis": "y2"
          }
         ],
         "name": "19"
        },
        {
         "data": [
          {
           "alignmentgroup": "True",
           "boxpoints": "all",
           "hovertemplate": "age=20<br>gender=Female<br>category=%{x}<br>price=%{y}<extra></extra>",
           "legendgroup": "",
           "marker": {
            "color": "#636efa"
           },
           "name": "",
           "notched": false,
           "offsetgroup": "",
           "orientation": "v",
           "showlegend": false,
           "type": "box",
           "x": [
            "Books",
            "Clothing",
            "Cosmetics",
            "Food & Beverage",
            "Shoes",
            "Souvenir",
            "Technology",
            "Toys"
           ],
           "x0": " ",
           "xaxis": "x",
           "y": [
            348.45,
            34509.2,
            2154.98,
            230.12,
            13803.91,
            129.03,
            10500,
            1182.72
           ],
           "y0": " ",
           "yaxis": "y"
          },
          {
           "alignmentgroup": "True",
           "boxpoints": "all",
           "hovertemplate": "age=20<br>gender=Male<br>category=%{x}<br>price=%{y}<extra></extra>",
           "legendgroup": "",
           "marker": {
            "color": "#636efa"
           },
           "name": "",
           "notched": false,
           "offsetgroup": "",
           "orientation": "v",
           "showlegend": false,
           "type": "box",
           "x": [
            "Books",
            "Clothing",
            "Cosmetics",
            "Food & Beverage",
            "Shoes",
            "Souvenir",
            "Technology",
            "Toys"
           ],
           "x0": " ",
           "xaxis": "x2",
           "y": [
            212.1,
            15304.08,
            528.5799999999999,
            135.98,
            18605.27,
            82.11,
            14700,
            1576.96
           ],
           "y0": " ",
           "yaxis": "y2"
          }
         ],
         "name": "20"
        },
        {
         "data": [
          {
           "alignmentgroup": "True",
           "boxpoints": "all",
           "hovertemplate": "age=21<br>gender=Female<br>category=%{x}<br>price=%{y}<extra></extra>",
           "legendgroup": "",
           "marker": {
            "color": "#636efa"
           },
           "name": "",
           "notched": false,
           "offsetgroup": "",
           "orientation": "v",
           "showlegend": false,
           "type": "box",
           "x": [
            "Books",
            "Clothing",
            "Cosmetics",
            "Food & Beverage",
            "Shoes",
            "Souvenir",
            "Technology",
            "Toys"
           ],
           "x0": " ",
           "xaxis": "x",
           "y": [
            257.55,
            25206.72,
            2154.98,
            366.1,
            36610.369999999995,
            316.71,
            12600,
            1146.88
           ],
           "y0": " ",
           "yaxis": "y"
          },
          {
           "alignmentgroup": "True",
           "boxpoints": "all",
           "hovertemplate": "age=21<br>gender=Male<br>category=%{x}<br>price=%{y}<extra></extra>",
           "legendgroup": "",
           "marker": {
            "color": "#636efa"
           },
           "name": "",
           "notched": false,
           "offsetgroup": "",
           "orientation": "v",
           "showlegend": false,
           "type": "box",
           "x": [
            "Books",
            "Clothing",
            "Cosmetics",
            "Food & Beverage",
            "Shoes",
            "Souvenir",
            "Technology",
            "Toys"
           ],
           "x0": " ",
           "xaxis": "x2",
           "y": [
            378.75,
            23406.239999999998,
            1179.1399999999999,
            151.67,
            12003.4,
            82.11,
            12600,
            1648.6399999999999
           ],
           "y0": " ",
           "yaxis": "y2"
          }
         ],
         "name": "21"
        },
        {
         "data": [
          {
           "alignmentgroup": "True",
           "boxpoints": "all",
           "hovertemplate": "age=22<br>gender=Female<br>category=%{x}<br>price=%{y}<extra></extra>",
           "legendgroup": "",
           "marker": {
            "color": "#636efa"
           },
           "name": "",
           "notched": false,
           "offsetgroup": "",
           "orientation": "v",
           "showlegend": false,
           "type": "box",
           "x": [
            "Books",
            "Clothing",
            "Cosmetics",
            "Food & Beverage",
            "Shoes",
            "Souvenir",
            "Technology",
            "Toys"
           ],
           "x0": " ",
           "xaxis": "x",
           "y": [
            151.5,
            36009.6,
            1789.04,
            224.89000000000001,
            18005.1,
            316.71,
            27300,
            860.16
           ],
           "y0": " ",
           "yaxis": "y"
          },
          {
           "alignmentgroup": "True",
           "boxpoints": "all",
           "hovertemplate": "age=22<br>gender=Male<br>category=%{x}<br>price=%{y}<extra></extra>",
           "legendgroup": "",
           "marker": {
            "color": "#636efa"
           },
           "name": "",
           "notched": false,
           "offsetgroup": "",
           "orientation": "v",
           "showlegend": false,
           "type": "box",
           "x": [
            "Books",
            "Clothing",
            "Cosmetics",
            "Food & Beverage",
            "Shoes",
            "Souvenir",
            "Technology",
            "Toys"
           ],
           "x0": " ",
           "xaxis": "x2",
           "y": [
            287.85,
            24906.64,
            1870.3600000000001,
            167.36,
            9002.55,
            187.68,
            9450,
            1146.88
           ],
           "y0": " ",
           "yaxis": "y2"
          }
         ],
         "name": "22"
        },
        {
         "data": [
          {
           "alignmentgroup": "True",
           "boxpoints": "all",
           "hovertemplate": "age=23<br>gender=Female<br>category=%{x}<br>price=%{y}<extra></extra>",
           "legendgroup": "",
           "marker": {
            "color": "#636efa"
           },
           "name": "",
           "notched": false,
           "offsetgroup": "",
           "orientation": "v",
           "showlegend": false,
           "type": "box",
           "x": [
            "Books",
            "Clothing",
            "Cosmetics",
            "Food & Beverage",
            "Shoes",
            "Souvenir",
            "Technology",
            "Toys"
           ],
           "x0": " ",
           "xaxis": "x",
           "y": [
            242.4,
            48913.04,
            1138.48,
            282.42,
            24606.97,
            199.41,
            18900,
            1648.64
           ],
           "y0": " ",
           "yaxis": "y"
          },
          {
           "alignmentgroup": "True",
           "boxpoints": "all",
           "hovertemplate": "age=23<br>gender=Male<br>category=%{x}<br>price=%{y}<extra></extra>",
           "legendgroup": "",
           "marker": {
            "color": "#636efa"
           },
           "name": "",
           "notched": false,
           "offsetgroup": "",
           "orientation": "v",
           "showlegend": false,
           "type": "box",
           "x": [
            "Books",
            "Clothing",
            "Cosmetics",
            "Food & Beverage",
            "Shoes",
            "Souvenir",
            "Technology",
            "Toys"
           ],
           "x0": " ",
           "xaxis": "x2",
           "y": [
            424.2,
            24906.64,
            975.84,
            303.34,
            10202.89,
            199.41,
            4200,
            1111.04
           ],
           "y0": " ",
           "yaxis": "y2"
          }
         ],
         "name": "23"
        },
        {
         "data": [
          {
           "alignmentgroup": "True",
           "boxpoints": "all",
           "hovertemplate": "age=24<br>gender=Female<br>category=%{x}<br>price=%{y}<extra></extra>",
           "legendgroup": "",
           "marker": {
            "color": "#636efa"
           },
           "name": "",
           "notched": false,
           "offsetgroup": "",
           "orientation": "v",
           "showlegend": false,
           "type": "box",
           "x": [
            "Books",
            "Clothing",
            "Cosmetics",
            "Food & Beverage",
            "Shoes",
            "Souvenir",
            "Technology",
            "Toys"
           ],
           "x0": " ",
           "xaxis": "x",
           "y": [
            227.25,
            45012,
            1545.08,
            277.19,
            16804.76,
            293.25,
            7350,
            1003.52
           ],
           "y0": " ",
           "yaxis": "y"
          },
          {
           "alignmentgroup": "True",
           "boxpoints": "all",
           "hovertemplate": "age=24<br>gender=Male<br>category=%{x}<br>price=%{y}<extra></extra>",
           "legendgroup": "",
           "marker": {
            "color": "#636efa"
           },
           "name": "",
           "notched": false,
           "offsetgroup": "",
           "orientation": "v",
           "showlegend": false,
           "type": "box",
           "x": [
            "Books",
            "Clothing",
            "Cosmetics",
            "Food & Beverage",
            "Shoes",
            "Souvenir",
            "Technology",
            "Toys"
           ],
           "x0": " ",
           "xaxis": "x2",
           "y": [
            227.25,
            23106.16,
            1219.8,
            209.20000000000002,
            18005.1,
            46.92,
            9450,
            716.8
           ],
           "y0": " ",
           "yaxis": "y2"
          }
         ],
         "name": "24"
        },
        {
         "data": [
          {
           "alignmentgroup": "True",
           "boxpoints": "all",
           "hovertemplate": "age=25<br>gender=Female<br>category=%{x}<br>price=%{y}<extra></extra>",
           "legendgroup": "",
           "marker": {
            "color": "#636efa"
           },
           "name": "",
           "notched": false,
           "offsetgroup": "",
           "orientation": "v",
           "showlegend": false,
           "type": "box",
           "x": [
            "Books",
            "Clothing",
            "Cosmetics",
            "Food & Beverage",
            "Shoes",
            "Souvenir",
            "Technology",
            "Toys"
           ],
           "x0": " ",
           "xaxis": "x",
           "y": [
            15.15,
            35109.36,
            2398.94,
            203.97,
            13203.74,
            246.32999999999998,
            9450,
            1254.4
           ],
           "y0": " ",
           "yaxis": "y"
          },
          {
           "alignmentgroup": "True",
           "boxpoints": "all",
           "hovertemplate": "age=25<br>gender=Male<br>category=%{x}<br>price=%{y}<extra></extra>",
           "legendgroup": "",
           "marker": {
            "color": "#636efa"
           },
           "name": "",
           "notched": false,
           "offsetgroup": "",
           "orientation": "v",
           "showlegend": false,
           "type": "box",
           "x": [
            "Books",
            "Clothing",
            "Cosmetics",
            "Food & Beverage",
            "Shoes",
            "Souvenir",
            "Technology",
            "Toys"
           ],
           "x0": " ",
           "xaxis": "x2",
           "y": [
            196.95000000000002,
            21305.68,
            1057.16,
            109.83,
            9002.55,
            11.73,
            3150,
            1111.04
           ],
           "y0": " ",
           "yaxis": "y2"
          }
         ],
         "name": "25"
        },
        {
         "data": [
          {
           "alignmentgroup": "True",
           "boxpoints": "all",
           "hovertemplate": "age=26<br>gender=Female<br>category=%{x}<br>price=%{y}<extra></extra>",
           "legendgroup": "",
           "marker": {
            "color": "#636efa"
           },
           "name": "",
           "notched": false,
           "offsetgroup": "",
           "orientation": "v",
           "showlegend": false,
           "type": "box",
           "x": [
            "Books",
            "Clothing",
            "Cosmetics",
            "Food & Beverage",
            "Shoes",
            "Souvenir",
            "Technology",
            "Toys"
           ],
           "x0": " ",
           "xaxis": "x",
           "y": [
            196.95000000000002,
            27607.36,
            2236.3,
            256.27000000000004,
            18005.1,
            469.2,
            16800,
            1505.28
           ],
           "y0": " ",
           "yaxis": "y"
          },
          {
           "alignmentgroup": "True",
           "boxpoints": "all",
           "hovertemplate": "age=26<br>gender=Male<br>category=%{x}<br>price=%{y}<extra></extra>",
           "legendgroup": "",
           "marker": {
            "color": "#636efa"
           },
           "name": "",
           "notched": false,
           "offsetgroup": "",
           "orientation": "v",
           "showlegend": false,
           "type": "box",
           "x": [
            "Books",
            "Clothing",
            "Cosmetics",
            "Food & Beverage",
            "Shoes",
            "Souvenir",
            "Technology",
            "Toys"
           ],
           "x0": " ",
           "xaxis": "x2",
           "y": [
            151.5,
            24306.48,
            1057.16,
            146.44,
            10202.89,
            105.57,
            6300,
            501.76
           ],
           "y0": " ",
           "yaxis": "y2"
          }
         ],
         "name": "26"
        },
        {
         "data": [
          {
           "alignmentgroup": "True",
           "boxpoints": "all",
           "hovertemplate": "age=27<br>gender=Female<br>category=%{x}<br>price=%{y}<extra></extra>",
           "legendgroup": "",
           "marker": {
            "color": "#636efa"
           },
           "name": "",
           "notched": false,
           "offsetgroup": "",
           "orientation": "v",
           "showlegend": false,
           "type": "box",
           "x": [
            "Books",
            "Clothing",
            "Cosmetics",
            "Food & Beverage",
            "Shoes",
            "Souvenir",
            "Technology",
            "Toys"
           ],
           "x0": " ",
           "xaxis": "x",
           "y": [
            242.4,
            44111.76,
            1870.36,
            298.11,
            24006.8,
            117.3,
            7350,
            1111.04
           ],
           "y0": " ",
           "yaxis": "y"
          },
          {
           "alignmentgroup": "True",
           "boxpoints": "all",
           "hovertemplate": "age=27<br>gender=Male<br>category=%{x}<br>price=%{y}<extra></extra>",
           "legendgroup": "",
           "marker": {
            "color": "#636efa"
           },
           "name": "",
           "notched": false,
           "offsetgroup": "",
           "orientation": "v",
           "showlegend": false,
           "type": "box",
           "x": [
            "Books",
            "Clothing",
            "Cosmetics",
            "Food & Beverage",
            "Shoes",
            "Souvenir",
            "Technology",
            "Toys"
           ],
           "x0": " ",
           "xaxis": "x2",
           "y": [
            60.6,
            23706.32,
            2398.94,
            177.82,
            15004.25,
            211.14,
            9450,
            1039.3600000000001
           ],
           "y0": " ",
           "yaxis": "y2"
          }
         ],
         "name": "27"
        },
        {
         "data": [
          {
           "alignmentgroup": "True",
           "boxpoints": "all",
           "hovertemplate": "age=28<br>gender=Female<br>category=%{x}<br>price=%{y}<extra></extra>",
           "legendgroup": "",
           "marker": {
            "color": "#636efa"
           },
           "name": "",
           "notched": false,
           "offsetgroup": "",
           "orientation": "v",
           "showlegend": false,
           "type": "box",
           "x": [
            "Books",
            "Clothing",
            "Cosmetics",
            "Food & Beverage",
            "Shoes",
            "Souvenir",
            "Technology",
            "Toys"
           ],
           "x0": " ",
           "xaxis": "x",
           "y": [
            212.1,
            29407.84,
            3049.5,
            339.95,
            9602.72,
            117.30000000000001,
            9450,
            1648.64
           ],
           "y0": " ",
           "yaxis": "y"
          },
          {
           "alignmentgroup": "True",
           "boxpoints": "all",
           "hovertemplate": "age=28<br>gender=Male<br>category=%{x}<br>price=%{y}<extra></extra>",
           "legendgroup": "",
           "marker": {
            "color": "#636efa"
           },
           "name": "",
           "notched": false,
           "offsetgroup": "",
           "orientation": "v",
           "showlegend": false,
           "type": "box",
           "x": [
            "Books",
            "Clothing",
            "Cosmetics",
            "Food & Beverage",
            "Shoes",
            "Technology",
            "Toys"
           ],
           "x0": " ",
           "xaxis": "x2",
           "y": [
            378.75,
            25506.8,
            1423.1,
            198.74,
            15604.419999999998,
            16800,
            1146.8799999999999
           ],
           "y0": " ",
           "yaxis": "y2"
          }
         ],
         "name": "28"
        },
        {
         "data": [
          {
           "alignmentgroup": "True",
           "boxpoints": "all",
           "hovertemplate": "age=29<br>gender=Female<br>category=%{x}<br>price=%{y}<extra></extra>",
           "legendgroup": "",
           "marker": {
            "color": "#636efa"
           },
           "name": "",
           "notched": false,
           "offsetgroup": "",
           "orientation": "v",
           "showlegend": false,
           "type": "box",
           "x": [
            "Books",
            "Clothing",
            "Cosmetics",
            "Food & Beverage",
            "Shoes",
            "Souvenir",
            "Technology",
            "Toys"
           ],
           "x0": " ",
           "xaxis": "x",
           "y": [
            409.05,
            33008.8,
            1545.08,
            198.74,
            30608.67,
            293.25,
            16800,
            1397.76
           ],
           "y0": " ",
           "yaxis": "y"
          },
          {
           "alignmentgroup": "True",
           "boxpoints": "all",
           "hovertemplate": "age=29<br>gender=Male<br>category=%{x}<br>price=%{y}<extra></extra>",
           "legendgroup": "",
           "marker": {
            "color": "#636efa"
           },
           "name": "",
           "notched": false,
           "offsetgroup": "",
           "orientation": "v",
           "showlegend": false,
           "type": "box",
           "x": [
            "Books",
            "Clothing",
            "Cosmetics",
            "Food & Beverage",
            "Shoes",
            "Souvenir",
            "Technology",
            "Toys"
           ],
           "x0": " ",
           "xaxis": "x2",
           "y": [
            272.7,
            19205.12,
            1463.76,
            251.04,
            10202.89,
            152.49,
            8400,
            430.08
           ],
           "y0": " ",
           "yaxis": "y2"
          }
         ],
         "name": "29"
        },
        {
         "data": [
          {
           "alignmentgroup": "True",
           "boxpoints": "all",
           "hovertemplate": "age=30<br>gender=Female<br>category=%{x}<br>price=%{y}<extra></extra>",
           "legendgroup": "",
           "marker": {
            "color": "#636efa"
           },
           "name": "",
           "notched": false,
           "offsetgroup": "",
           "orientation": "v",
           "showlegend": false,
           "type": "box",
           "x": [
            "Books",
            "Clothing",
            "Cosmetics",
            "Food & Beverage",
            "Shoes",
            "Souvenir",
            "Technology",
            "Toys"
           ],
           "x0": " ",
           "xaxis": "x",
           "y": [
            348.45,
            30008,
            2846.2,
            266.73,
            32409.179999999997,
            222.87,
            25200,
            680.96
           ],
           "y0": " ",
           "yaxis": "y"
          },
          {
           "alignmentgroup": "True",
           "boxpoints": "all",
           "hovertemplate": "age=30<br>gender=Male<br>category=%{x}<br>price=%{y}<extra></extra>",
           "legendgroup": "",
           "marker": {
            "color": "#636efa"
           },
           "name": "",
           "notched": false,
           "offsetgroup": "",
           "orientation": "v",
           "showlegend": false,
           "type": "box",
           "x": [
            "Books",
            "Clothing",
            "Cosmetics",
            "Food & Beverage",
            "Shoes",
            "Souvenir",
            "Technology",
            "Toys"
           ],
           "x0": " ",
           "xaxis": "x2",
           "y": [
            75.75,
            23106.16,
            894.52,
            214.43,
            10803.06,
            46.92,
            8400,
            860.1600000000001
           ],
           "y0": " ",
           "yaxis": "y2"
          }
         ],
         "name": "30"
        },
        {
         "data": [
          {
           "alignmentgroup": "True",
           "boxpoints": "all",
           "hovertemplate": "age=31<br>gender=Female<br>category=%{x}<br>price=%{y}<extra></extra>",
           "legendgroup": "",
           "marker": {
            "color": "#636efa"
           },
           "name": "",
           "notched": false,
           "offsetgroup": "",
           "orientation": "v",
           "showlegend": false,
           "type": "box",
           "x": [
            "Books",
            "Clothing",
            "Cosmetics",
            "Food & Beverage",
            "Shoes",
            "Souvenir",
            "Technology",
            "Toys"
           ],
           "x0": " ",
           "xaxis": "x",
           "y": [
            287.85,
            33608.96,
            1301.1200000000001,
            319.03,
            12003.4,
            211.14,
            25200,
            896
           ],
           "y0": " ",
           "yaxis": "y"
          },
          {
           "alignmentgroup": "True",
           "boxpoints": "all",
           "hovertemplate": "age=31<br>gender=Male<br>category=%{x}<br>price=%{y}<extra></extra>",
           "legendgroup": "",
           "marker": {
            "color": "#636efa"
           },
           "name": "",
           "notched": false,
           "offsetgroup": "",
           "orientation": "v",
           "showlegend": false,
           "type": "box",
           "x": [
            "Books",
            "Clothing",
            "Cosmetics",
            "Food & Beverage",
            "Shoes",
            "Souvenir",
            "Technology",
            "Toys"
           ],
           "x0": " ",
           "xaxis": "x2",
           "y": [
            136.35,
            20405.44,
            1748.38,
            198.74,
            24606.969999999998,
            258.06,
            10500,
            1039.3600000000001
           ],
           "y0": " ",
           "yaxis": "y2"
          }
         ],
         "name": "31"
        },
        {
         "data": [
          {
           "alignmentgroup": "True",
           "boxpoints": "all",
           "hovertemplate": "age=32<br>gender=Female<br>category=%{x}<br>price=%{y}<extra></extra>",
           "legendgroup": "",
           "marker": {
            "color": "#636efa"
           },
           "name": "",
           "notched": false,
           "offsetgroup": "",
           "orientation": "v",
           "showlegend": false,
           "type": "box",
           "x": [
            "Books",
            "Clothing",
            "Cosmetics",
            "Food & Beverage",
            "Shoes",
            "Souvenir",
            "Technology",
            "Toys"
           ],
           "x0": " ",
           "xaxis": "x",
           "y": [
            106.05000000000001,
            27007.2,
            2154.98,
            209.20000000000002,
            30008.5,
            164.22,
            35700,
            1290.24
           ],
           "y0": " ",
           "yaxis": "y"
          },
          {
           "alignmentgroup": "True",
           "boxpoints": "all",
           "hovertemplate": "age=32<br>gender=Male<br>category=%{x}<br>price=%{y}<extra></extra>",
           "legendgroup": "",
           "marker": {
            "color": "#636efa"
           },
           "name": "",
           "notched": false,
           "offsetgroup": "",
           "orientation": "v",
           "showlegend": false,
           "type": "box",
           "x": [
            "Books",
            "Clothing",
            "Cosmetics",
            "Food & Beverage",
            "Shoes",
            "Souvenir",
            "Technology",
            "Toys"
           ],
           "x0": " ",
           "xaxis": "x2",
           "y": [
            90.9,
            21305.68,
            2480.2599999999998,
            188.28,
            9002.55,
            58.65,
            10500,
            322.56
           ],
           "y0": " ",
           "yaxis": "y2"
          }
         ],
         "name": "32"
        },
        {
         "data": [
          {
           "alignmentgroup": "True",
           "boxpoints": "all",
           "hovertemplate": "age=33<br>gender=Female<br>category=%{x}<br>price=%{y}<extra></extra>",
           "legendgroup": "",
           "marker": {
            "color": "#636efa"
           },
           "name": "",
           "notched": false,
           "offsetgroup": "",
           "orientation": "v",
           "showlegend": false,
           "type": "box",
           "x": [
            "Books",
            "Clothing",
            "Cosmetics",
            "Food & Beverage",
            "Shoes",
            "Souvenir",
            "Technology",
            "Toys"
           ],
           "x0": " ",
           "xaxis": "x",
           "y": [
            196.95,
            43811.68,
            1585.74,
            329.49,
            24006.8,
            152.49,
            16800,
            1576.96
           ],
           "y0": " ",
           "yaxis": "y"
          },
          {
           "alignmentgroup": "True",
           "boxpoints": "all",
           "hovertemplate": "age=33<br>gender=Male<br>category=%{x}<br>price=%{y}<extra></extra>",
           "legendgroup": "",
           "marker": {
            "color": "#636efa"
           },
           "name": "",
           "notched": false,
           "offsetgroup": "",
           "orientation": "v",
           "showlegend": false,
           "type": "box",
           "x": [
            "Books",
            "Clothing",
            "Cosmetics",
            "Food & Beverage",
            "Shoes",
            "Souvenir",
            "Technology",
            "Toys"
           ],
           "x0": " ",
           "xaxis": "x2",
           "y": [
            227.25,
            26407.04,
            1748.38,
            203.97,
            21005.95,
            164.22,
            10500,
            788.48
           ],
           "y0": " ",
           "yaxis": "y2"
          }
         ],
         "name": "33"
        },
        {
         "data": [
          {
           "alignmentgroup": "True",
           "boxpoints": "all",
           "hovertemplate": "age=34<br>gender=Female<br>category=%{x}<br>price=%{y}<extra></extra>",
           "legendgroup": "",
           "marker": {
            "color": "#636efa"
           },
           "name": "",
           "notched": false,
           "offsetgroup": "",
           "orientation": "v",
           "showlegend": false,
           "type": "box",
           "x": [
            "Books",
            "Clothing",
            "Cosmetics",
            "Food & Beverage",
            "Shoes",
            "Souvenir",
            "Technology",
            "Toys"
           ],
           "x0": " ",
           "xaxis": "x",
           "y": [
            363.6,
            28807.68,
            2033,
            329.49,
            19205.44,
            398.82,
            16800,
            1720.32
           ],
           "y0": " ",
           "yaxis": "y"
          },
          {
           "alignmentgroup": "True",
           "boxpoints": "all",
           "hovertemplate": "age=34<br>gender=Male<br>category=%{x}<br>price=%{y}<extra></extra>",
           "legendgroup": "",
           "marker": {
            "color": "#636efa"
           },
           "name": "",
           "notched": false,
           "offsetgroup": "",
           "orientation": "v",
           "showlegend": false,
           "type": "box",
           "x": [
            "Books",
            "Clothing",
            "Cosmetics",
            "Food & Beverage",
            "Shoes",
            "Souvenir",
            "Technology",
            "Toys"
           ],
           "x0": " ",
           "xaxis": "x2",
           "y": [
            106.05,
            13803.68,
            935.18,
            151.67000000000002,
            24606.969999999998,
            11.73,
            14700,
            1111.04
           ],
           "y0": " ",
           "yaxis": "y2"
          }
         ],
         "name": "34"
        },
        {
         "data": [
          {
           "alignmentgroup": "True",
           "boxpoints": "all",
           "hovertemplate": "age=35<br>gender=Female<br>category=%{x}<br>price=%{y}<extra></extra>",
           "legendgroup": "",
           "marker": {
            "color": "#636efa"
           },
           "name": "",
           "notched": false,
           "offsetgroup": "",
           "orientation": "v",
           "showlegend": false,
           "type": "box",
           "x": [
            "Books",
            "Clothing",
            "Cosmetics",
            "Food & Beverage",
            "Shoes",
            "Souvenir",
            "Technology",
            "Toys"
           ],
           "x0": " ",
           "xaxis": "x",
           "y": [
            272.7,
            24006.399999999998,
            2154.98,
            313.8,
            14404.08,
            222.87,
            9450,
            1971.1999999999998
           ],
           "y0": " ",
           "yaxis": "y"
          },
          {
           "alignmentgroup": "True",
           "boxpoints": "all",
           "hovertemplate": "age=35<br>gender=Male<br>category=%{x}<br>price=%{y}<extra></extra>",
           "legendgroup": "",
           "marker": {
            "color": "#636efa"
           },
           "name": "",
           "notched": false,
           "offsetgroup": "",
           "orientation": "v",
           "showlegend": false,
           "type": "box",
           "x": [
            "Books",
            "Clothing",
            "Cosmetics",
            "Food & Beverage",
            "Shoes",
            "Souvenir",
            "Technology",
            "Toys"
           ],
           "x0": " ",
           "xaxis": "x2",
           "y": [
            90.9,
            22806.079999999998,
            487.91999999999996,
            188.28,
            15004.25,
            117.3,
            14700,
            465.9200000000001
           ],
           "y0": " ",
           "yaxis": "y2"
          }
         ],
         "name": "35"
        },
        {
         "data": [
          {
           "alignmentgroup": "True",
           "boxpoints": "all",
           "hovertemplate": "age=36<br>gender=Female<br>category=%{x}<br>price=%{y}<extra></extra>",
           "legendgroup": "",
           "marker": {
            "color": "#636efa"
           },
           "name": "",
           "notched": false,
           "offsetgroup": "",
           "orientation": "v",
           "showlegend": false,
           "type": "box",
           "x": [
            "Books",
            "Clothing",
            "Cosmetics",
            "Food & Beverage",
            "Shoes",
            "Souvenir",
            "Technology",
            "Toys"
           ],
           "x0": " ",
           "xaxis": "x",
           "y": [
            303,
            39310.48,
            2358.2799999999997,
            287.65,
            25807.309999999998,
            293.25,
            13650,
            1146.8799999999999
           ],
           "y0": " ",
           "yaxis": "y"
          },
          {
           "alignmentgroup": "True",
           "boxpoints": "all",
           "hovertemplate": "age=36<br>gender=Male<br>category=%{x}<br>price=%{y}<extra></extra>",
           "legendgroup": "",
           "marker": {
            "color": "#636efa"
           },
           "name": "",
           "notched": false,
           "offsetgroup": "",
           "orientation": "v",
           "showlegend": false,
           "type": "box",
           "x": [
            "Books",
            "Clothing",
            "Cosmetics",
            "Food & Beverage",
            "Shoes",
            "Souvenir",
            "Technology",
            "Toys"
           ],
           "x0": " ",
           "xaxis": "x2",
           "y": [
            60.6,
            22806.08,
            1951.68,
            151.67000000000002,
            14404.08,
            70.38,
            10500,
            645.1200000000001
           ],
           "y0": " ",
           "yaxis": "y2"
          }
         ],
         "name": "36"
        },
        {
         "data": [
          {
           "alignmentgroup": "True",
           "boxpoints": "all",
           "hovertemplate": "age=37<br>gender=Female<br>category=%{x}<br>price=%{y}<extra></extra>",
           "legendgroup": "",
           "marker": {
            "color": "#636efa"
           },
           "name": "",
           "notched": false,
           "offsetgroup": "",
           "orientation": "v",
           "showlegend": false,
           "type": "box",
           "x": [
            "Books",
            "Clothing",
            "Cosmetics",
            "Food & Beverage",
            "Shoes",
            "Souvenir",
            "Technology",
            "Toys"
           ],
           "x0": " ",
           "xaxis": "x",
           "y": [
            196.95000000000002,
            36009.6,
            2236.3,
            329.49,
            42612.07,
            117.30000000000001,
            12600,
            1075.2
           ],
           "y0": " ",
           "yaxis": "y"
          },
          {
           "alignmentgroup": "True",
           "boxpoints": "all",
           "hovertemplate": "age=37<br>gender=Male<br>category=%{x}<br>price=%{y}<extra></extra>",
           "legendgroup": "",
           "marker": {
            "color": "#636efa"
           },
           "name": "",
           "notched": false,
           "offsetgroup": "",
           "orientation": "v",
           "showlegend": false,
           "type": "box",
           "x": [
            "Books",
            "Clothing",
            "Cosmetics",
            "Food & Beverage",
            "Shoes",
            "Souvenir",
            "Technology",
            "Toys"
           ],
           "x0": " ",
           "xaxis": "x2",
           "y": [
            242.4,
            26106.96,
            894.52,
            177.82,
            10202.89,
            117.3,
            9450,
            716.8000000000001
           ],
           "y0": " ",
           "yaxis": "y2"
          }
         ],
         "name": "37"
        },
        {
         "data": [
          {
           "alignmentgroup": "True",
           "boxpoints": "all",
           "hovertemplate": "age=38<br>gender=Female<br>category=%{x}<br>price=%{y}<extra></extra>",
           "legendgroup": "",
           "marker": {
            "color": "#636efa"
           },
           "name": "",
           "notched": false,
           "offsetgroup": "",
           "orientation": "v",
           "showlegend": false,
           "type": "box",
           "x": [
            "Books",
            "Clothing",
            "Cosmetics",
            "Food & Beverage",
            "Shoes",
            "Souvenir",
            "Technology",
            "Toys"
           ],
           "x0": " ",
           "xaxis": "x",
           "y": [
            257.55,
            41711.12,
            2317.62,
            251.04000000000002,
            25807.309999999998,
            117.3,
            18900,
            824.32
           ],
           "y0": " ",
           "yaxis": "y"
          },
          {
           "alignmentgroup": "True",
           "boxpoints": "all",
           "hovertemplate": "age=38<br>gender=Male<br>category=%{x}<br>price=%{y}<extra></extra>",
           "legendgroup": "",
           "marker": {
            "color": "#636efa"
           },
           "name": "",
           "notched": false,
           "offsetgroup": "",
           "orientation": "v",
           "showlegend": false,
           "type": "box",
           "x": [
            "Books",
            "Clothing",
            "Cosmetics",
            "Food & Beverage",
            "Shoes",
            "Souvenir",
            "Technology",
            "Toys"
           ],
           "x0": " ",
           "xaxis": "x2",
           "y": [
            333.3,
            28207.52,
            1382.44,
            172.59,
            21606.12,
            175.95,
            13650,
            1326.08
           ],
           "y0": " ",
           "yaxis": "y2"
          }
         ],
         "name": "38"
        },
        {
         "data": [
          {
           "alignmentgroup": "True",
           "boxpoints": "all",
           "hovertemplate": "age=39<br>gender=Female<br>category=%{x}<br>price=%{y}<extra></extra>",
           "legendgroup": "",
           "marker": {
            "color": "#636efa"
           },
           "name": "",
           "notched": false,
           "offsetgroup": "",
           "orientation": "v",
           "showlegend": false,
           "type": "box",
           "x": [
            "Books",
            "Clothing",
            "Cosmetics",
            "Food & Beverage",
            "Shoes",
            "Souvenir",
            "Technology",
            "Toys"
           ],
           "x0": " ",
           "xaxis": "x",
           "y": [
            257.55,
            32408.64,
            1911.02,
            282.42,
            23406.629999999997,
            187.68,
            12600,
            1648.64
           ],
           "y0": " ",
           "yaxis": "y"
          },
          {
           "alignmentgroup": "True",
           "boxpoints": "all",
           "hovertemplate": "age=39<br>gender=Male<br>category=%{x}<br>price=%{y}<extra></extra>",
           "legendgroup": "",
           "marker": {
            "color": "#636efa"
           },
           "name": "",
           "notched": false,
           "offsetgroup": "",
           "orientation": "v",
           "showlegend": false,
           "type": "box",
           "x": [
            "Books",
            "Clothing",
            "Cosmetics",
            "Food & Beverage",
            "Shoes",
            "Souvenir",
            "Technology",
            "Toys"
           ],
           "x0": " ",
           "xaxis": "x2",
           "y": [
            90.9,
            34209.12,
            1423.1,
            130.75,
            10803.06,
            93.84,
            11550,
            573.44
           ],
           "y0": " ",
           "yaxis": "y2"
          }
         ],
         "name": "39"
        },
        {
         "data": [
          {
           "alignmentgroup": "True",
           "boxpoints": "all",
           "hovertemplate": "age=40<br>gender=Female<br>category=%{x}<br>price=%{y}<extra></extra>",
           "legendgroup": "",
           "marker": {
            "color": "#636efa"
           },
           "name": "",
           "notched": false,
           "offsetgroup": "",
           "orientation": "v",
           "showlegend": false,
           "type": "box",
           "x": [
            "Books",
            "Clothing",
            "Cosmetics",
            "Food & Beverage",
            "Shoes",
            "Souvenir",
            "Technology",
            "Toys"
           ],
           "x0": " ",
           "xaxis": "x",
           "y": [
            136.35,
            37209.92,
            2724.22,
            287.65,
            33009.35,
            504.39,
            18900,
            1361.92
           ],
           "y0": " ",
           "yaxis": "y"
          },
          {
           "alignmentgroup": "True",
           "boxpoints": "all",
           "hovertemplate": "age=40<br>gender=Male<br>category=%{x}<br>price=%{y}<extra></extra>",
           "legendgroup": "",
           "marker": {
            "color": "#636efa"
           },
           "name": "",
           "notched": false,
           "offsetgroup": "",
           "orientation": "v",
           "showlegend": false,
           "type": "box",
           "x": [
            "Books",
            "Clothing",
            "Cosmetics",
            "Food & Beverage",
            "Shoes",
            "Souvenir",
            "Technology",
            "Toys"
           ],
           "x0": " ",
           "xaxis": "x2",
           "y": [
            166.65,
            22806.079999999998,
            1667.06,
            188.28,
            19205.44,
            199.41,
            12600,
            931.8399999999999
           ],
           "y0": " ",
           "yaxis": "y2"
          }
         ],
         "name": "40"
        },
        {
         "data": [
          {
           "alignmentgroup": "True",
           "boxpoints": "all",
           "hovertemplate": "age=41<br>gender=Female<br>category=%{x}<br>price=%{y}<extra></extra>",
           "legendgroup": "",
           "marker": {
            "color": "#636efa"
           },
           "name": "",
           "notched": false,
           "offsetgroup": "",
           "orientation": "v",
           "showlegend": false,
           "type": "box",
           "x": [
            "Books",
            "Clothing",
            "Cosmetics",
            "Food & Beverage",
            "Shoes",
            "Souvenir",
            "Technology",
            "Toys"
           ],
           "x0": " ",
           "xaxis": "x",
           "y": [
            287.85,
            45612.159999999996,
            1789.04,
            188.28,
            12603.57,
            363.63,
            8400,
            967.6800000000001
           ],
           "y0": " ",
           "yaxis": "y"
          },
          {
           "alignmentgroup": "True",
           "boxpoints": "all",
           "hovertemplate": "age=41<br>gender=Male<br>category=%{x}<br>price=%{y}<extra></extra>",
           "legendgroup": "",
           "marker": {
            "color": "#636efa"
           },
           "name": "",
           "notched": false,
           "offsetgroup": "",
           "orientation": "v",
           "showlegend": false,
           "type": "box",
           "x": [
            "Books",
            "Clothing",
            "Cosmetics",
            "Food & Beverage",
            "Shoes",
            "Souvenir",
            "Technology",
            "Toys"
           ],
           "x0": " ",
           "xaxis": "x2",
           "y": [
            257.55,
            27307.28,
            1667.06,
            109.83,
            7802.21,
            234.6,
            15750,
            1075.2
           ],
           "y0": " ",
           "yaxis": "y2"
          }
         ],
         "name": "41"
        },
        {
         "data": [
          {
           "alignmentgroup": "True",
           "boxpoints": "all",
           "hovertemplate": "age=42<br>gender=Female<br>category=%{x}<br>price=%{y}<extra></extra>",
           "legendgroup": "",
           "marker": {
            "color": "#636efa"
           },
           "name": "",
           "notched": false,
           "offsetgroup": "",
           "orientation": "v",
           "showlegend": false,
           "type": "box",
           "x": [
            "Books",
            "Clothing",
            "Cosmetics",
            "Food & Beverage",
            "Shoes",
            "Souvenir",
            "Technology",
            "Toys"
           ],
           "x0": " ",
           "xaxis": "x",
           "y": [
            136.35,
            28807.68,
            2154.98,
            261.5,
            17404.93,
            457.47,
            13650,
            1827.8400000000001
           ],
           "y0": " ",
           "yaxis": "y"
          },
          {
           "alignmentgroup": "True",
           "boxpoints": "all",
           "hovertemplate": "age=42<br>gender=Male<br>category=%{x}<br>price=%{y}<extra></extra>",
           "legendgroup": "",
           "marker": {
            "color": "#636efa"
           },
           "name": "",
           "notched": false,
           "offsetgroup": "",
           "orientation": "v",
           "showlegend": false,
           "type": "box",
           "x": [
            "Clothing",
            "Cosmetics",
            "Food & Beverage",
            "Shoes",
            "Souvenir",
            "Technology",
            "Toys"
           ],
           "x0": " ",
           "xaxis": "x2",
           "y": [
            28207.52,
            1179.14,
            235.35,
            19205.44,
            11.73,
            7350,
            1039.3600000000001
           ],
           "y0": " ",
           "yaxis": "y2"
          }
         ],
         "name": "42"
        },
        {
         "data": [
          {
           "alignmentgroup": "True",
           "boxpoints": "all",
           "hovertemplate": "age=43<br>gender=Female<br>category=%{x}<br>price=%{y}<extra></extra>",
           "legendgroup": "",
           "marker": {
            "color": "#636efa"
           },
           "name": "",
           "notched": false,
           "offsetgroup": "",
           "orientation": "v",
           "showlegend": false,
           "type": "box",
           "x": [
            "Books",
            "Clothing",
            "Cosmetics",
            "Food & Beverage",
            "Shoes",
            "Souvenir",
            "Technology",
            "Toys"
           ],
           "x0": " ",
           "xaxis": "x",
           "y": [
            257.55,
            35109.36,
            2195.64,
            287.65,
            22806.46,
            199.41,
            33600,
            860.16
           ],
           "y0": " ",
           "yaxis": "y"
          },
          {
           "alignmentgroup": "True",
           "boxpoints": "all",
           "hovertemplate": "age=43<br>gender=Male<br>category=%{x}<br>price=%{y}<extra></extra>",
           "legendgroup": "",
           "marker": {
            "color": "#636efa"
           },
           "name": "",
           "notched": false,
           "offsetgroup": "",
           "orientation": "v",
           "showlegend": false,
           "type": "box",
           "x": [
            "Clothing",
            "Cosmetics",
            "Food & Beverage",
            "Shoes",
            "Souvenir",
            "Technology",
            "Toys"
           ],
           "x0": " ",
           "xaxis": "x2",
           "y": [
            27307.28,
            1260.46,
            355.64,
            27007.649999999998,
            199.41,
            15750,
            788.48
           ],
           "y0": " ",
           "yaxis": "y2"
          }
         ],
         "name": "43"
        },
        {
         "data": [
          {
           "alignmentgroup": "True",
           "boxpoints": "all",
           "hovertemplate": "age=44<br>gender=Female<br>category=%{x}<br>price=%{y}<extra></extra>",
           "legendgroup": "",
           "marker": {
            "color": "#636efa"
           },
           "name": "",
           "notched": false,
           "offsetgroup": "",
           "orientation": "v",
           "showlegend": false,
           "type": "box",
           "x": [
            "Books",
            "Clothing",
            "Cosmetics",
            "Food & Beverage",
            "Shoes",
            "Souvenir",
            "Technology",
            "Toys"
           ],
           "x0": " ",
           "xaxis": "x",
           "y": [
            257.55,
            31808.48,
            1179.1399999999999,
            407.94,
            27607.82,
            269.78999999999996,
            42000,
            788.48
           ],
           "y0": " ",
           "yaxis": "y"
          },
          {
           "alignmentgroup": "True",
           "boxpoints": "all",
           "hovertemplate": "age=44<br>gender=Male<br>category=%{x}<br>price=%{y}<extra></extra>",
           "legendgroup": "",
           "marker": {
            "color": "#636efa"
           },
           "name": "",
           "notched": false,
           "offsetgroup": "",
           "orientation": "v",
           "showlegend": false,
           "type": "box",
           "x": [
            "Clothing",
            "Cosmetics",
            "Food & Beverage",
            "Shoes",
            "Souvenir",
            "Technology",
            "Toys"
           ],
           "x0": " ",
           "xaxis": "x2",
           "y": [
            23706.32,
            772.54,
            162.13,
            10803.06,
            164.22,
            5250,
            716.8000000000001
           ],
           "y0": " ",
           "yaxis": "y2"
          }
         ],
         "name": "44"
        },
        {
         "data": [
          {
           "alignmentgroup": "True",
           "boxpoints": "all",
           "hovertemplate": "age=45<br>gender=Female<br>category=%{x}<br>price=%{y}<extra></extra>",
           "legendgroup": "",
           "marker": {
            "color": "#636efa"
           },
           "name": "",
           "notched": false,
           "offsetgroup": "",
           "orientation": "v",
           "showlegend": false,
           "type": "box",
           "x": [
            "Books",
            "Clothing",
            "Cosmetics",
            "Food & Beverage",
            "Shoes",
            "Souvenir",
            "Technology",
            "Toys"
           ],
           "x0": " ",
           "xaxis": "x",
           "y": [
            242.4,
            28807.68,
            2236.3,
            219.66000000000003,
            51014.45,
            246.32999999999998,
            29400,
            1612.8
           ],
           "y0": " ",
           "yaxis": "y"
          },
          {
           "alignmentgroup": "True",
           "boxpoints": "all",
           "hovertemplate": "age=45<br>gender=Male<br>category=%{x}<br>price=%{y}<extra></extra>",
           "legendgroup": "",
           "marker": {
            "color": "#636efa"
           },
           "name": "",
           "notched": false,
           "offsetgroup": "",
           "orientation": "v",
           "showlegend": false,
           "type": "box",
           "x": [
            "Books",
            "Clothing",
            "Cosmetics",
            "Food & Beverage",
            "Shoes",
            "Souvenir",
            "Technology",
            "Toys"
           ],
           "x0": " ",
           "xaxis": "x2",
           "y": [
            257.55,
            12003.2,
            569.24,
            88.91,
            8402.38,
            187.68,
            12600,
            788.48
           ],
           "y0": " ",
           "yaxis": "y2"
          }
         ],
         "name": "45"
        },
        {
         "data": [
          {
           "alignmentgroup": "True",
           "boxpoints": "all",
           "hovertemplate": "age=46<br>gender=Female<br>category=%{x}<br>price=%{y}<extra></extra>",
           "legendgroup": "",
           "marker": {
            "color": "#636efa"
           },
           "name": "",
           "notched": false,
           "offsetgroup": "",
           "orientation": "v",
           "showlegend": false,
           "type": "box",
           "x": [
            "Books",
            "Clothing",
            "Cosmetics",
            "Food & Beverage",
            "Shoes",
            "Souvenir",
            "Technology",
            "Toys"
           ],
           "x0": " ",
           "xaxis": "x",
           "y": [
            363.6,
            46812.48,
            1870.36,
            177.82,
            19805.61,
            175.95,
            18900,
            1218.56
           ],
           "y0": " ",
           "yaxis": "y"
          },
          {
           "alignmentgroup": "True",
           "boxpoints": "all",
           "hovertemplate": "age=46<br>gender=Male<br>category=%{x}<br>price=%{y}<extra></extra>",
           "legendgroup": "",
           "marker": {
            "color": "#636efa"
           },
           "name": "",
           "notched": false,
           "offsetgroup": "",
           "orientation": "v",
           "showlegend": false,
           "type": "box",
           "x": [
            "Books",
            "Clothing",
            "Cosmetics",
            "Food & Beverage",
            "Shoes",
            "Souvenir",
            "Technology",
            "Toys"
           ],
           "x0": " ",
           "xaxis": "x2",
           "y": [
            181.8,
            20105.36,
            1707.72,
            198.74,
            16804.76,
            117.3,
            4200,
            1254.3999999999999
           ],
           "y0": " ",
           "yaxis": "y2"
          }
         ],
         "name": "46"
        },
        {
         "data": [
          {
           "alignmentgroup": "True",
           "boxpoints": "all",
           "hovertemplate": "age=47<br>gender=Female<br>category=%{x}<br>price=%{y}<extra></extra>",
           "legendgroup": "",
           "marker": {
            "color": "#636efa"
           },
           "name": "",
           "notched": false,
           "offsetgroup": "",
           "orientation": "v",
           "showlegend": false,
           "type": "box",
           "x": [
            "Books",
            "Clothing",
            "Cosmetics",
            "Food & Beverage",
            "Shoes",
            "Souvenir",
            "Technology",
            "Toys"
           ],
           "x0": " ",
           "xaxis": "x",
           "y": [
            348.45000000000005,
            44111.76,
            1423.1,
            235.35000000000002,
            7202.04,
            93.84,
            13650,
            2007.04
           ],
           "y0": " ",
           "yaxis": "y"
          },
          {
           "alignmentgroup": "True",
           "boxpoints": "all",
           "hovertemplate": "age=47<br>gender=Male<br>category=%{x}<br>price=%{y}<extra></extra>",
           "legendgroup": "",
           "marker": {
            "color": "#636efa"
           },
           "name": "",
           "notched": false,
           "offsetgroup": "",
           "orientation": "v",
           "showlegend": false,
           "type": "box",
           "x": [
            "Books",
            "Clothing",
            "Cosmetics",
            "Food & Beverage",
            "Shoes",
            "Souvenir",
            "Technology",
            "Toys"
           ],
           "x0": " ",
           "xaxis": "x2",
           "y": [
            106.05000000000001,
            31208.32,
            1707.72,
            162.13,
            12603.57,
            82.11,
            5250,
            1792
           ],
           "y0": " ",
           "yaxis": "y2"
          }
         ],
         "name": "47"
        },
        {
         "data": [
          {
           "alignmentgroup": "True",
           "boxpoints": "all",
           "hovertemplate": "age=48<br>gender=Female<br>category=%{x}<br>price=%{y}<extra></extra>",
           "legendgroup": "",
           "marker": {
            "color": "#636efa"
           },
           "name": "",
           "notched": false,
           "offsetgroup": "",
           "orientation": "v",
           "showlegend": false,
           "type": "box",
           "x": [
            "Books",
            "Clothing",
            "Cosmetics",
            "Food & Beverage",
            "Shoes",
            "Souvenir",
            "Technology",
            "Toys"
           ],
           "x0": " ",
           "xaxis": "x",
           "y": [
            166.65,
            38110.159999999996,
            2968.18,
            230.12,
            16204.59,
            152.49,
            18900,
            824.32
           ],
           "y0": " ",
           "yaxis": "y"
          },
          {
           "alignmentgroup": "True",
           "boxpoints": "all",
           "hovertemplate": "age=48<br>gender=Male<br>category=%{x}<br>price=%{y}<extra></extra>",
           "legendgroup": "",
           "marker": {
            "color": "#636efa"
           },
           "name": "",
           "notched": false,
           "offsetgroup": "",
           "orientation": "v",
           "showlegend": false,
           "type": "box",
           "x": [
            "Books",
            "Clothing",
            "Cosmetics",
            "Food & Beverage",
            "Shoes",
            "Souvenir",
            "Technology",
            "Toys"
           ],
           "x0": " ",
           "xaxis": "x2",
           "y": [
            196.95,
            18604.96,
            1016.5,
            214.43,
            18005.1,
            58.65,
            14700,
            501.76
           ],
           "y0": " ",
           "yaxis": "y2"
          }
         ],
         "name": "48"
        },
        {
         "data": [
          {
           "alignmentgroup": "True",
           "boxpoints": "all",
           "hovertemplate": "age=49<br>gender=Female<br>category=%{x}<br>price=%{y}<extra></extra>",
           "legendgroup": "",
           "marker": {
            "color": "#636efa"
           },
           "name": "",
           "notched": false,
           "offsetgroup": "",
           "orientation": "v",
           "showlegend": false,
           "type": "box",
           "x": [
            "Books",
            "Clothing",
            "Cosmetics",
            "Food & Beverage",
            "Shoes",
            "Souvenir",
            "Technology",
            "Toys"
           ],
           "x0": " ",
           "xaxis": "x",
           "y": [
            181.8,
            27307.28,
            1626.3999999999999,
            303.34,
            18605.27,
            363.63,
            22050,
            1182.72
           ],
           "y0": " ",
           "yaxis": "y"
          },
          {
           "alignmentgroup": "True",
           "boxpoints": "all",
           "hovertemplate": "age=49<br>gender=Male<br>category=%{x}<br>price=%{y}<extra></extra>",
           "legendgroup": "",
           "marker": {
            "color": "#636efa"
           },
           "name": "",
           "notched": false,
           "offsetgroup": "",
           "orientation": "v",
           "showlegend": false,
           "type": "box",
           "x": [
            "Books",
            "Clothing",
            "Cosmetics",
            "Food & Beverage",
            "Shoes",
            "Souvenir",
            "Technology",
            "Toys"
           ],
           "x0": " ",
           "xaxis": "x2",
           "y": [
            348.45,
            25206.72,
            1301.12,
            146.44,
            14404.08,
            234.60000000000002,
            11550,
            250.88000000000002
           ],
           "y0": " ",
           "yaxis": "y2"
          }
         ],
         "name": "49"
        },
        {
         "data": [
          {
           "alignmentgroup": "True",
           "boxpoints": "all",
           "hovertemplate": "age=50<br>gender=Female<br>category=%{x}<br>price=%{y}<extra></extra>",
           "legendgroup": "",
           "marker": {
            "color": "#636efa"
           },
           "name": "",
           "notched": false,
           "offsetgroup": "",
           "orientation": "v",
           "showlegend": false,
           "type": "box",
           "x": [
            "Books",
            "Clothing",
            "Cosmetics",
            "Food & Beverage",
            "Shoes",
            "Souvenir",
            "Technology",
            "Toys"
           ],
           "x0": " ",
           "xaxis": "x",
           "y": [
            333.3,
            34809.28,
            2276.96,
            162.13,
            18605.27,
            258.06,
            3150,
            1075.2
           ],
           "y0": " ",
           "yaxis": "y"
          },
          {
           "alignmentgroup": "True",
           "boxpoints": "all",
           "hovertemplate": "age=50<br>gender=Male<br>category=%{x}<br>price=%{y}<extra></extra>",
           "legendgroup": "",
           "marker": {
            "color": "#636efa"
           },
           "name": "",
           "notched": false,
           "offsetgroup": "",
           "orientation": "v",
           "showlegend": false,
           "type": "box",
           "x": [
            "Books",
            "Clothing",
            "Cosmetics",
            "Food & Beverage",
            "Shoes",
            "Souvenir",
            "Technology",
            "Toys"
           ],
           "x0": " ",
           "xaxis": "x2",
           "y": [
            257.55,
            20405.44,
            1382.44,
            125.52000000000001,
            12003.4,
            23.46,
            11550,
            716.8
           ],
           "y0": " ",
           "yaxis": "y2"
          }
         ],
         "name": "50"
        },
        {
         "data": [
          {
           "alignmentgroup": "True",
           "boxpoints": "all",
           "hovertemplate": "age=51<br>gender=Female<br>category=%{x}<br>price=%{y}<extra></extra>",
           "legendgroup": "",
           "marker": {
            "color": "#636efa"
           },
           "name": "",
           "notched": false,
           "offsetgroup": "",
           "orientation": "v",
           "showlegend": false,
           "type": "box",
           "x": [
            "Books",
            "Clothing",
            "Cosmetics",
            "Food & Beverage",
            "Shoes",
            "Souvenir",
            "Technology",
            "Toys"
           ],
           "x0": " ",
           "xaxis": "x",
           "y": [
            227.25,
            31208.32,
            1626.4,
            256.27,
            22206.289999999997,
            175.95000000000002,
            22050,
            824.32
           ],
           "y0": " ",
           "yaxis": "y"
          },
          {
           "alignmentgroup": "True",
           "boxpoints": "all",
           "hovertemplate": "age=51<br>gender=Male<br>category=%{x}<br>price=%{y}<extra></extra>",
           "legendgroup": "",
           "marker": {
            "color": "#636efa"
           },
           "name": "",
           "notched": false,
           "offsetgroup": "",
           "orientation": "v",
           "showlegend": false,
           "type": "box",
           "x": [
            "Books",
            "Clothing",
            "Cosmetics",
            "Food & Beverage",
            "Shoes",
            "Souvenir",
            "Technology",
            "Toys"
           ],
           "x0": " ",
           "xaxis": "x2",
           "y": [
            363.6,
            32408.64,
            1341.78,
            256.27,
            13203.74,
            82.11,
            22050,
            1182.72
           ],
           "y0": " ",
           "yaxis": "y2"
          }
         ],
         "name": "51"
        },
        {
         "data": [
          {
           "alignmentgroup": "True",
           "boxpoints": "all",
           "hovertemplate": "age=52<br>gender=Female<br>category=%{x}<br>price=%{y}<extra></extra>",
           "legendgroup": "",
           "marker": {
            "color": "#636efa"
           },
           "name": "",
           "notched": false,
           "offsetgroup": "",
           "orientation": "v",
           "showlegend": false,
           "type": "box",
           "x": [
            "Books",
            "Clothing",
            "Cosmetics",
            "Food & Beverage",
            "Shoes",
            "Souvenir",
            "Technology",
            "Toys"
           ],
           "x0": " ",
           "xaxis": "x",
           "y": [
            196.95000000000002,
            39910.64,
            2439.6,
            282.42,
            18605.27,
            152.49,
            32550,
            1361.92
           ],
           "y0": " ",
           "yaxis": "y"
          },
          {
           "alignmentgroup": "True",
           "boxpoints": "all",
           "hovertemplate": "age=52<br>gender=Male<br>category=%{x}<br>price=%{y}<extra></extra>",
           "legendgroup": "",
           "marker": {
            "color": "#636efa"
           },
           "name": "",
           "notched": false,
           "offsetgroup": "",
           "orientation": "v",
           "showlegend": false,
           "type": "box",
           "x": [
            "Books",
            "Clothing",
            "Cosmetics",
            "Food & Beverage",
            "Shoes",
            "Souvenir",
            "Technology",
            "Toys"
           ],
           "x0": " ",
           "xaxis": "x2",
           "y": [
            196.95,
            20105.36,
            2317.62,
            125.52000000000001,
            13203.74,
            234.6,
            10500,
            465.92
           ],
           "y0": " ",
           "yaxis": "y2"
          }
         ],
         "name": "52"
        },
        {
         "data": [
          {
           "alignmentgroup": "True",
           "boxpoints": "all",
           "hovertemplate": "age=53<br>gender=Female<br>category=%{x}<br>price=%{y}<extra></extra>",
           "legendgroup": "",
           "marker": {
            "color": "#636efa"
           },
           "name": "",
           "notched": false,
           "offsetgroup": "",
           "orientation": "v",
           "showlegend": false,
           "type": "box",
           "x": [
            "Books",
            "Clothing",
            "Cosmetics",
            "Food & Beverage",
            "Shoes",
            "Souvenir",
            "Technology",
            "Toys"
           ],
           "x0": " ",
           "xaxis": "x",
           "y": [
            227.25,
            30308.08,
            2114.32,
            256.27,
            21005.95,
            211.14,
            9450,
            1003.52
           ],
           "y0": " ",
           "yaxis": "y"
          },
          {
           "alignmentgroup": "True",
           "boxpoints": "all",
           "hovertemplate": "age=53<br>gender=Male<br>category=%{x}<br>price=%{y}<extra></extra>",
           "legendgroup": "",
           "marker": {
            "color": "#636efa"
           },
           "name": "",
           "notched": false,
           "offsetgroup": "",
           "orientation": "v",
           "showlegend": false,
           "type": "box",
           "x": [
            "Books",
            "Clothing",
            "Cosmetics",
            "Food & Beverage",
            "Shoes",
            "Souvenir",
            "Technology",
            "Toys"
           ],
           "x0": " ",
           "xaxis": "x2",
           "y": [
            303,
            23406.24,
            1585.74,
            188.28,
            17404.93,
            375.36,
            8400,
            896
           ],
           "y0": " ",
           "yaxis": "y2"
          }
         ],
         "name": "53"
        },
        {
         "data": [
          {
           "alignmentgroup": "True",
           "boxpoints": "all",
           "hovertemplate": "age=54<br>gender=Female<br>category=%{x}<br>price=%{y}<extra></extra>",
           "legendgroup": "",
           "marker": {
            "color": "#636efa"
           },
           "name": "",
           "notched": false,
           "offsetgroup": "",
           "orientation": "v",
           "showlegend": false,
           "type": "box",
           "x": [
            "Books",
            "Clothing",
            "Cosmetics",
            "Food & Beverage",
            "Shoes",
            "Souvenir",
            "Technology",
            "Toys"
           ],
           "x0": " ",
           "xaxis": "x",
           "y": [
            106.05,
            38410.24,
            1260.46,
            392.25,
            24006.8,
            164.22,
            9450,
            824.32
           ],
           "y0": " ",
           "yaxis": "y"
          },
          {
           "alignmentgroup": "True",
           "boxpoints": "all",
           "hovertemplate": "age=54<br>gender=Male<br>category=%{x}<br>price=%{y}<extra></extra>",
           "legendgroup": "",
           "marker": {
            "color": "#636efa"
           },
           "name": "",
           "notched": false,
           "offsetgroup": "",
           "orientation": "v",
           "showlegend": false,
           "type": "box",
           "x": [
            "Books",
            "Clothing",
            "Cosmetics",
            "Food & Beverage",
            "Shoes",
            "Souvenir",
            "Technology",
            "Toys"
           ],
           "x0": " ",
           "xaxis": "x2",
           "y": [
            166.65,
            23706.32,
            1585.74,
            62.760000000000005,
            9602.72,
            129.03,
            7350,
            788.48
           ],
           "y0": " ",
           "yaxis": "y2"
          }
         ],
         "name": "54"
        },
        {
         "data": [
          {
           "alignmentgroup": "True",
           "boxpoints": "all",
           "hovertemplate": "age=55<br>gender=Female<br>category=%{x}<br>price=%{y}<extra></extra>",
           "legendgroup": "",
           "marker": {
            "color": "#636efa"
           },
           "name": "",
           "notched": false,
           "offsetgroup": "",
           "orientation": "v",
           "showlegend": false,
           "type": "box",
           "x": [
            "Books",
            "Clothing",
            "Cosmetics",
            "Food & Beverage",
            "Shoes",
            "Souvenir",
            "Technology",
            "Toys"
           ],
           "x0": " ",
           "xaxis": "x",
           "y": [
            287.85,
            46812.48,
            3090.16,
            193.51,
            22806.46,
            175.95,
            33600,
            788.48
           ],
           "y0": " ",
           "yaxis": "y"
          },
          {
           "alignmentgroup": "True",
           "boxpoints": "all",
           "hovertemplate": "age=55<br>gender=Male<br>category=%{x}<br>price=%{y}<extra></extra>",
           "legendgroup": "",
           "marker": {
            "color": "#636efa"
           },
           "name": "",
           "notched": false,
           "offsetgroup": "",
           "orientation": "v",
           "showlegend": false,
           "type": "box",
           "x": [
            "Books",
            "Clothing",
            "Cosmetics",
            "Food & Beverage",
            "Shoes",
            "Souvenir",
            "Technology",
            "Toys"
           ],
           "x0": " ",
           "xaxis": "x2",
           "y": [
            90.9,
            27907.44,
            1667.06,
            224.89000000000001,
            24606.97,
            140.76,
            13650,
            896
           ],
           "y0": " ",
           "yaxis": "y2"
          }
         ],
         "name": "55"
        },
        {
         "data": [
          {
           "alignmentgroup": "True",
           "boxpoints": "all",
           "hovertemplate": "age=56<br>gender=Female<br>category=%{x}<br>price=%{y}<extra></extra>",
           "legendgroup": "",
           "marker": {
            "color": "#636efa"
           },
           "name": "",
           "notched": false,
           "offsetgroup": "",
           "orientation": "v",
           "showlegend": false,
           "type": "box",
           "x": [
            "Books",
            "Clothing",
            "Cosmetics",
            "Food & Beverage",
            "Shoes",
            "Souvenir",
            "Technology",
            "Toys"
           ],
           "x0": " ",
           "xaxis": "x",
           "y": [
            136.35,
            45312.08,
            1097.82,
            209.20000000000002,
            25207.14,
            328.44,
            26250,
            1756.16
           ],
           "y0": " ",
           "yaxis": "y"
          },
          {
           "alignmentgroup": "True",
           "boxpoints": "all",
           "hovertemplate": "age=56<br>gender=Male<br>category=%{x}<br>price=%{y}<extra></extra>",
           "legendgroup": "",
           "marker": {
            "color": "#636efa"
           },
           "name": "",
           "notched": false,
           "offsetgroup": "",
           "orientation": "v",
           "showlegend": false,
           "type": "box",
           "x": [
            "Books",
            "Clothing",
            "Cosmetics",
            "Food & Beverage",
            "Shoes",
            "Souvenir",
            "Technology",
            "Toys"
           ],
           "x0": " ",
           "xaxis": "x2",
           "y": [
            45.45,
            28207.52,
            1382.44,
            162.13,
            9002.55,
            246.33,
            8400,
            1290.24
           ],
           "y0": " ",
           "yaxis": "y2"
          }
         ],
         "name": "56"
        },
        {
         "data": [
          {
           "alignmentgroup": "True",
           "boxpoints": "all",
           "hovertemplate": "age=57<br>gender=Female<br>category=%{x}<br>price=%{y}<extra></extra>",
           "legendgroup": "",
           "marker": {
            "color": "#636efa"
           },
           "name": "",
           "notched": false,
           "offsetgroup": "",
           "orientation": "v",
           "showlegend": false,
           "type": "box",
           "x": [
            "Books",
            "Clothing",
            "Cosmetics",
            "Food & Beverage",
            "Shoes",
            "Souvenir",
            "Technology",
            "Toys"
           ],
           "x0": " ",
           "xaxis": "x",
           "y": [
            121.2,
            37510,
            1789.04,
            329.49,
            22806.46,
            117.30000000000001,
            25200,
            537.6
           ],
           "y0": " ",
           "yaxis": "y"
          },
          {
           "alignmentgroup": "True",
           "boxpoints": "all",
           "hovertemplate": "age=57<br>gender=Male<br>category=%{x}<br>price=%{y}<extra></extra>",
           "legendgroup": "",
           "marker": {
            "color": "#636efa"
           },
           "name": "",
           "notched": false,
           "offsetgroup": "",
           "orientation": "v",
           "showlegend": false,
           "type": "box",
           "x": [
            "Books",
            "Clothing",
            "Cosmetics",
            "Food & Beverage",
            "Shoes",
            "Souvenir",
            "Technology",
            "Toys"
           ],
           "x0": " ",
           "xaxis": "x2",
           "y": [
            303,
            28207.52,
            772.54,
            251.04000000000002,
            7202.04,
            304.98,
            12600,
            752.64
           ],
           "y0": " ",
           "yaxis": "y2"
          }
         ],
         "name": "57"
        },
        {
         "data": [
          {
           "alignmentgroup": "True",
           "boxpoints": "all",
           "hovertemplate": "age=58<br>gender=Female<br>category=%{x}<br>price=%{y}<extra></extra>",
           "legendgroup": "",
           "marker": {
            "color": "#636efa"
           },
           "name": "",
           "notched": false,
           "offsetgroup": "",
           "orientation": "v",
           "showlegend": false,
           "type": "box",
           "x": [
            "Books",
            "Clothing",
            "Cosmetics",
            "Food & Beverage",
            "Shoes",
            "Souvenir",
            "Technology",
            "Toys"
           ],
           "x0": " ",
           "xaxis": "x",
           "y": [
            257.55,
            24606.559999999998,
            1829.7,
            313.8,
            25207.14,
            82.11,
            18900,
            1218.5600000000002
           ],
           "y0": " ",
           "yaxis": "y"
          },
          {
           "alignmentgroup": "True",
           "boxpoints": "all",
           "hovertemplate": "age=58<br>gender=Male<br>category=%{x}<br>price=%{y}<extra></extra>",
           "legendgroup": "",
           "marker": {
            "color": "#636efa"
           },
           "name": "",
           "notched": false,
           "offsetgroup": "",
           "orientation": "v",
           "showlegend": false,
           "type": "box",
           "x": [
            "Books",
            "Clothing",
            "Cosmetics",
            "Food & Beverage",
            "Shoes",
            "Souvenir",
            "Technology",
            "Toys"
           ],
           "x0": " ",
           "xaxis": "x2",
           "y": [
            257.55,
            21305.68,
            2317.62,
            156.9,
            12003.4,
            93.84,
            12600,
            358.40000000000003
           ],
           "y0": " ",
           "yaxis": "y2"
          }
         ],
         "name": "58"
        },
        {
         "data": [
          {
           "alignmentgroup": "True",
           "boxpoints": "all",
           "hovertemplate": "age=59<br>gender=Female<br>category=%{x}<br>price=%{y}<extra></extra>",
           "legendgroup": "",
           "marker": {
            "color": "#636efa"
           },
           "name": "",
           "notched": false,
           "offsetgroup": "",
           "orientation": "v",
           "showlegend": false,
           "type": "box",
           "x": [
            "Books",
            "Clothing",
            "Cosmetics",
            "Food & Beverage",
            "Shoes",
            "Souvenir",
            "Technology",
            "Toys"
           ],
           "x0": " ",
           "xaxis": "x",
           "y": [
            181.8,
            46512.4,
            2073.66,
            198.74,
            12003.4,
            258.06,
            9450,
            1182.72
           ],
           "y0": " ",
           "yaxis": "y"
          },
          {
           "alignmentgroup": "True",
           "boxpoints": "all",
           "hovertemplate": "age=59<br>gender=Male<br>category=%{x}<br>price=%{y}<extra></extra>",
           "legendgroup": "",
           "marker": {
            "color": "#636efa"
           },
           "name": "",
           "notched": false,
           "offsetgroup": "",
           "orientation": "v",
           "showlegend": false,
           "type": "box",
           "x": [
            "Books",
            "Clothing",
            "Cosmetics",
            "Food & Beverage",
            "Shoes",
            "Souvenir",
            "Technology",
            "Toys"
           ],
           "x0": " ",
           "xaxis": "x2",
           "y": [
            136.35,
            24006.4,
            1341.78,
            125.52000000000001,
            5401.53,
            199.41,
            11550,
            1397.76
           ],
           "y0": " ",
           "yaxis": "y2"
          }
         ],
         "name": "59"
        },
        {
         "data": [
          {
           "alignmentgroup": "True",
           "boxpoints": "all",
           "hovertemplate": "age=60<br>gender=Female<br>category=%{x}<br>price=%{y}<extra></extra>",
           "legendgroup": "",
           "marker": {
            "color": "#636efa"
           },
           "name": "",
           "notched": false,
           "offsetgroup": "",
           "orientation": "v",
           "showlegend": false,
           "type": "box",
           "x": [
            "Books",
            "Clothing",
            "Cosmetics",
            "Food & Beverage",
            "Shoes",
            "Souvenir",
            "Technology",
            "Toys"
           ],
           "x0": " ",
           "xaxis": "x",
           "y": [
            287.85,
            46512.4,
            1341.78,
            188.28,
            11403.23,
            164.22,
            19950,
            537.5999999999999
           ],
           "y0": " ",
           "yaxis": "y"
          },
          {
           "alignmentgroup": "True",
           "boxpoints": "all",
           "hovertemplate": "age=60<br>gender=Male<br>category=%{x}<br>price=%{y}<extra></extra>",
           "legendgroup": "",
           "marker": {
            "color": "#636efa"
           },
           "name": "",
           "notched": false,
           "offsetgroup": "",
           "orientation": "v",
           "showlegend": false,
           "type": "box",
           "x": [
            "Books",
            "Clothing",
            "Cosmetics",
            "Food & Beverage",
            "Shoes",
            "Souvenir",
            "Technology",
            "Toys"
           ],
           "x0": " ",
           "xaxis": "x2",
           "y": [
            166.65,
            27607.36,
            772.54,
            480.49,
            7202.04,
            93.84,
            22050,
            358.4
           ],
           "y0": " ",
           "yaxis": "y2"
          }
         ],
         "name": "60"
        },
        {
         "data": [
          {
           "alignmentgroup": "True",
           "boxpoints": "all",
           "hovertemplate": "age=61<br>gender=Female<br>category=%{x}<br>price=%{y}<extra></extra>",
           "legendgroup": "",
           "marker": {
            "color": "#636efa"
           },
           "name": "",
           "notched": false,
           "offsetgroup": "",
           "orientation": "v",
           "showlegend": false,
           "type": "box",
           "x": [
            "Books",
            "Clothing",
            "Cosmetics",
            "Food & Beverage",
            "Shoes",
            "Souvenir",
            "Technology",
            "Toys"
           ],
           "x0": " ",
           "xaxis": "x",
           "y": [
            303,
            39310.48,
            2764.88,
            209.20000000000002,
            17404.93,
            70.38,
            23100,
            1576.96
           ],
           "y0": " ",
           "yaxis": "y"
          },
          {
           "alignmentgroup": "True",
           "boxpoints": "all",
           "hovertemplate": "age=61<br>gender=Male<br>category=%{x}<br>price=%{y}<extra></extra>",
           "legendgroup": "",
           "marker": {
            "color": "#636efa"
           },
           "name": "",
           "notched": false,
           "offsetgroup": "",
           "orientation": "v",
           "showlegend": false,
           "type": "box",
           "x": [
            "Books",
            "Clothing",
            "Cosmetics",
            "Food & Beverage",
            "Shoes",
            "Souvenir",
            "Technology",
            "Toys"
           ],
           "x0": " ",
           "xaxis": "x2",
           "y": [
            75.75,
            28207.52,
            2602.24,
            109.83000000000001,
            3000.85,
            164.22,
            15750,
            680.96
           ],
           "y0": " ",
           "yaxis": "y2"
          }
         ],
         "name": "61"
        },
        {
         "data": [
          {
           "alignmentgroup": "True",
           "boxpoints": "all",
           "hovertemplate": "age=62<br>gender=Female<br>category=%{x}<br>price=%{y}<extra></extra>",
           "legendgroup": "",
           "marker": {
            "color": "#636efa"
           },
           "name": "",
           "notched": false,
           "offsetgroup": "",
           "orientation": "v",
           "showlegend": false,
           "type": "box",
           "x": [
            "Books",
            "Clothing",
            "Cosmetics",
            "Food & Beverage",
            "Shoes",
            "Souvenir",
            "Technology",
            "Toys"
           ],
           "x0": " ",
           "xaxis": "x",
           "y": [
            242.4,
            33909.04,
            2398.94,
            355.64,
            19805.61,
            304.98,
            21000,
            1111.04
           ],
           "y0": " ",
           "yaxis": "y"
          },
          {
           "alignmentgroup": "True",
           "boxpoints": "all",
           "hovertemplate": "age=62<br>gender=Male<br>category=%{x}<br>price=%{y}<extra></extra>",
           "legendgroup": "",
           "marker": {
            "color": "#636efa"
           },
           "name": "",
           "notched": false,
           "offsetgroup": "",
           "orientation": "v",
           "showlegend": false,
           "type": "box",
           "x": [
            "Books",
            "Clothing",
            "Cosmetics",
            "Food & Beverage",
            "Shoes",
            "Souvenir",
            "Technology",
            "Toys"
           ],
           "x0": " ",
           "xaxis": "x2",
           "y": [
            227.25,
            30308.08,
            1382.44,
            62.76,
            10803.06,
            152.49,
            5250,
            394.24
           ],
           "y0": " ",
           "yaxis": "y2"
          }
         ],
         "name": "62"
        },
        {
         "data": [
          {
           "alignmentgroup": "True",
           "boxpoints": "all",
           "hovertemplate": "age=63<br>gender=Female<br>category=%{x}<br>price=%{y}<extra></extra>",
           "legendgroup": "",
           "marker": {
            "color": "#636efa"
           },
           "name": "",
           "notched": false,
           "offsetgroup": "",
           "orientation": "v",
           "showlegend": false,
           "type": "box",
           "x": [
            "Books",
            "Clothing",
            "Cosmetics",
            "Food & Beverage",
            "Shoes",
            "Souvenir",
            "Technology",
            "Toys"
           ],
           "x0": " ",
           "xaxis": "x",
           "y": [
            272.7,
            30908.24,
            2927.52,
            287.65,
            25207.14,
            117.3,
            9450,
            1146.8799999999999
           ],
           "y0": " ",
           "yaxis": "y"
          },
          {
           "alignmentgroup": "True",
           "boxpoints": "all",
           "hovertemplate": "age=63<br>gender=Male<br>category=%{x}<br>price=%{y}<extra></extra>",
           "legendgroup": "",
           "marker": {
            "color": "#636efa"
           },
           "name": "",
           "notched": false,
           "offsetgroup": "",
           "orientation": "v",
           "showlegend": false,
           "type": "box",
           "x": [
            "Books",
            "Clothing",
            "Cosmetics",
            "Food & Beverage",
            "Shoes",
            "Souvenir",
            "Technology",
            "Toys"
           ],
           "x0": " ",
           "xaxis": "x2",
           "y": [
            196.95,
            18004.8,
            1829.7,
            104.6,
            18005.1,
            246.32999999999998,
            7350,
            1218.56
           ],
           "y0": " ",
           "yaxis": "y2"
          }
         ],
         "name": "63"
        },
        {
         "data": [
          {
           "alignmentgroup": "True",
           "boxpoints": "all",
           "hovertemplate": "age=64<br>gender=Female<br>category=%{x}<br>price=%{y}<extra></extra>",
           "legendgroup": "",
           "marker": {
            "color": "#636efa"
           },
           "name": "",
           "notched": false,
           "offsetgroup": "",
           "orientation": "v",
           "showlegend": false,
           "type": "box",
           "x": [
            "Books",
            "Clothing",
            "Cosmetics",
            "Food & Beverage",
            "Shoes",
            "Souvenir",
            "Technology",
            "Toys"
           ],
           "x0": " ",
           "xaxis": "x",
           "y": [
            560.5500000000001,
            36309.68,
            1911.02,
            350.41,
            37810.71,
            164.22,
            14700,
            1146.8799999999999
           ],
           "y0": " ",
           "yaxis": "y"
          },
          {
           "alignmentgroup": "True",
           "boxpoints": "all",
           "hovertemplate": "age=64<br>gender=Male<br>category=%{x}<br>price=%{y}<extra></extra>",
           "legendgroup": "",
           "marker": {
            "color": "#636efa"
           },
           "name": "",
           "notched": false,
           "offsetgroup": "",
           "orientation": "v",
           "showlegend": false,
           "type": "box",
           "x": [
            "Books",
            "Clothing",
            "Cosmetics",
            "Food & Beverage",
            "Shoes",
            "Souvenir",
            "Technology",
            "Toys"
           ],
           "x0": " ",
           "xaxis": "x2",
           "y": [
            90.9,
            29707.92,
            1951.68,
            266.73,
            9002.55,
            105.57,
            26250,
            143.36
           ],
           "y0": " ",
           "yaxis": "y2"
          }
         ],
         "name": "64"
        },
        {
         "data": [
          {
           "alignmentgroup": "True",
           "boxpoints": "all",
           "hovertemplate": "age=65<br>gender=Female<br>category=%{x}<br>price=%{y}<extra></extra>",
           "legendgroup": "",
           "marker": {
            "color": "#636efa"
           },
           "name": "",
           "notched": false,
           "offsetgroup": "",
           "orientation": "v",
           "showlegend": false,
           "type": "box",
           "x": [
            "Books",
            "Clothing",
            "Cosmetics",
            "Food & Beverage",
            "Shoes",
            "Souvenir",
            "Technology",
            "Toys"
           ],
           "x0": " ",
           "xaxis": "x",
           "y": [
            196.95,
            35709.520000000004,
            2195.64,
            334.72,
            10202.89,
            129.03,
            24150,
            1039.36
           ],
           "y0": " ",
           "yaxis": "y"
          },
          {
           "alignmentgroup": "True",
           "boxpoints": "all",
           "hovertemplate": "age=65<br>gender=Male<br>category=%{x}<br>price=%{y}<extra></extra>",
           "legendgroup": "",
           "marker": {
            "color": "#636efa"
           },
           "name": "",
           "notched": false,
           "offsetgroup": "",
           "orientation": "v",
           "showlegend": false,
           "type": "box",
           "x": [
            "Books",
            "Clothing",
            "Cosmetics",
            "Food & Beverage",
            "Shoes",
            "Souvenir",
            "Technology",
            "Toys"
           ],
           "x0": " ",
           "xaxis": "x2",
           "y": [
            272.7,
            26707.12,
            853.86,
            203.97,
            19205.44,
            199.41,
            3150,
            1075.2
           ],
           "y0": " ",
           "yaxis": "y2"
          }
         ],
         "name": "65"
        },
        {
         "data": [
          {
           "alignmentgroup": "True",
           "boxpoints": "all",
           "hovertemplate": "age=66<br>gender=Female<br>category=%{x}<br>price=%{y}<extra></extra>",
           "legendgroup": "",
           "marker": {
            "color": "#636efa"
           },
           "name": "",
           "notched": false,
           "offsetgroup": "",
           "orientation": "v",
           "showlegend": false,
           "type": "box",
           "x": [
            "Books",
            "Clothing",
            "Cosmetics",
            "Food & Beverage",
            "Shoes",
            "Souvenir",
            "Technology",
            "Toys"
           ],
           "x0": " ",
           "xaxis": "x",
           "y": [
            212.1,
            26106.96,
            2195.64,
            282.42,
            24606.969999999998,
            164.22,
            10500,
            1254.4
           ],
           "y0": " ",
           "yaxis": "y"
          },
          {
           "alignmentgroup": "True",
           "boxpoints": "all",
           "hovertemplate": "age=66<br>gender=Male<br>category=%{x}<br>price=%{y}<extra></extra>",
           "legendgroup": "",
           "marker": {
            "color": "#636efa"
           },
           "name": "",
           "notched": false,
           "offsetgroup": "",
           "orientation": "v",
           "showlegend": false,
           "type": "box",
           "x": [
            "Books",
            "Clothing",
            "Cosmetics",
            "Food & Beverage",
            "Shoes",
            "Souvenir",
            "Technology",
            "Toys"
           ],
           "x0": " ",
           "xaxis": "x2",
           "y": [
            287.85,
            17404.64,
            1748.38,
            214.43,
            18005.1,
            117.30000000000001,
            12600,
            537.6
           ],
           "y0": " ",
           "yaxis": "y2"
          }
         ],
         "name": "66"
        },
        {
         "data": [
          {
           "alignmentgroup": "True",
           "boxpoints": "all",
           "hovertemplate": "age=67<br>gender=Female<br>category=%{x}<br>price=%{y}<extra></extra>",
           "legendgroup": "",
           "marker": {
            "color": "#636efa"
           },
           "name": "",
           "notched": false,
           "offsetgroup": "",
           "orientation": "v",
           "showlegend": false,
           "type": "box",
           "x": [
            "Books",
            "Clothing",
            "Cosmetics",
            "Food & Beverage",
            "Shoes",
            "Souvenir",
            "Technology",
            "Toys"
           ],
           "x0": " ",
           "xaxis": "x",
           "y": [
            378.75,
            45312.08,
            1789.04,
            271.96,
            29408.329999999998,
            105.57,
            14700,
            1899.52
           ],
           "y0": " ",
           "yaxis": "y"
          },
          {
           "alignmentgroup": "True",
           "boxpoints": "all",
           "hovertemplate": "age=67<br>gender=Male<br>category=%{x}<br>price=%{y}<extra></extra>",
           "legendgroup": "",
           "marker": {
            "color": "#636efa"
           },
           "name": "",
           "notched": false,
           "offsetgroup": "",
           "orientation": "v",
           "showlegend": false,
           "type": "box",
           "x": [
            "Books",
            "Clothing",
            "Cosmetics",
            "Food & Beverage",
            "Shoes",
            "Souvenir",
            "Technology",
            "Toys"
           ],
           "x0": " ",
           "xaxis": "x2",
           "y": [
            242.4,
            21605.760000000002,
            1057.16,
            141.20999999999998,
            7202.04,
            187.68,
            15750,
            1003.52
           ],
           "y0": " ",
           "yaxis": "y2"
          }
         ],
         "name": "67"
        },
        {
         "data": [
          {
           "alignmentgroup": "True",
           "boxpoints": "all",
           "hovertemplate": "age=68<br>gender=Female<br>category=%{x}<br>price=%{y}<extra></extra>",
           "legendgroup": "",
           "marker": {
            "color": "#636efa"
           },
           "name": "",
           "notched": false,
           "offsetgroup": "",
           "orientation": "v",
           "showlegend": false,
           "type": "box",
           "x": [
            "Books",
            "Clothing",
            "Cosmetics",
            "Food & Beverage",
            "Shoes",
            "Souvenir",
            "Technology",
            "Toys"
           ],
           "x0": " ",
           "xaxis": "x",
           "y": [
            242.4,
            27307.28,
            2520.92,
            172.58999999999997,
            17404.93,
            35.19,
            19950,
            1326.0800000000002
           ],
           "y0": " ",
           "yaxis": "y"
          },
          {
           "alignmentgroup": "True",
           "boxpoints": "all",
           "hovertemplate": "age=68<br>gender=Male<br>category=%{x}<br>price=%{y}<extra></extra>",
           "legendgroup": "",
           "marker": {
            "color": "#636efa"
           },
           "name": "",
           "notched": false,
           "offsetgroup": "",
           "orientation": "v",
           "showlegend": false,
           "type": "box",
           "x": [
            "Books",
            "Clothing",
            "Cosmetics",
            "Food & Beverage",
            "Shoes",
            "Souvenir",
            "Technology",
            "Toys"
           ],
           "x0": " ",
           "xaxis": "x2",
           "y": [
            151.5,
            32108.56,
            1626.4,
            94.14,
            18005.1,
            93.84,
            14700,
            716.8
           ],
           "y0": " ",
           "yaxis": "y2"
          }
         ],
         "name": "68"
        },
        {
         "data": [
          {
           "alignmentgroup": "True",
           "boxpoints": "all",
           "hovertemplate": "age=69<br>gender=Female<br>category=%{x}<br>price=%{y}<extra></extra>",
           "legendgroup": "",
           "marker": {
            "color": "#636efa"
           },
           "name": "",
           "notched": false,
           "offsetgroup": "",
           "orientation": "v",
           "showlegend": false,
           "type": "box",
           "x": [
            "Books",
            "Clothing",
            "Cosmetics",
            "Food & Beverage",
            "Shoes",
            "Souvenir",
            "Technology",
            "Toys"
           ],
           "x0": " ",
           "xaxis": "x",
           "y": [
            121.2,
            31808.48,
            2480.26,
            287.65,
            21005.95,
            258.06,
            9450,
            1541.1200000000001
           ],
           "y0": " ",
           "yaxis": "y"
          },
          {
           "alignmentgroup": "True",
           "boxpoints": "all",
           "hovertemplate": "age=69<br>gender=Male<br>category=%{x}<br>price=%{y}<extra></extra>",
           "legendgroup": "",
           "marker": {
            "color": "#636efa"
           },
           "name": "",
           "notched": false,
           "offsetgroup": "",
           "orientation": "v",
           "showlegend": false,
           "type": "box",
           "x": [
            "Books",
            "Clothing",
            "Cosmetics",
            "Food & Beverage",
            "Shoes",
            "Souvenir",
            "Technology",
            "Toys"
           ],
           "x0": " ",
           "xaxis": "x2",
           "y": [
            136.35000000000002,
            24306.48,
            1870.3600000000001,
            26.15,
            9602.72,
            246.32999999999998,
            11550,
            896
           ],
           "y0": " ",
           "yaxis": "y2"
          }
         ],
         "name": "69"
        }
       ],
       "layout": {
        "annotations": [
         {
          "font": {},
          "showarrow": false,
          "text": "gender=Female",
          "x": 0.245,
          "xanchor": "center",
          "xref": "paper",
          "y": 1,
          "yanchor": "bottom",
          "yref": "paper"
         },
         {
          "font": {},
          "showarrow": false,
          "text": "gender=Male",
          "x": 0.755,
          "xanchor": "center",
          "xref": "paper",
          "y": 1,
          "yanchor": "bottom",
          "yref": "paper"
         }
        ],
        "boxmode": "group",
        "legend": {
         "tracegroupgap": 0
        },
        "sliders": [
         {
          "active": 0,
          "currentvalue": {
           "prefix": "age="
          },
          "len": 0.9,
          "pad": {
           "b": 10,
           "t": 60
          },
          "steps": [
           {
            "args": [
             [
              "18"
             ],
             {
              "frame": {
               "duration": 0,
               "redraw": true
              },
              "fromcurrent": true,
              "mode": "immediate",
              "transition": {
               "duration": 0,
               "easing": "linear"
              }
             }
            ],
            "label": "18",
            "method": "animate"
           },
           {
            "args": [
             [
              "19"
             ],
             {
              "frame": {
               "duration": 0,
               "redraw": true
              },
              "fromcurrent": true,
              "mode": "immediate",
              "transition": {
               "duration": 0,
               "easing": "linear"
              }
             }
            ],
            "label": "19",
            "method": "animate"
           },
           {
            "args": [
             [
              "20"
             ],
             {
              "frame": {
               "duration": 0,
               "redraw": true
              },
              "fromcurrent": true,
              "mode": "immediate",
              "transition": {
               "duration": 0,
               "easing": "linear"
              }
             }
            ],
            "label": "20",
            "method": "animate"
           },
           {
            "args": [
             [
              "21"
             ],
             {
              "frame": {
               "duration": 0,
               "redraw": true
              },
              "fromcurrent": true,
              "mode": "immediate",
              "transition": {
               "duration": 0,
               "easing": "linear"
              }
             }
            ],
            "label": "21",
            "method": "animate"
           },
           {
            "args": [
             [
              "22"
             ],
             {
              "frame": {
               "duration": 0,
               "redraw": true
              },
              "fromcurrent": true,
              "mode": "immediate",
              "transition": {
               "duration": 0,
               "easing": "linear"
              }
             }
            ],
            "label": "22",
            "method": "animate"
           },
           {
            "args": [
             [
              "23"
             ],
             {
              "frame": {
               "duration": 0,
               "redraw": true
              },
              "fromcurrent": true,
              "mode": "immediate",
              "transition": {
               "duration": 0,
               "easing": "linear"
              }
             }
            ],
            "label": "23",
            "method": "animate"
           },
           {
            "args": [
             [
              "24"
             ],
             {
              "frame": {
               "duration": 0,
               "redraw": true
              },
              "fromcurrent": true,
              "mode": "immediate",
              "transition": {
               "duration": 0,
               "easing": "linear"
              }
             }
            ],
            "label": "24",
            "method": "animate"
           },
           {
            "args": [
             [
              "25"
             ],
             {
              "frame": {
               "duration": 0,
               "redraw": true
              },
              "fromcurrent": true,
              "mode": "immediate",
              "transition": {
               "duration": 0,
               "easing": "linear"
              }
             }
            ],
            "label": "25",
            "method": "animate"
           },
           {
            "args": [
             [
              "26"
             ],
             {
              "frame": {
               "duration": 0,
               "redraw": true
              },
              "fromcurrent": true,
              "mode": "immediate",
              "transition": {
               "duration": 0,
               "easing": "linear"
              }
             }
            ],
            "label": "26",
            "method": "animate"
           },
           {
            "args": [
             [
              "27"
             ],
             {
              "frame": {
               "duration": 0,
               "redraw": true
              },
              "fromcurrent": true,
              "mode": "immediate",
              "transition": {
               "duration": 0,
               "easing": "linear"
              }
             }
            ],
            "label": "27",
            "method": "animate"
           },
           {
            "args": [
             [
              "28"
             ],
             {
              "frame": {
               "duration": 0,
               "redraw": true
              },
              "fromcurrent": true,
              "mode": "immediate",
              "transition": {
               "duration": 0,
               "easing": "linear"
              }
             }
            ],
            "label": "28",
            "method": "animate"
           },
           {
            "args": [
             [
              "29"
             ],
             {
              "frame": {
               "duration": 0,
               "redraw": true
              },
              "fromcurrent": true,
              "mode": "immediate",
              "transition": {
               "duration": 0,
               "easing": "linear"
              }
             }
            ],
            "label": "29",
            "method": "animate"
           },
           {
            "args": [
             [
              "30"
             ],
             {
              "frame": {
               "duration": 0,
               "redraw": true
              },
              "fromcurrent": true,
              "mode": "immediate",
              "transition": {
               "duration": 0,
               "easing": "linear"
              }
             }
            ],
            "label": "30",
            "method": "animate"
           },
           {
            "args": [
             [
              "31"
             ],
             {
              "frame": {
               "duration": 0,
               "redraw": true
              },
              "fromcurrent": true,
              "mode": "immediate",
              "transition": {
               "duration": 0,
               "easing": "linear"
              }
             }
            ],
            "label": "31",
            "method": "animate"
           },
           {
            "args": [
             [
              "32"
             ],
             {
              "frame": {
               "duration": 0,
               "redraw": true
              },
              "fromcurrent": true,
              "mode": "immediate",
              "transition": {
               "duration": 0,
               "easing": "linear"
              }
             }
            ],
            "label": "32",
            "method": "animate"
           },
           {
            "args": [
             [
              "33"
             ],
             {
              "frame": {
               "duration": 0,
               "redraw": true
              },
              "fromcurrent": true,
              "mode": "immediate",
              "transition": {
               "duration": 0,
               "easing": "linear"
              }
             }
            ],
            "label": "33",
            "method": "animate"
           },
           {
            "args": [
             [
              "34"
             ],
             {
              "frame": {
               "duration": 0,
               "redraw": true
              },
              "fromcurrent": true,
              "mode": "immediate",
              "transition": {
               "duration": 0,
               "easing": "linear"
              }
             }
            ],
            "label": "34",
            "method": "animate"
           },
           {
            "args": [
             [
              "35"
             ],
             {
              "frame": {
               "duration": 0,
               "redraw": true
              },
              "fromcurrent": true,
              "mode": "immediate",
              "transition": {
               "duration": 0,
               "easing": "linear"
              }
             }
            ],
            "label": "35",
            "method": "animate"
           },
           {
            "args": [
             [
              "36"
             ],
             {
              "frame": {
               "duration": 0,
               "redraw": true
              },
              "fromcurrent": true,
              "mode": "immediate",
              "transition": {
               "duration": 0,
               "easing": "linear"
              }
             }
            ],
            "label": "36",
            "method": "animate"
           },
           {
            "args": [
             [
              "37"
             ],
             {
              "frame": {
               "duration": 0,
               "redraw": true
              },
              "fromcurrent": true,
              "mode": "immediate",
              "transition": {
               "duration": 0,
               "easing": "linear"
              }
             }
            ],
            "label": "37",
            "method": "animate"
           },
           {
            "args": [
             [
              "38"
             ],
             {
              "frame": {
               "duration": 0,
               "redraw": true
              },
              "fromcurrent": true,
              "mode": "immediate",
              "transition": {
               "duration": 0,
               "easing": "linear"
              }
             }
            ],
            "label": "38",
            "method": "animate"
           },
           {
            "args": [
             [
              "39"
             ],
             {
              "frame": {
               "duration": 0,
               "redraw": true
              },
              "fromcurrent": true,
              "mode": "immediate",
              "transition": {
               "duration": 0,
               "easing": "linear"
              }
             }
            ],
            "label": "39",
            "method": "animate"
           },
           {
            "args": [
             [
              "40"
             ],
             {
              "frame": {
               "duration": 0,
               "redraw": true
              },
              "fromcurrent": true,
              "mode": "immediate",
              "transition": {
               "duration": 0,
               "easing": "linear"
              }
             }
            ],
            "label": "40",
            "method": "animate"
           },
           {
            "args": [
             [
              "41"
             ],
             {
              "frame": {
               "duration": 0,
               "redraw": true
              },
              "fromcurrent": true,
              "mode": "immediate",
              "transition": {
               "duration": 0,
               "easing": "linear"
              }
             }
            ],
            "label": "41",
            "method": "animate"
           },
           {
            "args": [
             [
              "42"
             ],
             {
              "frame": {
               "duration": 0,
               "redraw": true
              },
              "fromcurrent": true,
              "mode": "immediate",
              "transition": {
               "duration": 0,
               "easing": "linear"
              }
             }
            ],
            "label": "42",
            "method": "animate"
           },
           {
            "args": [
             [
              "43"
             ],
             {
              "frame": {
               "duration": 0,
               "redraw": true
              },
              "fromcurrent": true,
              "mode": "immediate",
              "transition": {
               "duration": 0,
               "easing": "linear"
              }
             }
            ],
            "label": "43",
            "method": "animate"
           },
           {
            "args": [
             [
              "44"
             ],
             {
              "frame": {
               "duration": 0,
               "redraw": true
              },
              "fromcurrent": true,
              "mode": "immediate",
              "transition": {
               "duration": 0,
               "easing": "linear"
              }
             }
            ],
            "label": "44",
            "method": "animate"
           },
           {
            "args": [
             [
              "45"
             ],
             {
              "frame": {
               "duration": 0,
               "redraw": true
              },
              "fromcurrent": true,
              "mode": "immediate",
              "transition": {
               "duration": 0,
               "easing": "linear"
              }
             }
            ],
            "label": "45",
            "method": "animate"
           },
           {
            "args": [
             [
              "46"
             ],
             {
              "frame": {
               "duration": 0,
               "redraw": true
              },
              "fromcurrent": true,
              "mode": "immediate",
              "transition": {
               "duration": 0,
               "easing": "linear"
              }
             }
            ],
            "label": "46",
            "method": "animate"
           },
           {
            "args": [
             [
              "47"
             ],
             {
              "frame": {
               "duration": 0,
               "redraw": true
              },
              "fromcurrent": true,
              "mode": "immediate",
              "transition": {
               "duration": 0,
               "easing": "linear"
              }
             }
            ],
            "label": "47",
            "method": "animate"
           },
           {
            "args": [
             [
              "48"
             ],
             {
              "frame": {
               "duration": 0,
               "redraw": true
              },
              "fromcurrent": true,
              "mode": "immediate",
              "transition": {
               "duration": 0,
               "easing": "linear"
              }
             }
            ],
            "label": "48",
            "method": "animate"
           },
           {
            "args": [
             [
              "49"
             ],
             {
              "frame": {
               "duration": 0,
               "redraw": true
              },
              "fromcurrent": true,
              "mode": "immediate",
              "transition": {
               "duration": 0,
               "easing": "linear"
              }
             }
            ],
            "label": "49",
            "method": "animate"
           },
           {
            "args": [
             [
              "50"
             ],
             {
              "frame": {
               "duration": 0,
               "redraw": true
              },
              "fromcurrent": true,
              "mode": "immediate",
              "transition": {
               "duration": 0,
               "easing": "linear"
              }
             }
            ],
            "label": "50",
            "method": "animate"
           },
           {
            "args": [
             [
              "51"
             ],
             {
              "frame": {
               "duration": 0,
               "redraw": true
              },
              "fromcurrent": true,
              "mode": "immediate",
              "transition": {
               "duration": 0,
               "easing": "linear"
              }
             }
            ],
            "label": "51",
            "method": "animate"
           },
           {
            "args": [
             [
              "52"
             ],
             {
              "frame": {
               "duration": 0,
               "redraw": true
              },
              "fromcurrent": true,
              "mode": "immediate",
              "transition": {
               "duration": 0,
               "easing": "linear"
              }
             }
            ],
            "label": "52",
            "method": "animate"
           },
           {
            "args": [
             [
              "53"
             ],
             {
              "frame": {
               "duration": 0,
               "redraw": true
              },
              "fromcurrent": true,
              "mode": "immediate",
              "transition": {
               "duration": 0,
               "easing": "linear"
              }
             }
            ],
            "label": "53",
            "method": "animate"
           },
           {
            "args": [
             [
              "54"
             ],
             {
              "frame": {
               "duration": 0,
               "redraw": true
              },
              "fromcurrent": true,
              "mode": "immediate",
              "transition": {
               "duration": 0,
               "easing": "linear"
              }
             }
            ],
            "label": "54",
            "method": "animate"
           },
           {
            "args": [
             [
              "55"
             ],
             {
              "frame": {
               "duration": 0,
               "redraw": true
              },
              "fromcurrent": true,
              "mode": "immediate",
              "transition": {
               "duration": 0,
               "easing": "linear"
              }
             }
            ],
            "label": "55",
            "method": "animate"
           },
           {
            "args": [
             [
              "56"
             ],
             {
              "frame": {
               "duration": 0,
               "redraw": true
              },
              "fromcurrent": true,
              "mode": "immediate",
              "transition": {
               "duration": 0,
               "easing": "linear"
              }
             }
            ],
            "label": "56",
            "method": "animate"
           },
           {
            "args": [
             [
              "57"
             ],
             {
              "frame": {
               "duration": 0,
               "redraw": true
              },
              "fromcurrent": true,
              "mode": "immediate",
              "transition": {
               "duration": 0,
               "easing": "linear"
              }
             }
            ],
            "label": "57",
            "method": "animate"
           },
           {
            "args": [
             [
              "58"
             ],
             {
              "frame": {
               "duration": 0,
               "redraw": true
              },
              "fromcurrent": true,
              "mode": "immediate",
              "transition": {
               "duration": 0,
               "easing": "linear"
              }
             }
            ],
            "label": "58",
            "method": "animate"
           },
           {
            "args": [
             [
              "59"
             ],
             {
              "frame": {
               "duration": 0,
               "redraw": true
              },
              "fromcurrent": true,
              "mode": "immediate",
              "transition": {
               "duration": 0,
               "easing": "linear"
              }
             }
            ],
            "label": "59",
            "method": "animate"
           },
           {
            "args": [
             [
              "60"
             ],
             {
              "frame": {
               "duration": 0,
               "redraw": true
              },
              "fromcurrent": true,
              "mode": "immediate",
              "transition": {
               "duration": 0,
               "easing": "linear"
              }
             }
            ],
            "label": "60",
            "method": "animate"
           },
           {
            "args": [
             [
              "61"
             ],
             {
              "frame": {
               "duration": 0,
               "redraw": true
              },
              "fromcurrent": true,
              "mode": "immediate",
              "transition": {
               "duration": 0,
               "easing": "linear"
              }
             }
            ],
            "label": "61",
            "method": "animate"
           },
           {
            "args": [
             [
              "62"
             ],
             {
              "frame": {
               "duration": 0,
               "redraw": true
              },
              "fromcurrent": true,
              "mode": "immediate",
              "transition": {
               "duration": 0,
               "easing": "linear"
              }
             }
            ],
            "label": "62",
            "method": "animate"
           },
           {
            "args": [
             [
              "63"
             ],
             {
              "frame": {
               "duration": 0,
               "redraw": true
              },
              "fromcurrent": true,
              "mode": "immediate",
              "transition": {
               "duration": 0,
               "easing": "linear"
              }
             }
            ],
            "label": "63",
            "method": "animate"
           },
           {
            "args": [
             [
              "64"
             ],
             {
              "frame": {
               "duration": 0,
               "redraw": true
              },
              "fromcurrent": true,
              "mode": "immediate",
              "transition": {
               "duration": 0,
               "easing": "linear"
              }
             }
            ],
            "label": "64",
            "method": "animate"
           },
           {
            "args": [
             [
              "65"
             ],
             {
              "frame": {
               "duration": 0,
               "redraw": true
              },
              "fromcurrent": true,
              "mode": "immediate",
              "transition": {
               "duration": 0,
               "easing": "linear"
              }
             }
            ],
            "label": "65",
            "method": "animate"
           },
           {
            "args": [
             [
              "66"
             ],
             {
              "frame": {
               "duration": 0,
               "redraw": true
              },
              "fromcurrent": true,
              "mode": "immediate",
              "transition": {
               "duration": 0,
               "easing": "linear"
              }
             }
            ],
            "label": "66",
            "method": "animate"
           },
           {
            "args": [
             [
              "67"
             ],
             {
              "frame": {
               "duration": 0,
               "redraw": true
              },
              "fromcurrent": true,
              "mode": "immediate",
              "transition": {
               "duration": 0,
               "easing": "linear"
              }
             }
            ],
            "label": "67",
            "method": "animate"
           },
           {
            "args": [
             [
              "68"
             ],
             {
              "frame": {
               "duration": 0,
               "redraw": true
              },
              "fromcurrent": true,
              "mode": "immediate",
              "transition": {
               "duration": 0,
               "easing": "linear"
              }
             }
            ],
            "label": "68",
            "method": "animate"
           },
           {
            "args": [
             [
              "69"
             ],
             {
              "frame": {
               "duration": 0,
               "redraw": true
              },
              "fromcurrent": true,
              "mode": "immediate",
              "transition": {
               "duration": 0,
               "easing": "linear"
              }
             }
            ],
            "label": "69",
            "method": "animate"
           }
          ],
          "x": 0.1,
          "xanchor": "left",
          "y": 0,
          "yanchor": "top"
         }
        ],
        "template": {
         "data": {
          "bar": [
           {
            "error_x": {
             "color": "#2a3f5f"
            },
            "error_y": {
             "color": "#2a3f5f"
            },
            "marker": {
             "line": {
              "color": "#E5ECF6",
              "width": 0.5
             },
             "pattern": {
              "fillmode": "overlay",
              "size": 10,
              "solidity": 0.2
             }
            },
            "type": "bar"
           }
          ],
          "barpolar": [
           {
            "marker": {
             "line": {
              "color": "#E5ECF6",
              "width": 0.5
             },
             "pattern": {
              "fillmode": "overlay",
              "size": 10,
              "solidity": 0.2
             }
            },
            "type": "barpolar"
           }
          ],
          "carpet": [
           {
            "aaxis": {
             "endlinecolor": "#2a3f5f",
             "gridcolor": "white",
             "linecolor": "white",
             "minorgridcolor": "white",
             "startlinecolor": "#2a3f5f"
            },
            "baxis": {
             "endlinecolor": "#2a3f5f",
             "gridcolor": "white",
             "linecolor": "white",
             "minorgridcolor": "white",
             "startlinecolor": "#2a3f5f"
            },
            "type": "carpet"
           }
          ],
          "choropleth": [
           {
            "colorbar": {
             "outlinewidth": 0,
             "ticks": ""
            },
            "type": "choropleth"
           }
          ],
          "contour": [
           {
            "colorbar": {
             "outlinewidth": 0,
             "ticks": ""
            },
            "colorscale": [
             [
              0,
              "#0d0887"
             ],
             [
              0.1111111111111111,
              "#46039f"
             ],
             [
              0.2222222222222222,
              "#7201a8"
             ],
             [
              0.3333333333333333,
              "#9c179e"
             ],
             [
              0.4444444444444444,
              "#bd3786"
             ],
             [
              0.5555555555555556,
              "#d8576b"
             ],
             [
              0.6666666666666666,
              "#ed7953"
             ],
             [
              0.7777777777777778,
              "#fb9f3a"
             ],
             [
              0.8888888888888888,
              "#fdca26"
             ],
             [
              1,
              "#f0f921"
             ]
            ],
            "type": "contour"
           }
          ],
          "contourcarpet": [
           {
            "colorbar": {
             "outlinewidth": 0,
             "ticks": ""
            },
            "type": "contourcarpet"
           }
          ],
          "heatmap": [
           {
            "colorbar": {
             "outlinewidth": 0,
             "ticks": ""
            },
            "colorscale": [
             [
              0,
              "#0d0887"
             ],
             [
              0.1111111111111111,
              "#46039f"
             ],
             [
              0.2222222222222222,
              "#7201a8"
             ],
             [
              0.3333333333333333,
              "#9c179e"
             ],
             [
              0.4444444444444444,
              "#bd3786"
             ],
             [
              0.5555555555555556,
              "#d8576b"
             ],
             [
              0.6666666666666666,
              "#ed7953"
             ],
             [
              0.7777777777777778,
              "#fb9f3a"
             ],
             [
              0.8888888888888888,
              "#fdca26"
             ],
             [
              1,
              "#f0f921"
             ]
            ],
            "type": "heatmap"
           }
          ],
          "heatmapgl": [
           {
            "colorbar": {
             "outlinewidth": 0,
             "ticks": ""
            },
            "colorscale": [
             [
              0,
              "#0d0887"
             ],
             [
              0.1111111111111111,
              "#46039f"
             ],
             [
              0.2222222222222222,
              "#7201a8"
             ],
             [
              0.3333333333333333,
              "#9c179e"
             ],
             [
              0.4444444444444444,
              "#bd3786"
             ],
             [
              0.5555555555555556,
              "#d8576b"
             ],
             [
              0.6666666666666666,
              "#ed7953"
             ],
             [
              0.7777777777777778,
              "#fb9f3a"
             ],
             [
              0.8888888888888888,
              "#fdca26"
             ],
             [
              1,
              "#f0f921"
             ]
            ],
            "type": "heatmapgl"
           }
          ],
          "histogram": [
           {
            "marker": {
             "pattern": {
              "fillmode": "overlay",
              "size": 10,
              "solidity": 0.2
             }
            },
            "type": "histogram"
           }
          ],
          "histogram2d": [
           {
            "colorbar": {
             "outlinewidth": 0,
             "ticks": ""
            },
            "colorscale": [
             [
              0,
              "#0d0887"
             ],
             [
              0.1111111111111111,
              "#46039f"
             ],
             [
              0.2222222222222222,
              "#7201a8"
             ],
             [
              0.3333333333333333,
              "#9c179e"
             ],
             [
              0.4444444444444444,
              "#bd3786"
             ],
             [
              0.5555555555555556,
              "#d8576b"
             ],
             [
              0.6666666666666666,
              "#ed7953"
             ],
             [
              0.7777777777777778,
              "#fb9f3a"
             ],
             [
              0.8888888888888888,
              "#fdca26"
             ],
             [
              1,
              "#f0f921"
             ]
            ],
            "type": "histogram2d"
           }
          ],
          "histogram2dcontour": [
           {
            "colorbar": {
             "outlinewidth": 0,
             "ticks": ""
            },
            "colorscale": [
             [
              0,
              "#0d0887"
             ],
             [
              0.1111111111111111,
              "#46039f"
             ],
             [
              0.2222222222222222,
              "#7201a8"
             ],
             [
              0.3333333333333333,
              "#9c179e"
             ],
             [
              0.4444444444444444,
              "#bd3786"
             ],
             [
              0.5555555555555556,
              "#d8576b"
             ],
             [
              0.6666666666666666,
              "#ed7953"
             ],
             [
              0.7777777777777778,
              "#fb9f3a"
             ],
             [
              0.8888888888888888,
              "#fdca26"
             ],
             [
              1,
              "#f0f921"
             ]
            ],
            "type": "histogram2dcontour"
           }
          ],
          "mesh3d": [
           {
            "colorbar": {
             "outlinewidth": 0,
             "ticks": ""
            },
            "type": "mesh3d"
           }
          ],
          "parcoords": [
           {
            "line": {
             "colorbar": {
              "outlinewidth": 0,
              "ticks": ""
             }
            },
            "type": "parcoords"
           }
          ],
          "pie": [
           {
            "automargin": true,
            "type": "pie"
           }
          ],
          "scatter": [
           {
            "fillpattern": {
             "fillmode": "overlay",
             "size": 10,
             "solidity": 0.2
            },
            "type": "scatter"
           }
          ],
          "scatter3d": [
           {
            "line": {
             "colorbar": {
              "outlinewidth": 0,
              "ticks": ""
             }
            },
            "marker": {
             "colorbar": {
              "outlinewidth": 0,
              "ticks": ""
             }
            },
            "type": "scatter3d"
           }
          ],
          "scattercarpet": [
           {
            "marker": {
             "colorbar": {
              "outlinewidth": 0,
              "ticks": ""
             }
            },
            "type": "scattercarpet"
           }
          ],
          "scattergeo": [
           {
            "marker": {
             "colorbar": {
              "outlinewidth": 0,
              "ticks": ""
             }
            },
            "type": "scattergeo"
           }
          ],
          "scattergl": [
           {
            "marker": {
             "colorbar": {
              "outlinewidth": 0,
              "ticks": ""
             }
            },
            "type": "scattergl"
           }
          ],
          "scattermapbox": [
           {
            "marker": {
             "colorbar": {
              "outlinewidth": 0,
              "ticks": ""
             }
            },
            "type": "scattermapbox"
           }
          ],
          "scatterpolar": [
           {
            "marker": {
             "colorbar": {
              "outlinewidth": 0,
              "ticks": ""
             }
            },
            "type": "scatterpolar"
           }
          ],
          "scatterpolargl": [
           {
            "marker": {
             "colorbar": {
              "outlinewidth": 0,
              "ticks": ""
             }
            },
            "type": "scatterpolargl"
           }
          ],
          "scatterternary": [
           {
            "marker": {
             "colorbar": {
              "outlinewidth": 0,
              "ticks": ""
             }
            },
            "type": "scatterternary"
           }
          ],
          "surface": [
           {
            "colorbar": {
             "outlinewidth": 0,
             "ticks": ""
            },
            "colorscale": [
             [
              0,
              "#0d0887"
             ],
             [
              0.1111111111111111,
              "#46039f"
             ],
             [
              0.2222222222222222,
              "#7201a8"
             ],
             [
              0.3333333333333333,
              "#9c179e"
             ],
             [
              0.4444444444444444,
              "#bd3786"
             ],
             [
              0.5555555555555556,
              "#d8576b"
             ],
             [
              0.6666666666666666,
              "#ed7953"
             ],
             [
              0.7777777777777778,
              "#fb9f3a"
             ],
             [
              0.8888888888888888,
              "#fdca26"
             ],
             [
              1,
              "#f0f921"
             ]
            ],
            "type": "surface"
           }
          ],
          "table": [
           {
            "cells": {
             "fill": {
              "color": "#EBF0F8"
             },
             "line": {
              "color": "white"
             }
            },
            "header": {
             "fill": {
              "color": "#C8D4E3"
             },
             "line": {
              "color": "white"
             }
            },
            "type": "table"
           }
          ]
         },
         "layout": {
          "annotationdefaults": {
           "arrowcolor": "#2a3f5f",
           "arrowhead": 0,
           "arrowwidth": 1
          },
          "autotypenumbers": "strict",
          "coloraxis": {
           "colorbar": {
            "outlinewidth": 0,
            "ticks": ""
           }
          },
          "colorscale": {
           "diverging": [
            [
             0,
             "#8e0152"
            ],
            [
             0.1,
             "#c51b7d"
            ],
            [
             0.2,
             "#de77ae"
            ],
            [
             0.3,
             "#f1b6da"
            ],
            [
             0.4,
             "#fde0ef"
            ],
            [
             0.5,
             "#f7f7f7"
            ],
            [
             0.6,
             "#e6f5d0"
            ],
            [
             0.7,
             "#b8e186"
            ],
            [
             0.8,
             "#7fbc41"
            ],
            [
             0.9,
             "#4d9221"
            ],
            [
             1,
             "#276419"
            ]
           ],
           "sequential": [
            [
             0,
             "#0d0887"
            ],
            [
             0.1111111111111111,
             "#46039f"
            ],
            [
             0.2222222222222222,
             "#7201a8"
            ],
            [
             0.3333333333333333,
             "#9c179e"
            ],
            [
             0.4444444444444444,
             "#bd3786"
            ],
            [
             0.5555555555555556,
             "#d8576b"
            ],
            [
             0.6666666666666666,
             "#ed7953"
            ],
            [
             0.7777777777777778,
             "#fb9f3a"
            ],
            [
             0.8888888888888888,
             "#fdca26"
            ],
            [
             1,
             "#f0f921"
            ]
           ],
           "sequentialminus": [
            [
             0,
             "#0d0887"
            ],
            [
             0.1111111111111111,
             "#46039f"
            ],
            [
             0.2222222222222222,
             "#7201a8"
            ],
            [
             0.3333333333333333,
             "#9c179e"
            ],
            [
             0.4444444444444444,
             "#bd3786"
            ],
            [
             0.5555555555555556,
             "#d8576b"
            ],
            [
             0.6666666666666666,
             "#ed7953"
            ],
            [
             0.7777777777777778,
             "#fb9f3a"
            ],
            [
             0.8888888888888888,
             "#fdca26"
            ],
            [
             1,
             "#f0f921"
            ]
           ]
          },
          "colorway": [
           "#636efa",
           "#EF553B",
           "#00cc96",
           "#ab63fa",
           "#FFA15A",
           "#19d3f3",
           "#FF6692",
           "#B6E880",
           "#FF97FF",
           "#FECB52"
          ],
          "font": {
           "color": "#2a3f5f"
          },
          "geo": {
           "bgcolor": "white",
           "lakecolor": "white",
           "landcolor": "#E5ECF6",
           "showlakes": true,
           "showland": true,
           "subunitcolor": "white"
          },
          "hoverlabel": {
           "align": "left"
          },
          "hovermode": "closest",
          "mapbox": {
           "style": "light"
          },
          "paper_bgcolor": "white",
          "plot_bgcolor": "#E5ECF6",
          "polar": {
           "angularaxis": {
            "gridcolor": "white",
            "linecolor": "white",
            "ticks": ""
           },
           "bgcolor": "#E5ECF6",
           "radialaxis": {
            "gridcolor": "white",
            "linecolor": "white",
            "ticks": ""
           }
          },
          "scene": {
           "xaxis": {
            "backgroundcolor": "#E5ECF6",
            "gridcolor": "white",
            "gridwidth": 2,
            "linecolor": "white",
            "showbackground": true,
            "ticks": "",
            "zerolinecolor": "white"
           },
           "yaxis": {
            "backgroundcolor": "#E5ECF6",
            "gridcolor": "white",
            "gridwidth": 2,
            "linecolor": "white",
            "showbackground": true,
            "ticks": "",
            "zerolinecolor": "white"
           },
           "zaxis": {
            "backgroundcolor": "#E5ECF6",
            "gridcolor": "white",
            "gridwidth": 2,
            "linecolor": "white",
            "showbackground": true,
            "ticks": "",
            "zerolinecolor": "white"
           }
          },
          "shapedefaults": {
           "line": {
            "color": "#2a3f5f"
           }
          },
          "ternary": {
           "aaxis": {
            "gridcolor": "white",
            "linecolor": "white",
            "ticks": ""
           },
           "baxis": {
            "gridcolor": "white",
            "linecolor": "white",
            "ticks": ""
           },
           "bgcolor": "#E5ECF6",
           "caxis": {
            "gridcolor": "white",
            "linecolor": "white",
            "ticks": ""
           }
          },
          "title": {
           "x": 0.05
          },
          "xaxis": {
           "automargin": true,
           "gridcolor": "white",
           "linecolor": "white",
           "ticks": "",
           "title": {
            "standoff": 15
           },
           "zerolinecolor": "white",
           "zerolinewidth": 2
          },
          "yaxis": {
           "automargin": true,
           "gridcolor": "white",
           "linecolor": "white",
           "ticks": "",
           "title": {
            "standoff": 15
           },
           "zerolinecolor": "white",
           "zerolinewidth": 2
          }
         }
        },
        "title": {
         "text": "Total sales per category by age group and gender"
        },
        "updatemenus": [
         {
          "buttons": [
           {
            "args": [
             null,
             {
              "frame": {
               "duration": 500,
               "redraw": true
              },
              "fromcurrent": true,
              "mode": "immediate",
              "transition": {
               "duration": 500,
               "easing": "linear"
              }
             }
            ],
            "label": "&#9654;",
            "method": "animate"
           },
           {
            "args": [
             [
              null
             ],
             {
              "frame": {
               "duration": 0,
               "redraw": true
              },
              "fromcurrent": true,
              "mode": "immediate",
              "transition": {
               "duration": 0,
               "easing": "linear"
              }
             }
            ],
            "label": "&#9724;",
            "method": "animate"
           }
          ],
          "direction": "left",
          "pad": {
           "r": 10,
           "t": 70
          },
          "showactive": false,
          "type": "buttons",
          "x": 0.1,
          "xanchor": "right",
          "y": 0,
          "yanchor": "top"
         }
        ],
        "xaxis": {
         "anchor": "y",
         "domain": [
          0,
          0.49
         ],
         "title": {
          "text": "category"
         }
        },
        "xaxis2": {
         "anchor": "y2",
         "domain": [
          0.51,
          1
         ],
         "matches": "x",
         "title": {
          "text": "category"
         }
        },
        "yaxis": {
         "anchor": "x",
         "domain": [
          0,
          1
         ],
         "title": {
          "text": "price"
         }
        },
        "yaxis2": {
         "anchor": "x2",
         "domain": [
          0,
          1
         ],
         "matches": "y",
         "showticklabels": false
        }
       }
      }
     },
     "metadata": {},
     "output_type": "display_data"
    },
    {
     "data": {
      "application/vnd.plotly.v1+json": {
       "config": {
        "plotlyServerURL": "https://plot.ly"
       },
       "data": [
        {
         "alignmentgroup": "True",
         "boxpoints": "all",
         "hovertemplate": "age=18<br>gender=Female<br>category=%{x}<br>price=%{y}<extra></extra>",
         "legendgroup": "",
         "marker": {
          "color": "#636efa"
         },
         "name": "",
         "notched": false,
         "offsetgroup": "",
         "orientation": "v",
         "showlegend": false,
         "type": "box",
         "x": [
          "Books",
          "Clothing",
          "Cosmetics",
          "Food & Beverage",
          "Shoes",
          "Souvenir",
          "Technology",
          "Toys"
         ],
         "x0": " ",
         "xaxis": "x",
         "y": [
          41.31818181818182,
          842.16,
          127.40133333333333,
          15.69,
          1708.1761538461537,
          25.135714285714283,
          3412.5,
          110.27692307692307
         ],
         "y0": " ",
         "yaxis": "y"
        },
        {
         "alignmentgroup": "True",
         "boxpoints": "all",
         "hovertemplate": "age=18<br>gender=Male<br>category=%{x}<br>price=%{y}<extra></extra>",
         "legendgroup": "",
         "marker": {
          "color": "#636efa"
         },
         "name": "",
         "notched": false,
         "offsetgroup": "",
         "orientation": "v",
         "showlegend": false,
         "type": "box",
         "x": [
          "Books",
          "Clothing",
          "Cosmetics",
          "Food & Beverage",
          "Shoes",
          "Souvenir",
          "Technology",
          "Toys"
         ],
         "x0": " ",
         "xaxis": "x2",
         "y": [
          30.3,
          788.7817142857143,
          105.03833333333334,
          13.365555555555554,
          2250.6375,
          43.01,
          4725,
          101.00363636363636
         ],
         "y0": " ",
         "yaxis": "y2"
        }
       ],
       "frames": [
        {
         "data": [
          {
           "alignmentgroup": "True",
           "boxpoints": "all",
           "hovertemplate": "age=18<br>gender=Female<br>category=%{x}<br>price=%{y}<extra></extra>",
           "legendgroup": "",
           "marker": {
            "color": "#636efa"
           },
           "name": "",
           "notched": false,
           "offsetgroup": "",
           "orientation": "v",
           "showlegend": false,
           "type": "box",
           "x": [
            "Books",
            "Clothing",
            "Cosmetics",
            "Food & Beverage",
            "Shoes",
            "Souvenir",
            "Technology",
            "Toys"
           ],
           "x0": " ",
           "xaxis": "x",
           "y": [
            41.31818181818182,
            842.16,
            127.40133333333333,
            15.69,
            1708.1761538461537,
            25.135714285714283,
            3412.5,
            110.27692307692307
           ],
           "y0": " ",
           "yaxis": "y"
          },
          {
           "alignmentgroup": "True",
           "boxpoints": "all",
           "hovertemplate": "age=18<br>gender=Male<br>category=%{x}<br>price=%{y}<extra></extra>",
           "legendgroup": "",
           "marker": {
            "color": "#636efa"
           },
           "name": "",
           "notched": false,
           "offsetgroup": "",
           "orientation": "v",
           "showlegend": false,
           "type": "box",
           "x": [
            "Books",
            "Clothing",
            "Cosmetics",
            "Food & Beverage",
            "Shoes",
            "Souvenir",
            "Technology",
            "Toys"
           ],
           "x0": " ",
           "xaxis": "x2",
           "y": [
            30.3,
            788.7817142857143,
            105.03833333333334,
            13.365555555555554,
            2250.6375,
            43.01,
            4725,
            101.00363636363636
           ],
           "y0": " ",
           "yaxis": "y2"
          }
         ],
         "name": "18"
        },
        {
         "data": [
          {
           "alignmentgroup": "True",
           "boxpoints": "all",
           "hovertemplate": "age=19<br>gender=Female<br>category=%{x}<br>price=%{y}<extra></extra>",
           "legendgroup": "",
           "marker": {
            "color": "#636efa"
           },
           "name": "",
           "notched": false,
           "offsetgroup": "",
           "orientation": "v",
           "showlegend": false,
           "type": "box",
           "x": [
            "Books",
            "Clothing",
            "Cosmetics",
            "Food & Beverage",
            "Shoes",
            "Souvenir",
            "Technology",
            "Toys"
           ],
           "x0": " ",
           "xaxis": "x",
           "y": [
            47.614285714285714,
            869.4625641025641,
            121.98,
            16.561666666666667,
            1960.5553333333332,
            23.459999999999997,
            2940,
            89.60000000000001
           ],
           "y0": " ",
           "yaxis": "y"
          },
          {
           "alignmentgroup": "True",
           "boxpoints": "all",
           "hovertemplate": "age=19<br>gender=Male<br>category=%{x}<br>price=%{y}<extra></extra>",
           "legendgroup": "",
           "marker": {
            "color": "#636efa"
           },
           "name": "",
           "notched": false,
           "offsetgroup": "",
           "orientation": "v",
           "showlegend": false,
           "type": "box",
           "x": [
            "Books",
            "Clothing",
            "Cosmetics",
            "Food & Beverage",
            "Shoes",
            "Souvenir",
            "Technology",
            "Toys"
           ],
           "x0": " ",
           "xaxis": "x2",
           "y": [
            60.6,
            800.2133333333334,
            94.87333333333333,
            14.885384615384616,
            1667.138888888889,
            46.92,
            3150,
            101.00363636363636
           ],
           "y0": " ",
           "yaxis": "y2"
          }
         ],
         "name": "19"
        },
        {
         "data": [
          {
           "alignmentgroup": "True",
           "boxpoints": "all",
           "hovertemplate": "age=20<br>gender=Female<br>category=%{x}<br>price=%{y}<extra></extra>",
           "legendgroup": "",
           "marker": {
            "color": "#636efa"
           },
           "name": "",
           "notched": false,
           "offsetgroup": "",
           "orientation": "v",
           "showlegend": false,
           "type": "box",
           "x": [
            "Books",
            "Clothing",
            "Cosmetics",
            "Food & Beverage",
            "Shoes",
            "Souvenir",
            "Technology",
            "Toys"
           ],
           "x0": " ",
           "xaxis": "x",
           "y": [
            38.71666666666667,
            958.5888888888888,
            143.66533333333334,
            13.536470588235295,
            1380.391,
            43.01,
            2625,
            107.52
           ],
           "y0": " ",
           "yaxis": "y"
          },
          {
           "alignmentgroup": "True",
           "boxpoints": "all",
           "hovertemplate": "age=20<br>gender=Male<br>category=%{x}<br>price=%{y}<extra></extra>",
           "legendgroup": "",
           "marker": {
            "color": "#636efa"
           },
           "name": "",
           "notched": false,
           "offsetgroup": "",
           "orientation": "v",
           "showlegend": false,
           "type": "box",
           "x": [
            "Books",
            "Clothing",
            "Cosmetics",
            "Food & Beverage",
            "Shoes",
            "Souvenir",
            "Technology",
            "Toys"
           ],
           "x0": " ",
           "xaxis": "x2",
           "y": [
            70.7,
            900.24,
            132.14499999999998,
            16.9975,
            2067.2522222222224,
            41.055,
            2940,
            121.30461538461539
           ],
           "y0": " ",
           "yaxis": "y2"
          }
         ],
         "name": "20"
        },
        {
         "data": [
          {
           "alignmentgroup": "True",
           "boxpoints": "all",
           "hovertemplate": "age=21<br>gender=Female<br>category=%{x}<br>price=%{y}<extra></extra>",
           "legendgroup": "",
           "marker": {
            "color": "#636efa"
           },
           "name": "",
           "notched": false,
           "offsetgroup": "",
           "orientation": "v",
           "showlegend": false,
           "type": "box",
           "x": [
            "Books",
            "Clothing",
            "Cosmetics",
            "Food & Beverage",
            "Shoes",
            "Souvenir",
            "Technology",
            "Toys"
           ],
           "x0": " ",
           "xaxis": "x",
           "y": [
            51.510000000000005,
            900.24,
            126.76352941176471,
            15.917391304347827,
            2288.1481249999997,
            35.19,
            4200,
            114.68800000000002
           ],
           "y0": " ",
           "yaxis": "y"
          },
          {
           "alignmentgroup": "True",
           "boxpoints": "all",
           "hovertemplate": "age=21<br>gender=Male<br>category=%{x}<br>price=%{y}<extra></extra>",
           "legendgroup": "",
           "marker": {
            "color": "#636efa"
           },
           "name": "",
           "notched": false,
           "offsetgroup": "",
           "orientation": "v",
           "showlegend": false,
           "type": "box",
           "x": [
            "Books",
            "Clothing",
            "Cosmetics",
            "Food & Beverage",
            "Shoes",
            "Souvenir",
            "Technology",
            "Toys"
           ],
           "x0": " ",
           "xaxis": "x2",
           "y": [
            54.107142857142854,
            780.208,
            117.91399999999999,
            16.85222222222222,
            2000.5666666666666,
            41.055,
            4200,
            126.81846153846153
           ],
           "y0": " ",
           "yaxis": "y2"
          }
         ],
         "name": "21"
        },
        {
         "data": [
          {
           "alignmentgroup": "True",
           "boxpoints": "all",
           "hovertemplate": "age=22<br>gender=Female<br>category=%{x}<br>price=%{y}<extra></extra>",
           "legendgroup": "",
           "marker": {
            "color": "#636efa"
           },
           "name": "",
           "notched": false,
           "offsetgroup": "",
           "orientation": "v",
           "showlegend": false,
           "type": "box",
           "x": [
            "Books",
            "Clothing",
            "Cosmetics",
            "Food & Beverage",
            "Shoes",
            "Souvenir",
            "Technology",
            "Toys"
           ],
           "x0": " ",
           "xaxis": "x",
           "y": [
            50.5,
            766.1617021276595,
            89.452,
            14.992666666666668,
            1800.5099999999998,
            45.24428571428571,
            3412.5,
            107.52
           ],
           "y0": " ",
           "yaxis": "y"
          },
          {
           "alignmentgroup": "True",
           "boxpoints": "all",
           "hovertemplate": "age=22<br>gender=Male<br>category=%{x}<br>price=%{y}<extra></extra>",
           "legendgroup": "",
           "marker": {
            "color": "#636efa"
           },
           "name": "",
           "notched": false,
           "offsetgroup": "",
           "orientation": "v",
           "showlegend": false,
           "type": "box",
           "x": [
            "Books",
            "Clothing",
            "Cosmetics",
            "Food & Beverage",
            "Shoes",
            "Souvenir",
            "Technology",
            "Toys"
           ],
           "x0": " ",
           "xaxis": "x2",
           "y": [
            47.975,
            922.4681481481481,
            116.89750000000001,
            15.214545454545457,
            1500.425,
            37.536,
            3150,
            114.68800000000002
           ],
           "y0": " ",
           "yaxis": "y2"
          }
         ],
         "name": "22"
        },
        {
         "data": [
          {
           "alignmentgroup": "True",
           "boxpoints": "all",
           "hovertemplate": "age=23<br>gender=Female<br>category=%{x}<br>price=%{y}<extra></extra>",
           "legendgroup": "",
           "marker": {
            "color": "#636efa"
           },
           "name": "",
           "notched": false,
           "offsetgroup": "",
           "orientation": "v",
           "showlegend": false,
           "type": "box",
           "x": [
            "Books",
            "Clothing",
            "Cosmetics",
            "Food & Beverage",
            "Shoes",
            "Souvenir",
            "Technology",
            "Toys"
           ],
           "x0": " ",
           "xaxis": "x",
           "y": [
            60.6,
            1040.7029787234044,
            113.848,
            16.61294117647059,
            1757.6407142857145,
            39.882,
            3150,
            117.76
           ],
           "y0": " ",
           "yaxis": "y"
          },
          {
           "alignmentgroup": "True",
           "boxpoints": "all",
           "hovertemplate": "age=23<br>gender=Male<br>category=%{x}<br>price=%{y}<extra></extra>",
           "legendgroup": "",
           "marker": {
            "color": "#636efa"
           },
           "name": "",
           "notched": false,
           "offsetgroup": "",
           "orientation": "v",
           "showlegend": false,
           "type": "box",
           "x": [
            "Books",
            "Clothing",
            "Cosmetics",
            "Food & Beverage",
            "Shoes",
            "Souvenir",
            "Technology",
            "Toys"
           ],
           "x0": " ",
           "xaxis": "x2",
           "y": [
            53.025,
            889.5228571428571,
            108.42666666666668,
            15.965263157894736,
            1700.4816666666666,
            33.235,
            2100,
            92.58666666666666
           ],
           "y0": " ",
           "yaxis": "y2"
          }
         ],
         "name": "23"
        },
        {
         "data": [
          {
           "alignmentgroup": "True",
           "boxpoints": "all",
           "hovertemplate": "age=24<br>gender=Female<br>category=%{x}<br>price=%{y}<extra></extra>",
           "legendgroup": "",
           "marker": {
            "color": "#636efa"
           },
           "name": "",
           "notched": false,
           "offsetgroup": "",
           "orientation": "v",
           "showlegend": false,
           "type": "box",
           "x": [
            "Books",
            "Clothing",
            "Cosmetics",
            "Food & Beverage",
            "Shoes",
            "Souvenir",
            "Technology",
            "Toys"
           ],
           "x0": " ",
           "xaxis": "x",
           "y": [
            56.8125,
            1071.7142857142858,
            96.5675,
            16.30529411764706,
            1680.4759999999999,
            36.65625,
            1837.5,
            100.352
           ],
           "y0": " ",
           "yaxis": "y"
          },
          {
           "alignmentgroup": "True",
           "boxpoints": "all",
           "hovertemplate": "age=24<br>gender=Male<br>category=%{x}<br>price=%{y}<extra></extra>",
           "legendgroup": "",
           "marker": {
            "color": "#636efa"
           },
           "name": "",
           "notched": false,
           "offsetgroup": "",
           "orientation": "v",
           "showlegend": false,
           "type": "box",
           "x": [
            "Books",
            "Clothing",
            "Cosmetics",
            "Food & Beverage",
            "Shoes",
            "Souvenir",
            "Technology",
            "Toys"
           ],
           "x0": " ",
           "xaxis": "x2",
           "y": [
            56.8125,
            888.6984615384615,
            110.89090909090909,
            14.942857142857145,
            2000.5666666666666,
            15.64,
            4725,
            79.64444444444445
           ],
           "y0": " ",
           "yaxis": "y2"
          }
         ],
         "name": "24"
        },
        {
         "data": [
          {
           "alignmentgroup": "True",
           "boxpoints": "all",
           "hovertemplate": "age=25<br>gender=Female<br>category=%{x}<br>price=%{y}<extra></extra>",
           "legendgroup": "",
           "marker": {
            "color": "#636efa"
           },
           "name": "",
           "notched": false,
           "offsetgroup": "",
           "orientation": "v",
           "showlegend": false,
           "type": "box",
           "x": [
            "Books",
            "Clothing",
            "Cosmetics",
            "Food & Beverage",
            "Shoes",
            "Souvenir",
            "Technology",
            "Toys"
           ],
           "x0": " ",
           "xaxis": "x",
           "y": [
            15.15,
            835.9371428571428,
            141.11411764705883,
            16.9975,
            1650.4675,
            35.19,
            3150,
            114.03636363636365
           ],
           "y0": " ",
           "yaxis": "y"
          },
          {
           "alignmentgroup": "True",
           "boxpoints": "all",
           "hovertemplate": "age=25<br>gender=Male<br>category=%{x}<br>price=%{y}<extra></extra>",
           "legendgroup": "",
           "marker": {
            "color": "#636efa"
           },
           "name": "",
           "notched": false,
           "offsetgroup": "",
           "orientation": "v",
           "showlegend": false,
           "type": "box",
           "x": [
            "Books",
            "Clothing",
            "Cosmetics",
            "Food & Beverage",
            "Shoes",
            "Souvenir",
            "Technology",
            "Toys"
           ],
           "x0": " ",
           "xaxis": "x2",
           "y": [
            49.237500000000004,
            887.7366666666667,
            117.46222222222224,
            15.69,
            2250.6375,
            11.73,
            1575,
            123.44888888888889
           ],
           "y0": " ",
           "yaxis": "y2"
          }
         ],
         "name": "25"
        },
        {
         "data": [
          {
           "alignmentgroup": "True",
           "boxpoints": "all",
           "hovertemplate": "age=26<br>gender=Female<br>category=%{x}<br>price=%{y}<extra></extra>",
           "legendgroup": "",
           "marker": {
            "color": "#636efa"
           },
           "name": "",
           "notched": false,
           "offsetgroup": "",
           "orientation": "v",
           "showlegend": false,
           "type": "box",
           "x": [
            "Books",
            "Clothing",
            "Cosmetics",
            "Food & Beverage",
            "Shoes",
            "Souvenir",
            "Technology",
            "Toys"
           ],
           "x0": " ",
           "xaxis": "x",
           "y": [
            39.39,
            890.5600000000001,
            111.81500000000001,
            15.074705882352944,
            1636.8272727272727,
            42.654545454545456,
            2800,
            100.352
           ],
           "y0": " ",
           "yaxis": "y"
          },
          {
           "alignmentgroup": "True",
           "boxpoints": "all",
           "hovertemplate": "age=26<br>gender=Male<br>category=%{x}<br>price=%{y}<extra></extra>",
           "legendgroup": "",
           "marker": {
            "color": "#636efa"
           },
           "name": "",
           "notched": false,
           "offsetgroup": "",
           "orientation": "v",
           "showlegend": false,
           "type": "box",
           "x": [
            "Books",
            "Clothing",
            "Cosmetics",
            "Food & Beverage",
            "Shoes",
            "Souvenir",
            "Technology",
            "Toys"
           ],
           "x0": " ",
           "xaxis": "x2",
           "y": [
            50.5,
            838.1544827586207,
            132.145,
            20.919999999999998,
            1275.36125,
            21.113999999999997,
            3150,
            100.352
           ],
           "y0": " ",
           "yaxis": "y2"
          }
         ],
         "name": "26"
        },
        {
         "data": [
          {
           "alignmentgroup": "True",
           "boxpoints": "all",
           "hovertemplate": "age=27<br>gender=Female<br>category=%{x}<br>price=%{y}<extra></extra>",
           "legendgroup": "",
           "marker": {
            "color": "#636efa"
           },
           "name": "",
           "notched": false,
           "offsetgroup": "",
           "orientation": "v",
           "showlegend": false,
           "type": "box",
           "x": [
            "Books",
            "Clothing",
            "Cosmetics",
            "Food & Beverage",
            "Shoes",
            "Souvenir",
            "Technology",
            "Toys"
           ],
           "x0": " ",
           "xaxis": "x",
           "y": [
            48.480000000000004,
            848.303076923077,
            110.02117647058823,
            17.535882352941176,
            2000.5666666666666,
            23.46,
            1837.5,
            101.00363636363636
           ],
           "y0": " ",
           "yaxis": "y"
          },
          {
           "alignmentgroup": "True",
           "boxpoints": "all",
           "hovertemplate": "age=27<br>gender=Male<br>category=%{x}<br>price=%{y}<extra></extra>",
           "legendgroup": "",
           "marker": {
            "color": "#636efa"
           },
           "name": "",
           "notched": false,
           "offsetgroup": "",
           "orientation": "v",
           "showlegend": false,
           "type": "box",
           "x": [
            "Books",
            "Clothing",
            "Cosmetics",
            "Food & Beverage",
            "Shoes",
            "Souvenir",
            "Technology",
            "Toys"
           ],
           "x0": " ",
           "xaxis": "x2",
           "y": [
            30.3,
            878.0118518518518,
            119.947,
            17.782,
            1875.53125,
            42.227999999999994,
            2362.5,
            94.48727272727274
           ],
           "y0": " ",
           "yaxis": "y2"
          }
         ],
         "name": "27"
        },
        {
         "data": [
          {
           "alignmentgroup": "True",
           "boxpoints": "all",
           "hovertemplate": "age=28<br>gender=Female<br>category=%{x}<br>price=%{y}<extra></extra>",
           "legendgroup": "",
           "marker": {
            "color": "#636efa"
           },
           "name": "",
           "notched": false,
           "offsetgroup": "",
           "orientation": "v",
           "showlegend": false,
           "type": "box",
           "x": [
            "Books",
            "Clothing",
            "Cosmetics",
            "Food & Beverage",
            "Shoes",
            "Souvenir",
            "Technology",
            "Toys"
           ],
           "x0": " ",
           "xaxis": "x",
           "y": [
            35.35,
            948.64,
            112.94444444444444,
            14.164583333333333,
            1600.4533333333331,
            29.325000000000003,
            3150,
            117.76
           ],
           "y0": " ",
           "yaxis": "y"
          },
          {
           "alignmentgroup": "True",
           "boxpoints": "all",
           "hovertemplate": "age=28<br>gender=Male<br>category=%{x}<br>price=%{y}<extra></extra>",
           "legendgroup": "",
           "marker": {
            "color": "#636efa"
           },
           "name": "",
           "notched": false,
           "offsetgroup": "",
           "orientation": "v",
           "showlegend": false,
           "type": "box",
           "x": [
            "Books",
            "Clothing",
            "Cosmetics",
            "Food & Beverage",
            "Shoes",
            "Technology",
            "Toys"
           ],
           "x0": " ",
           "xaxis": "x2",
           "y": [
            63.125,
            910.9571428571428,
            142.31,
            18.067272727272726,
            2600.736666666666,
            3360,
            114.68799999999999
           ],
           "y0": " ",
           "yaxis": "y2"
          }
         ],
         "name": "28"
        },
        {
         "data": [
          {
           "alignmentgroup": "True",
           "boxpoints": "all",
           "hovertemplate": "age=29<br>gender=Female<br>category=%{x}<br>price=%{y}<extra></extra>",
           "legendgroup": "",
           "marker": {
            "color": "#636efa"
           },
           "name": "",
           "notched": false,
           "offsetgroup": "",
           "orientation": "v",
           "showlegend": false,
           "type": "box",
           "x": [
            "Books",
            "Clothing",
            "Cosmetics",
            "Food & Beverage",
            "Shoes",
            "Souvenir",
            "Technology",
            "Toys"
           ],
           "x0": " ",
           "xaxis": "x",
           "y": [
            45.45,
            805.0926829268293,
            103.00533333333333,
            16.561666666666667,
            1913.041875,
            41.892857142857146,
            2800,
            127.0690909090909
           ],
           "y0": " ",
           "yaxis": "y"
          },
          {
           "alignmentgroup": "True",
           "boxpoints": "all",
           "hovertemplate": "age=29<br>gender=Male<br>category=%{x}<br>price=%{y}<extra></extra>",
           "legendgroup": "",
           "marker": {
            "color": "#636efa"
           },
           "name": "",
           "notched": false,
           "offsetgroup": "",
           "orientation": "v",
           "showlegend": false,
           "type": "box",
           "x": [
            "Books",
            "Clothing",
            "Cosmetics",
            "Food & Beverage",
            "Shoes",
            "Souvenir",
            "Technology",
            "Toys"
           ],
           "x0": " ",
           "xaxis": "x2",
           "y": [
            54.54,
            960.256,
            133.0690909090909,
            16.736,
            2040.578,
            30.498,
            4200,
            86.01599999999999
           ],
           "y0": " ",
           "yaxis": "y2"
          }
         ],
         "name": "29"
        },
        {
         "data": [
          {
           "alignmentgroup": "True",
           "boxpoints": "all",
           "hovertemplate": "age=30<br>gender=Female<br>category=%{x}<br>price=%{y}<extra></extra>",
           "legendgroup": "",
           "marker": {
            "color": "#636efa"
           },
           "name": "",
           "notched": false,
           "offsetgroup": "",
           "orientation": "v",
           "showlegend": false,
           "type": "box",
           "x": [
            "Books",
            "Clothing",
            "Cosmetics",
            "Food & Beverage",
            "Shoes",
            "Souvenir",
            "Technology",
            "Toys"
           ],
           "x0": " ",
           "xaxis": "x",
           "y": [
            49.778571428571425,
            857.3714285714286,
            158.1222222222222,
            15.690000000000001,
            2025.5737499999998,
            37.145,
            3150,
            85.12
           ],
           "y0": " ",
           "yaxis": "y"
          },
          {
           "alignmentgroup": "True",
           "boxpoints": "all",
           "hovertemplate": "age=30<br>gender=Male<br>category=%{x}<br>price=%{y}<extra></extra>",
           "legendgroup": "",
           "marker": {
            "color": "#636efa"
           },
           "name": "",
           "notched": false,
           "offsetgroup": "",
           "orientation": "v",
           "showlegend": false,
           "type": "box",
           "x": [
            "Books",
            "Clothing",
            "Cosmetics",
            "Food & Beverage",
            "Shoes",
            "Souvenir",
            "Technology",
            "Toys"
           ],
           "x0": " ",
           "xaxis": "x2",
           "y": [
            37.875,
            855.7837037037037,
            127.78857142857143,
            13.401875,
            1543.2942857142857,
            15.64,
            2100,
            95.57333333333334
           ],
           "y0": " ",
           "yaxis": "y2"
          }
         ],
         "name": "30"
        },
        {
         "data": [
          {
           "alignmentgroup": "True",
           "boxpoints": "all",
           "hovertemplate": "age=31<br>gender=Female<br>category=%{x}<br>price=%{y}<extra></extra>",
           "legendgroup": "",
           "marker": {
            "color": "#636efa"
           },
           "name": "",
           "notched": false,
           "offsetgroup": "",
           "orientation": "v",
           "showlegend": false,
           "type": "box",
           "x": [
            "Books",
            "Clothing",
            "Cosmetics",
            "Food & Beverage",
            "Shoes",
            "Souvenir",
            "Technology",
            "Toys"
           ],
           "x0": " ",
           "xaxis": "x",
           "y": [
            47.975,
            960.256,
            162.64000000000001,
            15.9515,
            1000.2833333333333,
            30.162857142857142,
            3600,
            99.55555555555556
           ],
           "y0": " ",
           "yaxis": "y"
          },
          {
           "alignmentgroup": "True",
           "boxpoints": "all",
           "hovertemplate": "age=31<br>gender=Male<br>category=%{x}<br>price=%{y}<extra></extra>",
           "legendgroup": "",
           "marker": {
            "color": "#636efa"
           },
           "name": "",
           "notched": false,
           "offsetgroup": "",
           "orientation": "v",
           "showlegend": false,
           "type": "box",
           "x": [
            "Books",
            "Clothing",
            "Cosmetics",
            "Food & Beverage",
            "Shoes",
            "Souvenir",
            "Technology",
            "Toys"
           ],
           "x0": " ",
           "xaxis": "x2",
           "y": [
            45.449999999999996,
            850.2266666666666,
            134.49076923076925,
            15.287692307692309,
            2050.580833333333,
            36.86571428571428,
            2100,
            86.61333333333334
           ],
           "y0": " ",
           "yaxis": "y2"
          }
         ],
         "name": "31"
        },
        {
         "data": [
          {
           "alignmentgroup": "True",
           "boxpoints": "all",
           "hovertemplate": "age=32<br>gender=Female<br>category=%{x}<br>price=%{y}<extra></extra>",
           "legendgroup": "",
           "marker": {
            "color": "#636efa"
           },
           "name": "",
           "notched": false,
           "offsetgroup": "",
           "orientation": "v",
           "showlegend": false,
           "type": "box",
           "x": [
            "Books",
            "Clothing",
            "Cosmetics",
            "Food & Beverage",
            "Shoes",
            "Souvenir",
            "Technology",
            "Toys"
           ],
           "x0": " ",
           "xaxis": "x",
           "y": [
            53.025000000000006,
            818.4,
            119.72111111111111,
            12.305882352941177,
            2143.464285714286,
            32.844,
            2746.153846153846,
            99.24923076923076
           ],
           "y0": " ",
           "yaxis": "y"
          },
          {
           "alignmentgroup": "True",
           "boxpoints": "all",
           "hovertemplate": "age=32<br>gender=Male<br>category=%{x}<br>price=%{y}<extra></extra>",
           "legendgroup": "",
           "marker": {
            "color": "#636efa"
           },
           "name": "",
           "notched": false,
           "offsetgroup": "",
           "orientation": "v",
           "showlegend": false,
           "type": "box",
           "x": [
            "Books",
            "Clothing",
            "Cosmetics",
            "Food & Beverage",
            "Shoes",
            "Souvenir",
            "Technology",
            "Toys"
           ],
           "x0": " ",
           "xaxis": "x2",
           "y": [
            30.3,
            760.9171428571428,
            118.10761904761904,
            18.828,
            1800.5099999999998,
            58.65,
            2625,
            107.52
           ],
           "y0": " ",
           "yaxis": "y2"
          }
         ],
         "name": "32"
        },
        {
         "data": [
          {
           "alignmentgroup": "True",
           "boxpoints": "all",
           "hovertemplate": "age=33<br>gender=Female<br>category=%{x}<br>price=%{y}<extra></extra>",
           "legendgroup": "",
           "marker": {
            "color": "#636efa"
           },
           "name": "",
           "notched": false,
           "offsetgroup": "",
           "orientation": "v",
           "showlegend": false,
           "type": "box",
           "x": [
            "Books",
            "Clothing",
            "Cosmetics",
            "Food & Beverage",
            "Shoes",
            "Souvenir",
            "Technology",
            "Toys"
           ],
           "x0": " ",
           "xaxis": "x",
           "y": [
            49.2375,
            932.1634042553192,
            121.98,
            18.305,
            2000.5666666666666,
            38.1225,
            3360,
            87.60888888888888
           ],
           "y0": " ",
           "yaxis": "y"
          },
          {
           "alignmentgroup": "True",
           "boxpoints": "all",
           "hovertemplate": "age=33<br>gender=Male<br>category=%{x}<br>price=%{y}<extra></extra>",
           "legendgroup": "",
           "marker": {
            "color": "#636efa"
           },
           "name": "",
           "notched": false,
           "offsetgroup": "",
           "orientation": "v",
           "showlegend": false,
           "type": "box",
           "x": [
            "Books",
            "Clothing",
            "Cosmetics",
            "Food & Beverage",
            "Shoes",
            "Souvenir",
            "Technology",
            "Toys"
           ],
           "x0": " ",
           "xaxis": "x2",
           "y": [
            32.464285714285715,
            880.2346666666667,
            134.49076923076925,
            15.69,
            1750.4958333333334,
            32.844,
            2625,
            112.64
           ],
           "y0": " ",
           "yaxis": "y2"
          }
         ],
         "name": "33"
        },
        {
         "data": [
          {
           "alignmentgroup": "True",
           "boxpoints": "all",
           "hovertemplate": "age=34<br>gender=Female<br>category=%{x}<br>price=%{y}<extra></extra>",
           "legendgroup": "",
           "marker": {
            "color": "#636efa"
           },
           "name": "",
           "notched": false,
           "offsetgroup": "",
           "orientation": "v",
           "showlegend": false,
           "type": "box",
           "x": [
            "Books",
            "Clothing",
            "Cosmetics",
            "Food & Beverage",
            "Shoes",
            "Souvenir",
            "Technology",
            "Toys"
           ],
           "x0": " ",
           "xaxis": "x",
           "y": [
            60.6,
            823.0765714285715,
            107,
            16.4745,
            1745.9490909090907,
            39.882,
            2800,
            122.88
           ],
           "y0": " ",
           "yaxis": "y"
          },
          {
           "alignmentgroup": "True",
           "boxpoints": "all",
           "hovertemplate": "age=34<br>gender=Male<br>category=%{x}<br>price=%{y}<extra></extra>",
           "legendgroup": "",
           "marker": {
            "color": "#636efa"
           },
           "name": "",
           "notched": false,
           "offsetgroup": "",
           "orientation": "v",
           "showlegend": false,
           "type": "box",
           "x": [
            "Books",
            "Clothing",
            "Cosmetics",
            "Food & Beverage",
            "Shoes",
            "Souvenir",
            "Technology",
            "Toys"
           ],
           "x0": " ",
           "xaxis": "x2",
           "y": [
            53.025,
            920.2453333333334,
            103.90888888888888,
            15.167000000000002,
            2460.6969999999997,
            11.73,
            3675,
            111.104
           ],
           "y0": " ",
           "yaxis": "y2"
          }
         ],
         "name": "34"
        },
        {
         "data": [
          {
           "alignmentgroup": "True",
           "boxpoints": "all",
           "hovertemplate": "age=35<br>gender=Female<br>category=%{x}<br>price=%{y}<extra></extra>",
           "legendgroup": "",
           "marker": {
            "color": "#636efa"
           },
           "name": "",
           "notched": false,
           "offsetgroup": "",
           "orientation": "v",
           "showlegend": false,
           "type": "box",
           "x": [
            "Books",
            "Clothing",
            "Cosmetics",
            "Food & Beverage",
            "Shoes",
            "Souvenir",
            "Technology",
            "Toys"
           ],
           "x0": " ",
           "xaxis": "x",
           "y": [
            54.54,
            800.2133333333333,
            113.42,
            18.458823529411767,
            1600.4533333333334,
            37.145,
            4725,
            109.5111111111111
           ],
           "y0": " ",
           "yaxis": "y"
          },
          {
           "alignmentgroup": "True",
           "boxpoints": "all",
           "hovertemplate": "age=35<br>gender=Male<br>category=%{x}<br>price=%{y}<extra></extra>",
           "legendgroup": "",
           "marker": {
            "color": "#636efa"
           },
           "name": "",
           "notched": false,
           "offsetgroup": "",
           "orientation": "v",
           "showlegend": false,
           "type": "box",
           "x": [
            "Books",
            "Clothing",
            "Cosmetics",
            "Food & Beverage",
            "Shoes",
            "Souvenir",
            "Technology",
            "Toys"
           ],
           "x0": " ",
           "xaxis": "x2",
           "y": [
            45.45,
            950.2533333333332,
            81.32,
            18.828,
            1875.53125,
            39.1,
            3675,
            77.65333333333335
           ],
           "y0": " ",
           "yaxis": "y2"
          }
         ],
         "name": "35"
        },
        {
         "data": [
          {
           "alignmentgroup": "True",
           "boxpoints": "all",
           "hovertemplate": "age=36<br>gender=Female<br>category=%{x}<br>price=%{y}<extra></extra>",
           "legendgroup": "",
           "marker": {
            "color": "#636efa"
           },
           "name": "",
           "notched": false,
           "offsetgroup": "",
           "orientation": "v",
           "showlegend": false,
           "type": "box",
           "x": [
            "Books",
            "Clothing",
            "Cosmetics",
            "Food & Beverage",
            "Shoes",
            "Souvenir",
            "Technology",
            "Toys"
           ],
           "x0": " ",
           "xaxis": "x",
           "y": [
            43.285714285714285,
            873.5662222222223,
            112.29904761904761,
            16.920588235294115,
            1985.177692307692,
            36.65625,
            3412.5,
            127.4311111111111
           ],
           "y0": " ",
           "yaxis": "y"
          },
          {
           "alignmentgroup": "True",
           "boxpoints": "all",
           "hovertemplate": "age=36<br>gender=Male<br>category=%{x}<br>price=%{y}<extra></extra>",
           "legendgroup": "",
           "marker": {
            "color": "#636efa"
           },
           "name": "",
           "notched": false,
           "offsetgroup": "",
           "orientation": "v",
           "showlegend": false,
           "type": "box",
           "x": [
            "Books",
            "Clothing",
            "Cosmetics",
            "Food & Beverage",
            "Shoes",
            "Souvenir",
            "Technology",
            "Toys"
           ],
           "x0": " ",
           "xaxis": "x2",
           "y": [
            30.3,
            844.6696296296296,
            108.42666666666668,
            12.639166666666668,
            1800.51,
            35.19,
            2100,
            80.64000000000001
           ],
           "y0": " ",
           "yaxis": "y2"
          }
         ],
         "name": "36"
        },
        {
         "data": [
          {
           "alignmentgroup": "True",
           "boxpoints": "all",
           "hovertemplate": "age=37<br>gender=Female<br>category=%{x}<br>price=%{y}<extra></extra>",
           "legendgroup": "",
           "marker": {
            "color": "#636efa"
           },
           "name": "",
           "notched": false,
           "offsetgroup": "",
           "orientation": "v",
           "showlegend": false,
           "type": "box",
           "x": [
            "Books",
            "Clothing",
            "Cosmetics",
            "Food & Beverage",
            "Shoes",
            "Souvenir",
            "Technology",
            "Toys"
           ],
           "x0": " ",
           "xaxis": "x",
           "y": [
            32.825,
            1000.2666666666667,
            117.7,
            15.690000000000001,
            2029.1461904761904,
            29.325000000000003,
            4200,
            82.70769230769231
           ],
           "y0": " ",
           "yaxis": "y"
          },
          {
           "alignmentgroup": "True",
           "boxpoints": "all",
           "hovertemplate": "age=37<br>gender=Male<br>category=%{x}<br>price=%{y}<extra></extra>",
           "legendgroup": "",
           "marker": {
            "color": "#636efa"
           },
           "name": "",
           "notched": false,
           "offsetgroup": "",
           "orientation": "v",
           "showlegend": false,
           "type": "box",
           "x": [
            "Books",
            "Clothing",
            "Cosmetics",
            "Food & Beverage",
            "Shoes",
            "Souvenir",
            "Technology",
            "Toys"
           ],
           "x0": " ",
           "xaxis": "x2",
           "y": [
            34.628571428571426,
            966.9244444444444,
            89.452,
            14.818333333333333,
            1700.4816666666666,
            39.1,
            2362.5,
            102.4
           ],
           "y0": " ",
           "yaxis": "y2"
          }
         ],
         "name": "37"
        },
        {
         "data": [
          {
           "alignmentgroup": "True",
           "boxpoints": "all",
           "hovertemplate": "age=38<br>gender=Female<br>category=%{x}<br>price=%{y}<extra></extra>",
           "legendgroup": "",
           "marker": {
            "color": "#636efa"
           },
           "name": "",
           "notched": false,
           "offsetgroup": "",
           "orientation": "v",
           "showlegend": false,
           "type": "box",
           "x": [
            "Books",
            "Clothing",
            "Cosmetics",
            "Food & Beverage",
            "Shoes",
            "Souvenir",
            "Technology",
            "Toys"
           ],
           "x0": " ",
           "xaxis": "x",
           "y": [
            36.792857142857144,
            906.7634782608696,
            115.881,
            14.767058823529412,
            1985.177692307692,
            29.325,
            2700,
            117.76
           ],
           "y0": " ",
           "yaxis": "y"
          },
          {
           "alignmentgroup": "True",
           "boxpoints": "all",
           "hovertemplate": "age=38<br>gender=Male<br>category=%{x}<br>price=%{y}<extra></extra>",
           "legendgroup": "",
           "marker": {
            "color": "#636efa"
           },
           "name": "",
           "notched": false,
           "offsetgroup": "",
           "orientation": "v",
           "showlegend": false,
           "type": "box",
           "x": [
            "Books",
            "Clothing",
            "Cosmetics",
            "Food & Beverage",
            "Shoes",
            "Souvenir",
            "Technology",
            "Toys"
           ],
           "x0": " ",
           "xaxis": "x2",
           "y": [
            66.66,
            909.92,
            138.244,
            13.276153846153846,
            2160.612,
            58.65,
            3412.5,
            110.50666666666666
           ],
           "y0": " ",
           "yaxis": "y2"
          }
         ],
         "name": "38"
        },
        {
         "data": [
          {
           "alignmentgroup": "True",
           "boxpoints": "all",
           "hovertemplate": "age=39<br>gender=Female<br>category=%{x}<br>price=%{y}<extra></extra>",
           "legendgroup": "",
           "marker": {
            "color": "#636efa"
           },
           "name": "",
           "notched": false,
           "offsetgroup": "",
           "orientation": "v",
           "showlegend": false,
           "type": "box",
           "x": [
            "Books",
            "Clothing",
            "Cosmetics",
            "Food & Beverage",
            "Shoes",
            "Souvenir",
            "Technology",
            "Toys"
           ],
           "x0": " ",
           "xaxis": "x",
           "y": [
            51.510000000000005,
            925.9611428571428,
            119.43875,
            14.86421052631579,
            2127.8754545454544,
            37.536,
            3150,
            96.97882352941177
           ],
           "y0": " ",
           "yaxis": "y"
          },
          {
           "alignmentgroup": "True",
           "boxpoints": "all",
           "hovertemplate": "age=39<br>gender=Male<br>category=%{x}<br>price=%{y}<extra></extra>",
           "legendgroup": "",
           "marker": {
            "color": "#636efa"
           },
           "name": "",
           "notched": false,
           "offsetgroup": "",
           "orientation": "v",
           "showlegend": false,
           "type": "box",
           "x": [
            "Books",
            "Clothing",
            "Cosmetics",
            "Food & Beverage",
            "Shoes",
            "Souvenir",
            "Technology",
            "Toys"
           ],
           "x0": " ",
           "xaxis": "x2",
           "y": [
            30.3,
            950.2533333333334,
            101.64999999999999,
            16.34375,
            2700.765,
            46.92,
            3850,
            95.57333333333334
           ],
           "y0": " ",
           "yaxis": "y2"
          }
         ],
         "name": "39"
        },
        {
         "data": [
          {
           "alignmentgroup": "True",
           "boxpoints": "all",
           "hovertemplate": "age=40<br>gender=Female<br>category=%{x}<br>price=%{y}<extra></extra>",
           "legendgroup": "",
           "marker": {
            "color": "#636efa"
           },
           "name": "",
           "notched": false,
           "offsetgroup": "",
           "orientation": "v",
           "showlegend": false,
           "type": "box",
           "x": [
            "Books",
            "Clothing",
            "Cosmetics",
            "Food & Beverage",
            "Shoes",
            "Souvenir",
            "Technology",
            "Toys"
           ],
           "x0": " ",
           "xaxis": "x",
           "y": [
            68.175,
            865.346976744186,
            118.44434782608695,
            16.920588235294115,
            1833.8527777777776,
            45.85363636363636,
            3780,
            104.76307692307692
           ],
           "y0": " ",
           "yaxis": "y"
          },
          {
           "alignmentgroup": "True",
           "boxpoints": "all",
           "hovertemplate": "age=40<br>gender=Male<br>category=%{x}<br>price=%{y}<extra></extra>",
           "legendgroup": "",
           "marker": {
            "color": "#636efa"
           },
           "name": "",
           "notched": false,
           "offsetgroup": "",
           "orientation": "v",
           "showlegend": false,
           "type": "box",
           "x": [
            "Books",
            "Clothing",
            "Cosmetics",
            "Food & Beverage",
            "Shoes",
            "Souvenir",
            "Technology",
            "Toys"
           ],
           "x0": " ",
           "xaxis": "x2",
           "y": [
            41.6625,
            877.156923076923,
            119.07571428571428,
            15.69,
            2133.9377777777777,
            28.487142857142857,
            3150,
            116.47999999999999
           ],
           "y0": " ",
           "yaxis": "y2"
          }
         ],
         "name": "40"
        },
        {
         "data": [
          {
           "alignmentgroup": "True",
           "boxpoints": "all",
           "hovertemplate": "age=41<br>gender=Female<br>category=%{x}<br>price=%{y}<extra></extra>",
           "legendgroup": "",
           "marker": {
            "color": "#636efa"
           },
           "name": "",
           "notched": false,
           "offsetgroup": "",
           "orientation": "v",
           "showlegend": false,
           "type": "box",
           "x": [
            "Books",
            "Clothing",
            "Cosmetics",
            "Food & Beverage",
            "Shoes",
            "Souvenir",
            "Technology",
            "Toys"
           ],
           "x0": " ",
           "xaxis": "x",
           "y": [
            47.975,
            894.3560784313725,
            119.26933333333334,
            13.448571428571428,
            1800.51,
            36.363,
            2800,
            107.52000000000001
           ],
           "y0": " ",
           "yaxis": "y"
          },
          {
           "alignmentgroup": "True",
           "boxpoints": "all",
           "hovertemplate": "age=41<br>gender=Male<br>category=%{x}<br>price=%{y}<extra></extra>",
           "legendgroup": "",
           "marker": {
            "color": "#636efa"
           },
           "name": "",
           "notched": false,
           "offsetgroup": "",
           "orientation": "v",
           "showlegend": false,
           "type": "box",
           "x": [
            "Books",
            "Clothing",
            "Cosmetics",
            "Food & Beverage",
            "Shoes",
            "Souvenir",
            "Technology",
            "Toys"
           ],
           "x0": " ",
           "xaxis": "x2",
           "y": [
            51.510000000000005,
            1050.28,
            119.07571428571428,
            13.72875,
            1560.442,
            46.92,
            3150,
            119.46666666666667
           ],
           "y0": " ",
           "yaxis": "y2"
          }
         ],
         "name": "41"
        },
        {
         "data": [
          {
           "alignmentgroup": "True",
           "boxpoints": "all",
           "hovertemplate": "age=42<br>gender=Female<br>category=%{x}<br>price=%{y}<extra></extra>",
           "legendgroup": "",
           "marker": {
            "color": "#636efa"
           },
           "name": "",
           "notched": false,
           "offsetgroup": "",
           "orientation": "v",
           "showlegend": false,
           "type": "box",
           "x": [
            "Books",
            "Clothing",
            "Cosmetics",
            "Food & Beverage",
            "Shoes",
            "Souvenir",
            "Technology",
            "Toys"
           ],
           "x0": " ",
           "xaxis": "x",
           "y": [
            34.0875,
            758.0968421052631,
            119.72111111111111,
            13.763157894736842,
            1582.2663636363636,
            38.1225,
            4550,
            114.24000000000001
           ],
           "y0": " ",
           "yaxis": "y"
          },
          {
           "alignmentgroup": "True",
           "boxpoints": "all",
           "hovertemplate": "age=42<br>gender=Male<br>category=%{x}<br>price=%{y}<extra></extra>",
           "legendgroup": "",
           "marker": {
            "color": "#636efa"
           },
           "name": "",
           "notched": false,
           "offsetgroup": "",
           "orientation": "v",
           "showlegend": false,
           "type": "box",
           "x": [
            "Clothing",
            "Cosmetics",
            "Food & Beverage",
            "Shoes",
            "Souvenir",
            "Technology",
            "Toys"
           ],
           "x0": " ",
           "xaxis": "x2",
           "y": [
            940.2506666666667,
            147.3925,
            14.709375,
            1745.9490909090907,
            11.73,
            2450,
            103.936
           ],
           "y0": " ",
           "yaxis": "y2"
          }
         ],
         "name": "42"
        },
        {
         "data": [
          {
           "alignmentgroup": "True",
           "boxpoints": "all",
           "hovertemplate": "age=43<br>gender=Female<br>category=%{x}<br>price=%{y}<extra></extra>",
           "legendgroup": "",
           "marker": {
            "color": "#636efa"
           },
           "name": "",
           "notched": false,
           "offsetgroup": "",
           "orientation": "v",
           "showlegend": false,
           "type": "box",
           "x": [
            "Books",
            "Clothing",
            "Cosmetics",
            "Food & Beverage",
            "Shoes",
            "Souvenir",
            "Technology",
            "Toys"
           ],
           "x0": " ",
           "xaxis": "x",
           "y": [
            32.19375,
            877.734,
            121.97999999999999,
            15.139473684210525,
            2280.6459999999997,
            33.235,
            2800,
            95.57333333333332
           ],
           "y0": " ",
           "yaxis": "y"
          },
          {
           "alignmentgroup": "True",
           "boxpoints": "all",
           "hovertemplate": "age=43<br>gender=Male<br>category=%{x}<br>price=%{y}<extra></extra>",
           "legendgroup": "",
           "marker": {
            "color": "#636efa"
           },
           "name": "",
           "notched": false,
           "offsetgroup": "",
           "orientation": "v",
           "showlegend": false,
           "type": "box",
           "x": [
            "Clothing",
            "Cosmetics",
            "Food & Beverage",
            "Shoes",
            "Souvenir",
            "Technology",
            "Toys"
           ],
           "x0": " ",
           "xaxis": "x2",
           "y": [
            1050.28,
            105.03833333333334,
            17.782,
            1929.117857142857,
            28.487142857142857,
            2250,
            98.56
           ],
           "y0": " ",
           "yaxis": "y2"
          }
         ],
         "name": "43"
        },
        {
         "data": [
          {
           "alignmentgroup": "True",
           "boxpoints": "all",
           "hovertemplate": "age=44<br>gender=Female<br>category=%{x}<br>price=%{y}<extra></extra>",
           "legendgroup": "",
           "marker": {
            "color": "#636efa"
           },
           "name": "",
           "notched": false,
           "offsetgroup": "",
           "orientation": "v",
           "showlegend": false,
           "type": "box",
           "x": [
            "Books",
            "Clothing",
            "Cosmetics",
            "Food & Beverage",
            "Shoes",
            "Souvenir",
            "Technology",
            "Toys"
           ],
           "x0": " ",
           "xaxis": "x",
           "y": [
            51.510000000000005,
            859.6886486486486,
            98.26166666666666,
            16.9975,
            1971.9871428571428,
            44.964999999999996,
            4200,
            87.60888888888888
           ],
           "y0": " ",
           "yaxis": "y"
          },
          {
           "alignmentgroup": "True",
           "boxpoints": "all",
           "hovertemplate": "age=44<br>gender=Male<br>category=%{x}<br>price=%{y}<extra></extra>",
           "legendgroup": "",
           "marker": {
            "color": "#636efa"
           },
           "name": "",
           "notched": false,
           "offsetgroup": "",
           "orientation": "v",
           "showlegend": false,
           "type": "box",
           "x": [
            "Clothing",
            "Cosmetics",
            "Food & Beverage",
            "Shoes",
            "Souvenir",
            "Technology",
            "Toys"
           ],
           "x0": " ",
           "xaxis": "x2",
           "y": [
            987.7633333333333,
            110.36285714285714,
            18.014444444444443,
            1800.51,
            27.37,
            5250,
            89.60000000000001
           ],
           "y0": " ",
           "yaxis": "y2"
          }
         ],
         "name": "44"
        },
        {
         "data": [
          {
           "alignmentgroup": "True",
           "boxpoints": "all",
           "hovertemplate": "age=45<br>gender=Female<br>category=%{x}<br>price=%{y}<extra></extra>",
           "legendgroup": "",
           "marker": {
            "color": "#636efa"
           },
           "name": "",
           "notched": false,
           "offsetgroup": "",
           "orientation": "v",
           "showlegend": false,
           "type": "box",
           "x": [
            "Books",
            "Clothing",
            "Cosmetics",
            "Food & Beverage",
            "Shoes",
            "Souvenir",
            "Technology",
            "Toys"
           ],
           "x0": " ",
           "xaxis": "x",
           "y": [
            40.4,
            993.368275862069,
            117.7,
            12.203333333333335,
            2040.578,
            30.791249999999998,
            3266.6666666666665,
            134.4
           ],
           "y0": " ",
           "yaxis": "y"
          },
          {
           "alignmentgroup": "True",
           "boxpoints": "all",
           "hovertemplate": "age=45<br>gender=Male<br>category=%{x}<br>price=%{y}<extra></extra>",
           "legendgroup": "",
           "marker": {
            "color": "#636efa"
           },
           "name": "",
           "notched": false,
           "offsetgroup": "",
           "orientation": "v",
           "showlegend": false,
           "type": "box",
           "x": [
            "Books",
            "Clothing",
            "Cosmetics",
            "Food & Beverage",
            "Shoes",
            "Souvenir",
            "Technology",
            "Toys"
           ],
           "x0": " ",
           "xaxis": "x2",
           "y": [
            42.925000000000004,
            857.3714285714286,
            142.31,
            14.818333333333333,
            2100.595,
            31.28,
            2520,
            112.64
           ],
           "y0": " ",
           "yaxis": "y2"
          }
         ],
         "name": "45"
        },
        {
         "data": [
          {
           "alignmentgroup": "True",
           "boxpoints": "all",
           "hovertemplate": "age=46<br>gender=Female<br>category=%{x}<br>price=%{y}<extra></extra>",
           "legendgroup": "",
           "marker": {
            "color": "#636efa"
           },
           "name": "",
           "notched": false,
           "offsetgroup": "",
           "orientation": "v",
           "showlegend": false,
           "type": "box",
           "x": [
            "Books",
            "Clothing",
            "Cosmetics",
            "Food & Beverage",
            "Shoes",
            "Souvenir",
            "Technology",
            "Toys"
           ],
           "x0": " ",
           "xaxis": "x",
           "y": [
            45.45,
            1017.6626086956522,
            93.518,
            13.678461538461537,
            1523.5084615384617,
            29.325,
            3780,
            135.39555555555555
           ],
           "y0": " ",
           "yaxis": "y"
          },
          {
           "alignmentgroup": "True",
           "boxpoints": "all",
           "hovertemplate": "age=46<br>gender=Male<br>category=%{x}<br>price=%{y}<extra></extra>",
           "legendgroup": "",
           "marker": {
            "color": "#636efa"
           },
           "name": "",
           "notched": false,
           "offsetgroup": "",
           "orientation": "v",
           "showlegend": false,
           "type": "box",
           "x": [
            "Books",
            "Clothing",
            "Cosmetics",
            "Food & Beverage",
            "Shoes",
            "Souvenir",
            "Technology",
            "Toys"
           ],
           "x0": " ",
           "xaxis": "x2",
           "y": [
            36.36,
            957.3980952380953,
            113.848,
            15.287692307692309,
            1867.1955555555553,
            58.65,
            4200,
            125.43999999999998
           ],
           "y0": " ",
           "yaxis": "y2"
          }
         ],
         "name": "46"
        },
        {
         "data": [
          {
           "alignmentgroup": "True",
           "boxpoints": "all",
           "hovertemplate": "age=47<br>gender=Female<br>category=%{x}<br>price=%{y}<extra></extra>",
           "legendgroup": "",
           "marker": {
            "color": "#636efa"
           },
           "name": "",
           "notched": false,
           "offsetgroup": "",
           "orientation": "v",
           "showlegend": false,
           "type": "box",
           "x": [
            "Books",
            "Clothing",
            "Cosmetics",
            "Food & Beverage",
            "Shoes",
            "Souvenir",
            "Technology",
            "Toys"
           ],
           "x0": " ",
           "xaxis": "x",
           "y": [
            49.77857142857143,
            1025.8548837209303,
            109.46923076923076,
            15.690000000000001,
            1800.51,
            23.46,
            2730,
            118.06117647058824
           ],
           "y0": " ",
           "yaxis": "y"
          },
          {
           "alignmentgroup": "True",
           "boxpoints": "all",
           "hovertemplate": "age=47<br>gender=Male<br>category=%{x}<br>price=%{y}<extra></extra>",
           "legendgroup": "",
           "marker": {
            "color": "#636efa"
           },
           "name": "",
           "notched": false,
           "offsetgroup": "",
           "orientation": "v",
           "showlegend": false,
           "type": "box",
           "x": [
            "Books",
            "Clothing",
            "Cosmetics",
            "Food & Beverage",
            "Shoes",
            "Souvenir",
            "Technology",
            "Toys"
           ],
           "x0": " ",
           "xaxis": "x2",
           "y": [
            53.025000000000006,
            975.26,
            131.36307692307693,
            18.014444444444443,
            1800.51,
            41.055,
            1750,
            119.46666666666667
           ],
           "y0": " ",
           "yaxis": "y2"
          }
         ],
         "name": "47"
        },
        {
         "data": [
          {
           "alignmentgroup": "True",
           "boxpoints": "all",
           "hovertemplate": "age=48<br>gender=Female<br>category=%{x}<br>price=%{y}<extra></extra>",
           "legendgroup": "",
           "marker": {
            "color": "#636efa"
           },
           "name": "",
           "notched": false,
           "offsetgroup": "",
           "orientation": "v",
           "showlegend": false,
           "type": "box",
           "x": [
            "Books",
            "Clothing",
            "Cosmetics",
            "Food & Beverage",
            "Shoes",
            "Souvenir",
            "Technology",
            "Toys"
           ],
           "x0": " ",
           "xaxis": "x",
           "y": [
            55.550000000000004,
            907.3847619047618,
            106.00642857142857,
            13.536470588235295,
            1350.3825,
            38.1225,
            3780,
            91.59111111111112
           ],
           "y0": " ",
           "yaxis": "y"
          },
          {
           "alignmentgroup": "True",
           "boxpoints": "all",
           "hovertemplate": "age=48<br>gender=Male<br>category=%{x}<br>price=%{y}<extra></extra>",
           "legendgroup": "",
           "marker": {
            "color": "#636efa"
           },
           "name": "",
           "notched": false,
           "offsetgroup": "",
           "orientation": "v",
           "showlegend": false,
           "type": "box",
           "x": [
            "Books",
            "Clothing",
            "Cosmetics",
            "Food & Beverage",
            "Shoes",
            "Souvenir",
            "Technology",
            "Toys"
           ],
           "x0": " ",
           "xaxis": "x2",
           "y": [
            32.824999999999996,
            808.9113043478261,
            101.65,
            14.295333333333334,
            1800.5099999999998,
            29.325,
            4900,
            100.352
           ],
           "y0": " ",
           "yaxis": "y2"
          }
         ],
         "name": "48"
        },
        {
         "data": [
          {
           "alignmentgroup": "True",
           "boxpoints": "all",
           "hovertemplate": "age=49<br>gender=Female<br>category=%{x}<br>price=%{y}<extra></extra>",
           "legendgroup": "",
           "marker": {
            "color": "#636efa"
           },
           "name": "",
           "notched": false,
           "offsetgroup": "",
           "orientation": "v",
           "showlegend": false,
           "type": "box",
           "x": [
            "Books",
            "Clothing",
            "Cosmetics",
            "Food & Beverage",
            "Shoes",
            "Souvenir",
            "Technology",
            "Toys"
           ],
           "x0": " ",
           "xaxis": "x",
           "y": [
            60.6,
            827.4933333333333,
            108.42666666666666,
            16.85222222222222,
            2325.65875,
            45.45375,
            3150,
            98.56
           ],
           "y0": " ",
           "yaxis": "y"
          },
          {
           "alignmentgroup": "True",
           "boxpoints": "all",
           "hovertemplate": "age=49<br>gender=Male<br>category=%{x}<br>price=%{y}<extra></extra>",
           "legendgroup": "",
           "marker": {
            "color": "#636efa"
           },
           "name": "",
           "notched": false,
           "offsetgroup": "",
           "orientation": "v",
           "showlegend": false,
           "type": "box",
           "x": [
            "Books",
            "Clothing",
            "Cosmetics",
            "Food & Beverage",
            "Shoes",
            "Souvenir",
            "Technology",
            "Toys"
           ],
           "x0": " ",
           "xaxis": "x2",
           "y": [
            43.55625,
            1050.28,
            108.42666666666666,
            13.312727272727273,
            1800.51,
            33.51428571428572,
            2310,
            83.62666666666668
           ],
           "y0": " ",
           "yaxis": "y2"
          }
         ],
         "name": "49"
        },
        {
         "data": [
          {
           "alignmentgroup": "True",
           "boxpoints": "all",
           "hovertemplate": "age=50<br>gender=Female<br>category=%{x}<br>price=%{y}<extra></extra>",
           "legendgroup": "",
           "marker": {
            "color": "#636efa"
           },
           "name": "",
           "notched": false,
           "offsetgroup": "",
           "orientation": "v",
           "showlegend": false,
           "type": "box",
           "x": [
            "Books",
            "Clothing",
            "Cosmetics",
            "Food & Beverage",
            "Shoes",
            "Souvenir",
            "Technology",
            "Toys"
           ],
           "x0": " ",
           "xaxis": "x",
           "y": [
            41.6625,
            916.0336842105263,
            142.31,
            14.739090909090908,
            1860.527,
            32.2575,
            1575,
            107.52000000000001
           ],
           "y0": " ",
           "yaxis": "y"
          },
          {
           "alignmentgroup": "True",
           "boxpoints": "all",
           "hovertemplate": "age=50<br>gender=Male<br>category=%{x}<br>price=%{y}<extra></extra>",
           "legendgroup": "",
           "marker": {
            "color": "#636efa"
           },
           "name": "",
           "notched": false,
           "offsetgroup": "",
           "orientation": "v",
           "showlegend": false,
           "type": "box",
           "x": [
            "Books",
            "Clothing",
            "Cosmetics",
            "Food & Beverage",
            "Shoes",
            "Souvenir",
            "Technology",
            "Toys"
           ],
           "x0": " ",
           "xaxis": "x2",
           "y": [
            64.3875,
            971.687619047619,
            106.34153846153846,
            12.552000000000001,
            1500.425,
            23.46,
            2887.5,
            102.39999999999999
           ],
           "y0": " ",
           "yaxis": "y2"
          }
         ],
         "name": "50"
        },
        {
         "data": [
          {
           "alignmentgroup": "True",
           "boxpoints": "all",
           "hovertemplate": "age=51<br>gender=Female<br>category=%{x}<br>price=%{y}<extra></extra>",
           "legendgroup": "",
           "marker": {
            "color": "#636efa"
           },
           "name": "",
           "notched": false,
           "offsetgroup": "",
           "orientation": "v",
           "showlegend": false,
           "type": "box",
           "x": [
            "Books",
            "Clothing",
            "Cosmetics",
            "Food & Beverage",
            "Shoes",
            "Souvenir",
            "Technology",
            "Toys"
           ],
           "x0": " ",
           "xaxis": "x",
           "y": [
            37.875,
            917.8917647058823,
            116.17142857142858,
            15.07470588235294,
            1708.1761538461537,
            25.13571428571429,
            2450,
            91.59111111111112
           ],
           "y0": " ",
           "yaxis": "y"
          },
          {
           "alignmentgroup": "True",
           "boxpoints": "all",
           "hovertemplate": "age=51<br>gender=Male<br>category=%{x}<br>price=%{y}<extra></extra>",
           "legendgroup": "",
           "marker": {
            "color": "#636efa"
           },
           "name": "",
           "notched": false,
           "offsetgroup": "",
           "orientation": "v",
           "showlegend": false,
           "type": "box",
           "x": [
            "Books",
            "Clothing",
            "Cosmetics",
            "Food & Beverage",
            "Shoes",
            "Souvenir",
            "Technology",
            "Toys"
           ],
           "x0": " ",
           "xaxis": "x2",
           "y": [
            45.45,
            1012.77,
            121.98,
            19.713076923076922,
            1886.2485714285715,
            41.055,
            4410,
            118.272
           ],
           "y0": " ",
           "yaxis": "y2"
          }
         ],
         "name": "51"
        },
        {
         "data": [
          {
           "alignmentgroup": "True",
           "boxpoints": "all",
           "hovertemplate": "age=52<br>gender=Female<br>category=%{x}<br>price=%{y}<extra></extra>",
           "legendgroup": "",
           "marker": {
            "color": "#636efa"
           },
           "name": "",
           "notched": false,
           "offsetgroup": "",
           "orientation": "v",
           "showlegend": false,
           "type": "box",
           "x": [
            "Books",
            "Clothing",
            "Cosmetics",
            "Food & Beverage",
            "Shoes",
            "Souvenir",
            "Technology",
            "Toys"
           ],
           "x0": " ",
           "xaxis": "x",
           "y": [
            28.13571428571429,
            1023.3497435897435,
            135.53333333333333,
            16.61294117647059,
            1860.527,
            30.498,
            2959.090909090909,
            123.81090909090909
           ],
           "y0": " ",
           "yaxis": "y"
          },
          {
           "alignmentgroup": "True",
           "boxpoints": "all",
           "hovertemplate": "age=52<br>gender=Male<br>category=%{x}<br>price=%{y}<extra></extra>",
           "legendgroup": "",
           "marker": {
            "color": "#636efa"
           },
           "name": "",
           "notched": false,
           "offsetgroup": "",
           "orientation": "v",
           "showlegend": false,
           "type": "box",
           "x": [
            "Books",
            "Clothing",
            "Cosmetics",
            "Food & Beverage",
            "Shoes",
            "Souvenir",
            "Technology",
            "Toys"
           ],
           "x0": " ",
           "xaxis": "x2",
           "y": [
            65.64999999999999,
            837.7233333333334,
            121.97999999999999,
            17.931428571428572,
            1886.2485714285715,
            39.1,
            1500,
            93.184
           ],
           "y0": " ",
           "yaxis": "y2"
          }
         ],
         "name": "52"
        },
        {
         "data": [
          {
           "alignmentgroup": "True",
           "boxpoints": "all",
           "hovertemplate": "age=53<br>gender=Female<br>category=%{x}<br>price=%{y}<extra></extra>",
           "legendgroup": "",
           "marker": {
            "color": "#636efa"
           },
           "name": "",
           "notched": false,
           "offsetgroup": "",
           "orientation": "v",
           "showlegend": false,
           "type": "box",
           "x": [
            "Books",
            "Clothing",
            "Cosmetics",
            "Food & Beverage",
            "Shoes",
            "Souvenir",
            "Technology",
            "Toys"
           ],
           "x0": " ",
           "xaxis": "x",
           "y": [
            32.464285714285715,
            841.8911111111112,
            111.28000000000002,
            15.07470588235294,
            1750.4958333333334,
            35.19,
            2362.5,
            91.22909090909091
           ],
           "y0": " ",
           "yaxis": "y"
          },
          {
           "alignmentgroup": "True",
           "boxpoints": "all",
           "hovertemplate": "age=53<br>gender=Male<br>category=%{x}<br>price=%{y}<extra></extra>",
           "legendgroup": "",
           "marker": {
            "color": "#636efa"
           },
           "name": "",
           "notched": false,
           "offsetgroup": "",
           "orientation": "v",
           "showlegend": false,
           "type": "box",
           "x": [
            "Books",
            "Clothing",
            "Cosmetics",
            "Food & Beverage",
            "Shoes",
            "Souvenir",
            "Technology",
            "Toys"
           ],
           "x0": " ",
           "xaxis": "x2",
           "y": [
            75.75,
            936.2496000000001,
            121.98,
            23.535,
            2175.61625,
            41.70666666666667,
            4200,
            112
           ],
           "y0": " ",
           "yaxis": "y2"
          }
         ],
         "name": "53"
        },
        {
         "data": [
          {
           "alignmentgroup": "True",
           "boxpoints": "all",
           "hovertemplate": "age=54<br>gender=Female<br>category=%{x}<br>price=%{y}<extra></extra>",
           "legendgroup": "",
           "marker": {
            "color": "#636efa"
           },
           "name": "",
           "notched": false,
           "offsetgroup": "",
           "orientation": "v",
           "showlegend": false,
           "type": "box",
           "x": [
            "Books",
            "Clothing",
            "Cosmetics",
            "Food & Beverage",
            "Shoes",
            "Souvenir",
            "Technology",
            "Toys"
           ],
           "x0": " ",
           "xaxis": "x",
           "y": [
            53.025,
            936.8351219512194,
            96.95846153846153,
            15.69,
            1846.676923076923,
            23.46,
            3150,
            103.04
           ],
           "y0": " ",
           "yaxis": "y"
          },
          {
           "alignmentgroup": "True",
           "boxpoints": "all",
           "hovertemplate": "age=54<br>gender=Male<br>category=%{x}<br>price=%{y}<extra></extra>",
           "legendgroup": "",
           "marker": {
            "color": "#636efa"
           },
           "name": "",
           "notched": false,
           "offsetgroup": "",
           "orientation": "v",
           "showlegend": false,
           "type": "box",
           "x": [
            "Books",
            "Clothing",
            "Cosmetics",
            "Food & Beverage",
            "Shoes",
            "Souvenir",
            "Technology",
            "Toys"
           ],
           "x0": " ",
           "xaxis": "x2",
           "y": [
            27.775000000000002,
            911.7815384615385,
            132.145,
            15.690000000000001,
            1920.5439999999999,
            32.2575,
            3675,
            112.64
           ],
           "y0": " ",
           "yaxis": "y2"
          }
         ],
         "name": "54"
        },
        {
         "data": [
          {
           "alignmentgroup": "True",
           "boxpoints": "all",
           "hovertemplate": "age=55<br>gender=Female<br>category=%{x}<br>price=%{y}<extra></extra>",
           "legendgroup": "",
           "marker": {
            "color": "#636efa"
           },
           "name": "",
           "notched": false,
           "offsetgroup": "",
           "orientation": "v",
           "showlegend": false,
           "type": "box",
           "x": [
            "Books",
            "Clothing",
            "Cosmetics",
            "Food & Beverage",
            "Shoes",
            "Souvenir",
            "Technology",
            "Toys"
           ],
           "x0": " ",
           "xaxis": "x",
           "y": [
            41.121428571428574,
            936.2496000000001,
            134.35478260869564,
            16.125833333333333,
            1754.3430769230768,
            43.9875,
            4200,
            87.60888888888888
           ],
           "y0": " ",
           "yaxis": "y"
          },
          {
           "alignmentgroup": "True",
           "boxpoints": "all",
           "hovertemplate": "age=55<br>gender=Male<br>category=%{x}<br>price=%{y}<extra></extra>",
           "legendgroup": "",
           "marker": {
            "color": "#636efa"
           },
           "name": "",
           "notched": false,
           "offsetgroup": "",
           "orientation": "v",
           "showlegend": false,
           "type": "box",
           "x": [
            "Books",
            "Clothing",
            "Cosmetics",
            "Food & Beverage",
            "Shoes",
            "Souvenir",
            "Technology",
            "Toys"
           ],
           "x0": " ",
           "xaxis": "x2",
           "y": [
            45.45,
            996.6942857142857,
            151.55090909090907,
            14.992666666666668,
            2050.5808333333334,
            28.151999999999997,
            4550,
            112
           ],
           "y0": " ",
           "yaxis": "y2"
          }
         ],
         "name": "55"
        },
        {
         "data": [
          {
           "alignmentgroup": "True",
           "boxpoints": "all",
           "hovertemplate": "age=56<br>gender=Female<br>category=%{x}<br>price=%{y}<extra></extra>",
           "legendgroup": "",
           "marker": {
            "color": "#636efa"
           },
           "name": "",
           "notched": false,
           "offsetgroup": "",
           "orientation": "v",
           "showlegend": false,
           "type": "box",
           "x": [
            "Books",
            "Clothing",
            "Cosmetics",
            "Food & Beverage",
            "Shoes",
            "Souvenir",
            "Technology",
            "Toys"
           ],
           "x0": " ",
           "xaxis": "x",
           "y": [
            45.449999999999996,
            964.0868085106383,
            109.782,
            13.946666666666667,
            1800.51,
            29.85818181818182,
            3750,
            103.30352941176471
           ],
           "y0": " ",
           "yaxis": "y"
          },
          {
           "alignmentgroup": "True",
           "boxpoints": "all",
           "hovertemplate": "age=56<br>gender=Male<br>category=%{x}<br>price=%{y}<extra></extra>",
           "legendgroup": "",
           "marker": {
            "color": "#636efa"
           },
           "name": "",
           "notched": false,
           "offsetgroup": "",
           "orientation": "v",
           "showlegend": false,
           "type": "box",
           "x": [
            "Books",
            "Clothing",
            "Cosmetics",
            "Food & Beverage",
            "Shoes",
            "Souvenir",
            "Technology",
            "Toys"
           ],
           "x0": " ",
           "xaxis": "x2",
           "y": [
            45.45,
            972.6731034482759,
            106.34153846153846,
            12.471538461538461,
            1800.5099999999998,
            35.190000000000005,
            4200,
            117.29454545454546
           ],
           "y0": " ",
           "yaxis": "y2"
          }
         ],
         "name": "56"
        },
        {
         "data": [
          {
           "alignmentgroup": "True",
           "boxpoints": "all",
           "hovertemplate": "age=57<br>gender=Female<br>category=%{x}<br>price=%{y}<extra></extra>",
           "legendgroup": "",
           "marker": {
            "color": "#636efa"
           },
           "name": "",
           "notched": false,
           "offsetgroup": "",
           "orientation": "v",
           "showlegend": false,
           "type": "box",
           "x": [
            "Books",
            "Clothing",
            "Cosmetics",
            "Food & Beverage",
            "Shoes",
            "Souvenir",
            "Technology",
            "Toys"
           ],
           "x0": " ",
           "xaxis": "x",
           "y": [
            30.3,
            872.3255813953489,
            119.26933333333334,
            16.4745,
            1900.5383333333332,
            39.1,
            3600,
            76.8
           ],
           "y0": " ",
           "yaxis": "y"
          },
          {
           "alignmentgroup": "True",
           "boxpoints": "all",
           "hovertemplate": "age=57<br>gender=Male<br>category=%{x}<br>price=%{y}<extra></extra>",
           "legendgroup": "",
           "marker": {
            "color": "#636efa"
           },
           "name": "",
           "notched": false,
           "offsetgroup": "",
           "orientation": "v",
           "showlegend": false,
           "type": "box",
           "x": [
            "Books",
            "Clothing",
            "Cosmetics",
            "Food & Beverage",
            "Shoes",
            "Souvenir",
            "Technology",
            "Toys"
           ],
           "x0": " ",
           "xaxis": "x2",
           "y": [
            43.285714285714285,
            940.2506666666667,
            110.36285714285714,
            17.931428571428572,
            1440.408,
            38.1225,
            4200,
            107.52
           ],
           "y0": " ",
           "yaxis": "y2"
          }
         ],
         "name": "57"
        },
        {
         "data": [
          {
           "alignmentgroup": "True",
           "boxpoints": "all",
           "hovertemplate": "age=58<br>gender=Female<br>category=%{x}<br>price=%{y}<extra></extra>",
           "legendgroup": "",
           "marker": {
            "color": "#636efa"
           },
           "name": "",
           "notched": false,
           "offsetgroup": "",
           "orientation": "v",
           "showlegend": false,
           "type": "box",
           "x": [
            "Books",
            "Clothing",
            "Cosmetics",
            "Food & Beverage",
            "Shoes",
            "Souvenir",
            "Technology",
            "Toys"
           ],
           "x0": " ",
           "xaxis": "x",
           "y": [
            36.792857142857144,
            723.7223529411764,
            152.475,
            18.458823529411767,
            1575.44625,
            20.5275,
            3780,
            87.04
           ],
           "y0": " ",
           "yaxis": "y"
          },
          {
           "alignmentgroup": "True",
           "boxpoints": "all",
           "hovertemplate": "age=58<br>gender=Male<br>category=%{x}<br>price=%{y}<extra></extra>",
           "legendgroup": "",
           "marker": {
            "color": "#636efa"
           },
           "name": "",
           "notched": false,
           "offsetgroup": "",
           "orientation": "v",
           "showlegend": false,
           "type": "box",
           "x": [
            "Books",
            "Clothing",
            "Cosmetics",
            "Food & Beverage",
            "Shoes",
            "Souvenir",
            "Technology",
            "Toys"
           ],
           "x0": " ",
           "xaxis": "x2",
           "y": [
            36.792857142857144,
            887.7366666666667,
            121.97999999999999,
            15.690000000000001,
            1714.7714285714285,
            31.28,
            3150,
            59.73333333333334
           ],
           "y0": " ",
           "yaxis": "y2"
          }
         ],
         "name": "58"
        },
        {
         "data": [
          {
           "alignmentgroup": "True",
           "boxpoints": "all",
           "hovertemplate": "age=59<br>gender=Female<br>category=%{x}<br>price=%{y}<extra></extra>",
           "legendgroup": "",
           "marker": {
            "color": "#636efa"
           },
           "name": "",
           "notched": false,
           "offsetgroup": "",
           "orientation": "v",
           "showlegend": false,
           "type": "box",
           "x": [
            "Books",
            "Clothing",
            "Cosmetics",
            "Food & Beverage",
            "Shoes",
            "Souvenir",
            "Technology",
            "Toys"
           ],
           "x0": " ",
           "xaxis": "x",
           "y": [
            60.6,
            861.3407407407408,
            121.97999999999999,
            13.249333333333334,
            1714.7714285714285,
            36.86571428571428,
            2362.5,
            107.52
           ],
           "y0": " ",
           "yaxis": "y"
          },
          {
           "alignmentgroup": "True",
           "boxpoints": "all",
           "hovertemplate": "age=59<br>gender=Male<br>category=%{x}<br>price=%{y}<extra></extra>",
           "legendgroup": "",
           "marker": {
            "color": "#636efa"
           },
           "name": "",
           "notched": false,
           "offsetgroup": "",
           "orientation": "v",
           "showlegend": false,
           "type": "box",
           "x": [
            "Books",
            "Clothing",
            "Cosmetics",
            "Food & Beverage",
            "Shoes",
            "Souvenir",
            "Technology",
            "Toys"
           ],
           "x0": " ",
           "xaxis": "x2",
           "y": [
            68.175,
            960.2560000000001,
            149.08666666666667,
            17.931428571428572,
            1080.306,
            28.487142857142857,
            3850,
            116.48
           ],
           "y0": " ",
           "yaxis": "y2"
          }
         ],
         "name": "59"
        },
        {
         "data": [
          {
           "alignmentgroup": "True",
           "boxpoints": "all",
           "hovertemplate": "age=60<br>gender=Female<br>category=%{x}<br>price=%{y}<extra></extra>",
           "legendgroup": "",
           "marker": {
            "color": "#636efa"
           },
           "name": "",
           "notched": false,
           "offsetgroup": "",
           "orientation": "v",
           "showlegend": false,
           "type": "box",
           "x": [
            "Books",
            "Clothing",
            "Cosmetics",
            "Food & Beverage",
            "Shoes",
            "Souvenir",
            "Technology",
            "Toys"
           ],
           "x0": " ",
           "xaxis": "x",
           "y": [
            57.57000000000001,
            930.248,
            134.178,
            13.448571428571428,
            1425.40375,
            23.46,
            2493.75,
            107.51999999999998
           ],
           "y0": " ",
           "yaxis": "y"
          },
          {
           "alignmentgroup": "True",
           "boxpoints": "all",
           "hovertemplate": "age=60<br>gender=Male<br>category=%{x}<br>price=%{y}<extra></extra>",
           "legendgroup": "",
           "marker": {
            "color": "#636efa"
           },
           "name": "",
           "notched": false,
           "offsetgroup": "",
           "orientation": "v",
           "showlegend": false,
           "type": "box",
           "x": [
            "Books",
            "Clothing",
            "Cosmetics",
            "Food & Beverage",
            "Shoes",
            "Souvenir",
            "Technology",
            "Toys"
           ],
           "x0": " ",
           "xaxis": "x2",
           "y": [
            55.550000000000004,
            951.9779310344828,
            110.36285714285714,
            30.030625,
            1440.408,
            23.46,
            3150,
            179.2
           ],
           "y0": " ",
           "yaxis": "y2"
          }
         ],
         "name": "60"
        },
        {
         "data": [
          {
           "alignmentgroup": "True",
           "boxpoints": "all",
           "hovertemplate": "age=61<br>gender=Female<br>category=%{x}<br>price=%{y}<extra></extra>",
           "legendgroup": "",
           "marker": {
            "color": "#636efa"
           },
           "name": "",
           "notched": false,
           "offsetgroup": "",
           "orientation": "v",
           "showlegend": false,
           "type": "box",
           "x": [
            "Books",
            "Clothing",
            "Cosmetics",
            "Food & Beverage",
            "Shoes",
            "Souvenir",
            "Technology",
            "Toys"
           ],
           "x0": " ",
           "xaxis": "x",
           "y": [
            37.875,
            914.1972093023256,
            120.21217391304349,
            13.946666666666667,
            1450.4108333333334,
            23.459999999999997,
            2310,
            112.64
           ],
           "y0": " ",
           "yaxis": "y"
          },
          {
           "alignmentgroup": "True",
           "boxpoints": "all",
           "hovertemplate": "age=61<br>gender=Male<br>category=%{x}<br>price=%{y}<extra></extra>",
           "legendgroup": "",
           "marker": {
            "color": "#636efa"
           },
           "name": "",
           "notched": false,
           "offsetgroup": "",
           "orientation": "v",
           "showlegend": false,
           "type": "box",
           "x": [
            "Books",
            "Clothing",
            "Cosmetics",
            "Food & Beverage",
            "Shoes",
            "Souvenir",
            "Technology",
            "Toys"
           ],
           "x0": " ",
           "xaxis": "x2",
           "y": [
            75.75,
            762.3654054054055,
            123.91619047619047,
            13.728750000000002,
            1500.425,
            32.844,
            3150,
            113.49333333333334
           ],
           "y0": " ",
           "yaxis": "y2"
          }
         ],
         "name": "61"
        },
        {
         "data": [
          {
           "alignmentgroup": "True",
           "boxpoints": "all",
           "hovertemplate": "age=62<br>gender=Female<br>category=%{x}<br>price=%{y}<extra></extra>",
           "legendgroup": "",
           "marker": {
            "color": "#636efa"
           },
           "name": "",
           "notched": false,
           "offsetgroup": "",
           "orientation": "v",
           "showlegend": false,
           "type": "box",
           "x": [
            "Books",
            "Clothing",
            "Cosmetics",
            "Food & Beverage",
            "Shoes",
            "Souvenir",
            "Technology",
            "Toys"
           ],
           "x0": " ",
           "xaxis": "x",
           "y": [
            48.480000000000004,
            706.4383333333334,
            133.27444444444444,
            16.935238095238095,
            1800.51,
            38.1225,
            3500,
            101.00363636363636
           ],
           "y0": " ",
           "yaxis": "y"
          },
          {
           "alignmentgroup": "True",
           "boxpoints": "all",
           "hovertemplate": "age=62<br>gender=Male<br>category=%{x}<br>price=%{y}<extra></extra>",
           "legendgroup": "",
           "marker": {
            "color": "#636efa"
           },
           "name": "",
           "notched": false,
           "offsetgroup": "",
           "orientation": "v",
           "showlegend": false,
           "type": "box",
           "x": [
            "Books",
            "Clothing",
            "Cosmetics",
            "Food & Beverage",
            "Shoes",
            "Souvenir",
            "Technology",
            "Toys"
           ],
           "x0": " ",
           "xaxis": "x2",
           "y": [
            75.75,
            891.4141176470589,
            106.34153846153846,
            20.919999999999998,
            1800.51,
            25.415000000000003,
            5250,
            98.56
           ],
           "y0": " ",
           "yaxis": "y2"
          }
         ],
         "name": "62"
        },
        {
         "data": [
          {
           "alignmentgroup": "True",
           "boxpoints": "all",
           "hovertemplate": "age=63<br>gender=Female<br>category=%{x}<br>price=%{y}<extra></extra>",
           "legendgroup": "",
           "marker": {
            "color": "#636efa"
           },
           "name": "",
           "notched": false,
           "offsetgroup": "",
           "orientation": "v",
           "showlegend": false,
           "type": "box",
           "x": [
            "Books",
            "Clothing",
            "Cosmetics",
            "Food & Beverage",
            "Shoes",
            "Souvenir",
            "Technology",
            "Toys"
           ],
           "x0": " ",
           "xaxis": "x",
           "y": [
            54.54,
            813.3747368421053,
            117.10079999999999,
            13.075,
            2100.595,
            39.1,
            3150,
            95.57333333333332
           ],
           "y0": " ",
           "yaxis": "y"
          },
          {
           "alignmentgroup": "True",
           "boxpoints": "all",
           "hovertemplate": "age=63<br>gender=Male<br>category=%{x}<br>price=%{y}<extra></extra>",
           "legendgroup": "",
           "marker": {
            "color": "#636efa"
           },
           "name": "",
           "notched": false,
           "offsetgroup": "",
           "orientation": "v",
           "showlegend": false,
           "type": "box",
           "x": [
            "Books",
            "Clothing",
            "Cosmetics",
            "Food & Beverage",
            "Shoes",
            "Souvenir",
            "Technology",
            "Toys"
           ],
           "x0": " ",
           "xaxis": "x2",
           "y": [
            39.39,
            818.4,
            121.98,
            14.942857142857141,
            1500.425,
            35.19,
            3675,
            121.856
           ],
           "y0": " ",
           "yaxis": "y2"
          }
         ],
         "name": "63"
        },
        {
         "data": [
          {
           "alignmentgroup": "True",
           "boxpoints": "all",
           "hovertemplate": "age=64<br>gender=Female<br>category=%{x}<br>price=%{y}<extra></extra>",
           "legendgroup": "",
           "marker": {
            "color": "#636efa"
           },
           "name": "",
           "notched": false,
           "offsetgroup": "",
           "orientation": "v",
           "showlegend": false,
           "type": "box",
           "x": [
            "Books",
            "Clothing",
            "Cosmetics",
            "Food & Beverage",
            "Shoes",
            "Souvenir",
            "Technology",
            "Toys"
           ],
           "x0": " ",
           "xaxis": "x",
           "y": [
            50.95909090909092,
            907.742,
            112.41294117647058,
            16.68619047619048,
            1990.0373684210526,
            27.37,
            3675,
            114.68799999999999
           ],
           "y0": " ",
           "yaxis": "y"
          },
          {
           "alignmentgroup": "True",
           "boxpoints": "all",
           "hovertemplate": "age=64<br>gender=Male<br>category=%{x}<br>price=%{y}<extra></extra>",
           "legendgroup": "",
           "marker": {
            "color": "#636efa"
           },
           "name": "",
           "notched": false,
           "offsetgroup": "",
           "orientation": "v",
           "showlegend": false,
           "type": "box",
           "x": [
            "Books",
            "Clothing",
            "Cosmetics",
            "Food & Beverage",
            "Shoes",
            "Souvenir",
            "Technology",
            "Toys"
           ],
           "x0": " ",
           "xaxis": "x2",
           "y": [
            30.3,
            848.7977142857143,
            108.42666666666668,
            16.670625,
            1286.0785714285714,
            35.19,
            4375,
            71.68
           ],
           "y0": " ",
           "yaxis": "y2"
          }
         ],
         "name": "64"
        },
        {
         "data": [
          {
           "alignmentgroup": "True",
           "boxpoints": "all",
           "hovertemplate": "age=65<br>gender=Female<br>category=%{x}<br>price=%{y}<extra></extra>",
           "legendgroup": "",
           "marker": {
            "color": "#636efa"
           },
           "name": "",
           "notched": false,
           "offsetgroup": "",
           "orientation": "v",
           "showlegend": false,
           "type": "box",
           "x": [
            "Books",
            "Clothing",
            "Cosmetics",
            "Food & Beverage",
            "Shoes",
            "Souvenir",
            "Technology",
            "Toys"
           ],
           "x0": " ",
           "xaxis": "x",
           "y": [
            32.824999999999996,
            991.9311111111112,
            137.2275,
            16.736,
            1457.5557142857142,
            32.2575,
            3018.75,
            103.93599999999999
           ],
           "y0": " ",
           "yaxis": "y"
          },
          {
           "alignmentgroup": "True",
           "boxpoints": "all",
           "hovertemplate": "age=65<br>gender=Male<br>category=%{x}<br>price=%{y}<extra></extra>",
           "legendgroup": "",
           "marker": {
            "color": "#636efa"
           },
           "name": "",
           "notched": false,
           "offsetgroup": "",
           "orientation": "v",
           "showlegend": false,
           "type": "box",
           "x": [
            "Books",
            "Clothing",
            "Cosmetics",
            "Food & Beverage",
            "Shoes",
            "Souvenir",
            "Technology",
            "Toys"
           ],
           "x0": " ",
           "xaxis": "x2",
           "y": [
            54.54,
            1027.196923076923,
            106.7325,
            15.69,
            2400.68,
            33.235,
            3150,
            119.46666666666667
           ],
           "y0": " ",
           "yaxis": "y2"
          }
         ],
         "name": "65"
        },
        {
         "data": [
          {
           "alignmentgroup": "True",
           "boxpoints": "all",
           "hovertemplate": "age=66<br>gender=Female<br>category=%{x}<br>price=%{y}<extra></extra>",
           "legendgroup": "",
           "marker": {
            "color": "#636efa"
           },
           "name": "",
           "notched": false,
           "offsetgroup": "",
           "orientation": "v",
           "showlegend": false,
           "type": "box",
           "x": [
            "Books",
            "Clothing",
            "Cosmetics",
            "Food & Beverage",
            "Shoes",
            "Souvenir",
            "Technology",
            "Toys"
           ],
           "x0": " ",
           "xaxis": "x",
           "y": [
            35.35,
            815.8425,
            115.55999999999999,
            14.86421052631579,
            1537.9356249999998,
            41.055,
            2625,
            125.44000000000001
           ],
           "y0": " ",
           "yaxis": "y"
          },
          {
           "alignmentgroup": "True",
           "boxpoints": "all",
           "hovertemplate": "age=66<br>gender=Male<br>category=%{x}<br>price=%{y}<extra></extra>",
           "legendgroup": "",
           "marker": {
            "color": "#636efa"
           },
           "name": "",
           "notched": false,
           "offsetgroup": "",
           "orientation": "v",
           "showlegend": false,
           "type": "box",
           "x": [
            "Books",
            "Clothing",
            "Cosmetics",
            "Food & Beverage",
            "Shoes",
            "Souvenir",
            "Technology",
            "Toys"
           ],
           "x0": " ",
           "xaxis": "x2",
           "y": [
            47.975,
            791.12,
            134.49076923076925,
            14.295333333333334,
            1636.8272727272727,
            39.1,
            3150,
            107.52000000000001
           ],
           "y0": " ",
           "yaxis": "y2"
          }
         ],
         "name": "66"
        },
        {
         "data": [
          {
           "alignmentgroup": "True",
           "boxpoints": "all",
           "hovertemplate": "age=67<br>gender=Female<br>category=%{x}<br>price=%{y}<extra></extra>",
           "legendgroup": "",
           "marker": {
            "color": "#636efa"
           },
           "name": "",
           "notched": false,
           "offsetgroup": "",
           "orientation": "v",
           "showlegend": false,
           "type": "box",
           "x": [
            "Books",
            "Clothing",
            "Cosmetics",
            "Food & Beverage",
            "Shoes",
            "Souvenir",
            "Technology",
            "Toys"
           ],
           "x0": " ",
           "xaxis": "x",
           "y": [
            47.34375,
            944.0016666666667,
            127.78857142857143,
            16.9975,
            2100.595,
            35.19,
            2940,
            126.63466666666666
           ],
           "y0": " ",
           "yaxis": "y"
          },
          {
           "alignmentgroup": "True",
           "boxpoints": "all",
           "hovertemplate": "age=67<br>gender=Male<br>category=%{x}<br>price=%{y}<extra></extra>",
           "legendgroup": "",
           "marker": {
            "color": "#636efa"
           },
           "name": "",
           "notched": false,
           "offsetgroup": "",
           "orientation": "v",
           "showlegend": false,
           "type": "box",
           "x": [
            "Books",
            "Clothing",
            "Cosmetics",
            "Food & Beverage",
            "Shoes",
            "Souvenir",
            "Technology",
            "Toys"
           ],
           "x0": " ",
           "xaxis": "x2",
           "y": [
            48.480000000000004,
            939.3808695652175,
            96.10545454545455,
            23.534999999999997,
            2400.68,
            37.536,
            3937.5,
            100.352
           ],
           "y0": " ",
           "yaxis": "y2"
          }
         ],
         "name": "67"
        },
        {
         "data": [
          {
           "alignmentgroup": "True",
           "boxpoints": "all",
           "hovertemplate": "age=68<br>gender=Female<br>category=%{x}<br>price=%{y}<extra></extra>",
           "legendgroup": "",
           "marker": {
            "color": "#636efa"
           },
           "name": "",
           "notched": false,
           "offsetgroup": "",
           "orientation": "v",
           "showlegend": false,
           "type": "box",
           "x": [
            "Books",
            "Clothing",
            "Cosmetics",
            "Food & Beverage",
            "Shoes",
            "Souvenir",
            "Technology",
            "Toys"
           ],
           "x0": " ",
           "xaxis": "x",
           "y": [
            48.480000000000004,
            941.6303448275862,
            140.0511111111111,
            19.176666666666662,
            2175.61625,
            35.19,
            3325,
            94.72000000000001
           ],
           "y0": " ",
           "yaxis": "y"
          },
          {
           "alignmentgroup": "True",
           "boxpoints": "all",
           "hovertemplate": "age=68<br>gender=Male<br>category=%{x}<br>price=%{y}<extra></extra>",
           "legendgroup": "",
           "marker": {
            "color": "#636efa"
           },
           "name": "",
           "notched": false,
           "offsetgroup": "",
           "orientation": "v",
           "showlegend": false,
           "type": "box",
           "x": [
            "Books",
            "Clothing",
            "Cosmetics",
            "Food & Beverage",
            "Shoes",
            "Souvenir",
            "Technology",
            "Toys"
           ],
           "x0": " ",
           "xaxis": "x2",
           "y": [
            25.25,
            944.3694117647059,
            116.17142857142858,
            18.828,
            1800.5099999999998,
            23.46,
            2940,
            119.46666666666665
           ],
           "y0": " ",
           "yaxis": "y2"
          }
         ],
         "name": "68"
        },
        {
         "data": [
          {
           "alignmentgroup": "True",
           "boxpoints": "all",
           "hovertemplate": "age=69<br>gender=Female<br>category=%{x}<br>price=%{y}<extra></extra>",
           "legendgroup": "",
           "marker": {
            "color": "#636efa"
           },
           "name": "",
           "notched": false,
           "offsetgroup": "",
           "orientation": "v",
           "showlegend": false,
           "type": "box",
           "x": [
            "Books",
            "Clothing",
            "Cosmetics",
            "Food & Beverage",
            "Shoes",
            "Souvenir",
            "Technology",
            "Toys"
           ],
           "x0": " ",
           "xaxis": "x",
           "y": [
            30.3,
            883.5688888888889,
            124.013,
            15.139473684210525,
            1500.425,
            43.01,
            3150,
            102.74133333333334
           ],
           "y0": " ",
           "yaxis": "y"
          },
          {
           "alignmentgroup": "True",
           "boxpoints": "all",
           "hovertemplate": "age=69<br>gender=Male<br>category=%{x}<br>price=%{y}<extra></extra>",
           "legendgroup": "",
           "marker": {
            "color": "#636efa"
           },
           "name": "",
           "notched": false,
           "offsetgroup": "",
           "orientation": "v",
           "showlegend": false,
           "type": "box",
           "x": [
            "Books",
            "Clothing",
            "Cosmetics",
            "Food & Beverage",
            "Shoes",
            "Souvenir",
            "Technology",
            "Toys"
           ],
           "x0": " ",
           "xaxis": "x2",
           "y": [
            45.45000000000001,
            900.24,
            143.87384615384616,
            13.075,
            2400.68,
            35.19,
            2887.5,
            89.6
           ],
           "y0": " ",
           "yaxis": "y2"
          }
         ],
         "name": "69"
        }
       ],
       "layout": {
        "annotations": [
         {
          "font": {},
          "showarrow": false,
          "text": "gender=Female",
          "x": 0.245,
          "xanchor": "center",
          "xref": "paper",
          "y": 1,
          "yanchor": "bottom",
          "yref": "paper"
         },
         {
          "font": {},
          "showarrow": false,
          "text": "gender=Male",
          "x": 0.755,
          "xanchor": "center",
          "xref": "paper",
          "y": 1,
          "yanchor": "bottom",
          "yref": "paper"
         }
        ],
        "boxmode": "group",
        "legend": {
         "tracegroupgap": 0
        },
        "sliders": [
         {
          "active": 0,
          "currentvalue": {
           "prefix": "age="
          },
          "len": 0.9,
          "pad": {
           "b": 10,
           "t": 60
          },
          "steps": [
           {
            "args": [
             [
              "18"
             ],
             {
              "frame": {
               "duration": 0,
               "redraw": true
              },
              "fromcurrent": true,
              "mode": "immediate",
              "transition": {
               "duration": 0,
               "easing": "linear"
              }
             }
            ],
            "label": "18",
            "method": "animate"
           },
           {
            "args": [
             [
              "19"
             ],
             {
              "frame": {
               "duration": 0,
               "redraw": true
              },
              "fromcurrent": true,
              "mode": "immediate",
              "transition": {
               "duration": 0,
               "easing": "linear"
              }
             }
            ],
            "label": "19",
            "method": "animate"
           },
           {
            "args": [
             [
              "20"
             ],
             {
              "frame": {
               "duration": 0,
               "redraw": true
              },
              "fromcurrent": true,
              "mode": "immediate",
              "transition": {
               "duration": 0,
               "easing": "linear"
              }
             }
            ],
            "label": "20",
            "method": "animate"
           },
           {
            "args": [
             [
              "21"
             ],
             {
              "frame": {
               "duration": 0,
               "redraw": true
              },
              "fromcurrent": true,
              "mode": "immediate",
              "transition": {
               "duration": 0,
               "easing": "linear"
              }
             }
            ],
            "label": "21",
            "method": "animate"
           },
           {
            "args": [
             [
              "22"
             ],
             {
              "frame": {
               "duration": 0,
               "redraw": true
              },
              "fromcurrent": true,
              "mode": "immediate",
              "transition": {
               "duration": 0,
               "easing": "linear"
              }
             }
            ],
            "label": "22",
            "method": "animate"
           },
           {
            "args": [
             [
              "23"
             ],
             {
              "frame": {
               "duration": 0,
               "redraw": true
              },
              "fromcurrent": true,
              "mode": "immediate",
              "transition": {
               "duration": 0,
               "easing": "linear"
              }
             }
            ],
            "label": "23",
            "method": "animate"
           },
           {
            "args": [
             [
              "24"
             ],
             {
              "frame": {
               "duration": 0,
               "redraw": true
              },
              "fromcurrent": true,
              "mode": "immediate",
              "transition": {
               "duration": 0,
               "easing": "linear"
              }
             }
            ],
            "label": "24",
            "method": "animate"
           },
           {
            "args": [
             [
              "25"
             ],
             {
              "frame": {
               "duration": 0,
               "redraw": true
              },
              "fromcurrent": true,
              "mode": "immediate",
              "transition": {
               "duration": 0,
               "easing": "linear"
              }
             }
            ],
            "label": "25",
            "method": "animate"
           },
           {
            "args": [
             [
              "26"
             ],
             {
              "frame": {
               "duration": 0,
               "redraw": true
              },
              "fromcurrent": true,
              "mode": "immediate",
              "transition": {
               "duration": 0,
               "easing": "linear"
              }
             }
            ],
            "label": "26",
            "method": "animate"
           },
           {
            "args": [
             [
              "27"
             ],
             {
              "frame": {
               "duration": 0,
               "redraw": true
              },
              "fromcurrent": true,
              "mode": "immediate",
              "transition": {
               "duration": 0,
               "easing": "linear"
              }
             }
            ],
            "label": "27",
            "method": "animate"
           },
           {
            "args": [
             [
              "28"
             ],
             {
              "frame": {
               "duration": 0,
               "redraw": true
              },
              "fromcurrent": true,
              "mode": "immediate",
              "transition": {
               "duration": 0,
               "easing": "linear"
              }
             }
            ],
            "label": "28",
            "method": "animate"
           },
           {
            "args": [
             [
              "29"
             ],
             {
              "frame": {
               "duration": 0,
               "redraw": true
              },
              "fromcurrent": true,
              "mode": "immediate",
              "transition": {
               "duration": 0,
               "easing": "linear"
              }
             }
            ],
            "label": "29",
            "method": "animate"
           },
           {
            "args": [
             [
              "30"
             ],
             {
              "frame": {
               "duration": 0,
               "redraw": true
              },
              "fromcurrent": true,
              "mode": "immediate",
              "transition": {
               "duration": 0,
               "easing": "linear"
              }
             }
            ],
            "label": "30",
            "method": "animate"
           },
           {
            "args": [
             [
              "31"
             ],
             {
              "frame": {
               "duration": 0,
               "redraw": true
              },
              "fromcurrent": true,
              "mode": "immediate",
              "transition": {
               "duration": 0,
               "easing": "linear"
              }
             }
            ],
            "label": "31",
            "method": "animate"
           },
           {
            "args": [
             [
              "32"
             ],
             {
              "frame": {
               "duration": 0,
               "redraw": true
              },
              "fromcurrent": true,
              "mode": "immediate",
              "transition": {
               "duration": 0,
               "easing": "linear"
              }
             }
            ],
            "label": "32",
            "method": "animate"
           },
           {
            "args": [
             [
              "33"
             ],
             {
              "frame": {
               "duration": 0,
               "redraw": true
              },
              "fromcurrent": true,
              "mode": "immediate",
              "transition": {
               "duration": 0,
               "easing": "linear"
              }
             }
            ],
            "label": "33",
            "method": "animate"
           },
           {
            "args": [
             [
              "34"
             ],
             {
              "frame": {
               "duration": 0,
               "redraw": true
              },
              "fromcurrent": true,
              "mode": "immediate",
              "transition": {
               "duration": 0,
               "easing": "linear"
              }
             }
            ],
            "label": "34",
            "method": "animate"
           },
           {
            "args": [
             [
              "35"
             ],
             {
              "frame": {
               "duration": 0,
               "redraw": true
              },
              "fromcurrent": true,
              "mode": "immediate",
              "transition": {
               "duration": 0,
               "easing": "linear"
              }
             }
            ],
            "label": "35",
            "method": "animate"
           },
           {
            "args": [
             [
              "36"
             ],
             {
              "frame": {
               "duration": 0,
               "redraw": true
              },
              "fromcurrent": true,
              "mode": "immediate",
              "transition": {
               "duration": 0,
               "easing": "linear"
              }
             }
            ],
            "label": "36",
            "method": "animate"
           },
           {
            "args": [
             [
              "37"
             ],
             {
              "frame": {
               "duration": 0,
               "redraw": true
              },
              "fromcurrent": true,
              "mode": "immediate",
              "transition": {
               "duration": 0,
               "easing": "linear"
              }
             }
            ],
            "label": "37",
            "method": "animate"
           },
           {
            "args": [
             [
              "38"
             ],
             {
              "frame": {
               "duration": 0,
               "redraw": true
              },
              "fromcurrent": true,
              "mode": "immediate",
              "transition": {
               "duration": 0,
               "easing": "linear"
              }
             }
            ],
            "label": "38",
            "method": "animate"
           },
           {
            "args": [
             [
              "39"
             ],
             {
              "frame": {
               "duration": 0,
               "redraw": true
              },
              "fromcurrent": true,
              "mode": "immediate",
              "transition": {
               "duration": 0,
               "easing": "linear"
              }
             }
            ],
            "label": "39",
            "method": "animate"
           },
           {
            "args": [
             [
              "40"
             ],
             {
              "frame": {
               "duration": 0,
               "redraw": true
              },
              "fromcurrent": true,
              "mode": "immediate",
              "transition": {
               "duration": 0,
               "easing": "linear"
              }
             }
            ],
            "label": "40",
            "method": "animate"
           },
           {
            "args": [
             [
              "41"
             ],
             {
              "frame": {
               "duration": 0,
               "redraw": true
              },
              "fromcurrent": true,
              "mode": "immediate",
              "transition": {
               "duration": 0,
               "easing": "linear"
              }
             }
            ],
            "label": "41",
            "method": "animate"
           },
           {
            "args": [
             [
              "42"
             ],
             {
              "frame": {
               "duration": 0,
               "redraw": true
              },
              "fromcurrent": true,
              "mode": "immediate",
              "transition": {
               "duration": 0,
               "easing": "linear"
              }
             }
            ],
            "label": "42",
            "method": "animate"
           },
           {
            "args": [
             [
              "43"
             ],
             {
              "frame": {
               "duration": 0,
               "redraw": true
              },
              "fromcurrent": true,
              "mode": "immediate",
              "transition": {
               "duration": 0,
               "easing": "linear"
              }
             }
            ],
            "label": "43",
            "method": "animate"
           },
           {
            "args": [
             [
              "44"
             ],
             {
              "frame": {
               "duration": 0,
               "redraw": true
              },
              "fromcurrent": true,
              "mode": "immediate",
              "transition": {
               "duration": 0,
               "easing": "linear"
              }
             }
            ],
            "label": "44",
            "method": "animate"
           },
           {
            "args": [
             [
              "45"
             ],
             {
              "frame": {
               "duration": 0,
               "redraw": true
              },
              "fromcurrent": true,
              "mode": "immediate",
              "transition": {
               "duration": 0,
               "easing": "linear"
              }
             }
            ],
            "label": "45",
            "method": "animate"
           },
           {
            "args": [
             [
              "46"
             ],
             {
              "frame": {
               "duration": 0,
               "redraw": true
              },
              "fromcurrent": true,
              "mode": "immediate",
              "transition": {
               "duration": 0,
               "easing": "linear"
              }
             }
            ],
            "label": "46",
            "method": "animate"
           },
           {
            "args": [
             [
              "47"
             ],
             {
              "frame": {
               "duration": 0,
               "redraw": true
              },
              "fromcurrent": true,
              "mode": "immediate",
              "transition": {
               "duration": 0,
               "easing": "linear"
              }
             }
            ],
            "label": "47",
            "method": "animate"
           },
           {
            "args": [
             [
              "48"
             ],
             {
              "frame": {
               "duration": 0,
               "redraw": true
              },
              "fromcurrent": true,
              "mode": "immediate",
              "transition": {
               "duration": 0,
               "easing": "linear"
              }
             }
            ],
            "label": "48",
            "method": "animate"
           },
           {
            "args": [
             [
              "49"
             ],
             {
              "frame": {
               "duration": 0,
               "redraw": true
              },
              "fromcurrent": true,
              "mode": "immediate",
              "transition": {
               "duration": 0,
               "easing": "linear"
              }
             }
            ],
            "label": "49",
            "method": "animate"
           },
           {
            "args": [
             [
              "50"
             ],
             {
              "frame": {
               "duration": 0,
               "redraw": true
              },
              "fromcurrent": true,
              "mode": "immediate",
              "transition": {
               "duration": 0,
               "easing": "linear"
              }
             }
            ],
            "label": "50",
            "method": "animate"
           },
           {
            "args": [
             [
              "51"
             ],
             {
              "frame": {
               "duration": 0,
               "redraw": true
              },
              "fromcurrent": true,
              "mode": "immediate",
              "transition": {
               "duration": 0,
               "easing": "linear"
              }
             }
            ],
            "label": "51",
            "method": "animate"
           },
           {
            "args": [
             [
              "52"
             ],
             {
              "frame": {
               "duration": 0,
               "redraw": true
              },
              "fromcurrent": true,
              "mode": "immediate",
              "transition": {
               "duration": 0,
               "easing": "linear"
              }
             }
            ],
            "label": "52",
            "method": "animate"
           },
           {
            "args": [
             [
              "53"
             ],
             {
              "frame": {
               "duration": 0,
               "redraw": true
              },
              "fromcurrent": true,
              "mode": "immediate",
              "transition": {
               "duration": 0,
               "easing": "linear"
              }
             }
            ],
            "label": "53",
            "method": "animate"
           },
           {
            "args": [
             [
              "54"
             ],
             {
              "frame": {
               "duration": 0,
               "redraw": true
              },
              "fromcurrent": true,
              "mode": "immediate",
              "transition": {
               "duration": 0,
               "easing": "linear"
              }
             }
            ],
            "label": "54",
            "method": "animate"
           },
           {
            "args": [
             [
              "55"
             ],
             {
              "frame": {
               "duration": 0,
               "redraw": true
              },
              "fromcurrent": true,
              "mode": "immediate",
              "transition": {
               "duration": 0,
               "easing": "linear"
              }
             }
            ],
            "label": "55",
            "method": "animate"
           },
           {
            "args": [
             [
              "56"
             ],
             {
              "frame": {
               "duration": 0,
               "redraw": true
              },
              "fromcurrent": true,
              "mode": "immediate",
              "transition": {
               "duration": 0,
               "easing": "linear"
              }
             }
            ],
            "label": "56",
            "method": "animate"
           },
           {
            "args": [
             [
              "57"
             ],
             {
              "frame": {
               "duration": 0,
               "redraw": true
              },
              "fromcurrent": true,
              "mode": "immediate",
              "transition": {
               "duration": 0,
               "easing": "linear"
              }
             }
            ],
            "label": "57",
            "method": "animate"
           },
           {
            "args": [
             [
              "58"
             ],
             {
              "frame": {
               "duration": 0,
               "redraw": true
              },
              "fromcurrent": true,
              "mode": "immediate",
              "transition": {
               "duration": 0,
               "easing": "linear"
              }
             }
            ],
            "label": "58",
            "method": "animate"
           },
           {
            "args": [
             [
              "59"
             ],
             {
              "frame": {
               "duration": 0,
               "redraw": true
              },
              "fromcurrent": true,
              "mode": "immediate",
              "transition": {
               "duration": 0,
               "easing": "linear"
              }
             }
            ],
            "label": "59",
            "method": "animate"
           },
           {
            "args": [
             [
              "60"
             ],
             {
              "frame": {
               "duration": 0,
               "redraw": true
              },
              "fromcurrent": true,
              "mode": "immediate",
              "transition": {
               "duration": 0,
               "easing": "linear"
              }
             }
            ],
            "label": "60",
            "method": "animate"
           },
           {
            "args": [
             [
              "61"
             ],
             {
              "frame": {
               "duration": 0,
               "redraw": true
              },
              "fromcurrent": true,
              "mode": "immediate",
              "transition": {
               "duration": 0,
               "easing": "linear"
              }
             }
            ],
            "label": "61",
            "method": "animate"
           },
           {
            "args": [
             [
              "62"
             ],
             {
              "frame": {
               "duration": 0,
               "redraw": true
              },
              "fromcurrent": true,
              "mode": "immediate",
              "transition": {
               "duration": 0,
               "easing": "linear"
              }
             }
            ],
            "label": "62",
            "method": "animate"
           },
           {
            "args": [
             [
              "63"
             ],
             {
              "frame": {
               "duration": 0,
               "redraw": true
              },
              "fromcurrent": true,
              "mode": "immediate",
              "transition": {
               "duration": 0,
               "easing": "linear"
              }
             }
            ],
            "label": "63",
            "method": "animate"
           },
           {
            "args": [
             [
              "64"
             ],
             {
              "frame": {
               "duration": 0,
               "redraw": true
              },
              "fromcurrent": true,
              "mode": "immediate",
              "transition": {
               "duration": 0,
               "easing": "linear"
              }
             }
            ],
            "label": "64",
            "method": "animate"
           },
           {
            "args": [
             [
              "65"
             ],
             {
              "frame": {
               "duration": 0,
               "redraw": true
              },
              "fromcurrent": true,
              "mode": "immediate",
              "transition": {
               "duration": 0,
               "easing": "linear"
              }
             }
            ],
            "label": "65",
            "method": "animate"
           },
           {
            "args": [
             [
              "66"
             ],
             {
              "frame": {
               "duration": 0,
               "redraw": true
              },
              "fromcurrent": true,
              "mode": "immediate",
              "transition": {
               "duration": 0,
               "easing": "linear"
              }
             }
            ],
            "label": "66",
            "method": "animate"
           },
           {
            "args": [
             [
              "67"
             ],
             {
              "frame": {
               "duration": 0,
               "redraw": true
              },
              "fromcurrent": true,
              "mode": "immediate",
              "transition": {
               "duration": 0,
               "easing": "linear"
              }
             }
            ],
            "label": "67",
            "method": "animate"
           },
           {
            "args": [
             [
              "68"
             ],
             {
              "frame": {
               "duration": 0,
               "redraw": true
              },
              "fromcurrent": true,
              "mode": "immediate",
              "transition": {
               "duration": 0,
               "easing": "linear"
              }
             }
            ],
            "label": "68",
            "method": "animate"
           },
           {
            "args": [
             [
              "69"
             ],
             {
              "frame": {
               "duration": 0,
               "redraw": true
              },
              "fromcurrent": true,
              "mode": "immediate",
              "transition": {
               "duration": 0,
               "easing": "linear"
              }
             }
            ],
            "label": "69",
            "method": "animate"
           }
          ],
          "x": 0.1,
          "xanchor": "left",
          "y": 0,
          "yanchor": "top"
         }
        ],
        "template": {
         "data": {
          "bar": [
           {
            "error_x": {
             "color": "#2a3f5f"
            },
            "error_y": {
             "color": "#2a3f5f"
            },
            "marker": {
             "line": {
              "color": "#E5ECF6",
              "width": 0.5
             },
             "pattern": {
              "fillmode": "overlay",
              "size": 10,
              "solidity": 0.2
             }
            },
            "type": "bar"
           }
          ],
          "barpolar": [
           {
            "marker": {
             "line": {
              "color": "#E5ECF6",
              "width": 0.5
             },
             "pattern": {
              "fillmode": "overlay",
              "size": 10,
              "solidity": 0.2
             }
            },
            "type": "barpolar"
           }
          ],
          "carpet": [
           {
            "aaxis": {
             "endlinecolor": "#2a3f5f",
             "gridcolor": "white",
             "linecolor": "white",
             "minorgridcolor": "white",
             "startlinecolor": "#2a3f5f"
            },
            "baxis": {
             "endlinecolor": "#2a3f5f",
             "gridcolor": "white",
             "linecolor": "white",
             "minorgridcolor": "white",
             "startlinecolor": "#2a3f5f"
            },
            "type": "carpet"
           }
          ],
          "choropleth": [
           {
            "colorbar": {
             "outlinewidth": 0,
             "ticks": ""
            },
            "type": "choropleth"
           }
          ],
          "contour": [
           {
            "colorbar": {
             "outlinewidth": 0,
             "ticks": ""
            },
            "colorscale": [
             [
              0,
              "#0d0887"
             ],
             [
              0.1111111111111111,
              "#46039f"
             ],
             [
              0.2222222222222222,
              "#7201a8"
             ],
             [
              0.3333333333333333,
              "#9c179e"
             ],
             [
              0.4444444444444444,
              "#bd3786"
             ],
             [
              0.5555555555555556,
              "#d8576b"
             ],
             [
              0.6666666666666666,
              "#ed7953"
             ],
             [
              0.7777777777777778,
              "#fb9f3a"
             ],
             [
              0.8888888888888888,
              "#fdca26"
             ],
             [
              1,
              "#f0f921"
             ]
            ],
            "type": "contour"
           }
          ],
          "contourcarpet": [
           {
            "colorbar": {
             "outlinewidth": 0,
             "ticks": ""
            },
            "type": "contourcarpet"
           }
          ],
          "heatmap": [
           {
            "colorbar": {
             "outlinewidth": 0,
             "ticks": ""
            },
            "colorscale": [
             [
              0,
              "#0d0887"
             ],
             [
              0.1111111111111111,
              "#46039f"
             ],
             [
              0.2222222222222222,
              "#7201a8"
             ],
             [
              0.3333333333333333,
              "#9c179e"
             ],
             [
              0.4444444444444444,
              "#bd3786"
             ],
             [
              0.5555555555555556,
              "#d8576b"
             ],
             [
              0.6666666666666666,
              "#ed7953"
             ],
             [
              0.7777777777777778,
              "#fb9f3a"
             ],
             [
              0.8888888888888888,
              "#fdca26"
             ],
             [
              1,
              "#f0f921"
             ]
            ],
            "type": "heatmap"
           }
          ],
          "heatmapgl": [
           {
            "colorbar": {
             "outlinewidth": 0,
             "ticks": ""
            },
            "colorscale": [
             [
              0,
              "#0d0887"
             ],
             [
              0.1111111111111111,
              "#46039f"
             ],
             [
              0.2222222222222222,
              "#7201a8"
             ],
             [
              0.3333333333333333,
              "#9c179e"
             ],
             [
              0.4444444444444444,
              "#bd3786"
             ],
             [
              0.5555555555555556,
              "#d8576b"
             ],
             [
              0.6666666666666666,
              "#ed7953"
             ],
             [
              0.7777777777777778,
              "#fb9f3a"
             ],
             [
              0.8888888888888888,
              "#fdca26"
             ],
             [
              1,
              "#f0f921"
             ]
            ],
            "type": "heatmapgl"
           }
          ],
          "histogram": [
           {
            "marker": {
             "pattern": {
              "fillmode": "overlay",
              "size": 10,
              "solidity": 0.2
             }
            },
            "type": "histogram"
           }
          ],
          "histogram2d": [
           {
            "colorbar": {
             "outlinewidth": 0,
             "ticks": ""
            },
            "colorscale": [
             [
              0,
              "#0d0887"
             ],
             [
              0.1111111111111111,
              "#46039f"
             ],
             [
              0.2222222222222222,
              "#7201a8"
             ],
             [
              0.3333333333333333,
              "#9c179e"
             ],
             [
              0.4444444444444444,
              "#bd3786"
             ],
             [
              0.5555555555555556,
              "#d8576b"
             ],
             [
              0.6666666666666666,
              "#ed7953"
             ],
             [
              0.7777777777777778,
              "#fb9f3a"
             ],
             [
              0.8888888888888888,
              "#fdca26"
             ],
             [
              1,
              "#f0f921"
             ]
            ],
            "type": "histogram2d"
           }
          ],
          "histogram2dcontour": [
           {
            "colorbar": {
             "outlinewidth": 0,
             "ticks": ""
            },
            "colorscale": [
             [
              0,
              "#0d0887"
             ],
             [
              0.1111111111111111,
              "#46039f"
             ],
             [
              0.2222222222222222,
              "#7201a8"
             ],
             [
              0.3333333333333333,
              "#9c179e"
             ],
             [
              0.4444444444444444,
              "#bd3786"
             ],
             [
              0.5555555555555556,
              "#d8576b"
             ],
             [
              0.6666666666666666,
              "#ed7953"
             ],
             [
              0.7777777777777778,
              "#fb9f3a"
             ],
             [
              0.8888888888888888,
              "#fdca26"
             ],
             [
              1,
              "#f0f921"
             ]
            ],
            "type": "histogram2dcontour"
           }
          ],
          "mesh3d": [
           {
            "colorbar": {
             "outlinewidth": 0,
             "ticks": ""
            },
            "type": "mesh3d"
           }
          ],
          "parcoords": [
           {
            "line": {
             "colorbar": {
              "outlinewidth": 0,
              "ticks": ""
             }
            },
            "type": "parcoords"
           }
          ],
          "pie": [
           {
            "automargin": true,
            "type": "pie"
           }
          ],
          "scatter": [
           {
            "fillpattern": {
             "fillmode": "overlay",
             "size": 10,
             "solidity": 0.2
            },
            "type": "scatter"
           }
          ],
          "scatter3d": [
           {
            "line": {
             "colorbar": {
              "outlinewidth": 0,
              "ticks": ""
             }
            },
            "marker": {
             "colorbar": {
              "outlinewidth": 0,
              "ticks": ""
             }
            },
            "type": "scatter3d"
           }
          ],
          "scattercarpet": [
           {
            "marker": {
             "colorbar": {
              "outlinewidth": 0,
              "ticks": ""
             }
            },
            "type": "scattercarpet"
           }
          ],
          "scattergeo": [
           {
            "marker": {
             "colorbar": {
              "outlinewidth": 0,
              "ticks": ""
             }
            },
            "type": "scattergeo"
           }
          ],
          "scattergl": [
           {
            "marker": {
             "colorbar": {
              "outlinewidth": 0,
              "ticks": ""
             }
            },
            "type": "scattergl"
           }
          ],
          "scattermapbox": [
           {
            "marker": {
             "colorbar": {
              "outlinewidth": 0,
              "ticks": ""
             }
            },
            "type": "scattermapbox"
           }
          ],
          "scatterpolar": [
           {
            "marker": {
             "colorbar": {
              "outlinewidth": 0,
              "ticks": ""
             }
            },
            "type": "scatterpolar"
           }
          ],
          "scatterpolargl": [
           {
            "marker": {
             "colorbar": {
              "outlinewidth": 0,
              "ticks": ""
             }
            },
            "type": "scatterpolargl"
           }
          ],
          "scatterternary": [
           {
            "marker": {
             "colorbar": {
              "outlinewidth": 0,
              "ticks": ""
             }
            },
            "type": "scatterternary"
           }
          ],
          "surface": [
           {
            "colorbar": {
             "outlinewidth": 0,
             "ticks": ""
            },
            "colorscale": [
             [
              0,
              "#0d0887"
             ],
             [
              0.1111111111111111,
              "#46039f"
             ],
             [
              0.2222222222222222,
              "#7201a8"
             ],
             [
              0.3333333333333333,
              "#9c179e"
             ],
             [
              0.4444444444444444,
              "#bd3786"
             ],
             [
              0.5555555555555556,
              "#d8576b"
             ],
             [
              0.6666666666666666,
              "#ed7953"
             ],
             [
              0.7777777777777778,
              "#fb9f3a"
             ],
             [
              0.8888888888888888,
              "#fdca26"
             ],
             [
              1,
              "#f0f921"
             ]
            ],
            "type": "surface"
           }
          ],
          "table": [
           {
            "cells": {
             "fill": {
              "color": "#EBF0F8"
             },
             "line": {
              "color": "white"
             }
            },
            "header": {
             "fill": {
              "color": "#C8D4E3"
             },
             "line": {
              "color": "white"
             }
            },
            "type": "table"
           }
          ]
         },
         "layout": {
          "annotationdefaults": {
           "arrowcolor": "#2a3f5f",
           "arrowhead": 0,
           "arrowwidth": 1
          },
          "autotypenumbers": "strict",
          "coloraxis": {
           "colorbar": {
            "outlinewidth": 0,
            "ticks": ""
           }
          },
          "colorscale": {
           "diverging": [
            [
             0,
             "#8e0152"
            ],
            [
             0.1,
             "#c51b7d"
            ],
            [
             0.2,
             "#de77ae"
            ],
            [
             0.3,
             "#f1b6da"
            ],
            [
             0.4,
             "#fde0ef"
            ],
            [
             0.5,
             "#f7f7f7"
            ],
            [
             0.6,
             "#e6f5d0"
            ],
            [
             0.7,
             "#b8e186"
            ],
            [
             0.8,
             "#7fbc41"
            ],
            [
             0.9,
             "#4d9221"
            ],
            [
             1,
             "#276419"
            ]
           ],
           "sequential": [
            [
             0,
             "#0d0887"
            ],
            [
             0.1111111111111111,
             "#46039f"
            ],
            [
             0.2222222222222222,
             "#7201a8"
            ],
            [
             0.3333333333333333,
             "#9c179e"
            ],
            [
             0.4444444444444444,
             "#bd3786"
            ],
            [
             0.5555555555555556,
             "#d8576b"
            ],
            [
             0.6666666666666666,
             "#ed7953"
            ],
            [
             0.7777777777777778,
             "#fb9f3a"
            ],
            [
             0.8888888888888888,
             "#fdca26"
            ],
            [
             1,
             "#f0f921"
            ]
           ],
           "sequentialminus": [
            [
             0,
             "#0d0887"
            ],
            [
             0.1111111111111111,
             "#46039f"
            ],
            [
             0.2222222222222222,
             "#7201a8"
            ],
            [
             0.3333333333333333,
             "#9c179e"
            ],
            [
             0.4444444444444444,
             "#bd3786"
            ],
            [
             0.5555555555555556,
             "#d8576b"
            ],
            [
             0.6666666666666666,
             "#ed7953"
            ],
            [
             0.7777777777777778,
             "#fb9f3a"
            ],
            [
             0.8888888888888888,
             "#fdca26"
            ],
            [
             1,
             "#f0f921"
            ]
           ]
          },
          "colorway": [
           "#636efa",
           "#EF553B",
           "#00cc96",
           "#ab63fa",
           "#FFA15A",
           "#19d3f3",
           "#FF6692",
           "#B6E880",
           "#FF97FF",
           "#FECB52"
          ],
          "font": {
           "color": "#2a3f5f"
          },
          "geo": {
           "bgcolor": "white",
           "lakecolor": "white",
           "landcolor": "#E5ECF6",
           "showlakes": true,
           "showland": true,
           "subunitcolor": "white"
          },
          "hoverlabel": {
           "align": "left"
          },
          "hovermode": "closest",
          "mapbox": {
           "style": "light"
          },
          "paper_bgcolor": "white",
          "plot_bgcolor": "#E5ECF6",
          "polar": {
           "angularaxis": {
            "gridcolor": "white",
            "linecolor": "white",
            "ticks": ""
           },
           "bgcolor": "#E5ECF6",
           "radialaxis": {
            "gridcolor": "white",
            "linecolor": "white",
            "ticks": ""
           }
          },
          "scene": {
           "xaxis": {
            "backgroundcolor": "#E5ECF6",
            "gridcolor": "white",
            "gridwidth": 2,
            "linecolor": "white",
            "showbackground": true,
            "ticks": "",
            "zerolinecolor": "white"
           },
           "yaxis": {
            "backgroundcolor": "#E5ECF6",
            "gridcolor": "white",
            "gridwidth": 2,
            "linecolor": "white",
            "showbackground": true,
            "ticks": "",
            "zerolinecolor": "white"
           },
           "zaxis": {
            "backgroundcolor": "#E5ECF6",
            "gridcolor": "white",
            "gridwidth": 2,
            "linecolor": "white",
            "showbackground": true,
            "ticks": "",
            "zerolinecolor": "white"
           }
          },
          "shapedefaults": {
           "line": {
            "color": "#2a3f5f"
           }
          },
          "ternary": {
           "aaxis": {
            "gridcolor": "white",
            "linecolor": "white",
            "ticks": ""
           },
           "baxis": {
            "gridcolor": "white",
            "linecolor": "white",
            "ticks": ""
           },
           "bgcolor": "#E5ECF6",
           "caxis": {
            "gridcolor": "white",
            "linecolor": "white",
            "ticks": ""
           }
          },
          "title": {
           "x": 0.05
          },
          "xaxis": {
           "automargin": true,
           "gridcolor": "white",
           "linecolor": "white",
           "ticks": "",
           "title": {
            "standoff": 15
           },
           "zerolinecolor": "white",
           "zerolinewidth": 2
          },
          "yaxis": {
           "automargin": true,
           "gridcolor": "white",
           "linecolor": "white",
           "ticks": "",
           "title": {
            "standoff": 15
           },
           "zerolinecolor": "white",
           "zerolinewidth": 2
          }
         }
        },
        "title": {
         "text": "Average sales per category by age group and gender"
        },
        "updatemenus": [
         {
          "buttons": [
           {
            "args": [
             null,
             {
              "frame": {
               "duration": 500,
               "redraw": true
              },
              "fromcurrent": true,
              "mode": "immediate",
              "transition": {
               "duration": 500,
               "easing": "linear"
              }
             }
            ],
            "label": "&#9654;",
            "method": "animate"
           },
           {
            "args": [
             [
              null
             ],
             {
              "frame": {
               "duration": 0,
               "redraw": true
              },
              "fromcurrent": true,
              "mode": "immediate",
              "transition": {
               "duration": 0,
               "easing": "linear"
              }
             }
            ],
            "label": "&#9724;",
            "method": "animate"
           }
          ],
          "direction": "left",
          "pad": {
           "r": 10,
           "t": 70
          },
          "showactive": false,
          "type": "buttons",
          "x": 0.1,
          "xanchor": "right",
          "y": 0,
          "yanchor": "top"
         }
        ],
        "xaxis": {
         "anchor": "y",
         "domain": [
          0,
          0.49
         ],
         "title": {
          "text": "category"
         }
        },
        "xaxis2": {
         "anchor": "y2",
         "domain": [
          0.51,
          1
         ],
         "matches": "x",
         "title": {
          "text": "category"
         }
        },
        "yaxis": {
         "anchor": "x",
         "domain": [
          0,
          1
         ],
         "title": {
          "text": "price"
         }
        },
        "yaxis2": {
         "anchor": "x2",
         "domain": [
          0,
          1
         ],
         "matches": "y",
         "showticklabels": false
        }
       }
      }
     },
     "metadata": {},
     "output_type": "display_data"
    }
   ],
   "source": [
    "#fig, axes = plt.subplots(figsize=(11,11))\n",
    "fig = px.box(tspend_by_age_on_cat, x='category', y='price', points='all', facet_col='gender', animation_frame='age', title='Total sales per category by age group and gender')\n",
    "fig1 = px.box(aspend_by_age_on_cat, x='category', y='price', points='all', facet_col='gender', animation_frame='age', title='Average sales per category by age group and gender')\n",
    "fig.show()\n",
    "fig1.show()"
   ]
  },
  {
   "cell_type": "code",
   "execution_count": 48,
   "metadata": {},
   "outputs": [
    {
     "data": {
      "text/html": [
       "<div>\n",
       "<style scoped>\n",
       "    .dataframe tbody tr th:only-of-type {\n",
       "        vertical-align: middle;\n",
       "    }\n",
       "\n",
       "    .dataframe tbody tr th {\n",
       "        vertical-align: top;\n",
       "    }\n",
       "\n",
       "    .dataframe thead th {\n",
       "        text-align: right;\n",
       "    }\n",
       "</style>\n",
       "<table border=\"1\" class=\"dataframe\">\n",
       "  <thead>\n",
       "    <tr style=\"text-align: right;\">\n",
       "      <th></th>\n",
       "      <th>age</th>\n",
       "      <th>price</th>\n",
       "    </tr>\n",
       "  </thead>\n",
       "  <tbody>\n",
       "    <tr>\n",
       "      <th>0</th>\n",
       "      <td>18</td>\n",
       "      <td>602.636387</td>\n",
       "    </tr>\n",
       "    <tr>\n",
       "      <th>1</th>\n",
       "      <td>19</td>\n",
       "      <td>646.135459</td>\n",
       "    </tr>\n",
       "    <tr>\n",
       "      <th>2</th>\n",
       "      <td>20</td>\n",
       "      <td>686.768012</td>\n",
       "    </tr>\n",
       "    <tr>\n",
       "      <th>3</th>\n",
       "      <td>21</td>\n",
       "      <td>681.200314</td>\n",
       "    </tr>\n",
       "    <tr>\n",
       "      <th>4</th>\n",
       "      <td>22</td>\n",
       "      <td>651.862970</td>\n",
       "    </tr>\n",
       "  </tbody>\n",
       "</table>\n",
       "</div>"
      ],
      "text/plain": [
       "   age       price\n",
       "0   18  602.636387\n",
       "1   19  646.135459\n",
       "2   20  686.768012\n",
       "3   21  681.200314\n",
       "4   22  651.862970"
      ]
     },
     "execution_count": 48,
     "metadata": {},
     "output_type": "execute_result"
    }
   ],
   "source": [
    "sales_per_agegrp = pd.DataFrame(dfc.groupby(['age'])['price'].mean().reset_index())\n",
    "sales_per_agegrp.head()"
   ]
  },
  {
   "cell_type": "code",
   "execution_count": 63,
   "metadata": {},
   "outputs": [
    {
     "data": {
      "image/png": "[encoded data removed]",
      "text/plain": [
       "<Figure size 500x500 with 1 Axes>"
      ]
     },
     "metadata": {},
     "output_type": "display_data"
    }
   ],
   "source": [
    "sns.lmplot(data=sales_per_agegrp,  x=\"age\", y=\"price\")\n",
    "plt.show()"
   ]
  },
  {
   "cell_type": "code",
   "execution_count": null,
   "metadata": {},
   "outputs": [],
   "source": []
  }
 ],
 "metadata": {
  "kernelspec": {
   "display_name": "venv",
   "language": "python",
   "name": "python3"
  },
  "language_info": {
   "codemirror_mode": {
    "name": "ipython",
    "version": 3
   },
   "file_extension": ".py",
   "mimetype": "text/x-python",
   "name": "python",
   "nbconvert_exporter": "python",
   "pygments_lexer": "ipython3",
   "version": "3.12.8"
  }
 },
 "nbformat": 4,
 "nbformat_minor": 2
}
